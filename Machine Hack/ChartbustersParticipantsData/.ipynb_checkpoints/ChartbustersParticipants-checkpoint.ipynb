{
 "cells": [
  {
   "cell_type": "code",
   "execution_count": 67,
   "metadata": {},
   "outputs": [],
   "source": [
    "#preprocessing tools\n",
    "import pandas as pd\n",
    "import numpy as np\n",
    "import re\n",
    "\n",
    "#EDA Tools\n",
    "import pandas_profiling\n",
    "%matplotlib inline\n",
    "import matplotlib.pyplot as plt \n",
    "plt.rc(\"font\", size=14)\n",
    "import seaborn as sns\n",
    "sns.set(style=\"white\")\n",
    "sns.set(style=\"whitegrid\", color_codes=True)\n",
    "\n",
    "#modeling\n",
    "from sklearn.linear_model import LinearRegression\n",
    "from sklearn import metrics\n",
    "from sklearn.metrics import mean_squared_error\n",
    "from sklearn.linear_model import Lasso\n",
    "from sklearn.linear_model import Ridge\n",
    "from sklearn.linear_model import ElasticNet\n",
    "from sklearn.ensemble import RandomForestRegressor\n",
    "from sklearn.ensemble import AdaBoostRegressor\n",
    "from sklearn.ensemble import GradientBoostingRegressor\n",
    "from sklearn import svm\n",
    "from sklearn.tree import DecisionTreeRegressor\n",
    "\n",
    "\n",
    "## Hyperparameter optimization using RandomizedSearchCV\n",
    "from sklearn.model_selection import RandomizedSearchCV, GridSearchCV\n",
    "import xgboost as xgb\n",
    "from sklearn.model_selection import train_test_split\n",
    "\n",
    "\n",
    "import warnings\n",
    "warnings.filterwarnings('ignore')"
   ]
  },
  {
   "cell_type": "markdown",
   "metadata": {},
   "source": [
    "## preprocessing"
   ]
  },
  {
   "cell_type": "code",
   "execution_count": 2,
   "metadata": {},
   "outputs": [],
   "source": [
    "train_data=pd.read_csv('Data_Train.csv')"
   ]
  },
  {
   "cell_type": "code",
   "execution_count": 3,
   "metadata": {},
   "outputs": [
    {
     "data": {
      "text/plain": [
       "(78458, 11)"
      ]
     },
     "execution_count": 3,
     "metadata": {},
     "output_type": "execute_result"
    }
   ],
   "source": [
    "train_data.shape"
   ]
  },
  {
   "cell_type": "code",
   "execution_count": 4,
   "metadata": {},
   "outputs": [],
   "source": [
    "test_data=pd.read_csv('Data_Test.csv')"
   ]
  },
  {
   "cell_type": "code",
   "execution_count": 5,
   "metadata": {},
   "outputs": [
    {
     "data": {
      "text/plain": [
       "(19615, 10)"
      ]
     },
     "execution_count": 5,
     "metadata": {},
     "output_type": "execute_result"
    }
   ],
   "source": [
    "test_data.shape"
   ]
  },
  {
   "cell_type": "code",
   "execution_count": 6,
   "metadata": {},
   "outputs": [],
   "source": [
    "data=pd.concat([train_data,test_data],axis='rows',sort=True)"
   ]
  },
  {
   "cell_type": "code",
   "execution_count": 7,
   "metadata": {},
   "outputs": [
    {
     "data": {
      "text/plain": [
       "(98073, 11)"
      ]
     },
     "execution_count": 7,
     "metadata": {},
     "output_type": "execute_result"
    }
   ],
   "source": [
    "data.shape"
   ]
  },
  {
   "cell_type": "code",
   "execution_count": 8,
   "metadata": {},
   "outputs": [
    {
     "data": {
      "text/plain": [
       "Index(['Comments', 'Country', 'Followers', 'Genre', 'Likes', 'Name',\n",
       "       'Popularity', 'Song_Name', 'Timestamp', 'Unique_ID', 'Views'],\n",
       "      dtype='object')"
      ]
     },
     "execution_count": 8,
     "metadata": {},
     "output_type": "execute_result"
    }
   ],
   "source": [
    "data.columns"
   ]
  },
  {
   "cell_type": "code",
   "execution_count": 9,
   "metadata": {},
   "outputs": [
    {
     "data": {
      "text/html": [
       "<div>\n",
       "<style scoped>\n",
       "    .dataframe tbody tr th:only-of-type {\n",
       "        vertical-align: middle;\n",
       "    }\n",
       "\n",
       "    .dataframe tbody tr th {\n",
       "        vertical-align: top;\n",
       "    }\n",
       "\n",
       "    .dataframe thead th {\n",
       "        text-align: right;\n",
       "    }\n",
       "</style>\n",
       "<table border=\"1\" class=\"dataframe\">\n",
       "  <thead>\n",
       "    <tr style=\"text-align: right;\">\n",
       "      <th></th>\n",
       "      <th>Comments</th>\n",
       "      <th>Country</th>\n",
       "      <th>Followers</th>\n",
       "      <th>Genre</th>\n",
       "      <th>Likes</th>\n",
       "      <th>Name</th>\n",
       "      <th>Popularity</th>\n",
       "      <th>Song_Name</th>\n",
       "      <th>Timestamp</th>\n",
       "      <th>Unique_ID</th>\n",
       "      <th>Views</th>\n",
       "    </tr>\n",
       "  </thead>\n",
       "  <tbody>\n",
       "    <tr>\n",
       "      <td>0</td>\n",
       "      <td>4</td>\n",
       "      <td>AU</td>\n",
       "      <td>119563</td>\n",
       "      <td>danceedm</td>\n",
       "      <td>499</td>\n",
       "      <td>Hardstyle</td>\n",
       "      <td>97</td>\n",
       "      <td>N-Vitral presents BOMBSQUAD - Poison Spitter (...</td>\n",
       "      <td>2018-03-30 15:24:45.000000</td>\n",
       "      <td>413890</td>\n",
       "      <td>14017.0</td>\n",
       "    </tr>\n",
       "    <tr>\n",
       "      <td>1</td>\n",
       "      <td>17</td>\n",
       "      <td>AU</td>\n",
       "      <td>2141</td>\n",
       "      <td>danceedm</td>\n",
       "      <td>49</td>\n",
       "      <td>Dj Aladdin</td>\n",
       "      <td>17</td>\n",
       "      <td>Dj Aladdin - Old School Hip Hop Quick Mix</td>\n",
       "      <td>2016-06-20 05:58:52.000000</td>\n",
       "      <td>249453</td>\n",
       "      <td>1918.0</td>\n",
       "    </tr>\n",
       "    <tr>\n",
       "      <td>2</td>\n",
       "      <td>11</td>\n",
       "      <td>AU</td>\n",
       "      <td>22248</td>\n",
       "      <td>danceedm</td>\n",
       "      <td>312</td>\n",
       "      <td>Maxximize On Air</td>\n",
       "      <td>91</td>\n",
       "      <td>Maxximize On Air - Mixed by Blasterjaxx - Epis...</td>\n",
       "      <td>2015-05-08 17:45:59.000000</td>\n",
       "      <td>681116</td>\n",
       "      <td>9668.0</td>\n",
       "    </tr>\n",
       "    <tr>\n",
       "      <td>3</td>\n",
       "      <td>2</td>\n",
       "      <td>AU</td>\n",
       "      <td>393655</td>\n",
       "      <td>rbsoul</td>\n",
       "      <td>2,400</td>\n",
       "      <td>GR6 EXPLODE</td>\n",
       "      <td>76</td>\n",
       "      <td>MC Yago - Tenho Compromisso (DJ R7)</td>\n",
       "      <td>2017-06-08 23:50:03.000000</td>\n",
       "      <td>387253</td>\n",
       "      <td>113036.0</td>\n",
       "    </tr>\n",
       "    <tr>\n",
       "      <td>4</td>\n",
       "      <td>81</td>\n",
       "      <td>AU</td>\n",
       "      <td>201030</td>\n",
       "      <td>danceedm</td>\n",
       "      <td>3,031</td>\n",
       "      <td>Tritonal</td>\n",
       "      <td>699</td>\n",
       "      <td>Escape (feat. Steph Jones)</td>\n",
       "      <td>2016-09-17 20:50:19.000000</td>\n",
       "      <td>1428029</td>\n",
       "      <td>110024.0</td>\n",
       "    </tr>\n",
       "  </tbody>\n",
       "</table>\n",
       "</div>"
      ],
      "text/plain": [
       "   Comments Country  Followers     Genre  Likes              Name Popularity  \\\n",
       "0         4      AU     119563  danceedm    499         Hardstyle         97   \n",
       "1        17      AU       2141  danceedm     49        Dj Aladdin         17   \n",
       "2        11      AU      22248  danceedm    312  Maxximize On Air         91   \n",
       "3         2      AU     393655    rbsoul  2,400       GR6 EXPLODE         76   \n",
       "4        81      AU     201030  danceedm  3,031          Tritonal        699   \n",
       "\n",
       "                                           Song_Name  \\\n",
       "0  N-Vitral presents BOMBSQUAD - Poison Spitter (...   \n",
       "1          Dj Aladdin - Old School Hip Hop Quick Mix   \n",
       "2  Maxximize On Air - Mixed by Blasterjaxx - Epis...   \n",
       "3                MC Yago - Tenho Compromisso (DJ R7)   \n",
       "4                         Escape (feat. Steph Jones)   \n",
       "\n",
       "                    Timestamp  Unique_ID     Views  \n",
       "0  2018-03-30 15:24:45.000000     413890   14017.0  \n",
       "1  2016-06-20 05:58:52.000000     249453    1918.0  \n",
       "2  2015-05-08 17:45:59.000000     681116    9668.0  \n",
       "3  2017-06-08 23:50:03.000000     387253  113036.0  \n",
       "4  2016-09-17 20:50:19.000000    1428029  110024.0  "
      ]
     },
     "execution_count": 9,
     "metadata": {},
     "output_type": "execute_result"
    }
   ],
   "source": [
    "data.head()"
   ]
  },
  {
   "cell_type": "code",
   "execution_count": 10,
   "metadata": {},
   "outputs": [
    {
     "data": {
      "text/html": [
       "<div>\n",
       "<style scoped>\n",
       "    .dataframe tbody tr th:only-of-type {\n",
       "        vertical-align: middle;\n",
       "    }\n",
       "\n",
       "    .dataframe tbody tr th {\n",
       "        vertical-align: top;\n",
       "    }\n",
       "\n",
       "    .dataframe thead th {\n",
       "        text-align: right;\n",
       "    }\n",
       "</style>\n",
       "<table border=\"1\" class=\"dataframe\">\n",
       "  <thead>\n",
       "    <tr style=\"text-align: right;\">\n",
       "      <th></th>\n",
       "      <th>Comments</th>\n",
       "      <th>Followers</th>\n",
       "      <th>Unique_ID</th>\n",
       "      <th>Views</th>\n",
       "    </tr>\n",
       "  </thead>\n",
       "  <tbody>\n",
       "    <tr>\n",
       "      <td>count</td>\n",
       "      <td>98073.000000</td>\n",
       "      <td>9.807300e+04</td>\n",
       "      <td>9.807300e+04</td>\n",
       "      <td>7.845800e+04</td>\n",
       "    </tr>\n",
       "    <tr>\n",
       "      <td>mean</td>\n",
       "      <td>115.987591</td>\n",
       "      <td>4.796740e+05</td>\n",
       "      <td>7.458773e+05</td>\n",
       "      <td>5.469686e+05</td>\n",
       "    </tr>\n",
       "    <tr>\n",
       "      <td>std</td>\n",
       "      <td>756.416793</td>\n",
       "      <td>1.168391e+06</td>\n",
       "      <td>4.807398e+05</td>\n",
       "      <td>3.883085e+06</td>\n",
       "    </tr>\n",
       "    <tr>\n",
       "      <td>min</td>\n",
       "      <td>0.000000</td>\n",
       "      <td>1.000000e+00</td>\n",
       "      <td>0.000000e+00</td>\n",
       "      <td>0.000000e+00</td>\n",
       "    </tr>\n",
       "    <tr>\n",
       "      <td>25%</td>\n",
       "      <td>1.000000</td>\n",
       "      <td>1.778400e+04</td>\n",
       "      <td>3.205090e+05</td>\n",
       "      <td>6.216500e+03</td>\n",
       "    </tr>\n",
       "    <tr>\n",
       "      <td>50%</td>\n",
       "      <td>12.000000</td>\n",
       "      <td>8.892700e+04</td>\n",
       "      <td>6.618980e+05</td>\n",
       "      <td>2.538650e+04</td>\n",
       "    </tr>\n",
       "    <tr>\n",
       "      <td>75%</td>\n",
       "      <td>61.000000</td>\n",
       "      <td>3.936550e+05</td>\n",
       "      <td>1.176694e+06</td>\n",
       "      <td>1.201342e+05</td>\n",
       "    </tr>\n",
       "    <tr>\n",
       "      <td>max</td>\n",
       "      <td>104082.000000</td>\n",
       "      <td>9.789123e+06</td>\n",
       "      <td>1.570012e+06</td>\n",
       "      <td>1.994050e+08</td>\n",
       "    </tr>\n",
       "  </tbody>\n",
       "</table>\n",
       "</div>"
      ],
      "text/plain": [
       "            Comments     Followers     Unique_ID         Views\n",
       "count   98073.000000  9.807300e+04  9.807300e+04  7.845800e+04\n",
       "mean      115.987591  4.796740e+05  7.458773e+05  5.469686e+05\n",
       "std       756.416793  1.168391e+06  4.807398e+05  3.883085e+06\n",
       "min         0.000000  1.000000e+00  0.000000e+00  0.000000e+00\n",
       "25%         1.000000  1.778400e+04  3.205090e+05  6.216500e+03\n",
       "50%        12.000000  8.892700e+04  6.618980e+05  2.538650e+04\n",
       "75%        61.000000  3.936550e+05  1.176694e+06  1.201342e+05\n",
       "max    104082.000000  9.789123e+06  1.570012e+06  1.994050e+08"
      ]
     },
     "execution_count": 10,
     "metadata": {},
     "output_type": "execute_result"
    }
   ],
   "source": [
    "data.describe()"
   ]
  },
  {
   "cell_type": "code",
   "execution_count": 11,
   "metadata": {},
   "outputs": [],
   "source": [
    "data.drop(columns=['Unique_ID'],inplace=True)"
   ]
  },
  {
   "cell_type": "code",
   "execution_count": 12,
   "metadata": {},
   "outputs": [
    {
     "data": {
      "text/plain": [
       "Index(['Comments', 'Country', 'Followers', 'Genre', 'Likes', 'Name',\n",
       "       'Popularity', 'Song_Name', 'Timestamp', 'Views'],\n",
       "      dtype='object')"
      ]
     },
     "execution_count": 12,
     "metadata": {},
     "output_type": "execute_result"
    }
   ],
   "source": [
    "data.columns"
   ]
  },
  {
   "cell_type": "code",
   "execution_count": 13,
   "metadata": {},
   "outputs": [],
   "source": [
    "##pandas_profiling.ProfileReport(data)"
   ]
  },
  {
   "cell_type": "code",
   "execution_count": 14,
   "metadata": {},
   "outputs": [],
   "source": [
    "data.drop(columns='Country',inplace = True)"
   ]
  },
  {
   "cell_type": "code",
   "execution_count": 15,
   "metadata": {},
   "outputs": [
    {
     "data": {
      "text/plain": [
       "Index(['Comments', 'Followers', 'Genre', 'Likes', 'Name', 'Popularity',\n",
       "       'Song_Name', 'Timestamp', 'Views'],\n",
       "      dtype='object')"
      ]
     },
     "execution_count": 15,
     "metadata": {},
     "output_type": "execute_result"
    }
   ],
   "source": [
    "data.columns"
   ]
  },
  {
   "cell_type": "code",
   "execution_count": 16,
   "metadata": {},
   "outputs": [
    {
     "data": {
      "text/plain": [
       "0"
      ]
     },
     "execution_count": 16,
     "metadata": {},
     "output_type": "execute_result"
    }
   ],
   "source": [
    "data['Followers'].isna().sum()"
   ]
  },
  {
   "cell_type": "code",
   "execution_count": 17,
   "metadata": {},
   "outputs": [
    {
     "data": {
      "text/plain": [
       "0"
      ]
     },
     "execution_count": 17,
     "metadata": {},
     "output_type": "execute_result"
    }
   ],
   "source": [
    "data['Genre'].isna().sum()"
   ]
  },
  {
   "cell_type": "code",
   "execution_count": 18,
   "metadata": {},
   "outputs": [
    {
     "data": {
      "text/plain": [
       "0"
      ]
     },
     "execution_count": 18,
     "metadata": {},
     "output_type": "execute_result"
    }
   ],
   "source": [
    "data['Name'].isna().sum()"
   ]
  },
  {
   "cell_type": "code",
   "execution_count": 19,
   "metadata": {},
   "outputs": [
    {
     "name": "stdout",
     "output_type": "stream",
     "text": [
      "<class 'pandas.core.frame.DataFrame'>\n",
      "Int64Index: 98073 entries, 0 to 19614\n",
      "Data columns (total 9 columns):\n",
      "Comments      98073 non-null int64\n",
      "Followers     98073 non-null int64\n",
      "Genre         98073 non-null object\n",
      "Likes         98073 non-null object\n",
      "Name          98073 non-null object\n",
      "Popularity    98073 non-null object\n",
      "Song_Name     98072 non-null object\n",
      "Timestamp     98073 non-null object\n",
      "Views         78458 non-null float64\n",
      "dtypes: float64(1), int64(2), object(6)\n",
      "memory usage: 7.5+ MB\n"
     ]
    }
   ],
   "source": [
    "data.info()"
   ]
  },
  {
   "cell_type": "code",
   "execution_count": 20,
   "metadata": {},
   "outputs": [
    {
     "data": {
      "text/plain": [
       "0"
      ]
     },
     "execution_count": 20,
     "metadata": {},
     "output_type": "execute_result"
    }
   ],
   "source": [
    "data['Likes'].isna().sum()"
   ]
  },
  {
   "cell_type": "code",
   "execution_count": 21,
   "metadata": {},
   "outputs": [],
   "source": [
    "def converThousandsToUnits(x):\n",
    "    th=x.split('.')\n",
    "    if(len(th) == 1):\n",
    "        dotSeprator = th[0].replace('K','')\n",
    "        return pd.to_numeric(dotSeprator+'000')\n",
    "    else:\n",
    "        dotSeprator = th[1].replace('K','')\n",
    "        return pd.to_numeric(th[0]+dotSeprator+''.ljust(3-len(dotSeprator), '0'))"
   ]
  },
  {
   "cell_type": "code",
   "execution_count": 22,
   "metadata": {},
   "outputs": [],
   "source": [
    "def converMillionToUnits(x):\n",
    "    th=x.split('.')\n",
    "    if(len(th) == 1):\n",
    "        dotSeprator = th[0].replace('M','')\n",
    "        return pd.to_numeric(dotSeprator+'000000')\n",
    "    else:\n",
    "        dotSeprator = th[1].replace('M','')\n",
    "        return pd.to_numeric(th[0]+dotSeprator+''.ljust(6-len(dotSeprator), '0'))"
   ]
  },
  {
   "cell_type": "code",
   "execution_count": 23,
   "metadata": {},
   "outputs": [],
   "source": [
    "def convertObjectToInt(x):\n",
    "    if(not re.compile(',') .search(x) == None):\n",
    "        return pd.to_numeric(x.replace(',',''))\n",
    "    elif(not re.compile('K') .search(x) == None):\n",
    "        return converThousandsToUnits(x)\n",
    "    elif(not re.compile('M') .search(x) == None):\n",
    "        return converMillionToUnits(x)\n",
    "    else:\n",
    "        return pd.to_numeric(x)"
   ]
  },
  {
   "cell_type": "code",
   "execution_count": 24,
   "metadata": {
    "scrolled": true
   },
   "outputs": [],
   "source": [
    "data['Likes']=data['Likes'].apply(lambda x : convertObjectToInt(x))"
   ]
  },
  {
   "cell_type": "code",
   "execution_count": 25,
   "metadata": {},
   "outputs": [
    {
     "data": {
      "text/plain": [
       "array([ 499,   49,  312, ..., 7093, 7908, 9138], dtype=int64)"
      ]
     },
     "execution_count": 25,
     "metadata": {},
     "output_type": "execute_result"
    }
   ],
   "source": [
    "data['Likes'].unique()"
   ]
  },
  {
   "cell_type": "code",
   "execution_count": 26,
   "metadata": {},
   "outputs": [
    {
     "data": {
      "text/plain": [
       "0"
      ]
     },
     "execution_count": 26,
     "metadata": {},
     "output_type": "execute_result"
    }
   ],
   "source": [
    "data['Popularity'].isna().sum()"
   ]
  },
  {
   "cell_type": "code",
   "execution_count": 27,
   "metadata": {},
   "outputs": [],
   "source": [
    "data['Popularity']=data['Popularity'].apply(lambda x : convertObjectToInt(x))"
   ]
  },
  {
   "cell_type": "code",
   "execution_count": 28,
   "metadata": {},
   "outputs": [
    {
     "name": "stdout",
     "output_type": "stream",
     "text": [
      "<class 'pandas.core.frame.DataFrame'>\n",
      "Int64Index: 98073 entries, 0 to 19614\n",
      "Data columns (total 9 columns):\n",
      "Comments      98073 non-null int64\n",
      "Followers     98073 non-null int64\n",
      "Genre         98073 non-null object\n",
      "Likes         98073 non-null int64\n",
      "Name          98073 non-null object\n",
      "Popularity    98073 non-null int64\n",
      "Song_Name     98072 non-null object\n",
      "Timestamp     98073 non-null object\n",
      "Views         78458 non-null float64\n",
      "dtypes: float64(1), int64(4), object(4)\n",
      "memory usage: 7.5+ MB\n"
     ]
    }
   ],
   "source": [
    "data.info()"
   ]
  },
  {
   "cell_type": "code",
   "execution_count": 29,
   "metadata": {},
   "outputs": [
    {
     "data": {
      "text/html": [
       "<div>\n",
       "<style scoped>\n",
       "    .dataframe tbody tr th:only-of-type {\n",
       "        vertical-align: middle;\n",
       "    }\n",
       "\n",
       "    .dataframe tbody tr th {\n",
       "        vertical-align: top;\n",
       "    }\n",
       "\n",
       "    .dataframe thead th {\n",
       "        text-align: right;\n",
       "    }\n",
       "</style>\n",
       "<table border=\"1\" class=\"dataframe\">\n",
       "  <thead>\n",
       "    <tr style=\"text-align: right;\">\n",
       "      <th></th>\n",
       "      <th>Comments</th>\n",
       "      <th>Followers</th>\n",
       "      <th>Genre</th>\n",
       "      <th>Likes</th>\n",
       "      <th>Name</th>\n",
       "      <th>Popularity</th>\n",
       "      <th>Song_Name</th>\n",
       "      <th>Timestamp</th>\n",
       "      <th>Views</th>\n",
       "    </tr>\n",
       "  </thead>\n",
       "  <tbody>\n",
       "    <tr>\n",
       "      <td>31398</td>\n",
       "      <td>540</td>\n",
       "      <td>440088</td>\n",
       "      <td>electronic</td>\n",
       "      <td>705</td>\n",
       "      <td>San Holo</td>\n",
       "      <td>178</td>\n",
       "      <td>NaN</td>\n",
       "      <td>2015-01-17 23:57:50.000000</td>\n",
       "      <td>128906.0</td>\n",
       "    </tr>\n",
       "  </tbody>\n",
       "</table>\n",
       "</div>"
      ],
      "text/plain": [
       "       Comments  Followers       Genre  Likes      Name  Popularity Song_Name  \\\n",
       "31398       540     440088  electronic    705  San Holo         178       NaN   \n",
       "\n",
       "                        Timestamp     Views  \n",
       "31398  2015-01-17 23:57:50.000000  128906.0  "
      ]
     },
     "execution_count": 29,
     "metadata": {},
     "output_type": "execute_result"
    }
   ],
   "source": [
    "data[pd.isnull(data['Song_Name'])]"
   ]
  },
  {
   "cell_type": "code",
   "execution_count": 30,
   "metadata": {},
   "outputs": [],
   "source": [
    "data.drop(data.index[31398],inplace =True)"
   ]
  },
  {
   "cell_type": "code",
   "execution_count": 31,
   "metadata": {},
   "outputs": [],
   "source": [
    "def convertObjectToTime(x):\n",
    "    return pd.to_datetime(x);"
   ]
  },
  {
   "cell_type": "code",
   "execution_count": 32,
   "metadata": {},
   "outputs": [
    {
     "data": {
      "text/plain": [
       "0"
      ]
     },
     "execution_count": 32,
     "metadata": {},
     "output_type": "execute_result"
    }
   ],
   "source": [
    "data['Timestamp'].isna().sum()"
   ]
  },
  {
   "cell_type": "code",
   "execution_count": 33,
   "metadata": {},
   "outputs": [],
   "source": [
    "data['Timestamp']=data['Timestamp'].apply(lambda x : convertObjectToTime(x))"
   ]
  },
  {
   "cell_type": "code",
   "execution_count": 34,
   "metadata": {},
   "outputs": [
    {
     "data": {
      "text/html": [
       "<div>\n",
       "<style scoped>\n",
       "    .dataframe tbody tr th:only-of-type {\n",
       "        vertical-align: middle;\n",
       "    }\n",
       "\n",
       "    .dataframe tbody tr th {\n",
       "        vertical-align: top;\n",
       "    }\n",
       "\n",
       "    .dataframe thead th {\n",
       "        text-align: right;\n",
       "    }\n",
       "</style>\n",
       "<table border=\"1\" class=\"dataframe\">\n",
       "  <thead>\n",
       "    <tr style=\"text-align: right;\">\n",
       "      <th></th>\n",
       "      <th>Comments</th>\n",
       "      <th>Followers</th>\n",
       "      <th>Genre</th>\n",
       "      <th>Likes</th>\n",
       "      <th>Name</th>\n",
       "      <th>Popularity</th>\n",
       "      <th>Song_Name</th>\n",
       "      <th>Timestamp</th>\n",
       "      <th>Views</th>\n",
       "    </tr>\n",
       "  </thead>\n",
       "  <tbody>\n",
       "    <tr>\n",
       "      <td>0</td>\n",
       "      <td>4</td>\n",
       "      <td>119563</td>\n",
       "      <td>danceedm</td>\n",
       "      <td>499</td>\n",
       "      <td>Hardstyle</td>\n",
       "      <td>97</td>\n",
       "      <td>N-Vitral presents BOMBSQUAD - Poison Spitter (...</td>\n",
       "      <td>2018-03-30 15:24:45</td>\n",
       "      <td>14017.0</td>\n",
       "    </tr>\n",
       "    <tr>\n",
       "      <td>1</td>\n",
       "      <td>17</td>\n",
       "      <td>2141</td>\n",
       "      <td>danceedm</td>\n",
       "      <td>49</td>\n",
       "      <td>Dj Aladdin</td>\n",
       "      <td>17</td>\n",
       "      <td>Dj Aladdin - Old School Hip Hop Quick Mix</td>\n",
       "      <td>2016-06-20 05:58:52</td>\n",
       "      <td>1918.0</td>\n",
       "    </tr>\n",
       "    <tr>\n",
       "      <td>2</td>\n",
       "      <td>11</td>\n",
       "      <td>22248</td>\n",
       "      <td>danceedm</td>\n",
       "      <td>312</td>\n",
       "      <td>Maxximize On Air</td>\n",
       "      <td>91</td>\n",
       "      <td>Maxximize On Air - Mixed by Blasterjaxx - Epis...</td>\n",
       "      <td>2015-05-08 17:45:59</td>\n",
       "      <td>9668.0</td>\n",
       "    </tr>\n",
       "    <tr>\n",
       "      <td>3</td>\n",
       "      <td>2</td>\n",
       "      <td>393655</td>\n",
       "      <td>rbsoul</td>\n",
       "      <td>2400</td>\n",
       "      <td>GR6 EXPLODE</td>\n",
       "      <td>76</td>\n",
       "      <td>MC Yago - Tenho Compromisso (DJ R7)</td>\n",
       "      <td>2017-06-08 23:50:03</td>\n",
       "      <td>113036.0</td>\n",
       "    </tr>\n",
       "    <tr>\n",
       "      <td>4</td>\n",
       "      <td>81</td>\n",
       "      <td>201030</td>\n",
       "      <td>danceedm</td>\n",
       "      <td>3031</td>\n",
       "      <td>Tritonal</td>\n",
       "      <td>699</td>\n",
       "      <td>Escape (feat. Steph Jones)</td>\n",
       "      <td>2016-09-17 20:50:19</td>\n",
       "      <td>110024.0</td>\n",
       "    </tr>\n",
       "  </tbody>\n",
       "</table>\n",
       "</div>"
      ],
      "text/plain": [
       "   Comments  Followers     Genre  Likes              Name  Popularity  \\\n",
       "0         4     119563  danceedm    499         Hardstyle          97   \n",
       "1        17       2141  danceedm     49        Dj Aladdin          17   \n",
       "2        11      22248  danceedm    312  Maxximize On Air          91   \n",
       "3         2     393655    rbsoul   2400       GR6 EXPLODE          76   \n",
       "4        81     201030  danceedm   3031          Tritonal         699   \n",
       "\n",
       "                                           Song_Name           Timestamp  \\\n",
       "0  N-Vitral presents BOMBSQUAD - Poison Spitter (... 2018-03-30 15:24:45   \n",
       "1          Dj Aladdin - Old School Hip Hop Quick Mix 2016-06-20 05:58:52   \n",
       "2  Maxximize On Air - Mixed by Blasterjaxx - Epis... 2015-05-08 17:45:59   \n",
       "3                MC Yago - Tenho Compromisso (DJ R7) 2017-06-08 23:50:03   \n",
       "4                         Escape (feat. Steph Jones) 2016-09-17 20:50:19   \n",
       "\n",
       "      Views  \n",
       "0   14017.0  \n",
       "1    1918.0  \n",
       "2    9668.0  \n",
       "3  113036.0  \n",
       "4  110024.0  "
      ]
     },
     "execution_count": 34,
     "metadata": {},
     "output_type": "execute_result"
    }
   ],
   "source": [
    "data.head()"
   ]
  },
  {
   "cell_type": "code",
   "execution_count": 35,
   "metadata": {},
   "outputs": [],
   "source": [
    "def deEmojify(inputString):\n",
    "    encoded = inputString.encode('ascii', 'ignore').decode('ascii')\n",
    "    return re.sub('[^A-Za-z0-9]+', '', encoded)"
   ]
  },
  {
   "cell_type": "code",
   "execution_count": 36,
   "metadata": {},
   "outputs": [],
   "source": [
    "data['Name']=data['Name'].apply(lambda x : deEmojify(x))"
   ]
  },
  {
   "cell_type": "code",
   "execution_count": 37,
   "metadata": {},
   "outputs": [
    {
     "name": "stdout",
     "output_type": "stream",
     "text": [
      "<class 'pandas.core.frame.DataFrame'>\n",
      "Int64Index: 98072 entries, 0 to 19614\n",
      "Data columns (total 9 columns):\n",
      "Comments      98072 non-null int64\n",
      "Followers     98072 non-null int64\n",
      "Genre         98072 non-null object\n",
      "Likes         98072 non-null int64\n",
      "Name          98072 non-null object\n",
      "Popularity    98072 non-null int64\n",
      "Song_Name     98072 non-null object\n",
      "Timestamp     98072 non-null datetime64[ns]\n",
      "Views         78457 non-null float64\n",
      "dtypes: datetime64[ns](1), float64(1), int64(4), object(3)\n",
      "memory usage: 7.5+ MB\n"
     ]
    }
   ],
   "source": [
    "data.info()"
   ]
  },
  {
   "cell_type": "markdown",
   "metadata": {},
   "source": [
    "## Explorartory Data Analysis(EDA)"
   ]
  },
  {
   "cell_type": "code",
   "execution_count": 38,
   "metadata": {},
   "outputs": [
    {
     "data": {
      "text/html": [
       "<div>\n",
       "<style scoped>\n",
       "    .dataframe tbody tr th:only-of-type {\n",
       "        vertical-align: middle;\n",
       "    }\n",
       "\n",
       "    .dataframe tbody tr th {\n",
       "        vertical-align: top;\n",
       "    }\n",
       "\n",
       "    .dataframe thead th {\n",
       "        text-align: right;\n",
       "    }\n",
       "</style>\n",
       "<table border=\"1\" class=\"dataframe\">\n",
       "  <thead>\n",
       "    <tr style=\"text-align: right;\">\n",
       "      <th></th>\n",
       "      <th>Comments</th>\n",
       "      <th>Followers</th>\n",
       "      <th>Likes</th>\n",
       "      <th>Popularity</th>\n",
       "      <th>Views</th>\n",
       "    </tr>\n",
       "  </thead>\n",
       "  <tbody>\n",
       "    <tr>\n",
       "      <td>Comments</td>\n",
       "      <td>1.000000</td>\n",
       "      <td>0.081608</td>\n",
       "      <td>0.636892</td>\n",
       "      <td>0.628268</td>\n",
       "      <td>0.679107</td>\n",
       "    </tr>\n",
       "    <tr>\n",
       "      <td>Followers</td>\n",
       "      <td>0.081608</td>\n",
       "      <td>1.000000</td>\n",
       "      <td>0.110679</td>\n",
       "      <td>0.136891</td>\n",
       "      <td>0.103603</td>\n",
       "    </tr>\n",
       "    <tr>\n",
       "      <td>Likes</td>\n",
       "      <td>0.636892</td>\n",
       "      <td>0.110679</td>\n",
       "      <td>1.000000</td>\n",
       "      <td>0.867272</td>\n",
       "      <td>0.980132</td>\n",
       "    </tr>\n",
       "    <tr>\n",
       "      <td>Popularity</td>\n",
       "      <td>0.628268</td>\n",
       "      <td>0.136891</td>\n",
       "      <td>0.867272</td>\n",
       "      <td>1.000000</td>\n",
       "      <td>0.834635</td>\n",
       "    </tr>\n",
       "    <tr>\n",
       "      <td>Views</td>\n",
       "      <td>0.679107</td>\n",
       "      <td>0.103603</td>\n",
       "      <td>0.980132</td>\n",
       "      <td>0.834635</td>\n",
       "      <td>1.000000</td>\n",
       "    </tr>\n",
       "  </tbody>\n",
       "</table>\n",
       "</div>"
      ],
      "text/plain": [
       "            Comments  Followers     Likes  Popularity     Views\n",
       "Comments    1.000000   0.081608  0.636892    0.628268  0.679107\n",
       "Followers   0.081608   1.000000  0.110679    0.136891  0.103603\n",
       "Likes       0.636892   0.110679  1.000000    0.867272  0.980132\n",
       "Popularity  0.628268   0.136891  0.867272    1.000000  0.834635\n",
       "Views       0.679107   0.103603  0.980132    0.834635  1.000000"
      ]
     },
     "execution_count": 38,
     "metadata": {},
     "output_type": "execute_result"
    }
   ],
   "source": [
    "data.corr()"
   ]
  },
  {
   "cell_type": "code",
   "execution_count": 39,
   "metadata": {},
   "outputs": [
    {
     "data": {
      "text/plain": [
       "<matplotlib.axes._subplots.AxesSubplot at 0x2bbb39fb408>"
      ]
     },
     "execution_count": 39,
     "metadata": {},
     "output_type": "execute_result"
    },
    {
     "data": {
      "image/png": "[encoded data removed]",
      "text/plain": [
       "<Figure size 432x288 with 2 Axes>"
      ]
     },
     "metadata": {
      "needs_background": "light"
     },
     "output_type": "display_data"
    }
   ],
   "source": [
    "sns.heatmap(data.corr())"
   ]
  },
  {
   "cell_type": "markdown",
   "metadata": {},
   "source": [
    "## Feature Engineering"
   ]
  },
  {
   "cell_type": "code",
   "execution_count": 40,
   "metadata": {},
   "outputs": [],
   "source": [
    "categorical_data=data.select_dtypes(exclude=np.number).drop(columns=['Timestamp','Song_Name'])"
   ]
  },
  {
   "cell_type": "code",
   "execution_count": 41,
   "metadata": {},
   "outputs": [],
   "source": [
    "one_hot_encoding_data = pd.get_dummies(categorical_data)"
   ]
  },
  {
   "cell_type": "code",
   "execution_count": 42,
   "metadata": {},
   "outputs": [],
   "source": [
    "numeric_value = data.select_dtypes(include=np.number);"
   ]
  },
  {
   "cell_type": "code",
   "execution_count": 43,
   "metadata": {},
   "outputs": [
    {
     "data": {
      "text/plain": [
       "Index(['Comments', 'Followers', 'Likes', 'Popularity', 'Views'], dtype='object')"
      ]
     },
     "execution_count": 43,
     "metadata": {},
     "output_type": "execute_result"
    }
   ],
   "source": [
    "numeric_value.columns"
   ]
  },
  {
   "cell_type": "code",
   "execution_count": 44,
   "metadata": {},
   "outputs": [],
   "source": [
    "data_preprocessed = pd.concat([one_hot_encoding_data,numeric_value],axis='columns')"
   ]
  },
  {
   "cell_type": "code",
   "execution_count": 45,
   "metadata": {},
   "outputs": [
    {
     "data": {
      "text/html": [
       "<div>\n",
       "<style scoped>\n",
       "    .dataframe tbody tr th:only-of-type {\n",
       "        vertical-align: middle;\n",
       "    }\n",
       "\n",
       "    .dataframe tbody tr th {\n",
       "        vertical-align: top;\n",
       "    }\n",
       "\n",
       "    .dataframe thead th {\n",
       "        text-align: right;\n",
       "    }\n",
       "</style>\n",
       "<table border=\"1\" class=\"dataframe\">\n",
       "  <thead>\n",
       "    <tr style=\"text-align: right;\">\n",
       "      <th></th>\n",
       "      <th>Genre_all-music</th>\n",
       "      <th>Genre_alternativerock</th>\n",
       "      <th>Genre_ambient</th>\n",
       "      <th>Genre_classical</th>\n",
       "      <th>Genre_country</th>\n",
       "      <th>Genre_danceedm</th>\n",
       "      <th>Genre_deephouse</th>\n",
       "      <th>Genre_disco</th>\n",
       "      <th>Genre_drumbass</th>\n",
       "      <th>Genre_dubstep</th>\n",
       "      <th>...</th>\n",
       "      <th>Name_wwwAreaDugemnet</th>\n",
       "      <th>Name_xantacular</th>\n",
       "      <th>Name_xavierdang</th>\n",
       "      <th>Name_yung187</th>\n",
       "      <th>Name_zpk</th>\n",
       "      <th>Comments</th>\n",
       "      <th>Followers</th>\n",
       "      <th>Likes</th>\n",
       "      <th>Popularity</th>\n",
       "      <th>Views</th>\n",
       "    </tr>\n",
       "  </thead>\n",
       "  <tbody>\n",
       "    <tr>\n",
       "      <td>0</td>\n",
       "      <td>0</td>\n",
       "      <td>0</td>\n",
       "      <td>0</td>\n",
       "      <td>0</td>\n",
       "      <td>0</td>\n",
       "      <td>1</td>\n",
       "      <td>0</td>\n",
       "      <td>0</td>\n",
       "      <td>0</td>\n",
       "      <td>0</td>\n",
       "      <td>...</td>\n",
       "      <td>0</td>\n",
       "      <td>0</td>\n",
       "      <td>0</td>\n",
       "      <td>0</td>\n",
       "      <td>0</td>\n",
       "      <td>4</td>\n",
       "      <td>119563</td>\n",
       "      <td>499</td>\n",
       "      <td>97</td>\n",
       "      <td>14017.0</td>\n",
       "    </tr>\n",
       "    <tr>\n",
       "      <td>1</td>\n",
       "      <td>0</td>\n",
       "      <td>0</td>\n",
       "      <td>0</td>\n",
       "      <td>0</td>\n",
       "      <td>0</td>\n",
       "      <td>1</td>\n",
       "      <td>0</td>\n",
       "      <td>0</td>\n",
       "      <td>0</td>\n",
       "      <td>0</td>\n",
       "      <td>...</td>\n",
       "      <td>0</td>\n",
       "      <td>0</td>\n",
       "      <td>0</td>\n",
       "      <td>0</td>\n",
       "      <td>0</td>\n",
       "      <td>17</td>\n",
       "      <td>2141</td>\n",
       "      <td>49</td>\n",
       "      <td>17</td>\n",
       "      <td>1918.0</td>\n",
       "    </tr>\n",
       "    <tr>\n",
       "      <td>2</td>\n",
       "      <td>0</td>\n",
       "      <td>0</td>\n",
       "      <td>0</td>\n",
       "      <td>0</td>\n",
       "      <td>0</td>\n",
       "      <td>1</td>\n",
       "      <td>0</td>\n",
       "      <td>0</td>\n",
       "      <td>0</td>\n",
       "      <td>0</td>\n",
       "      <td>...</td>\n",
       "      <td>0</td>\n",
       "      <td>0</td>\n",
       "      <td>0</td>\n",
       "      <td>0</td>\n",
       "      <td>0</td>\n",
       "      <td>11</td>\n",
       "      <td>22248</td>\n",
       "      <td>312</td>\n",
       "      <td>91</td>\n",
       "      <td>9668.0</td>\n",
       "    </tr>\n",
       "    <tr>\n",
       "      <td>3</td>\n",
       "      <td>0</td>\n",
       "      <td>0</td>\n",
       "      <td>0</td>\n",
       "      <td>0</td>\n",
       "      <td>0</td>\n",
       "      <td>0</td>\n",
       "      <td>0</td>\n",
       "      <td>0</td>\n",
       "      <td>0</td>\n",
       "      <td>0</td>\n",
       "      <td>...</td>\n",
       "      <td>0</td>\n",
       "      <td>0</td>\n",
       "      <td>0</td>\n",
       "      <td>0</td>\n",
       "      <td>0</td>\n",
       "      <td>2</td>\n",
       "      <td>393655</td>\n",
       "      <td>2400</td>\n",
       "      <td>76</td>\n",
       "      <td>113036.0</td>\n",
       "    </tr>\n",
       "    <tr>\n",
       "      <td>4</td>\n",
       "      <td>0</td>\n",
       "      <td>0</td>\n",
       "      <td>0</td>\n",
       "      <td>0</td>\n",
       "      <td>0</td>\n",
       "      <td>1</td>\n",
       "      <td>0</td>\n",
       "      <td>0</td>\n",
       "      <td>0</td>\n",
       "      <td>0</td>\n",
       "      <td>...</td>\n",
       "      <td>0</td>\n",
       "      <td>0</td>\n",
       "      <td>0</td>\n",
       "      <td>0</td>\n",
       "      <td>0</td>\n",
       "      <td>81</td>\n",
       "      <td>201030</td>\n",
       "      <td>3031</td>\n",
       "      <td>699</td>\n",
       "      <td>110024.0</td>\n",
       "    </tr>\n",
       "    <tr>\n",
       "      <td>...</td>\n",
       "      <td>...</td>\n",
       "      <td>...</td>\n",
       "      <td>...</td>\n",
       "      <td>...</td>\n",
       "      <td>...</td>\n",
       "      <td>...</td>\n",
       "      <td>...</td>\n",
       "      <td>...</td>\n",
       "      <td>...</td>\n",
       "      <td>...</td>\n",
       "      <td>...</td>\n",
       "      <td>...</td>\n",
       "      <td>...</td>\n",
       "      <td>...</td>\n",
       "      <td>...</td>\n",
       "      <td>...</td>\n",
       "      <td>...</td>\n",
       "      <td>...</td>\n",
       "      <td>...</td>\n",
       "      <td>...</td>\n",
       "      <td>...</td>\n",
       "    </tr>\n",
       "    <tr>\n",
       "      <td>19610</td>\n",
       "      <td>0</td>\n",
       "      <td>0</td>\n",
       "      <td>0</td>\n",
       "      <td>0</td>\n",
       "      <td>0</td>\n",
       "      <td>1</td>\n",
       "      <td>0</td>\n",
       "      <td>0</td>\n",
       "      <td>0</td>\n",
       "      <td>0</td>\n",
       "      <td>...</td>\n",
       "      <td>0</td>\n",
       "      <td>0</td>\n",
       "      <td>0</td>\n",
       "      <td>0</td>\n",
       "      <td>0</td>\n",
       "      <td>17</td>\n",
       "      <td>357007</td>\n",
       "      <td>1775</td>\n",
       "      <td>341</td>\n",
       "      <td>NaN</td>\n",
       "    </tr>\n",
       "    <tr>\n",
       "      <td>19611</td>\n",
       "      <td>0</td>\n",
       "      <td>0</td>\n",
       "      <td>0</td>\n",
       "      <td>0</td>\n",
       "      <td>0</td>\n",
       "      <td>1</td>\n",
       "      <td>0</td>\n",
       "      <td>0</td>\n",
       "      <td>0</td>\n",
       "      <td>0</td>\n",
       "      <td>...</td>\n",
       "      <td>0</td>\n",
       "      <td>0</td>\n",
       "      <td>0</td>\n",
       "      <td>0</td>\n",
       "      <td>0</td>\n",
       "      <td>12</td>\n",
       "      <td>17356</td>\n",
       "      <td>2095</td>\n",
       "      <td>305</td>\n",
       "      <td>NaN</td>\n",
       "    </tr>\n",
       "    <tr>\n",
       "      <td>19612</td>\n",
       "      <td>0</td>\n",
       "      <td>0</td>\n",
       "      <td>0</td>\n",
       "      <td>0</td>\n",
       "      <td>0</td>\n",
       "      <td>0</td>\n",
       "      <td>0</td>\n",
       "      <td>0</td>\n",
       "      <td>0</td>\n",
       "      <td>0</td>\n",
       "      <td>...</td>\n",
       "      <td>0</td>\n",
       "      <td>0</td>\n",
       "      <td>0</td>\n",
       "      <td>0</td>\n",
       "      <td>0</td>\n",
       "      <td>5</td>\n",
       "      <td>165268</td>\n",
       "      <td>39</td>\n",
       "      <td>12</td>\n",
       "      <td>NaN</td>\n",
       "    </tr>\n",
       "    <tr>\n",
       "      <td>19613</td>\n",
       "      <td>0</td>\n",
       "      <td>0</td>\n",
       "      <td>0</td>\n",
       "      <td>0</td>\n",
       "      <td>0</td>\n",
       "      <td>0</td>\n",
       "      <td>0</td>\n",
       "      <td>0</td>\n",
       "      <td>0</td>\n",
       "      <td>0</td>\n",
       "      <td>...</td>\n",
       "      <td>0</td>\n",
       "      <td>0</td>\n",
       "      <td>0</td>\n",
       "      <td>0</td>\n",
       "      <td>0</td>\n",
       "      <td>113</td>\n",
       "      <td>52573</td>\n",
       "      <td>3754</td>\n",
       "      <td>666</td>\n",
       "      <td>NaN</td>\n",
       "    </tr>\n",
       "    <tr>\n",
       "      <td>19614</td>\n",
       "      <td>0</td>\n",
       "      <td>0</td>\n",
       "      <td>0</td>\n",
       "      <td>0</td>\n",
       "      <td>0</td>\n",
       "      <td>1</td>\n",
       "      <td>0</td>\n",
       "      <td>0</td>\n",
       "      <td>0</td>\n",
       "      <td>0</td>\n",
       "      <td>...</td>\n",
       "      <td>0</td>\n",
       "      <td>0</td>\n",
       "      <td>0</td>\n",
       "      <td>0</td>\n",
       "      <td>0</td>\n",
       "      <td>10</td>\n",
       "      <td>119563</td>\n",
       "      <td>627</td>\n",
       "      <td>141</td>\n",
       "      <td>NaN</td>\n",
       "    </tr>\n",
       "  </tbody>\n",
       "</table>\n",
       "<p>98072 rows × 1236 columns</p>\n",
       "</div>"
      ],
      "text/plain": [
       "       Genre_all-music  Genre_alternativerock  Genre_ambient  Genre_classical  \\\n",
       "0                    0                      0              0                0   \n",
       "1                    0                      0              0                0   \n",
       "2                    0                      0              0                0   \n",
       "3                    0                      0              0                0   \n",
       "4                    0                      0              0                0   \n",
       "...                ...                    ...            ...              ...   \n",
       "19610                0                      0              0                0   \n",
       "19611                0                      0              0                0   \n",
       "19612                0                      0              0                0   \n",
       "19613                0                      0              0                0   \n",
       "19614                0                      0              0                0   \n",
       "\n",
       "       Genre_country  Genre_danceedm  Genre_deephouse  Genre_disco  \\\n",
       "0                  0               1                0            0   \n",
       "1                  0               1                0            0   \n",
       "2                  0               1                0            0   \n",
       "3                  0               0                0            0   \n",
       "4                  0               1                0            0   \n",
       "...              ...             ...              ...          ...   \n",
       "19610              0               1                0            0   \n",
       "19611              0               1                0            0   \n",
       "19612              0               0                0            0   \n",
       "19613              0               0                0            0   \n",
       "19614              0               1                0            0   \n",
       "\n",
       "       Genre_drumbass  Genre_dubstep  ...  Name_wwwAreaDugemnet  \\\n",
       "0                   0              0  ...                     0   \n",
       "1                   0              0  ...                     0   \n",
       "2                   0              0  ...                     0   \n",
       "3                   0              0  ...                     0   \n",
       "4                   0              0  ...                     0   \n",
       "...               ...            ...  ...                   ...   \n",
       "19610               0              0  ...                     0   \n",
       "19611               0              0  ...                     0   \n",
       "19612               0              0  ...                     0   \n",
       "19613               0              0  ...                     0   \n",
       "19614               0              0  ...                     0   \n",
       "\n",
       "       Name_xantacular  Name_xavierdang  Name_yung187  Name_zpk  Comments  \\\n",
       "0                    0                0             0         0         4   \n",
       "1                    0                0             0         0        17   \n",
       "2                    0                0             0         0        11   \n",
       "3                    0                0             0         0         2   \n",
       "4                    0                0             0         0        81   \n",
       "...                ...              ...           ...       ...       ...   \n",
       "19610                0                0             0         0        17   \n",
       "19611                0                0             0         0        12   \n",
       "19612                0                0             0         0         5   \n",
       "19613                0                0             0         0       113   \n",
       "19614                0                0             0         0        10   \n",
       "\n",
       "       Followers  Likes  Popularity     Views  \n",
       "0         119563    499          97   14017.0  \n",
       "1           2141     49          17    1918.0  \n",
       "2          22248    312          91    9668.0  \n",
       "3         393655   2400          76  113036.0  \n",
       "4         201030   3031         699  110024.0  \n",
       "...          ...    ...         ...       ...  \n",
       "19610     357007   1775         341       NaN  \n",
       "19611      17356   2095         305       NaN  \n",
       "19612     165268     39          12       NaN  \n",
       "19613      52573   3754         666       NaN  \n",
       "19614     119563    627         141       NaN  \n",
       "\n",
       "[98072 rows x 1236 columns]"
      ]
     },
     "execution_count": 45,
     "metadata": {},
     "output_type": "execute_result"
    }
   ],
   "source": [
    "data_preprocessed"
   ]
  },
  {
   "cell_type": "code",
   "execution_count": 46,
   "metadata": {},
   "outputs": [
    {
     "data": {
      "text/html": [
       "<div>\n",
       "<style scoped>\n",
       "    .dataframe tbody tr th:only-of-type {\n",
       "        vertical-align: middle;\n",
       "    }\n",
       "\n",
       "    .dataframe tbody tr th {\n",
       "        vertical-align: top;\n",
       "    }\n",
       "\n",
       "    .dataframe thead th {\n",
       "        text-align: right;\n",
       "    }\n",
       "</style>\n",
       "<table border=\"1\" class=\"dataframe\">\n",
       "  <thead>\n",
       "    <tr style=\"text-align: right;\">\n",
       "      <th></th>\n",
       "      <th>Genre_all-music</th>\n",
       "      <th>Genre_alternativerock</th>\n",
       "      <th>Genre_ambient</th>\n",
       "      <th>Genre_classical</th>\n",
       "      <th>Genre_country</th>\n",
       "      <th>Genre_danceedm</th>\n",
       "      <th>Genre_deephouse</th>\n",
       "      <th>Genre_disco</th>\n",
       "      <th>Genre_drumbass</th>\n",
       "      <th>Genre_dubstep</th>\n",
       "      <th>...</th>\n",
       "      <th>Name_wwwAreaDugemnet</th>\n",
       "      <th>Name_xantacular</th>\n",
       "      <th>Name_xavierdang</th>\n",
       "      <th>Name_yung187</th>\n",
       "      <th>Name_zpk</th>\n",
       "      <th>Comments</th>\n",
       "      <th>Followers</th>\n",
       "      <th>Likes</th>\n",
       "      <th>Popularity</th>\n",
       "      <th>Views</th>\n",
       "    </tr>\n",
       "  </thead>\n",
       "  <tbody>\n",
       "    <tr>\n",
       "      <td>0</td>\n",
       "      <td>0</td>\n",
       "      <td>0</td>\n",
       "      <td>0</td>\n",
       "      <td>0</td>\n",
       "      <td>0</td>\n",
       "      <td>1</td>\n",
       "      <td>0</td>\n",
       "      <td>0</td>\n",
       "      <td>0</td>\n",
       "      <td>0</td>\n",
       "      <td>...</td>\n",
       "      <td>0</td>\n",
       "      <td>0</td>\n",
       "      <td>0</td>\n",
       "      <td>0</td>\n",
       "      <td>0</td>\n",
       "      <td>4</td>\n",
       "      <td>119563</td>\n",
       "      <td>499</td>\n",
       "      <td>97</td>\n",
       "      <td>14017.0</td>\n",
       "    </tr>\n",
       "    <tr>\n",
       "      <td>1</td>\n",
       "      <td>0</td>\n",
       "      <td>0</td>\n",
       "      <td>0</td>\n",
       "      <td>0</td>\n",
       "      <td>0</td>\n",
       "      <td>1</td>\n",
       "      <td>0</td>\n",
       "      <td>0</td>\n",
       "      <td>0</td>\n",
       "      <td>0</td>\n",
       "      <td>...</td>\n",
       "      <td>0</td>\n",
       "      <td>0</td>\n",
       "      <td>0</td>\n",
       "      <td>0</td>\n",
       "      <td>0</td>\n",
       "      <td>17</td>\n",
       "      <td>2141</td>\n",
       "      <td>49</td>\n",
       "      <td>17</td>\n",
       "      <td>1918.0</td>\n",
       "    </tr>\n",
       "    <tr>\n",
       "      <td>2</td>\n",
       "      <td>0</td>\n",
       "      <td>0</td>\n",
       "      <td>0</td>\n",
       "      <td>0</td>\n",
       "      <td>0</td>\n",
       "      <td>1</td>\n",
       "      <td>0</td>\n",
       "      <td>0</td>\n",
       "      <td>0</td>\n",
       "      <td>0</td>\n",
       "      <td>...</td>\n",
       "      <td>0</td>\n",
       "      <td>0</td>\n",
       "      <td>0</td>\n",
       "      <td>0</td>\n",
       "      <td>0</td>\n",
       "      <td>11</td>\n",
       "      <td>22248</td>\n",
       "      <td>312</td>\n",
       "      <td>91</td>\n",
       "      <td>9668.0</td>\n",
       "    </tr>\n",
       "    <tr>\n",
       "      <td>3</td>\n",
       "      <td>0</td>\n",
       "      <td>0</td>\n",
       "      <td>0</td>\n",
       "      <td>0</td>\n",
       "      <td>0</td>\n",
       "      <td>0</td>\n",
       "      <td>0</td>\n",
       "      <td>0</td>\n",
       "      <td>0</td>\n",
       "      <td>0</td>\n",
       "      <td>...</td>\n",
       "      <td>0</td>\n",
       "      <td>0</td>\n",
       "      <td>0</td>\n",
       "      <td>0</td>\n",
       "      <td>0</td>\n",
       "      <td>2</td>\n",
       "      <td>393655</td>\n",
       "      <td>2400</td>\n",
       "      <td>76</td>\n",
       "      <td>113036.0</td>\n",
       "    </tr>\n",
       "    <tr>\n",
       "      <td>4</td>\n",
       "      <td>0</td>\n",
       "      <td>0</td>\n",
       "      <td>0</td>\n",
       "      <td>0</td>\n",
       "      <td>0</td>\n",
       "      <td>1</td>\n",
       "      <td>0</td>\n",
       "      <td>0</td>\n",
       "      <td>0</td>\n",
       "      <td>0</td>\n",
       "      <td>...</td>\n",
       "      <td>0</td>\n",
       "      <td>0</td>\n",
       "      <td>0</td>\n",
       "      <td>0</td>\n",
       "      <td>0</td>\n",
       "      <td>81</td>\n",
       "      <td>201030</td>\n",
       "      <td>3031</td>\n",
       "      <td>699</td>\n",
       "      <td>110024.0</td>\n",
       "    </tr>\n",
       "    <tr>\n",
       "      <td>...</td>\n",
       "      <td>...</td>\n",
       "      <td>...</td>\n",
       "      <td>...</td>\n",
       "      <td>...</td>\n",
       "      <td>...</td>\n",
       "      <td>...</td>\n",
       "      <td>...</td>\n",
       "      <td>...</td>\n",
       "      <td>...</td>\n",
       "      <td>...</td>\n",
       "      <td>...</td>\n",
       "      <td>...</td>\n",
       "      <td>...</td>\n",
       "      <td>...</td>\n",
       "      <td>...</td>\n",
       "      <td>...</td>\n",
       "      <td>...</td>\n",
       "      <td>...</td>\n",
       "      <td>...</td>\n",
       "      <td>...</td>\n",
       "      <td>...</td>\n",
       "    </tr>\n",
       "    <tr>\n",
       "      <td>19610</td>\n",
       "      <td>0</td>\n",
       "      <td>0</td>\n",
       "      <td>0</td>\n",
       "      <td>0</td>\n",
       "      <td>0</td>\n",
       "      <td>1</td>\n",
       "      <td>0</td>\n",
       "      <td>0</td>\n",
       "      <td>0</td>\n",
       "      <td>0</td>\n",
       "      <td>...</td>\n",
       "      <td>0</td>\n",
       "      <td>0</td>\n",
       "      <td>0</td>\n",
       "      <td>0</td>\n",
       "      <td>0</td>\n",
       "      <td>17</td>\n",
       "      <td>357007</td>\n",
       "      <td>1775</td>\n",
       "      <td>341</td>\n",
       "      <td>NaN</td>\n",
       "    </tr>\n",
       "    <tr>\n",
       "      <td>19611</td>\n",
       "      <td>0</td>\n",
       "      <td>0</td>\n",
       "      <td>0</td>\n",
       "      <td>0</td>\n",
       "      <td>0</td>\n",
       "      <td>1</td>\n",
       "      <td>0</td>\n",
       "      <td>0</td>\n",
       "      <td>0</td>\n",
       "      <td>0</td>\n",
       "      <td>...</td>\n",
       "      <td>0</td>\n",
       "      <td>0</td>\n",
       "      <td>0</td>\n",
       "      <td>0</td>\n",
       "      <td>0</td>\n",
       "      <td>12</td>\n",
       "      <td>17356</td>\n",
       "      <td>2095</td>\n",
       "      <td>305</td>\n",
       "      <td>NaN</td>\n",
       "    </tr>\n",
       "    <tr>\n",
       "      <td>19612</td>\n",
       "      <td>0</td>\n",
       "      <td>0</td>\n",
       "      <td>0</td>\n",
       "      <td>0</td>\n",
       "      <td>0</td>\n",
       "      <td>0</td>\n",
       "      <td>0</td>\n",
       "      <td>0</td>\n",
       "      <td>0</td>\n",
       "      <td>0</td>\n",
       "      <td>...</td>\n",
       "      <td>0</td>\n",
       "      <td>0</td>\n",
       "      <td>0</td>\n",
       "      <td>0</td>\n",
       "      <td>0</td>\n",
       "      <td>5</td>\n",
       "      <td>165268</td>\n",
       "      <td>39</td>\n",
       "      <td>12</td>\n",
       "      <td>NaN</td>\n",
       "    </tr>\n",
       "    <tr>\n",
       "      <td>19613</td>\n",
       "      <td>0</td>\n",
       "      <td>0</td>\n",
       "      <td>0</td>\n",
       "      <td>0</td>\n",
       "      <td>0</td>\n",
       "      <td>0</td>\n",
       "      <td>0</td>\n",
       "      <td>0</td>\n",
       "      <td>0</td>\n",
       "      <td>0</td>\n",
       "      <td>...</td>\n",
       "      <td>0</td>\n",
       "      <td>0</td>\n",
       "      <td>0</td>\n",
       "      <td>0</td>\n",
       "      <td>0</td>\n",
       "      <td>113</td>\n",
       "      <td>52573</td>\n",
       "      <td>3754</td>\n",
       "      <td>666</td>\n",
       "      <td>NaN</td>\n",
       "    </tr>\n",
       "    <tr>\n",
       "      <td>19614</td>\n",
       "      <td>0</td>\n",
       "      <td>0</td>\n",
       "      <td>0</td>\n",
       "      <td>0</td>\n",
       "      <td>0</td>\n",
       "      <td>1</td>\n",
       "      <td>0</td>\n",
       "      <td>0</td>\n",
       "      <td>0</td>\n",
       "      <td>0</td>\n",
       "      <td>...</td>\n",
       "      <td>0</td>\n",
       "      <td>0</td>\n",
       "      <td>0</td>\n",
       "      <td>0</td>\n",
       "      <td>0</td>\n",
       "      <td>10</td>\n",
       "      <td>119563</td>\n",
       "      <td>627</td>\n",
       "      <td>141</td>\n",
       "      <td>NaN</td>\n",
       "    </tr>\n",
       "  </tbody>\n",
       "</table>\n",
       "<p>98072 rows × 1236 columns</p>\n",
       "</div>"
      ],
      "text/plain": [
       "       Genre_all-music  Genre_alternativerock  Genre_ambient  Genre_classical  \\\n",
       "0                    0                      0              0                0   \n",
       "1                    0                      0              0                0   \n",
       "2                    0                      0              0                0   \n",
       "3                    0                      0              0                0   \n",
       "4                    0                      0              0                0   \n",
       "...                ...                    ...            ...              ...   \n",
       "19610                0                      0              0                0   \n",
       "19611                0                      0              0                0   \n",
       "19612                0                      0              0                0   \n",
       "19613                0                      0              0                0   \n",
       "19614                0                      0              0                0   \n",
       "\n",
       "       Genre_country  Genre_danceedm  Genre_deephouse  Genre_disco  \\\n",
       "0                  0               1                0            0   \n",
       "1                  0               1                0            0   \n",
       "2                  0               1                0            0   \n",
       "3                  0               0                0            0   \n",
       "4                  0               1                0            0   \n",
       "...              ...             ...              ...          ...   \n",
       "19610              0               1                0            0   \n",
       "19611              0               1                0            0   \n",
       "19612              0               0                0            0   \n",
       "19613              0               0                0            0   \n",
       "19614              0               1                0            0   \n",
       "\n",
       "       Genre_drumbass  Genre_dubstep  ...  Name_wwwAreaDugemnet  \\\n",
       "0                   0              0  ...                     0   \n",
       "1                   0              0  ...                     0   \n",
       "2                   0              0  ...                     0   \n",
       "3                   0              0  ...                     0   \n",
       "4                   0              0  ...                     0   \n",
       "...               ...            ...  ...                   ...   \n",
       "19610               0              0  ...                     0   \n",
       "19611               0              0  ...                     0   \n",
       "19612               0              0  ...                     0   \n",
       "19613               0              0  ...                     0   \n",
       "19614               0              0  ...                     0   \n",
       "\n",
       "       Name_xantacular  Name_xavierdang  Name_yung187  Name_zpk  Comments  \\\n",
       "0                    0                0             0         0         4   \n",
       "1                    0                0             0         0        17   \n",
       "2                    0                0             0         0        11   \n",
       "3                    0                0             0         0         2   \n",
       "4                    0                0             0         0        81   \n",
       "...                ...              ...           ...       ...       ...   \n",
       "19610                0                0             0         0        17   \n",
       "19611                0                0             0         0        12   \n",
       "19612                0                0             0         0         5   \n",
       "19613                0                0             0         0       113   \n",
       "19614                0                0             0         0        10   \n",
       "\n",
       "       Followers  Likes  Popularity     Views  \n",
       "0         119563    499          97   14017.0  \n",
       "1           2141     49          17    1918.0  \n",
       "2          22248    312          91    9668.0  \n",
       "3         393655   2400          76  113036.0  \n",
       "4         201030   3031         699  110024.0  \n",
       "...          ...    ...         ...       ...  \n",
       "19610     357007   1775         341       NaN  \n",
       "19611      17356   2095         305       NaN  \n",
       "19612     165268     39          12       NaN  \n",
       "19613      52573   3754         666       NaN  \n",
       "19614     119563    627         141       NaN  \n",
       "\n",
       "[98072 rows x 1236 columns]"
      ]
     },
     "execution_count": 46,
     "metadata": {},
     "output_type": "execute_result"
    }
   ],
   "source": [
    "data_preprocessed\n"
   ]
  },
  {
   "cell_type": "code",
   "execution_count": 47,
   "metadata": {},
   "outputs": [],
   "source": [
    "train=data_preprocessed[data_preprocessed['Views'].notna()]\n",
    "test=data_preprocessed[data_preprocessed['Views'].isna()]"
   ]
  },
  {
   "cell_type": "code",
   "execution_count": 48,
   "metadata": {},
   "outputs": [
    {
     "data": {
      "text/plain": [
       "(78457, 1236)"
      ]
     },
     "execution_count": 48,
     "metadata": {},
     "output_type": "execute_result"
    }
   ],
   "source": [
    "train.shape"
   ]
  },
  {
   "cell_type": "code",
   "execution_count": 49,
   "metadata": {},
   "outputs": [
    {
     "data": {
      "text/plain": [
       "(19615, 1236)"
      ]
     },
     "execution_count": 49,
     "metadata": {},
     "output_type": "execute_result"
    }
   ],
   "source": [
    "test.shape"
   ]
  },
  {
   "cell_type": "code",
   "execution_count": 50,
   "metadata": {},
   "outputs": [],
   "source": [
    "x_train = train.drop(columns=['Views'])"
   ]
  },
  {
   "cell_type": "code",
   "execution_count": 51,
   "metadata": {},
   "outputs": [],
   "source": [
    "y_train = train['Views']"
   ]
  },
  {
   "cell_type": "code",
   "execution_count": 52,
   "metadata": {},
   "outputs": [],
   "source": [
    "x_test = test.drop(columns=['Views'])"
   ]
  },
  {
   "cell_type": "code",
   "execution_count": 53,
   "metadata": {},
   "outputs": [
    {
     "data": {
      "text/plain": [
       "(78457, 1235)"
      ]
     },
     "execution_count": 53,
     "metadata": {},
     "output_type": "execute_result"
    }
   ],
   "source": [
    "x_train.shape"
   ]
  },
  {
   "cell_type": "code",
   "execution_count": 54,
   "metadata": {},
   "outputs": [
    {
     "data": {
      "text/plain": [
       "(78457,)"
      ]
     },
     "execution_count": 54,
     "metadata": {},
     "output_type": "execute_result"
    }
   ],
   "source": [
    "y_train.shape"
   ]
  },
  {
   "cell_type": "code",
   "execution_count": 55,
   "metadata": {},
   "outputs": [
    {
     "data": {
      "text/plain": [
       "(19615, 1235)"
      ]
     },
     "execution_count": 55,
     "metadata": {},
     "output_type": "execute_result"
    }
   ],
   "source": [
    "x_test.shape"
   ]
  },
  {
   "cell_type": "markdown",
   "metadata": {},
   "source": [
    "## Modeling"
   ]
  },
  {
   "cell_type": "code",
   "execution_count": 56,
   "metadata": {},
   "outputs": [],
   "source": [
    "def modal_fit(modal,x_train,y_train,x_test,fileName):\n",
    "    modal.fit(x_train,y_train);\n",
    "    y_train_predicated=modal.predict(x_train);\n",
    "    print(\"Root Mean Square Error \",np.sqrt(mean_squared_error(y_train,y_train_predicated)))\n",
    "   ## print(\"cross validation ::\",np.sqrt(np.mean(np.abs(cross_val_score(modal,x,y,cv=20,scoring=\"neg_mean_squared_error\")))))\n",
    "    y_test_predicated = modal.predict(x_test);\n",
    "    y_test_predicated_df = pd.DataFrame(y_test_predicated,columns= [\"Views\"])\n",
    "    result = pd.concat([test_data[['Unique_ID']],y_test_predicated_df],axis=1)\n",
    "    result.to_excel(fileName,index=False)"
   ]
  },
  {
   "cell_type": "code",
   "execution_count": null,
   "metadata": {},
   "outputs": [],
   "source": [
    "## With Linear Regression, I got 4th place in machine hack."
   ]
  },
  {
   "cell_type": "code",
   "execution_count": null,
   "metadata": {},
   "outputs": [],
   "source": [
    "linear = LinearRegression()"
   ]
  },
  {
   "cell_type": "code",
   "execution_count": null,
   "metadata": {
    "scrolled": true
   },
   "outputs": [],
   "source": [
    "modal_fit(linear,x_train,y_train,x_test,'Linear.xlsx')"
   ]
  },
  {
   "cell_type": "code",
   "execution_count": null,
   "metadata": {},
   "outputs": [],
   "source": [
    "## With XG Boost Regression, I got 2nd place in machine hack."
   ]
  },
  {
   "cell_type": "code",
   "execution_count": null,
   "metadata": {},
   "outputs": [],
   "source": [
    "regressor=xgb.XGBRegressor(objective ='reg:squarederror',n_estimators=100)"
   ]
  },
  {
   "cell_type": "code",
   "execution_count": null,
   "metadata": {},
   "outputs": [],
   "source": [
    "modal_fit(regressor,x_train,y_train,x_test,'xgboost.xlsx')"
   ]
  },
  {
   "cell_type": "code",
   "execution_count": null,
   "metadata": {},
   "outputs": [],
   "source": [
    "## With Gradient Boosting Regression, I got 1st place in machine hack."
   ]
  },
  {
   "cell_type": "code",
   "execution_count": 241,
   "metadata": {},
   "outputs": [],
   "source": [
    " gradientBoosting = GradientBoostingRegressor(alpha=0.9, criterion='friedman_mse', init=None,\n",
    "                          learning_rate=0.1, loss='ls', max_depth=3,\n",
    "                          max_features=None, max_leaf_nodes=None,\n",
    "                          min_impurity_decrease=0.0, min_impurity_split=None,\n",
    "                          min_samples_leaf=1, min_samples_split=2,\n",
    "                          min_weight_fraction_leaf=0.0, n_estimators=1200,\n",
    "                          n_iter_no_change=None, presort='auto',\n",
    "                          random_state=None, subsample=1.0, tol=0.0001,\n",
    "                          validation_fraction=0.1, verbose=0, warm_start=False)"
   ]
  },
  {
   "cell_type": "code",
   "execution_count": 239,
   "metadata": {},
   "outputs": [
    {
     "name": "stdout",
     "output_type": "stream",
     "text": [
      "Root Mean Square Error  242577.40983655324\n"
     ]
    }
   ],
   "source": [
    "modal_fit(gradientBoosting, x_train,y_train,x_test, \"model_GradientBoosting_1200.xlsx\" )##263529.4103849918 - 600"
   ]
  },
  {
   "cell_type": "code",
   "execution_count": null,
   "metadata": {},
   "outputs": [],
   "source": [
    "##Lasso, Ridge, Elastic Net, Ada Boost, Random Forest And Decision Tree doesn't work for me."
   ]
  },
  {
   "cell_type": "code",
   "execution_count": null,
   "metadata": {},
   "outputs": [],
   "source": [
    "lasso = Lasso(alpha=10,normalize = True)\n",
    "modal_fit(lasso, x_train,y_train,x_test, \"model_lasso_solution.xlsx\" )"
   ]
  },
  {
   "cell_type": "code",
   "execution_count": null,
   "metadata": {},
   "outputs": [],
   "source": [
    "ridge = Ridge()\n",
    "modal_fit(ridge, x_train,y_train,x_test, \"model_lasso_solution.xlsx\" )"
   ]
  },
  {
   "cell_type": "code",
   "execution_count": null,
   "metadata": {},
   "outputs": [],
   "source": [
    "elastic = ElasticNet(alpha=0.4,l1_ratio=0.5)\n",
    "modal_fit(elastic, x_train,y_train,x_test, \"model_elastic_solution.xlsx\" )"
   ]
  },
  {
   "cell_type": "code",
   "execution_count": 68,
   "metadata": {},
   "outputs": [],
   "source": [
    "adaBoost = AdaBoostRegressor()"
   ]
  },
  {
   "cell_type": "code",
   "execution_count": null,
   "metadata": {},
   "outputs": [],
   "source": [
    "modal_fit(adaBoost, x_train,y_train,x_test, \"model_adaBoost.xlsx\" )"
   ]
  },
  {
   "cell_type": "code",
   "execution_count": 67,
   "metadata": {},
   "outputs": [],
   "source": [
    "random = RandomForestRegressor()"
   ]
  },
  {
   "cell_type": "code",
   "execution_count": null,
   "metadata": {},
   "outputs": [],
   "source": [
    "modal_fit(random, x_train,y_train,x_test, \"model_randomForest.xlsx\" )"
   ]
  },
  {
   "cell_type": "code",
   "execution_count": 171,
   "metadata": {},
   "outputs": [],
   "source": [
    "regr_1 = DecisionTreeRegressor(max_depth=150)"
   ]
  },
  {
   "cell_type": "code",
   "execution_count": 172,
   "metadata": {},
   "outputs": [
    {
     "name": "stdout",
     "output_type": "stream",
     "text": [
      "Root Mean Square Error  1056.6815481589124\n"
     ]
    }
   ],
   "source": [
    "modal_fit(regr_1, x_train,y_train,x_test, \"model_decision_tress_tunning.xlsx\" )"
   ]
  },
  {
   "cell_type": "markdown",
   "metadata": {},
   "source": [
    "## HyperTunning"
   ]
  },
  {
   "cell_type": "code",
   "execution_count": 68,
   "metadata": {},
   "outputs": [],
   "source": [
    " x_train_hyper,x_test_hyper,y_train_hyper,y_test_hyper=train_test_split(x_train, y_train, test_size = 0.3, random_state=1)"
   ]
  },
  {
   "cell_type": "code",
   "execution_count": 77,
   "metadata": {},
   "outputs": [],
   "source": [
    "def model_accuracy(model,x_train_hyper,x_test_hyper,y_train_hyper,y_test_hyper):\n",
    "    model.fit(x_train_hyper, y_train_hyper)\n",
    "    y_train_predicated = model.predict(x_train_hyper)\n",
    "    y_test_predicated = model.predict(x_test_hyper)\n",
    "    return  np.sqrt(mean_squared_error(y_train_hyper,y_train_predicated)), np.sqrt(mean_squared_error(y_test_hyper,y_test_predicated));"
   ]
  },
  {
   "cell_type": "markdown",
   "metadata": {},
   "source": [
    "### max depth"
   ]
  },
  {
   "cell_type": "code",
   "execution_count": 148,
   "metadata": {},
   "outputs": [],
   "source": [
    "def check_dept(max_depth_check):\n",
    "    train_acc_list= []\n",
    "    test_acc_list = []\n",
    "    for i in max_depth_check:\n",
    "        print(\"Max_ Depth ----------------------- = \",i)\n",
    "        dt = DecisionTreeRegressor(max_depth=i,splitter='random',min_samples_leaf=4,min_weight_fraction_leaf=0.5)\n",
    "        train_acc, test_acc = model_accuracy(dt, x_train_hyper,x_test_hyper,y_train_hyper,y_test_hyper)\n",
    "        train_acc_list.append(train_acc)\n",
    "        test_acc_list.append(test_acc)\n",
    "    return train_acc_list, test_acc_list"
   ]
  },
  {
   "cell_type": "code",
   "execution_count": 154,
   "metadata": {},
   "outputs": [],
   "source": [
    "max_depth=[70,80,90,100,110,120,130,140,150];"
   ]
  },
  {
   "cell_type": "code",
   "execution_count": 155,
   "metadata": {},
   "outputs": [
    {
     "name": "stdout",
     "output_type": "stream",
     "text": [
      "Max_ Depth ----------------------- =  70\n",
      "Max_ Depth ----------------------- =  80\n",
      "Max_ Depth ----------------------- =  90\n",
      "Max_ Depth ----------------------- =  100\n",
      "Max_ Depth ----------------------- =  110\n",
      "Max_ Depth ----------------------- =  120\n",
      "Max_ Depth ----------------------- =  130\n",
      "Max_ Depth ----------------------- =  140\n",
      "Max_ Depth ----------------------- =  150\n"
     ]
    }
   ],
   "source": [
    "train_acc, test_acc = check_dept(max_depth)"
   ]
  },
  {
   "cell_type": "code",
   "execution_count": 156,
   "metadata": {},
   "outputs": [],
   "source": [
    "resut = pd.DataFrame([max_depth,train_acc,test_acc]).T"
   ]
  },
  {
   "cell_type": "code",
   "execution_count": 157,
   "metadata": {},
   "outputs": [],
   "source": [
    "resut.columns = [\"max_depth\", \"train\", \"test\"]"
   ]
  },
  {
   "cell_type": "code",
   "execution_count": 158,
   "metadata": {},
   "outputs": [
    {
     "data": {
      "text/plain": [
       "<matplotlib.axes._subplots.AxesSubplot at 0x2bb812a9888>"
      ]
     },
     "execution_count": 158,
     "metadata": {},
     "output_type": "execute_result"
    },
    {
     "data": {
      "image/png": "[encoded data removed]",
      "text/plain": [
       "<Figure size 432x288 with 1 Axes>"
      ]
     },
     "metadata": {},
     "output_type": "display_data"
    }
   ],
   "source": [
    "resut.plot(x = \"max_depth\",y=[\"train\",\"test\"])"
   ]
  },
  {
   "cell_type": "code",
   "execution_count": 92,
   "metadata": {},
   "outputs": [],
   "source": [
    "def check_splitter(splitter):\n",
    "    train_acc_list= []\n",
    "    test_acc_list = []\n",
    "    for i in splitter:\n",
    "        print(\"Max_ Depth ----------------------- = \",i)\n",
    "        dt = DecisionTreeRegressor(max_depth=3,splitter='best')\n",
    "        train_acc, test_acc = model_accuracy(dt, x_train_hyper,x_test_hyper,y_train_hyper,y_test_hyper)\n",
    "        train_acc_list.append(train_acc)\n",
    "        test_acc_list.append(test_acc)\n",
    "    return train_acc_list, test_acc_list"
   ]
  },
  {
   "cell_type": "code",
   "execution_count": 93,
   "metadata": {},
   "outputs": [],
   "source": [
    "splitter = [\"best\",\"random\"]"
   ]
  },
  {
   "cell_type": "code",
   "execution_count": 94,
   "metadata": {},
   "outputs": [
    {
     "name": "stdout",
     "output_type": "stream",
     "text": [
      "Max_ Depth ----------------------- =  best\n",
      "Max_ Depth ----------------------- =  random\n"
     ]
    }
   ],
   "source": [
    "train_acc, test_acc = check_splitter(splitter)"
   ]
  },
  {
   "cell_type": "code",
   "execution_count": 95,
   "metadata": {},
   "outputs": [],
   "source": [
    "resut = pd.DataFrame([splitter,train_acc,test_acc]).T"
   ]
  },
  {
   "cell_type": "code",
   "execution_count": 96,
   "metadata": {},
   "outputs": [],
   "source": [
    "resut.columns = [\"splitter\", \"train\", \"test\"]"
   ]
  },
  {
   "cell_type": "code",
   "execution_count": 97,
   "metadata": {},
   "outputs": [
    {
     "data": {
      "text/plain": [
       "<matplotlib.axes._subplots.AxesSubplot at 0x2bb800e6c48>"
      ]
     },
     "execution_count": 97,
     "metadata": {},
     "output_type": "execute_result"
    },
    {
     "data": {
      "image/png": "[encoded data removed]",
      "text/plain": [
       "<Figure size 432x288 with 1 Axes>"
      ]
     },
     "metadata": {},
     "output_type": "display_data"
    }
   ],
   "source": [
    "resut.plot(x = \"splitter\",y=[\"train\",\"test\"])"
   ]
  },
  {
   "cell_type": "code",
   "execution_count": 162,
   "metadata": {},
   "outputs": [],
   "source": [
    "def check_min_samples_leaf(min_samples_leaf):\n",
    "    train_acc_list= []\n",
    "    test_acc_list = []\n",
    "    for i in min_samples_leaf:\n",
    "        print(\"Max_ Depth ----------------------- = \",i)\n",
    "        dt = DecisionTreeRegressor(max_depth=10,splitter='random',min_samples_leaf=i)\n",
    "        train_acc, test_acc = model_accuracy(dt, x_train_hyper,x_test_hyper,y_train_hyper,y_test_hyper)\n",
    "        train_acc_list.append(train_acc)\n",
    "        test_acc_list.append(test_acc)\n",
    "    return train_acc_list, test_acc_list"
   ]
  },
  {
   "cell_type": "code",
   "execution_count": 163,
   "metadata": {},
   "outputs": [],
   "source": [
    "min_samples_leaf = [10,15,20,25,30,35,40,45,50]"
   ]
  },
  {
   "cell_type": "code",
   "execution_count": 164,
   "metadata": {},
   "outputs": [
    {
     "name": "stdout",
     "output_type": "stream",
     "text": [
      "Max_ Depth ----------------------- =  10\n",
      "Max_ Depth ----------------------- =  15\n",
      "Max_ Depth ----------------------- =  20\n",
      "Max_ Depth ----------------------- =  25\n",
      "Max_ Depth ----------------------- =  30\n",
      "Max_ Depth ----------------------- =  35\n",
      "Max_ Depth ----------------------- =  40\n",
      "Max_ Depth ----------------------- =  45\n",
      "Max_ Depth ----------------------- =  50\n"
     ]
    },
    {
     "data": {
      "text/plain": [
       "<matplotlib.axes._subplots.AxesSubplot at 0x2bb81396b08>"
      ]
     },
     "execution_count": 164,
     "metadata": {},
     "output_type": "execute_result"
    },
    {
     "data": {
      "image/png": "[encoded data removed]",
      "text/plain": [
       "<Figure size 432x288 with 1 Axes>"
      ]
     },
     "metadata": {},
     "output_type": "display_data"
    }
   ],
   "source": [
    "train_acc, test_acc = check_min_samples_leaf(min_samples_leaf)\n",
    "resut = pd.DataFrame([min_samples_leaf,train_acc,test_acc]).T\n",
    "resut.columns = [\"min_samples_leaf\", \"train\", \"test\"]\n",
    "resut.plot(x = \"min_samples_leaf\",y=[\"train\",\"test\"])"
   ]
  },
  {
   "cell_type": "code",
   "execution_count": 118,
   "metadata": {},
   "outputs": [],
   "source": [
    "def check_min_weight_fraction_leaf(min_weight_fraction_leaf):\n",
    "    train_acc_list= []\n",
    "    test_acc_list = []\n",
    "    for i in min_weight_fraction_leaf:\n",
    "        print(\"Max_ Depth ----------------------- = \",i)\n",
    "        dt = DecisionTreeRegressor(max_depth=3,splitter='best',min_samples_leaf=4,min_weight_fraction_leaf=i)\n",
    "        train_acc, test_acc = model_accuracy(dt, x_train_hyper,x_test_hyper,y_train_hyper,y_test_hyper)\n",
    "        train_acc_list.append(train_acc)\n",
    "        test_acc_list.append(test_acc)\n",
    "    return train_acc_list, test_acc_list"
   ]
  },
  {
   "cell_type": "code",
   "execution_count": 119,
   "metadata": {},
   "outputs": [],
   "source": [
    "min_weight_fraction_leaf = [0.1,0.2,0.3,0.4,0.5]"
   ]
  },
  {
   "cell_type": "code",
   "execution_count": 120,
   "metadata": {},
   "outputs": [
    {
     "name": "stdout",
     "output_type": "stream",
     "text": [
      "Max_ Depth ----------------------- =  0.1\n",
      "Max_ Depth ----------------------- =  0.2\n",
      "Max_ Depth ----------------------- =  0.3\n",
      "Max_ Depth ----------------------- =  0.4\n",
      "Max_ Depth ----------------------- =  0.5\n"
     ]
    },
    {
     "data": {
      "text/plain": [
       "<matplotlib.axes._subplots.AxesSubplot at 0x2bbb5e920c8>"
      ]
     },
     "execution_count": 120,
     "metadata": {},
     "output_type": "execute_result"
    },
    {
     "data": {
      "image/png": "[encoded data removed]",
      "text/plain": [
       "<Figure size 432x288 with 1 Axes>"
      ]
     },
     "metadata": {},
     "output_type": "display_data"
    }
   ],
   "source": [
    "train_acc, test_acc = check_min_weight_fraction_leaf(min_weight_fraction_leaf)\n",
    "resut = pd.DataFrame([min_weight_fraction_leaf,train_acc,test_acc]).T\n",
    "resut.columns = [\"min_weight_fraction_leaf\", \"train\", \"test\"]\n",
    "resut.plot(x = \"min_weight_fraction_leaf\",y=[\"train\",\"test\"])"
   ]
  },
  {
   "cell_type": "code",
   "execution_count": 121,
   "metadata": {},
   "outputs": [],
   "source": [
    "def check_max_leaf_nodes(max_leaf_nodes):\n",
    "    train_acc_list= []\n",
    "    test_acc_list = []\n",
    "    for i in max_leaf_nodes:\n",
    "        print(\"max_leaf_nodes ----------------------- = \",i)\n",
    "        dt = DecisionTreeRegressor(max_depth=3,splitter='best',min_samples_leaf=4,min_weight_fraction_leaf=0.5,max_leaf_nodes=i)\n",
    "        train_acc, test_acc = model_accuracy(dt, x_train_hyper,x_test_hyper,y_train_hyper,y_test_hyper)\n",
    "        train_acc_list.append(train_acc)\n",
    "        test_acc_list.append(test_acc)\n",
    "    return train_acc_list, test_acc_list"
   ]
  },
  {
   "cell_type": "code",
   "execution_count": 122,
   "metadata": {},
   "outputs": [],
   "source": [
    "max_leaf_nodes =[None,10,20,30,40,50,60,70]"
   ]
  },
  {
   "cell_type": "code",
   "execution_count": 123,
   "metadata": {},
   "outputs": [
    {
     "name": "stdout",
     "output_type": "stream",
     "text": [
      "max_features ----------------------- =  None\n",
      "max_features ----------------------- =  10\n",
      "max_features ----------------------- =  20\n",
      "max_features ----------------------- =  30\n",
      "max_features ----------------------- =  40\n",
      "max_features ----------------------- =  50\n",
      "max_features ----------------------- =  60\n",
      "max_features ----------------------- =  70\n"
     ]
    },
    {
     "data": {
      "text/plain": [
       "<matplotlib.axes._subplots.AxesSubplot at 0x2bbb5da7b48>"
      ]
     },
     "execution_count": 123,
     "metadata": {},
     "output_type": "execute_result"
    },
    {
     "data": {
      "image/png": "[encoded data removed]",
      "text/plain": [
       "<Figure size 432x288 with 1 Axes>"
      ]
     },
     "metadata": {},
     "output_type": "display_data"
    }
   ],
   "source": [
    "train_acc, test_acc = check_max_features(max_leaf_nodes)\n",
    "resut = pd.DataFrame([max_leaf_nodes,train_acc,test_acc]).T\n",
    "resut.columns = [\"max_leaf_nodes\", \"train\", \"test\"]\n",
    "resut.plot(x = \"max_leaf_nodes\",y=[\"train\",\"test\"])"
   ]
  },
  {
   "cell_type": "code",
   "execution_count": 175,
   "metadata": {},
   "outputs": [],
   "source": [
    "# Number of trees in random forest\n",
    "n_estimators = [int(x) for x in np.linspace(start = 100, stop = 1200, num = 12)]\n",
    "# Various learning rate parameters\n",
    "learning_rate = ['0.05','0.1', '0.2','0.3','0.5','0.6']\n",
    "# Maximum number of levels in tree\n",
    "max_depth = [int(x) for x in np.linspace(5, 30, num = 6)]\n",
    "# max_depth.append(None)\n",
    "#Subssample parameter values\n",
    "subsample=[0.7,0.6,0.8]\n",
    "# Minimum child weight parameters\n",
    "min_child_weight=[3,4,5,6,7]"
   ]
  },
  {
   "cell_type": "code",
   "execution_count": 176,
   "metadata": {},
   "outputs": [
    {
     "name": "stdout",
     "output_type": "stream",
     "text": [
      "{'n_estimators': [100, 200, 300, 400, 500, 600, 700, 800, 900, 1000, 1100, 1200], 'learning_rate': ['0.05', '0.1', '0.2', '0.3', '0.5', '0.6'], 'max_depth': [5, 10, 15, 20, 25, 30], 'subsample': [0.7, 0.6, 0.8], 'min_child_weight': [3, 4, 5, 6, 7]}\n"
     ]
    }
   ],
   "source": [
    "# Create the random grid\n",
    "random_grid = {'n_estimators': n_estimators,\n",
    "               'learning_rate': learning_rate,\n",
    "               'max_depth': max_depth,\n",
    "               'subsample': subsample,\n",
    "               'min_child_weight': min_child_weight}\n",
    "\n",
    "print(random_grid)"
   ]
  },
  {
   "cell_type": "code",
   "execution_count": 177,
   "metadata": {},
   "outputs": [],
   "source": [
    "# Random search of parameters, using 3 fold cross validation, \n",
    "# search across 100 different combinations\n",
    "xg_random = RandomizedSearchCV(estimator = gradientBoosting, param_distributions = random_grid,scoring='neg_mean_squared_error', n_iter = 5, cv = 5, verbose=2, random_state=42, n_jobs = 1)"
   ]
  },
  {
   "cell_type": "code",
   "execution_count": 180,
   "metadata": {},
   "outputs": [],
   "source": [
    " x_train_hyper,x_test_hyper,y_train_hyper,y_test_hyper=train_test_split(x_train, y_train, test_size = 0.3, random_state=1)"
   ]
  },
  {
   "cell_type": "code",
   "execution_count": 181,
   "metadata": {},
   "outputs": [
    {
     "data": {
      "text/plain": [
       "(23537, 1235)"
      ]
     },
     "execution_count": 181,
     "metadata": {},
     "output_type": "execute_result"
    }
   ],
   "source": [
    "x_train_hyper.shape"
   ]
  },
  {
   "cell_type": "code",
   "execution_count": 208,
   "metadata": {},
   "outputs": [
    {
     "data": {
      "text/plain": [
       "[1, 2, 3, 4, 5, 6, 7, 8, 9, 10]"
      ]
     },
     "execution_count": 208,
     "metadata": {},
     "output_type": "execute_result"
    }
   ],
   "source": [
    "n_estimators = [1,2,3,4,5,6,7,8,9,10]\n",
    "n_estimators"
   ]
  },
  {
   "cell_type": "code",
   "execution_count": 209,
   "metadata": {},
   "outputs": [],
   "source": [
    "def check_n_estimators(n_estimators):\n",
    "    train_acc_list= []\n",
    "    test_acc_list = []\n",
    "    for i in n_estimators:\n",
    "        print(\"learning_rate ----------------------- = \",i)\n",
    "        gradientBoosting = GradientBoostingRegressor(n_estimators=i)\n",
    "        train_acc, test_acc = model_accuracy(gradientBoosting, x_train_hyper,x_test_hyper,y_train_hyper,y_test_hyper)\n",
    "        train_acc_list.append(train_acc)\n",
    "        test_acc_list.append(test_acc)\n",
    "    return train_acc_list, test_acc_list"
   ]
  },
  {
   "cell_type": "code",
   "execution_count": 210,
   "metadata": {},
   "outputs": [
    {
     "name": "stdout",
     "output_type": "stream",
     "text": [
      "learning_rate ----------------------- =  1\n",
      "learning_rate ----------------------- =  2\n",
      "learning_rate ----------------------- =  3\n",
      "learning_rate ----------------------- =  4\n",
      "learning_rate ----------------------- =  5\n",
      "learning_rate ----------------------- =  6\n",
      "learning_rate ----------------------- =  7\n",
      "learning_rate ----------------------- =  8\n",
      "learning_rate ----------------------- =  9\n",
      "learning_rate ----------------------- =  10\n"
     ]
    }
   ],
   "source": [
    "train_acc, test_acc = check_n_estimators(n_estimators)\n"
   ]
  },
  {
   "cell_type": "code",
   "execution_count": 211,
   "metadata": {},
   "outputs": [
    {
     "data": {
      "text/plain": [
       "<matplotlib.axes._subplots.AxesSubplot at 0x2bb814cd188>"
      ]
     },
     "execution_count": 211,
     "metadata": {},
     "output_type": "execute_result"
    },
    {
     "data": {
      "image/png": "[encoded data removed]",
      "text/plain": [
       "<Figure size 432x288 with 1 Axes>"
      ]
     },
     "metadata": {},
     "output_type": "display_data"
    }
   ],
   "source": [
    "resut = pd.DataFrame([n_estimators,train_acc,test_acc]).T\n",
    "resut.columns = [\"n_estimators\", \"train\", \"test\"]\n",
    "resut.plot(x = \"n_estimators\",y=[\"train\",\"test\"])"
   ]
  },
  {
   "cell_type": "code",
   "execution_count": null,
   "metadata": {},
   "outputs": [],
   "source": []
  }
 ],
 "metadata": {
  "kernelspec": {
   "display_name": "Python 3",
   "language": "python",
   "name": "python3"
  },
  "language_info": {
   "codemirror_mode": {
    "name": "ipython",
    "version": 3
   },
   "file_extension": ".py",
   "mimetype": "text/x-python",
   "name": "python",
   "nbconvert_exporter": "python",
   "pygments_lexer": "ipython3",
   "version": "3.7.4"
  }
 },
 "nbformat": 4,
 "nbformat_minor": 2
}
