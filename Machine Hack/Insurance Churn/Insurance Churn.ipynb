{
 "cells": [
  {
   "cell_type": "markdown",
   "metadata": {},
   "source": [
    "## Importing necessary libraries:"
   ]
  },
  {
   "cell_type": "code",
   "execution_count": 408,
   "metadata": {},
   "outputs": [],
   "source": [
    "## Other\n",
    "import os\n",
    "import warnings\n",
    "from sklearn.utils.testing import ignore_warnings\n",
    "from sklearn.exceptions import ConvergenceWarning\n",
    "warnings.filterwarnings(\"ignore\", category=FutureWarning)\n",
    "warnings.filterwarnings(\"ignore\", category = ConvergenceWarning)\n",
    "\n",
    "## Data Preparation Library\n",
    "import pandas as pd\n",
    "import numpy as np\n",
    "import seaborn as sns\n",
    "import matplotlib.pyplot as plt\n",
    "from sklearn.model_selection import train_test_split\n",
    "%matplotlib inline\n",
    "\n",
    "\n",
    "##Model Library\n",
    "from sklearn.preprocessing import StandardScaler, MinMaxScaler\n",
    "from sklearn.linear_model import LogisticRegression\n",
    "from sklearn.linear_model import SGDClassifier\n",
    "from sklearn.neighbors import KNeighborsClassifier\n",
    "from sklearn.naive_bayes import GaussianNB, BernoulliNB\n",
    "from sklearn.tree import DecisionTreeClassifier\n",
    "from sklearn.neighbors import KNeighborsClassifier\n",
    "from sklearn.ensemble import AdaBoostClassifier\n",
    "from sklearn.ensemble import RandomForestClassifier,GradientBoostingClassifier,VotingClassifier\n",
    "from xgboost import XGBClassifier\n",
    "from lightgbm import LGBMModel,LGBMClassifier\n",
    "from catboost import CatBoostClassifier\n",
    "from keras.layers import Dropout\n",
    "from keras.layers import LeakyReLU\n",
    "from keras.wrappers.scikit_learn import KerasClassifier\n",
    "from sklearn.model_selection import StratifiedKFold\n",
    "from sklearn import svm\n",
    "from keras.models import Sequential\n",
    "from keras.layers import Dense\n",
    "from keras import optimizers\n",
    "from sklearn.preprocessing import StandardScaler, MinMaxScaler\n",
    "from sklearn.metrics import roc_auc_score, confusion_matrix, recall_score, precision_score,accuracy_score\n",
    "from sklearn.metrics import roc_curve, precision_recall_curve, classification_report,f1_score\n",
    "from sklearn.ensemble import StackingClassifier\n",
    "\n",
    "from keras.models import Sequential\n",
    "from keras.layers import Dense, Activation, Embedding, Flatten, LeakyReLU, BatchNormalization, Dropout\n",
    "from keras.activations import relu, sigmoid\n",
    "\n",
    "\n",
    "\n",
    "## Model Evaluation\n",
    "from sklearn.model_selection import cross_val_score\n",
    "from sklearn.model_selection import GridSearchCV\n",
    "from sklearn.metrics import confusion_matrix\n",
    "\n",
    "## Hyperparameter optimization\n",
    "from sklearn.model_selection import RandomizedSearchCV, GridSearchCV"
   ]
  },
  {
   "cell_type": "markdown",
   "metadata": {},
   "source": [
    "## Reading the dataset:"
   ]
  },
  {
   "cell_type": "code",
   "execution_count": 261,
   "metadata": {},
   "outputs": [],
   "source": [
    "ch_train = pd.read_csv('Train.csv')"
   ]
  },
  {
   "cell_type": "code",
   "execution_count": 262,
   "metadata": {},
   "outputs": [],
   "source": [
    "ch_train.drop_duplicates(inplace=True)"
   ]
  },
  {
   "cell_type": "code",
   "execution_count": 263,
   "metadata": {},
   "outputs": [
    {
     "data": {
      "text/plain": [
       "(33908, 17)"
      ]
     },
     "execution_count": 263,
     "metadata": {},
     "output_type": "execute_result"
    }
   ],
   "source": [
    "ch_train.shape"
   ]
  },
  {
   "cell_type": "code",
   "execution_count": 264,
   "metadata": {},
   "outputs": [],
   "source": [
    "ch_test = pd.read_csv('Test.csv')"
   ]
  },
  {
   "cell_type": "code",
   "execution_count": 265,
   "metadata": {},
   "outputs": [
    {
     "data": {
      "text/html": [
       "<div>\n",
       "<style scoped>\n",
       "    .dataframe tbody tr th:only-of-type {\n",
       "        vertical-align: middle;\n",
       "    }\n",
       "\n",
       "    .dataframe tbody tr th {\n",
       "        vertical-align: top;\n",
       "    }\n",
       "\n",
       "    .dataframe thead th {\n",
       "        text-align: right;\n",
       "    }\n",
       "</style>\n",
       "<table border=\"1\" class=\"dataframe\">\n",
       "  <thead>\n",
       "    <tr style=\"text-align: right;\">\n",
       "      <th></th>\n",
       "      <th>labels</th>\n",
       "    </tr>\n",
       "  </thead>\n",
       "  <tbody>\n",
       "    <tr>\n",
       "      <th>0</th>\n",
       "      <td>88.0%</td>\n",
       "    </tr>\n",
       "    <tr>\n",
       "      <th>1</th>\n",
       "      <td>12.0%</td>\n",
       "    </tr>\n",
       "  </tbody>\n",
       "</table>\n",
       "</div>"
      ],
      "text/plain": [
       "  labels\n",
       "0  88.0%\n",
       "1  12.0%"
      ]
     },
     "execution_count": 265,
     "metadata": {},
     "output_type": "execute_result"
    }
   ],
   "source": [
    "pd.DataFrame(ch_train['labels'].value_counts(normalize=True).mul(100).round(0).astype(str) + '%')"
   ]
  },
  {
   "cell_type": "code",
   "execution_count": 266,
   "metadata": {},
   "outputs": [
    {
     "data": {
      "image/png": "[encoded data removed]",
      "text/plain": [
       "<Figure size 432x288 with 1 Axes>"
      ]
     },
     "metadata": {
      "needs_background": "light"
     },
     "output_type": "display_data"
    }
   ],
   "source": [
    "sns.countplot(y=ch_train.labels ,data=ch_train)\n",
    "plt.xlabel(\"Count of each Target class\")\n",
    "plt.ylabel(\"Target classes\")\n",
    "plt.show()"
   ]
  },
  {
   "cell_type": "markdown",
   "metadata": {},
   "source": [
    "##  RandomOverSampler to handle imbalanced data"
   ]
  },
  {
   "cell_type": "code",
   "execution_count": 267,
   "metadata": {},
   "outputs": [],
   "source": [
    "from imblearn.combine import SMOTETomek"
   ]
  },
  {
   "cell_type": "code",
   "execution_count": 268,
   "metadata": {},
   "outputs": [],
   "source": [
    "x = ch_train.drop(columns=['labels'])"
   ]
  },
  {
   "cell_type": "code",
   "execution_count": 269,
   "metadata": {},
   "outputs": [],
   "source": [
    "y = ch_train['labels']"
   ]
  },
  {
   "cell_type": "markdown",
   "metadata": {},
   "source": [
    "# Implementing Oversampling for Handling Imbalanced "
   ]
  },
  {
   "cell_type": "code",
   "execution_count": 270,
   "metadata": {},
   "outputs": [],
   "source": [
    "smk = SMOTETomek(random_state=42)\n",
    "x_smk,y_smk=smk.fit_sample(x,y)"
   ]
  },
  {
   "cell_type": "code",
   "execution_count": 271,
   "metadata": {
    "scrolled": true
   },
   "outputs": [
    {
     "data": {
      "text/html": [
       "<div>\n",
       "<style scoped>\n",
       "    .dataframe tbody tr th:only-of-type {\n",
       "        vertical-align: middle;\n",
       "    }\n",
       "\n",
       "    .dataframe tbody tr th {\n",
       "        vertical-align: top;\n",
       "    }\n",
       "\n",
       "    .dataframe thead th {\n",
       "        text-align: right;\n",
       "    }\n",
       "</style>\n",
       "<table border=\"1\" class=\"dataframe\">\n",
       "  <thead>\n",
       "    <tr style=\"text-align: right;\">\n",
       "      <th></th>\n",
       "      <th>feature_0</th>\n",
       "      <th>feature_1</th>\n",
       "      <th>feature_2</th>\n",
       "      <th>feature_3</th>\n",
       "      <th>feature_4</th>\n",
       "      <th>feature_5</th>\n",
       "      <th>feature_6</th>\n",
       "      <th>feature_7</th>\n",
       "      <th>feature_8</th>\n",
       "      <th>feature_9</th>\n",
       "      <th>feature_10</th>\n",
       "      <th>feature_11</th>\n",
       "      <th>feature_12</th>\n",
       "      <th>feature_13</th>\n",
       "      <th>feature_14</th>\n",
       "      <th>feature_15</th>\n",
       "    </tr>\n",
       "  </thead>\n",
       "  <tbody>\n",
       "    <tr>\n",
       "      <th>0</th>\n",
       "      <td>-0.276515</td>\n",
       "      <td>-0.424429</td>\n",
       "      <td>1.344997</td>\n",
       "      <td>-0.012283</td>\n",
       "      <td>0.076230</td>\n",
       "      <td>1.076648</td>\n",
       "      <td>0.182198</td>\n",
       "      <td>3</td>\n",
       "      <td>0</td>\n",
       "      <td>1</td>\n",
       "      <td>0</td>\n",
       "      <td>0</td>\n",
       "      <td>0</td>\n",
       "      <td>0</td>\n",
       "      <td>10</td>\n",
       "      <td>2</td>\n",
       "    </tr>\n",
       "    <tr>\n",
       "      <th>1</th>\n",
       "      <td>0.853573</td>\n",
       "      <td>0.150991</td>\n",
       "      <td>0.503892</td>\n",
       "      <td>-0.979179</td>\n",
       "      <td>-0.569351</td>\n",
       "      <td>-0.411453</td>\n",
       "      <td>-0.251940</td>\n",
       "      <td>4</td>\n",
       "      <td>1</td>\n",
       "      <td>2</td>\n",
       "      <td>0</td>\n",
       "      <td>1</td>\n",
       "      <td>0</td>\n",
       "      <td>0</td>\n",
       "      <td>0</td>\n",
       "      <td>3</td>\n",
       "    </tr>\n",
       "    <tr>\n",
       "      <th>2</th>\n",
       "      <td>0.947747</td>\n",
       "      <td>-0.173832</td>\n",
       "      <td>1.825628</td>\n",
       "      <td>-0.703478</td>\n",
       "      <td>0.076230</td>\n",
       "      <td>-0.411453</td>\n",
       "      <td>-0.251940</td>\n",
       "      <td>6</td>\n",
       "      <td>1</td>\n",
       "      <td>2</td>\n",
       "      <td>0</td>\n",
       "      <td>0</td>\n",
       "      <td>0</td>\n",
       "      <td>0</td>\n",
       "      <td>5</td>\n",
       "      <td>3</td>\n",
       "    </tr>\n",
       "    <tr>\n",
       "      <th>3</th>\n",
       "      <td>0.853573</td>\n",
       "      <td>-0.381404</td>\n",
       "      <td>0.984523</td>\n",
       "      <td>-0.039464</td>\n",
       "      <td>-0.569351</td>\n",
       "      <td>-0.411453</td>\n",
       "      <td>-0.251940</td>\n",
       "      <td>4</td>\n",
       "      <td>0</td>\n",
       "      <td>2</td>\n",
       "      <td>0</td>\n",
       "      <td>1</td>\n",
       "      <td>0</td>\n",
       "      <td>0</td>\n",
       "      <td>5</td>\n",
       "      <td>3</td>\n",
       "    </tr>\n",
       "    <tr>\n",
       "      <th>4</th>\n",
       "      <td>1.324443</td>\n",
       "      <td>1.590527</td>\n",
       "      <td>-1.178318</td>\n",
       "      <td>-0.097711</td>\n",
       "      <td>-0.246560</td>\n",
       "      <td>-0.411453</td>\n",
       "      <td>-0.251940</td>\n",
       "      <td>0</td>\n",
       "      <td>1</td>\n",
       "      <td>1</td>\n",
       "      <td>0</td>\n",
       "      <td>0</td>\n",
       "      <td>0</td>\n",
       "      <td>0</td>\n",
       "      <td>8</td>\n",
       "      <td>3</td>\n",
       "    </tr>\n",
       "    <tr>\n",
       "      <th>...</th>\n",
       "      <td>...</td>\n",
       "      <td>...</td>\n",
       "      <td>...</td>\n",
       "      <td>...</td>\n",
       "      <td>...</td>\n",
       "      <td>...</td>\n",
       "      <td>...</td>\n",
       "      <td>...</td>\n",
       "      <td>...</td>\n",
       "      <td>...</td>\n",
       "      <td>...</td>\n",
       "      <td>...</td>\n",
       "      <td>...</td>\n",
       "      <td>...</td>\n",
       "      <td>...</td>\n",
       "      <td>...</td>\n",
       "    </tr>\n",
       "    <tr>\n",
       "      <th>59771</th>\n",
       "      <td>-1.200817</td>\n",
       "      <td>-0.350038</td>\n",
       "      <td>0.983786</td>\n",
       "      <td>2.324179</td>\n",
       "      <td>-0.364119</td>\n",
       "      <td>-0.411453</td>\n",
       "      <td>-0.251940</td>\n",
       "      <td>9</td>\n",
       "      <td>1</td>\n",
       "      <td>1</td>\n",
       "      <td>0</td>\n",
       "      <td>1</td>\n",
       "      <td>0</td>\n",
       "      <td>0</td>\n",
       "      <td>5</td>\n",
       "      <td>3</td>\n",
       "    </tr>\n",
       "    <tr>\n",
       "      <th>59772</th>\n",
       "      <td>-0.669743</td>\n",
       "      <td>0.246676</td>\n",
       "      <td>-0.584874</td>\n",
       "      <td>0.108879</td>\n",
       "      <td>-0.246560</td>\n",
       "      <td>0.859150</td>\n",
       "      <td>0.871511</td>\n",
       "      <td>4</td>\n",
       "      <td>1</td>\n",
       "      <td>2</td>\n",
       "      <td>0</td>\n",
       "      <td>0</td>\n",
       "      <td>0</td>\n",
       "      <td>0</td>\n",
       "      <td>3</td>\n",
       "      <td>0</td>\n",
       "    </tr>\n",
       "    <tr>\n",
       "      <th>59773</th>\n",
       "      <td>-1.025920</td>\n",
       "      <td>3.403820</td>\n",
       "      <td>-1.331747</td>\n",
       "      <td>-0.242675</td>\n",
       "      <td>-0.466309</td>\n",
       "      <td>0.220863</td>\n",
       "      <td>0.043611</td>\n",
       "      <td>4</td>\n",
       "      <td>2</td>\n",
       "      <td>2</td>\n",
       "      <td>0</td>\n",
       "      <td>0</td>\n",
       "      <td>0</td>\n",
       "      <td>0</td>\n",
       "      <td>3</td>\n",
       "      <td>2</td>\n",
       "    </tr>\n",
       "    <tr>\n",
       "      <th>59774</th>\n",
       "      <td>1.861994</td>\n",
       "      <td>0.676896</td>\n",
       "      <td>0.816074</td>\n",
       "      <td>-0.013880</td>\n",
       "      <td>-0.246560</td>\n",
       "      <td>0.918139</td>\n",
       "      <td>1.050473</td>\n",
       "      <td>4</td>\n",
       "      <td>0</td>\n",
       "      <td>0</td>\n",
       "      <td>0</td>\n",
       "      <td>0</td>\n",
       "      <td>0</td>\n",
       "      <td>1</td>\n",
       "      <td>10</td>\n",
       "      <td>2</td>\n",
       "    </tr>\n",
       "    <tr>\n",
       "      <th>59775</th>\n",
       "      <td>-1.125959</td>\n",
       "      <td>-0.028433</td>\n",
       "      <td>1.705471</td>\n",
       "      <td>0.783718</td>\n",
       "      <td>-0.569351</td>\n",
       "      <td>-0.411453</td>\n",
       "      <td>-0.251940</td>\n",
       "      <td>4</td>\n",
       "      <td>1</td>\n",
       "      <td>2</td>\n",
       "      <td>0</td>\n",
       "      <td>0</td>\n",
       "      <td>0</td>\n",
       "      <td>0</td>\n",
       "      <td>0</td>\n",
       "      <td>3</td>\n",
       "    </tr>\n",
       "  </tbody>\n",
       "</table>\n",
       "<p>59776 rows × 16 columns</p>\n",
       "</div>"
      ],
      "text/plain": [
       "       feature_0  feature_1  feature_2  feature_3  feature_4  feature_5  \\\n",
       "0      -0.276515  -0.424429   1.344997  -0.012283   0.076230   1.076648   \n",
       "1       0.853573   0.150991   0.503892  -0.979179  -0.569351  -0.411453   \n",
       "2       0.947747  -0.173832   1.825628  -0.703478   0.076230  -0.411453   \n",
       "3       0.853573  -0.381404   0.984523  -0.039464  -0.569351  -0.411453   \n",
       "4       1.324443   1.590527  -1.178318  -0.097711  -0.246560  -0.411453   \n",
       "...          ...        ...        ...        ...        ...        ...   \n",
       "59771  -1.200817  -0.350038   0.983786   2.324179  -0.364119  -0.411453   \n",
       "59772  -0.669743   0.246676  -0.584874   0.108879  -0.246560   0.859150   \n",
       "59773  -1.025920   3.403820  -1.331747  -0.242675  -0.466309   0.220863   \n",
       "59774   1.861994   0.676896   0.816074  -0.013880  -0.246560   0.918139   \n",
       "59775  -1.125959  -0.028433   1.705471   0.783718  -0.569351  -0.411453   \n",
       "\n",
       "       feature_6  feature_7  feature_8  feature_9  feature_10  feature_11  \\\n",
       "0       0.182198          3          0          1           0           0   \n",
       "1      -0.251940          4          1          2           0           1   \n",
       "2      -0.251940          6          1          2           0           0   \n",
       "3      -0.251940          4          0          2           0           1   \n",
       "4      -0.251940          0          1          1           0           0   \n",
       "...          ...        ...        ...        ...         ...         ...   \n",
       "59771  -0.251940          9          1          1           0           1   \n",
       "59772   0.871511          4          1          2           0           0   \n",
       "59773   0.043611          4          2          2           0           0   \n",
       "59774   1.050473          4          0          0           0           0   \n",
       "59775  -0.251940          4          1          2           0           0   \n",
       "\n",
       "       feature_12  feature_13  feature_14  feature_15  \n",
       "0               0           0          10           2  \n",
       "1               0           0           0           3  \n",
       "2               0           0           5           3  \n",
       "3               0           0           5           3  \n",
       "4               0           0           8           3  \n",
       "...           ...         ...         ...         ...  \n",
       "59771           0           0           5           3  \n",
       "59772           0           0           3           0  \n",
       "59773           0           0           3           2  \n",
       "59774           0           1          10           2  \n",
       "59775           0           0           0           3  \n",
       "\n",
       "[59776 rows x 16 columns]"
      ]
     },
     "execution_count": 271,
     "metadata": {},
     "output_type": "execute_result"
    }
   ],
   "source": [
    "x_smk"
   ]
  },
  {
   "cell_type": "code",
   "execution_count": 272,
   "metadata": {},
   "outputs": [
    {
     "data": {
      "text/plain": [
       "(59776,)"
      ]
     },
     "execution_count": 272,
     "metadata": {},
     "output_type": "execute_result"
    }
   ],
   "source": [
    "y_smk.shape"
   ]
  },
  {
   "cell_type": "code",
   "execution_count": 273,
   "metadata": {},
   "outputs": [
    {
     "data": {
      "text/html": [
       "<div>\n",
       "<style scoped>\n",
       "    .dataframe tbody tr th:only-of-type {\n",
       "        vertical-align: middle;\n",
       "    }\n",
       "\n",
       "    .dataframe tbody tr th {\n",
       "        vertical-align: top;\n",
       "    }\n",
       "\n",
       "    .dataframe thead th {\n",
       "        text-align: right;\n",
       "    }\n",
       "</style>\n",
       "<table border=\"1\" class=\"dataframe\">\n",
       "  <thead>\n",
       "    <tr style=\"text-align: right;\">\n",
       "      <th></th>\n",
       "      <th>labels</th>\n",
       "    </tr>\n",
       "  </thead>\n",
       "  <tbody>\n",
       "    <tr>\n",
       "      <th>1</th>\n",
       "      <td>50.0%</td>\n",
       "    </tr>\n",
       "    <tr>\n",
       "      <th>0</th>\n",
       "      <td>50.0%</td>\n",
       "    </tr>\n",
       "  </tbody>\n",
       "</table>\n",
       "</div>"
      ],
      "text/plain": [
       "  labels\n",
       "1  50.0%\n",
       "0  50.0%"
      ]
     },
     "execution_count": 273,
     "metadata": {},
     "output_type": "execute_result"
    }
   ],
   "source": [
    "pd.DataFrame(y_smk.value_counts(normalize=True).mul(100).round(0).astype(str) + '%')"
   ]
  },
  {
   "cell_type": "markdown",
   "metadata": {},
   "source": [
    "## To Find Optimal Threshold For Binary Classification"
   ]
  },
  {
   "cell_type": "code",
   "execution_count": 274,
   "metadata": {},
   "outputs": [],
   "source": [
    "x_train,x_test,y_train,y_test = train_test_split(x_smk, y_smk, test_size=0.3, random_state=1)"
   ]
  },
  {
   "cell_type": "markdown",
   "metadata": {},
   "source": [
    "#### Logistic Regression"
   ]
  },
  {
   "cell_type": "code",
   "execution_count": 275,
   "metadata": {},
   "outputs": [
    {
     "data": {
      "text/plain": [
       "LogisticRegression(C=1.0, class_weight=None, dual=False, fit_intercept=True,\n",
       "                   intercept_scaling=1, l1_ratio=None, max_iter=100,\n",
       "                   multi_class='auto', n_jobs=None, penalty='l2',\n",
       "                   random_state=None, solver='lbfgs', tol=0.0001, verbose=0,\n",
       "                   warm_start=False)"
      ]
     },
     "execution_count": 275,
     "metadata": {},
     "output_type": "execute_result"
    }
   ],
   "source": [
    "log_classifier=LogisticRegression()\n",
    "log_classifier.fit(x_train, y_train)"
   ]
  },
  {
   "cell_type": "markdown",
   "metadata": {},
   "source": [
    "#### KNeighborsClassifier"
   ]
  },
  {
   "cell_type": "code",
   "execution_count": 276,
   "metadata": {},
   "outputs": [
    {
     "data": {
      "text/plain": [
       "KNeighborsClassifier(algorithm='auto', leaf_size=30, metric='minkowski',\n",
       "                     metric_params=None, n_jobs=None, n_neighbors=5, p=2,\n",
       "                     weights='uniform')"
      ]
     },
     "execution_count": 276,
     "metadata": {},
     "output_type": "execute_result"
    }
   ],
   "source": [
    "knn_classifier=KNeighborsClassifier()\n",
    "knn_classifier.fit(x_train, y_train)"
   ]
  },
  {
   "cell_type": "markdown",
   "metadata": {},
   "source": [
    "#### AdaBoostClassifier"
   ]
  },
  {
   "cell_type": "code",
   "execution_count": 277,
   "metadata": {},
   "outputs": [
    {
     "data": {
      "text/plain": [
       "AdaBoostClassifier(algorithm='SAMME.R', base_estimator=None, learning_rate=1.0,\n",
       "                   n_estimators=50, random_state=None)"
      ]
     },
     "execution_count": 277,
     "metadata": {},
     "output_type": "execute_result"
    }
   ],
   "source": [
    "ada_classifier=AdaBoostClassifier()\n",
    "ada_classifier.fit(x_train, y_train)"
   ]
  },
  {
   "cell_type": "markdown",
   "metadata": {},
   "source": [
    "#### RandomForestClassifier"
   ]
  },
  {
   "cell_type": "code",
   "execution_count": 278,
   "metadata": {},
   "outputs": [
    {
     "data": {
      "text/plain": [
       "RandomForestClassifier(bootstrap=True, ccp_alpha=0.0, class_weight=None,\n",
       "                       criterion='gini', max_depth=None, max_features='auto',\n",
       "                       max_leaf_nodes=None, max_samples=None,\n",
       "                       min_impurity_decrease=0.0, min_impurity_split=None,\n",
       "                       min_samples_leaf=1, min_samples_split=2,\n",
       "                       min_weight_fraction_leaf=0.0, n_estimators=100,\n",
       "                       n_jobs=None, oob_score=False, random_state=None,\n",
       "                       verbose=0, warm_start=False)"
      ]
     },
     "execution_count": 278,
     "metadata": {},
     "output_type": "execute_result"
    }
   ],
   "source": [
    "rf_model = RandomForestClassifier()\n",
    "rf_model.fit(x_train, y_train)"
   ]
  },
  {
   "cell_type": "code",
   "execution_count": 279,
   "metadata": {},
   "outputs": [
    {
     "name": "stdout",
     "output_type": "stream",
     "text": [
      "Ensemble test roc-auc: 0.979182346965569\n"
     ]
    }
   ],
   "source": [
    "pred=[]\n",
    "for model in [rf_model,log_classifier,ada_classifier,knn_classifier]:\n",
    "    pred.append(pd.Series(model.predict_proba(x_test)[:,1]))\n",
    "final_prediction=pd.concat(pred,axis=1).mean(axis=1)\n",
    "print('Ensemble test roc-auc: {}'.format(roc_auc_score(y_test,final_prediction)))"
   ]
  },
  {
   "cell_type": "code",
   "execution_count": 280,
   "metadata": {},
   "outputs": [
    {
     "data": {
      "text/plain": [
       "0        0.830010\n",
       "1        0.503962\n",
       "2        0.124457\n",
       "3        0.159326\n",
       "4        0.708901\n",
       "           ...   \n",
       "17928    0.318959\n",
       "17929    0.127842\n",
       "17930    0.132167\n",
       "17931    0.695302\n",
       "17932    0.870870\n",
       "Length: 17933, dtype: float64"
      ]
     },
     "execution_count": 280,
     "metadata": {},
     "output_type": "execute_result"
    }
   ],
   "source": [
    "final_prediction"
   ]
  },
  {
   "cell_type": "markdown",
   "metadata": {},
   "source": [
    "#### Calculate the ROc Curve"
   ]
  },
  {
   "cell_type": "code",
   "execution_count": 281,
   "metadata": {},
   "outputs": [
    {
     "data": {
      "text/plain": [
       "array([1.88518617, 0.88518617, 0.86590069, ..., 0.17118531, 0.17118405,\n",
       "       0.11328129])"
      ]
     },
     "execution_count": 281,
     "metadata": {},
     "output_type": "execute_result"
    }
   ],
   "source": [
    "fpr, tpr, thresholds = roc_curve(y_test, final_prediction)\n",
    "thresholds"
   ]
  },
  {
   "cell_type": "code",
   "execution_count": 282,
   "metadata": {},
   "outputs": [
    {
     "data": {
      "text/html": [
       "<div>\n",
       "<style scoped>\n",
       "    .dataframe tbody tr th:only-of-type {\n",
       "        vertical-align: middle;\n",
       "    }\n",
       "\n",
       "    .dataframe tbody tr th {\n",
       "        vertical-align: top;\n",
       "    }\n",
       "\n",
       "    .dataframe thead th {\n",
       "        text-align: right;\n",
       "    }\n",
       "</style>\n",
       "<table border=\"1\" class=\"dataframe\">\n",
       "  <thead>\n",
       "    <tr style=\"text-align: right;\">\n",
       "      <th></th>\n",
       "      <th>thresholds</th>\n",
       "      <th>accuracy</th>\n",
       "    </tr>\n",
       "  </thead>\n",
       "  <tbody>\n",
       "    <tr>\n",
       "      <th>1176</th>\n",
       "      <td>0.578084</td>\n",
       "      <td>0.934478</td>\n",
       "    </tr>\n",
       "    <tr>\n",
       "      <th>1238</th>\n",
       "      <td>0.560849</td>\n",
       "      <td>0.934478</td>\n",
       "    </tr>\n",
       "    <tr>\n",
       "      <th>1237</th>\n",
       "      <td>0.561078</td>\n",
       "      <td>0.934478</td>\n",
       "    </tr>\n",
       "    <tr>\n",
       "      <th>1235</th>\n",
       "      <td>0.561553</td>\n",
       "      <td>0.934423</td>\n",
       "    </tr>\n",
       "    <tr>\n",
       "      <th>1234</th>\n",
       "      <td>0.561948</td>\n",
       "      <td>0.934423</td>\n",
       "    </tr>\n",
       "  </tbody>\n",
       "</table>\n",
       "</div>"
      ],
      "text/plain": [
       "      thresholds  accuracy\n",
       "1176    0.578084  0.934478\n",
       "1238    0.560849  0.934478\n",
       "1237    0.561078  0.934478\n",
       "1235    0.561553  0.934423\n",
       "1234    0.561948  0.934423"
      ]
     },
     "execution_count": 282,
     "metadata": {},
     "output_type": "execute_result"
    }
   ],
   "source": [
    "from sklearn.metrics import accuracy_score\n",
    "accuracy_ls = []\n",
    "for thres in thresholds:\n",
    "    y_pred = np.where(final_prediction>thres,1,0)\n",
    "    accuracy_ls.append(accuracy_score(y_test, y_pred, normalize=True))\n",
    "    \n",
    "accuracy_ls = pd.concat([pd.Series(thresholds), pd.Series(accuracy_ls)],\n",
    "                        axis=1)\n",
    "accuracy_ls.columns = ['thresholds', 'accuracy']\n",
    "accuracy_ls.sort_values(by='accuracy', ascending=False, inplace=True)\n",
    "accuracy_ls.head()"
   ]
  },
  {
   "cell_type": "code",
   "execution_count": 283,
   "metadata": {},
   "outputs": [],
   "source": [
    "THRESHOLD_VALUE = 0.56"
   ]
  },
  {
   "cell_type": "markdown",
   "metadata": {},
   "source": [
    "## Model Building:"
   ]
  },
  {
   "cell_type": "code",
   "execution_count": 284,
   "metadata": {},
   "outputs": [],
   "source": [
    "def model_fit(alg,train_X,train_Y,test_data,algName):\n",
    "    x_train,x_test,y_train,y_test = train_test_split(train_X, train_Y, test_size=0.3, random_state=1)\n",
    "    #Fit the algorithm on the data\n",
    "    alg.fit(x_train,y_train)\n",
    "    \n",
    "    ### Predict training set:\n",
    "    dtrain_predictions  = alg.predict(x_train);\n",
    "    ## dtrain_predictions = np.where(dtrain_predictions[:,1]>THRESHOLD_VALUE,1,0)\n",
    "    train_accuracy=f1_score(y_train,dtrain_predictions)\n",
    "    print(\" Train Prediction  f1_score :\",train_accuracy)\n",
    "    print(classification_report(y_train,dtrain_predictions))\n",
    "    \n",
    "    ### Predict test set:\n",
    "    dtest_predictions = alg.predict(x_test)\n",
    "    ## dtest_predictions = np.where(dtest_predictions[:,1]>THRESHOLD_VALUE,1,0)\n",
    "    test_accuracy=accuracy_score(y_test,dtest_predictions)\n",
    "    print(\" Test Prediction Accuracy :\",test_accuracy)\n",
    "    print(classification_report(y_test,dtest_predictions))\n",
    "\n",
    "    final_predictions  = alg.predict(test_data);\n",
    "    result = pd.DataFrame(final_predictions,columns= [\"labels\"])\n",
    "    result.to_excel(algName+'.xlsx',index=False)\n",
    "    "
   ]
  },
  {
   "cell_type": "code",
   "execution_count": 285,
   "metadata": {},
   "outputs": [],
   "source": [
    "##std = MinMaxScaler()\n",
    "##X_std = std.fit_transform(x_smk)"
   ]
  },
  {
   "cell_type": "markdown",
   "metadata": {},
   "source": [
    "## Logistic Regression"
   ]
  },
  {
   "cell_type": "code",
   "execution_count": 286,
   "metadata": {},
   "outputs": [
    {
     "name": "stdout",
     "output_type": "stream",
     "text": [
      " Train Prediction  f1_score : 0.8378448174668388\n",
      "              precision    recall  f1-score   support\n",
      "\n",
      "           0       0.85      0.82      0.83     20870\n",
      "           1       0.83      0.85      0.84     20973\n",
      "\n",
      "    accuracy                           0.83     41843\n",
      "   macro avg       0.84      0.83      0.83     41843\n",
      "weighted avg       0.84      0.83      0.83     41843\n",
      "\n",
      " Test Prediction Accuracy : 0.8390118775441923\n",
      "              precision    recall  f1-score   support\n",
      "\n",
      "           0       0.86      0.82      0.84      9018\n",
      "           1       0.82      0.86      0.84      8915\n",
      "\n",
      "    accuracy                           0.84     17933\n",
      "   macro avg       0.84      0.84      0.84     17933\n",
      "weighted avg       0.84      0.84      0.84     17933\n",
      "\n"
     ]
    }
   ],
   "source": [
    "logistic=LogisticRegression()\n",
    "model_fit(logistic,x_smk, y_smk,ch_test,'logistic_submission')"
   ]
  },
  {
   "cell_type": "markdown",
   "metadata": {},
   "source": [
    "## Ridge Regression"
   ]
  },
  {
   "cell_type": "code",
   "execution_count": 287,
   "metadata": {},
   "outputs": [
    {
     "name": "stdout",
     "output_type": "stream",
     "text": [
      " Train Prediction  f1_score : 0.8378448174668388\n",
      "              precision    recall  f1-score   support\n",
      "\n",
      "           0       0.85      0.82      0.83     20870\n",
      "           1       0.83      0.85      0.84     20973\n",
      "\n",
      "    accuracy                           0.83     41843\n",
      "   macro avg       0.84      0.83      0.83     41843\n",
      "weighted avg       0.84      0.83      0.83     41843\n",
      "\n",
      " Test Prediction Accuracy : 0.8390118775441923\n",
      "              precision    recall  f1-score   support\n",
      "\n",
      "           0       0.86      0.82      0.84      9018\n",
      "           1       0.82      0.86      0.84      8915\n",
      "\n",
      "    accuracy                           0.84     17933\n",
      "   macro avg       0.84      0.84      0.84     17933\n",
      "weighted avg       0.84      0.84      0.84     17933\n",
      "\n"
     ]
    }
   ],
   "source": [
    "lasso = LogisticRegression(penalty='l2')\n",
    "model_fit(lasso,x_smk, y_smk,ch_test,'ridge_submission')"
   ]
  },
  {
   "cell_type": "markdown",
   "metadata": {},
   "source": [
    "## Elastic Net"
   ]
  },
  {
   "cell_type": "code",
   "execution_count": 288,
   "metadata": {},
   "outputs": [
    {
     "name": "stdout",
     "output_type": "stream",
     "text": [
      " Train Prediction  f1_score : 0.8400603291087951\n",
      "              precision    recall  f1-score   support\n",
      "\n",
      "           0       0.87      0.77      0.82     20870\n",
      "           1       0.80      0.89      0.84     20973\n",
      "\n",
      "    accuracy                           0.83     41843\n",
      "   macro avg       0.83      0.83      0.83     41843\n",
      "weighted avg       0.83      0.83      0.83     41843\n",
      "\n",
      " Test Prediction Accuracy : 0.8328779345340992\n",
      "              precision    recall  f1-score   support\n",
      "\n",
      "           0       0.89      0.77      0.82      9018\n",
      "           1       0.79      0.90      0.84      8915\n",
      "\n",
      "    accuracy                           0.83     17933\n",
      "   macro avg       0.84      0.83      0.83     17933\n",
      "weighted avg       0.84      0.83      0.83     17933\n",
      "\n"
     ]
    }
   ],
   "source": [
    "elasticnet = SGDClassifier(loss='log')\n",
    "model_fit(elasticnet,x_smk, y_smk,ch_test,'elasticnet_submission')"
   ]
  },
  {
   "cell_type": "markdown",
   "metadata": {},
   "source": [
    "## KNN"
   ]
  },
  {
   "cell_type": "code",
   "execution_count": 289,
   "metadata": {},
   "outputs": [
    {
     "name": "stdout",
     "output_type": "stream",
     "text": [
      " Train Prediction  f1_score : 0.9386604101337784\n",
      "              precision    recall  f1-score   support\n",
      "\n",
      "           0       0.99      0.88      0.93     20870\n",
      "           1       0.89      0.99      0.94     20973\n",
      "\n",
      "    accuracy                           0.94     41843\n",
      "   macro avg       0.94      0.93      0.93     41843\n",
      "weighted avg       0.94      0.94      0.93     41843\n",
      "\n",
      " Test Prediction Accuracy : 0.9122846149556684\n",
      "              precision    recall  f1-score   support\n",
      "\n",
      "           0       0.98      0.84      0.91      9018\n",
      "           1       0.86      0.98      0.92      8915\n",
      "\n",
      "    accuracy                           0.91     17933\n",
      "   macro avg       0.92      0.91      0.91     17933\n",
      "weighted avg       0.92      0.91      0.91     17933\n",
      "\n"
     ]
    }
   ],
   "source": [
    "knn = KNeighborsClassifier()\n",
    "model_fit(knn,x_smk, y_smk,ch_test,'knn_submission')"
   ]
  },
  {
   "cell_type": "markdown",
   "metadata": {},
   "source": [
    "## DecisionTreeClassifier"
   ]
  },
  {
   "cell_type": "code",
   "execution_count": 290,
   "metadata": {},
   "outputs": [
    {
     "name": "stdout",
     "output_type": "stream",
     "text": [
      " Train Prediction  f1_score : 1.0\n",
      "              precision    recall  f1-score   support\n",
      "\n",
      "           0       1.00      1.00      1.00     20870\n",
      "           1       1.00      1.00      1.00     20973\n",
      "\n",
      "    accuracy                           1.00     41843\n",
      "   macro avg       1.00      1.00      1.00     41843\n",
      "weighted avg       1.00      1.00      1.00     41843\n",
      "\n",
      " Test Prediction Accuracy : 0.8960575475380583\n",
      "              precision    recall  f1-score   support\n",
      "\n",
      "           0       0.90      0.89      0.90      9018\n",
      "           1       0.89      0.90      0.90      8915\n",
      "\n",
      "    accuracy                           0.90     17933\n",
      "   macro avg       0.90      0.90      0.90     17933\n",
      "weighted avg       0.90      0.90      0.90     17933\n",
      "\n"
     ]
    }
   ],
   "source": [
    "decision=DecisionTreeClassifier()\n",
    "model_fit(decision,x_smk, y_smk,ch_test,'decision_submission')"
   ]
  },
  {
   "cell_type": "markdown",
   "metadata": {},
   "source": [
    "## Decision Tree - Pruning and Pruning Parameters To avoid Overfitting"
   ]
  },
  {
   "cell_type": "code",
   "execution_count": 291,
   "metadata": {},
   "outputs": [],
   "source": [
    "## Hyper Parameter Optimization\n",
    "params={\n",
    " \"splitter\"    : [\"best\",\"random\"] ,\n",
    " \"max_depth\"        : [ 3, 4, 5, 6, 8, 10, 12, 15],\n",
    " \"min_samples_leaf\" : [ 1,2,3,4,5 ],\n",
    " \"min_weight_fraction_leaf\":[0.1,0.2,0.3,0.4],\n",
    " \"max_features\" : [\"auto\",\"log2\",\"sqrt\",None ],\n",
    " \"max_leaf_nodes\":[None,10,20,30,40,50,60,70],\n",
    " \"criterion\" : [\"gini\", \"entropy\"]    \n",
    "}"
   ]
  },
  {
   "cell_type": "code",
   "execution_count": 292,
   "metadata": {},
   "outputs": [],
   "source": [
    "dtree=DecisionTreeClassifier()"
   ]
  },
  {
   "cell_type": "code",
   "execution_count": 293,
   "metadata": {},
   "outputs": [],
   "source": [
    "random_search=RandomizedSearchCV(dtree,param_distributions=params,n_iter=100,scoring='roc_auc',n_jobs=-1,cv=5,verbose=3)"
   ]
  },
  {
   "cell_type": "code",
   "execution_count": 92,
   "metadata": {
    "scrolled": true
   },
   "outputs": [
    {
     "name": "stdout",
     "output_type": "stream",
     "text": [
      "Fitting 5 folds for each of 100 candidates, totalling 500 fits\n"
     ]
    },
    {
     "name": "stderr",
     "output_type": "stream",
     "text": [
      "[Parallel(n_jobs=-1)]: Using backend LokyBackend with 4 concurrent workers.\n",
      "[Parallel(n_jobs=-1)]: Done  24 tasks      | elapsed:    3.8s\n",
      "[Parallel(n_jobs=-1)]: Done 204 tasks      | elapsed:    7.5s\n",
      "[Parallel(n_jobs=-1)]: Done 500 out of 500 | elapsed:   14.7s finished\n"
     ]
    },
    {
     "data": {
      "text/plain": [
       "RandomizedSearchCV(cv=5, error_score=nan,\n",
       "                   estimator=DecisionTreeClassifier(ccp_alpha=0.0,\n",
       "                                                    class_weight=None,\n",
       "                                                    criterion='gini',\n",
       "                                                    max_depth=None,\n",
       "                                                    max_features=None,\n",
       "                                                    max_leaf_nodes=None,\n",
       "                                                    min_impurity_decrease=0.0,\n",
       "                                                    min_impurity_split=None,\n",
       "                                                    min_samples_leaf=1,\n",
       "                                                    min_samples_split=2,\n",
       "                                                    min_weight_fraction_leaf=0.0,\n",
       "                                                    presort='deprecated',\n",
       "                                                    random_state=None,\n",
       "                                                    splitter='best'),\n",
       "                   i...\n",
       "                   param_distributions={'max_depth': [3, 4, 5, 6, 8, 10, 12,\n",
       "                                                      15],\n",
       "                                        'max_features': ['auto', 'log2', 'sqrt',\n",
       "                                                         None],\n",
       "                                        'max_leaf_nodes': [None, 10, 20, 30, 40,\n",
       "                                                           50, 60, 70],\n",
       "                                        'min_samples_leaf': [1, 2, 3, 4, 5],\n",
       "                                        'min_weight_fraction_leaf': [0.1, 0.2,\n",
       "                                                                     0.3, 0.4],\n",
       "                                        'splitter': ['best', 'random']},\n",
       "                   pre_dispatch='2*n_jobs', random_state=None, refit=True,\n",
       "                   return_train_score=False, scoring='roc_auc', verbose=3)"
      ]
     },
     "execution_count": 92,
     "metadata": {},
     "output_type": "execute_result"
    }
   ],
   "source": [
    "##random_search.fit(x_smk,y_smk)"
   ]
  },
  {
   "cell_type": "code",
   "execution_count": 93,
   "metadata": {},
   "outputs": [
    {
     "data": {
      "text/plain": [
       "DecisionTreeClassifier(ccp_alpha=0.0, class_weight=None, criterion='gini',\n",
       "                       max_depth=8, max_features=None, max_leaf_nodes=50,\n",
       "                       min_impurity_decrease=0.0, min_impurity_split=None,\n",
       "                       min_samples_leaf=2, min_samples_split=2,\n",
       "                       min_weight_fraction_leaf=0.1, presort='deprecated',\n",
       "                       random_state=None, splitter='best')"
      ]
     },
     "execution_count": 93,
     "metadata": {},
     "output_type": "execute_result"
    }
   ],
   "source": [
    "random_search.best_estimator_"
   ]
  },
  {
   "cell_type": "code",
   "execution_count": 294,
   "metadata": {},
   "outputs": [
    {
     "name": "stdout",
     "output_type": "stream",
     "text": [
      " Train Prediction  f1_score : 0.812184301840383\n",
      "              precision    recall  f1-score   support\n",
      "\n",
      "           0       0.86      0.71      0.78     20870\n",
      "           1       0.75      0.88      0.81     20973\n",
      "\n",
      "    accuracy                           0.80     41843\n",
      "   macro avg       0.80      0.80      0.79     41843\n",
      "weighted avg       0.80      0.80      0.79     41843\n",
      "\n",
      " Test Prediction Accuracy : 0.7956281715273518\n",
      "              precision    recall  f1-score   support\n",
      "\n",
      "           0       0.86      0.71      0.78      9018\n",
      "           1       0.75      0.88      0.81      8915\n",
      "\n",
      "    accuracy                           0.80     17933\n",
      "   macro avg       0.81      0.80      0.79     17933\n",
      "weighted avg       0.81      0.80      0.79     17933\n",
      "\n"
     ]
    }
   ],
   "source": [
    "decision=DecisionTreeClassifier(ccp_alpha=0.0, class_weight=None, criterion='gini',\n",
    "                       max_depth=8, max_features=None, max_leaf_nodes=50,\n",
    "                       min_impurity_decrease=0.0, min_impurity_split=None,\n",
    "                       min_samples_leaf=2, min_samples_split=2,\n",
    "                       min_weight_fraction_leaf=0.1, presort='deprecated',\n",
    "                       random_state=None, splitter='best')\n",
    "model_fit(decision,x_smk, y_smk,ch_test,'decision_hovf_submission')"
   ]
  },
  {
   "cell_type": "markdown",
   "metadata": {},
   "source": [
    "## Random Forest"
   ]
  },
  {
   "cell_type": "code",
   "execution_count": 327,
   "metadata": {},
   "outputs": [
    {
     "name": "stdout",
     "output_type": "stream",
     "text": [
      " Train Prediction  f1_score : 1.0\n",
      "              precision    recall  f1-score   support\n",
      "\n",
      "           0       1.00      1.00      1.00     20870\n",
      "           1       1.00      1.00      1.00     20973\n",
      "\n",
      "    accuracy                           1.00     41843\n",
      "   macro avg       1.00      1.00      1.00     41843\n",
      "weighted avg       1.00      1.00      1.00     41843\n",
      "\n",
      " Test Prediction Accuracy : 0.9383259911894273\n",
      "              precision    recall  f1-score   support\n",
      "\n",
      "           0       0.96      0.92      0.94      9018\n",
      "           1       0.92      0.96      0.94      8915\n",
      "\n",
      "    accuracy                           0.94     17933\n",
      "   macro avg       0.94      0.94      0.94     17933\n",
      "weighted avg       0.94      0.94      0.94     17933\n",
      "\n"
     ]
    }
   ],
   "source": [
    "random=RandomForestClassifier()\n",
    "model_fit(random,x_smk, y_smk,ch_test,'random_submission')"
   ]
  },
  {
   "cell_type": "code",
   "execution_count": 296,
   "metadata": {},
   "outputs": [],
   "source": [
    "n_estimators = [int(x) for x in np.linspace(start = 100, stop = 1200, num = 12)]\n",
    "criterion = ['gini','entropy']\n",
    "max_depth = [int(x) for x in np.linspace(5, 30, num = 6)]\n",
    "max_features =[\"auto\",\"sqrt\",\"log2\"]\n",
    "min_samples_leaf = [10,50,100,200,500]"
   ]
  },
  {
   "cell_type": "code",
   "execution_count": 297,
   "metadata": {},
   "outputs": [],
   "source": [
    "# Create the random grid\n",
    "random_grid = {\n",
    "               'criterion': criterion,\n",
    "               'max_depth': max_depth,\n",
    "               'max_features': max_features,\n",
    "              'min_samples_leaf':min_samples_leaf\n",
    "            }"
   ]
  },
  {
   "cell_type": "code",
   "execution_count": 298,
   "metadata": {},
   "outputs": [
    {
     "name": "stdout",
     "output_type": "stream",
     "text": [
      " Train Prediction  f1_score : 0.9541057157545451\n",
      "              precision    recall  f1-score   support\n",
      "\n",
      "           0       0.97      0.93      0.95     20870\n",
      "           1       0.94      0.97      0.95     20973\n",
      "\n",
      "    accuracy                           0.95     41843\n",
      "   macro avg       0.95      0.95      0.95     41843\n",
      "weighted avg       0.95      0.95      0.95     41843\n",
      "\n",
      " Test Prediction Accuracy : 0.9213182401159873\n",
      "              precision    recall  f1-score   support\n",
      "\n",
      "           0       0.95      0.89      0.92      9018\n",
      "           1       0.90      0.95      0.92      8915\n",
      "\n",
      "    accuracy                           0.92     17933\n",
      "   macro avg       0.92      0.92      0.92     17933\n",
      "weighted avg       0.92      0.92      0.92     17933\n",
      "\n"
     ]
    }
   ],
   "source": [
    "random=RandomForestClassifier(bootstrap=True, ccp_alpha=0.0, class_weight=None,\n",
    "                       criterion='entropy', max_depth=30, max_features='log2',\n",
    "                       max_leaf_nodes=None, max_samples=None,\n",
    "                       min_impurity_decrease=0.0, min_impurity_split=None,\n",
    "                       min_samples_leaf=6, min_samples_split=2,\n",
    "                       min_weight_fraction_leaf=0.0, n_estimators=500,\n",
    "                       n_jobs=None, oob_score=False, random_state=None,\n",
    "                       verbose=0, warm_start=False)\n",
    "model_fit(random,x_smk, y_smk,ch_test,'random_submission')"
   ]
  },
  {
   "cell_type": "markdown",
   "metadata": {},
   "source": [
    "## AdaBoosting Classifier"
   ]
  },
  {
   "cell_type": "code",
   "execution_count": 394,
   "metadata": {},
   "outputs": [
    {
     "name": "stdout",
     "output_type": "stream",
     "text": [
      " Train Prediction  f1_score : 0.8797934398010903\n",
      "              precision    recall  f1-score   support\n",
      "\n",
      "           0       0.88      0.88      0.88     20870\n",
      "           1       0.88      0.88      0.88     20973\n",
      "\n",
      "    accuracy                           0.88     41843\n",
      "   macro avg       0.88      0.88      0.88     41843\n",
      "weighted avg       0.88      0.88      0.88     41843\n",
      "\n",
      " Test Prediction Accuracy : 0.8836781352813249\n",
      "              precision    recall  f1-score   support\n",
      "\n",
      "           0       0.88      0.88      0.88      9018\n",
      "           1       0.88      0.88      0.88      8915\n",
      "\n",
      "    accuracy                           0.88     17933\n",
      "   macro avg       0.88      0.88      0.88     17933\n",
      "weighted avg       0.88      0.88      0.88     17933\n",
      "\n"
     ]
    }
   ],
   "source": [
    "ada=AdaBoostClassifier()\n",
    "model_fit(ada,x_smk, y_smk,ch_test,'ada_submission')"
   ]
  },
  {
   "cell_type": "markdown",
   "metadata": {},
   "source": [
    "## XGBClassifier"
   ]
  },
  {
   "cell_type": "code",
   "execution_count": 395,
   "metadata": {},
   "outputs": [
    {
     "name": "stdout",
     "output_type": "stream",
     "text": [
      " Train Prediction  f1_score : 0.9067057427953387\n",
      "              precision    recall  f1-score   support\n",
      "\n",
      "           0       0.93      0.88      0.90     20870\n",
      "           1       0.89      0.93      0.91     20973\n",
      "\n",
      "    accuracy                           0.90     41843\n",
      "   macro avg       0.91      0.90      0.90     41843\n",
      "weighted avg       0.91      0.90      0.90     41843\n",
      "\n",
      " Test Prediction Accuracy : 0.9043104890425473\n",
      "              precision    recall  f1-score   support\n",
      "\n",
      "           0       0.93      0.88      0.90      9018\n",
      "           1       0.88      0.93      0.91      8915\n",
      "\n",
      "    accuracy                           0.90     17933\n",
      "   macro avg       0.91      0.90      0.90     17933\n",
      "weighted avg       0.91      0.90      0.90     17933\n",
      "\n"
     ]
    }
   ],
   "source": [
    "xgb=XGBClassifier()\n",
    "model_fit(xgb,x_smk, y_smk,ch_test,'xgb_submission')"
   ]
  },
  {
   "cell_type": "markdown",
   "metadata": {},
   "source": [
    "## Gradient Boosting"
   ]
  },
  {
   "cell_type": "code",
   "execution_count": 396,
   "metadata": {},
   "outputs": [
    {
     "name": "stdout",
     "output_type": "stream",
     "text": [
      " Train Prediction  f1_score : 0.9076430889942321\n",
      "              precision    recall  f1-score   support\n",
      "\n",
      "           0       0.92      0.88      0.90     20870\n",
      "           1       0.89      0.93      0.91     20973\n",
      "\n",
      "    accuracy                           0.91     41843\n",
      "   macro avg       0.91      0.91      0.91     41843\n",
      "weighted avg       0.91      0.91      0.91     41843\n",
      "\n",
      " Test Prediction Accuracy : 0.9036970947415379\n",
      "              precision    recall  f1-score   support\n",
      "\n",
      "           0       0.93      0.88      0.90      9018\n",
      "           1       0.88      0.93      0.91      8915\n",
      "\n",
      "    accuracy                           0.90     17933\n",
      "   macro avg       0.90      0.90      0.90     17933\n",
      "weighted avg       0.90      0.90      0.90     17933\n",
      "\n"
     ]
    }
   ],
   "source": [
    "gd=GradientBoostingClassifier()\n",
    "model_fit(gd,x_smk, y_smk,ch_test,'gd_submission')"
   ]
  },
  {
   "cell_type": "markdown",
   "metadata": {},
   "source": [
    "## LGBMClassifier"
   ]
  },
  {
   "cell_type": "code",
   "execution_count": 415,
   "metadata": {},
   "outputs": [
    {
     "name": "stdout",
     "output_type": "stream",
     "text": [
      " Train Prediction  f1_score : 0.9492168960607499\n",
      "              precision    recall  f1-score   support\n",
      "\n",
      "           0       0.95      0.94      0.95     20870\n",
      "           1       0.94      0.95      0.95     20973\n",
      "\n",
      "    accuracy                           0.95     41843\n",
      "   macro avg       0.95      0.95      0.95     41843\n",
      "weighted avg       0.95      0.95      0.95     41843\n",
      "\n",
      " Test Prediction Accuracy : 0.941114147103106\n",
      "              precision    recall  f1-score   support\n",
      "\n",
      "           0       0.95      0.94      0.94      9018\n",
      "           1       0.94      0.95      0.94      8915\n",
      "\n",
      "    accuracy                           0.94     17933\n",
      "   macro avg       0.94      0.94      0.94     17933\n",
      "weighted avg       0.94      0.94      0.94     17933\n",
      "\n"
     ]
    }
   ],
   "source": [
    "lgb = LGBMClassifier()\n",
    "model_fit(lgb,x_smk, y_smk,ch_test,'lgb_submission')"
   ]
  },
  {
   "cell_type": "markdown",
   "metadata": {},
   "source": [
    "## Cat Boot Classifier"
   ]
  },
  {
   "cell_type": "code",
   "execution_count": 303,
   "metadata": {},
   "outputs": [],
   "source": [
    "cat = CatBoostClassifier(eval_metric='Accuracy',use_best_model=True,random_seed=42)"
   ]
  },
  {
   "cell_type": "code",
   "execution_count": 304,
   "metadata": {},
   "outputs": [
    {
     "name": "stdout",
     "output_type": "stream",
     "text": [
      "Learning rate set to 0.079698\n",
      "0:\tlearn: 0.8223120\ttest: 0.8228963\tbest: 0.8228963 (0)\ttotal: 177ms\tremaining: 2m 56s\n",
      "1:\tlearn: 0.8425065\ttest: 0.8428038\tbest: 0.8428038 (1)\ttotal: 308ms\tremaining: 2m 33s\n",
      "2:\tlearn: 0.8524245\ttest: 0.8515028\tbest: 0.8515028 (2)\ttotal: 442ms\tremaining: 2m 26s\n",
      "3:\tlearn: 0.8530459\ttest: 0.8535103\tbest: 0.8535103 (3)\ttotal: 552ms\tremaining: 2m 17s\n",
      "4:\tlearn: 0.8582320\ttest: 0.8576925\tbest: 0.8576925 (4)\ttotal: 680ms\tremaining: 2m 15s\n",
      "5:\tlearn: 0.8585665\ttest: 0.8588078\tbest: 0.8588078 (5)\ttotal: 781ms\tremaining: 2m 9s\n",
      "6:\tlearn: 0.8593313\ttest: 0.8591424\tbest: 0.8591424 (6)\ttotal: 886ms\tremaining: 2m 5s\n",
      "7:\tlearn: 0.8724757\ttest: 0.8715218\tbest: 0.8715218 (7)\ttotal: 1s\tremaining: 2m 4s\n",
      "8:\tlearn: 0.8738618\ttest: 0.8736408\tbest: 0.8736408 (8)\ttotal: 1.13s\tremaining: 2m 4s\n",
      "9:\tlearn: 0.8752957\ttest: 0.8736965\tbest: 0.8736965 (9)\ttotal: 1.24s\tremaining: 2m 2s\n",
      "10:\tlearn: 0.8770165\ttest: 0.8753137\tbest: 0.8753137 (10)\ttotal: 1.35s\tremaining: 2m 1s\n",
      "11:\tlearn: 0.8788328\ttest: 0.8776557\tbest: 0.8776557 (11)\ttotal: 1.48s\tremaining: 2m 1s\n",
      "12:\tlearn: 0.8794303\ttest: 0.8793844\tbest: 0.8793844 (12)\ttotal: 1.62s\tremaining: 2m 3s\n",
      "13:\tlearn: 0.8800038\ttest: 0.8801651\tbest: 0.8801651 (13)\ttotal: 1.73s\tremaining: 2m 1s\n",
      "14:\tlearn: 0.8822742\ttest: 0.8823398\tbest: 0.8823398 (14)\ttotal: 1.84s\tremaining: 2m\n",
      "15:\tlearn: 0.8825610\ttest: 0.8820610\tbest: 0.8823398 (14)\ttotal: 1.95s\tremaining: 2m\n",
      "16:\tlearn: 0.8839710\ttest: 0.8844031\tbest: 0.8844031 (16)\ttotal: 2.1s\tremaining: 2m 1s\n",
      "17:\tlearn: 0.8843773\ttest: 0.8856856\tbest: 0.8856856 (17)\ttotal: 2.19s\tremaining: 1m 59s\n",
      "18:\tlearn: 0.8852616\ttest: 0.8868566\tbest: 0.8868566 (18)\ttotal: 2.33s\tremaining: 2m\n",
      "19:\tlearn: 0.8882967\ttest: 0.8894217\tbest: 0.8894217 (19)\ttotal: 2.45s\tremaining: 2m\n",
      "20:\tlearn: 0.8888225\ttest: 0.8898678\tbest: 0.8898678 (20)\ttotal: 2.59s\tremaining: 2m\n",
      "21:\tlearn: 0.8894917\ttest: 0.8912619\tbest: 0.8912619 (21)\ttotal: 2.69s\tremaining: 1m 59s\n",
      "22:\tlearn: 0.8897307\ttest: 0.8914292\tbest: 0.8914292 (22)\ttotal: 2.79s\tremaining: 1m 58s\n",
      "23:\tlearn: 0.8912124\ttest: 0.8928233\tbest: 0.8928233 (23)\ttotal: 2.9s\tremaining: 1m 57s\n",
      "24:\tlearn: 0.8918577\ttest: 0.8939943\tbest: 0.8939943 (24)\ttotal: 2.99s\tremaining: 1m 56s\n",
      "25:\tlearn: 0.8917382\ttest: 0.8938270\tbest: 0.8939943 (24)\ttotal: 3.09s\tremaining: 1m 55s\n",
      "26:\tlearn: 0.8919772\ttest: 0.8938828\tbest: 0.8939943 (24)\ttotal: 3.19s\tremaining: 1m 54s\n",
      "27:\tlearn: 0.8933155\ttest: 0.8952769\tbest: 0.8952769 (27)\ttotal: 3.29s\tremaining: 1m 54s\n",
      "28:\tlearn: 0.8938174\ttest: 0.8953326\tbest: 0.8953326 (28)\ttotal: 3.42s\tremaining: 1m 54s\n",
      "29:\tlearn: 0.8940086\ttest: 0.8962248\tbest: 0.8962248 (29)\ttotal: 3.54s\tremaining: 1m 54s\n",
      "30:\tlearn: 0.8945343\ttest: 0.8966709\tbest: 0.8966709 (30)\ttotal: 3.65s\tremaining: 1m 54s\n",
      "31:\tlearn: 0.8969959\ttest: 0.8982881\tbest: 0.8982881 (31)\ttotal: 3.78s\tremaining: 1m 54s\n",
      "32:\tlearn: 0.8972349\ttest: 0.8980650\tbest: 0.8982881 (31)\ttotal: 3.89s\tremaining: 1m 53s\n",
      "33:\tlearn: 0.8973066\ttest: 0.8978977\tbest: 0.8982881 (31)\ttotal: 4s\tremaining: 1m 53s\n",
      "34:\tlearn: 0.8977846\ttest: 0.8989572\tbest: 0.8989572 (34)\ttotal: 4.13s\tremaining: 1m 53s\n",
      "35:\tlearn: 0.8980475\ttest: 0.8990130\tbest: 0.8990130 (35)\ttotal: 4.23s\tremaining: 1m 53s\n",
      "36:\tlearn: 0.8984298\ttest: 0.8996264\tbest: 0.8996264 (36)\ttotal: 4.33s\tremaining: 1m 52s\n",
      "37:\tlearn: 0.8989317\ttest: 0.9005186\tbest: 0.9005186 (37)\ttotal: 4.44s\tremaining: 1m 52s\n",
      "38:\tlearn: 0.8991468\ttest: 0.9005744\tbest: 0.9005744 (38)\ttotal: 4.55s\tremaining: 1m 52s\n",
      "39:\tlearn: 0.8993858\ttest: 0.9012435\tbest: 0.9012435 (39)\ttotal: 4.65s\tremaining: 1m 51s\n",
      "40:\tlearn: 0.8999594\ttest: 0.9020800\tbest: 0.9020800 (40)\ttotal: 4.76s\tremaining: 1m 51s\n",
      "41:\tlearn: 0.9004851\ttest: 0.9021915\tbest: 0.9021915 (41)\ttotal: 4.84s\tremaining: 1m 50s\n",
      "42:\tlearn: 0.9010348\ttest: 0.9026934\tbest: 0.9026934 (42)\ttotal: 4.95s\tremaining: 1m 50s\n",
      "43:\tlearn: 0.9021342\ttest: 0.9036971\tbest: 0.9036971 (43)\ttotal: 5.07s\tremaining: 1m 50s\n",
      "44:\tlearn: 0.9028033\ttest: 0.9041990\tbest: 0.9041990 (44)\ttotal: 5.17s\tremaining: 1m 49s\n",
      "45:\tlearn: 0.9041178\ttest: 0.9058719\tbest: 0.9058719 (45)\ttotal: 5.26s\tremaining: 1m 49s\n",
      "46:\tlearn: 0.9042851\ttest: 0.9058719\tbest: 0.9058719 (45)\ttotal: 5.36s\tremaining: 1m 48s\n",
      "47:\tlearn: 0.9044524\ttest: 0.9068198\tbest: 0.9068198 (47)\ttotal: 5.47s\tremaining: 1m 48s\n",
      "48:\tlearn: 0.9055517\ttest: 0.9070986\tbest: 0.9070986 (48)\ttotal: 5.59s\tremaining: 1m 48s\n",
      "49:\tlearn: 0.9061731\ttest: 0.9082139\tbest: 0.9082139 (49)\ttotal: 5.68s\tremaining: 1m 47s\n",
      "50:\tlearn: 0.9069378\ttest: 0.9082697\tbest: 0.9082697 (50)\ttotal: 5.79s\tremaining: 1m 47s\n",
      "51:\tlearn: 0.9074158\ttest: 0.9083254\tbest: 0.9083254 (51)\ttotal: 5.9s\tremaining: 1m 47s\n",
      "52:\tlearn: 0.9081806\ttest: 0.9089388\tbest: 0.9089388 (52)\ttotal: 6.01s\tremaining: 1m 47s\n",
      "53:\tlearn: 0.9084674\ttest: 0.9092176\tbest: 0.9092176 (53)\ttotal: 6.12s\tremaining: 1m 47s\n",
      "54:\tlearn: 0.9083957\ttest: 0.9094407\tbest: 0.9094407 (54)\ttotal: 6.24s\tremaining: 1m 47s\n",
      "55:\tlearn: 0.9084674\ttest: 0.9094407\tbest: 0.9094407 (54)\ttotal: 6.34s\tremaining: 1m 46s\n",
      "56:\tlearn: 0.9088736\ttest: 0.9099426\tbest: 0.9099426 (56)\ttotal: 6.43s\tremaining: 1m 46s\n",
      "57:\tlearn: 0.9090170\ttest: 0.9104444\tbest: 0.9104444 (57)\ttotal: 6.56s\tremaining: 1m 46s\n",
      "58:\tlearn: 0.9096623\ttest: 0.9106117\tbest: 0.9106117 (58)\ttotal: 6.66s\tremaining: 1m 46s\n",
      "59:\tlearn: 0.9098296\ttest: 0.9105002\tbest: 0.9106117 (58)\ttotal: 6.76s\tremaining: 1m 45s\n",
      "60:\tlearn: 0.9098535\ttest: 0.9107232\tbest: 0.9107232 (60)\ttotal: 6.87s\tremaining: 1m 45s\n",
      "61:\tlearn: 0.9107378\ttest: 0.9112809\tbest: 0.9112809 (61)\ttotal: 6.95s\tremaining: 1m 45s\n",
      "62:\tlearn: 0.9107617\ttest: 0.9115039\tbest: 0.9115039 (62)\ttotal: 7.04s\tremaining: 1m 44s\n",
      "63:\tlearn: 0.9117415\ttest: 0.9120058\tbest: 0.9120058 (63)\ttotal: 7.16s\tremaining: 1m 44s\n",
      "64:\tlearn: 0.9118132\ttest: 0.9125077\tbest: 0.9125077 (64)\ttotal: 7.29s\tremaining: 1m 44s\n",
      "65:\tlearn: 0.9119566\ttest: 0.9125634\tbest: 0.9125634 (65)\ttotal: 7.4s\tremaining: 1m 44s\n",
      "66:\tlearn: 0.9124585\ttest: 0.9131211\tbest: 0.9131211 (66)\ttotal: 7.52s\tremaining: 1m 44s\n",
      "67:\tlearn: 0.9127214\ttest: 0.9134556\tbest: 0.9134556 (67)\ttotal: 7.66s\tremaining: 1m 44s\n",
      "68:\tlearn: 0.9134861\ttest: 0.9139017\tbest: 0.9139017 (68)\ttotal: 7.81s\tremaining: 1m 45s\n",
      "69:\tlearn: 0.9135100\ttest: 0.9140133\tbest: 0.9140133 (69)\ttotal: 7.93s\tremaining: 1m 45s\n",
      "70:\tlearn: 0.9133905\ttest: 0.9142921\tbest: 0.9142921 (70)\ttotal: 8.03s\tremaining: 1m 45s\n",
      "71:\tlearn: 0.9137968\ttest: 0.9146267\tbest: 0.9146267 (71)\ttotal: 8.13s\tremaining: 1m 44s\n",
      "72:\tlearn: 0.9139880\ttest: 0.9145709\tbest: 0.9146267 (71)\ttotal: 8.24s\tremaining: 1m 44s\n",
      "73:\tlearn: 0.9141553\ttest: 0.9149055\tbest: 0.9149055 (73)\ttotal: 8.37s\tremaining: 1m 44s\n",
      "74:\tlearn: 0.9147767\ttest: 0.9153516\tbest: 0.9153516 (74)\ttotal: 8.46s\tremaining: 1m 44s\n",
      "75:\tlearn: 0.9151829\ttest: 0.9156304\tbest: 0.9156304 (75)\ttotal: 8.58s\tremaining: 1m 44s\n",
      "76:\tlearn: 0.9153980\ttest: 0.9156304\tbest: 0.9156304 (75)\ttotal: 8.72s\tremaining: 1m 44s\n",
      "77:\tlearn: 0.9155653\ttest: 0.9151285\tbest: 0.9156304 (75)\ttotal: 8.84s\tremaining: 1m 44s\n",
      "78:\tlearn: 0.9161867\ttest: 0.9159650\tbest: 0.9159650 (78)\ttotal: 8.95s\tremaining: 1m 44s\n",
      "79:\tlearn: 0.9162106\ttest: 0.9162438\tbest: 0.9162438 (79)\ttotal: 9.06s\tremaining: 1m 44s\n",
      "80:\tlearn: 0.9169037\ttest: 0.9170245\tbest: 0.9170245 (80)\ttotal: 9.16s\tremaining: 1m 43s\n",
      "81:\tlearn: 0.9169276\ttest: 0.9172475\tbest: 0.9172475 (81)\ttotal: 9.26s\tremaining: 1m 43s\n",
      "82:\tlearn: 0.9173577\ttest: 0.9175821\tbest: 0.9175821 (82)\ttotal: 9.36s\tremaining: 1m 43s\n",
      "83:\tlearn: 0.9179313\ttest: 0.9173591\tbest: 0.9175821 (82)\ttotal: 9.46s\tremaining: 1m 43s\n",
      "84:\tlearn: 0.9178835\ttest: 0.9174706\tbest: 0.9175821 (82)\ttotal: 9.57s\tremaining: 1m 43s\n",
      "85:\tlearn: 0.9178835\ttest: 0.9174148\tbest: 0.9175821 (82)\ttotal: 9.67s\tremaining: 1m 42s\n",
      "86:\tlearn: 0.9182181\ttest: 0.9182513\tbest: 0.9182513 (86)\ttotal: 9.76s\tremaining: 1m 42s\n",
      "87:\tlearn: 0.9186244\ttest: 0.9189204\tbest: 0.9189204 (87)\ttotal: 9.92s\tremaining: 1m 42s\n",
      "88:\tlearn: 0.9189590\ttest: 0.9189204\tbest: 0.9189204 (87)\ttotal: 10s\tremaining: 1m 42s\n",
      "89:\tlearn: 0.9194847\ttest: 0.9194781\tbest: 0.9194781 (89)\ttotal: 10.2s\tremaining: 1m 42s\n",
      "90:\tlearn: 0.9196281\ttest: 0.9193108\tbest: 0.9194781 (89)\ttotal: 10.3s\tremaining: 1m 42s\n",
      "91:\tlearn: 0.9199149\ttest: 0.9197011\tbest: 0.9197011 (91)\ttotal: 10.4s\tremaining: 1m 42s\n",
      "92:\tlearn: 0.9201778\ttest: 0.9199242\tbest: 0.9199242 (92)\ttotal: 10.5s\tremaining: 1m 42s\n"
     ]
    },
    {
     "name": "stdout",
     "output_type": "stream",
     "text": [
      "93:\tlearn: 0.9201539\ttest: 0.9200357\tbest: 0.9200357 (93)\ttotal: 10.6s\tremaining: 1m 42s\n",
      "94:\tlearn: 0.9205841\ttest: 0.9201472\tbest: 0.9201472 (94)\ttotal: 10.7s\tremaining: 1m 42s\n",
      "95:\tlearn: 0.9208948\ttest: 0.9199799\tbest: 0.9201472 (94)\ttotal: 10.8s\tremaining: 1m 41s\n",
      "96:\tlearn: 0.9207514\ttest: 0.9200915\tbest: 0.9201472 (94)\ttotal: 10.9s\tremaining: 1m 41s\n",
      "97:\tlearn: 0.9208948\ttest: 0.9204260\tbest: 0.9204260 (97)\ttotal: 11s\tremaining: 1m 41s\n",
      "98:\tlearn: 0.9211338\ttest: 0.9203703\tbest: 0.9204260 (97)\ttotal: 11.1s\tremaining: 1m 41s\n",
      "99:\tlearn: 0.9211816\ttest: 0.9203703\tbest: 0.9204260 (97)\ttotal: 11.2s\tremaining: 1m 40s\n",
      "100:\tlearn: 0.9212533\ttest: 0.9204818\tbest: 0.9204818 (100)\ttotal: 11.3s\tremaining: 1m 40s\n",
      "101:\tlearn: 0.9215161\ttest: 0.9207048\tbest: 0.9207048 (101)\ttotal: 11.4s\tremaining: 1m 40s\n",
      "102:\tlearn: 0.9213966\ttest: 0.9209279\tbest: 0.9209279 (102)\ttotal: 11.5s\tremaining: 1m 40s\n",
      "103:\tlearn: 0.9215400\ttest: 0.9213740\tbest: 0.9213740 (103)\ttotal: 11.6s\tremaining: 1m 40s\n",
      "104:\tlearn: 0.9217073\ttest: 0.9211510\tbest: 0.9213740 (103)\ttotal: 11.7s\tremaining: 1m 39s\n",
      "105:\tlearn: 0.9218985\ttest: 0.9214298\tbest: 0.9214298 (105)\ttotal: 11.8s\tremaining: 1m 39s\n",
      "106:\tlearn: 0.9223526\ttest: 0.9215413\tbest: 0.9215413 (106)\ttotal: 12s\tremaining: 1m 39s\n",
      "107:\tlearn: 0.9226394\ttest: 0.9218759\tbest: 0.9218759 (107)\ttotal: 12.1s\tremaining: 1m 39s\n",
      "108:\tlearn: 0.9235714\ttest: 0.9228238\tbest: 0.9228238 (108)\ttotal: 12.2s\tremaining: 1m 39s\n",
      "109:\tlearn: 0.9234281\ttest: 0.9229911\tbest: 0.9229911 (109)\ttotal: 12.3s\tremaining: 1m 39s\n",
      "110:\tlearn: 0.9236192\ttest: 0.9232699\tbest: 0.9232699 (110)\ttotal: 12.4s\tremaining: 1m 39s\n",
      "111:\tlearn: 0.9238343\ttest: 0.9233815\tbest: 0.9233815 (111)\ttotal: 12.5s\tremaining: 1m 38s\n",
      "112:\tlearn: 0.9237387\ttest: 0.9230469\tbest: 0.9233815 (111)\ttotal: 12.6s\tremaining: 1m 38s\n",
      "113:\tlearn: 0.9240494\ttest: 0.9234372\tbest: 0.9234372 (113)\ttotal: 12.7s\tremaining: 1m 38s\n",
      "114:\tlearn: 0.9240733\ttest: 0.9231584\tbest: 0.9234372 (113)\ttotal: 12.8s\tremaining: 1m 38s\n",
      "115:\tlearn: 0.9245513\ttest: 0.9235488\tbest: 0.9235488 (115)\ttotal: 12.9s\tremaining: 1m 38s\n",
      "116:\tlearn: 0.9253161\ttest: 0.9242737\tbest: 0.9242737 (116)\ttotal: 13s\tremaining: 1m 38s\n",
      "117:\tlearn: 0.9253161\ttest: 0.9245525\tbest: 0.9245525 (117)\ttotal: 13.1s\tremaining: 1m 38s\n",
      "118:\tlearn: 0.9253878\ttest: 0.9246640\tbest: 0.9246640 (118)\ttotal: 13.2s\tremaining: 1m 37s\n",
      "119:\tlearn: 0.9256984\ttest: 0.9247756\tbest: 0.9247756 (119)\ttotal: 13.4s\tremaining: 1m 37s\n",
      "120:\tlearn: 0.9258896\ttest: 0.9249986\tbest: 0.9249986 (120)\ttotal: 13.5s\tremaining: 1m 37s\n",
      "121:\tlearn: 0.9260808\ttest: 0.9247756\tbest: 0.9249986 (120)\ttotal: 13.6s\tremaining: 1m 37s\n",
      "122:\tlearn: 0.9264871\ttest: 0.9246640\tbest: 0.9249986 (120)\ttotal: 13.7s\tremaining: 1m 37s\n",
      "123:\tlearn: 0.9265110\ttest: 0.9246083\tbest: 0.9249986 (120)\ttotal: 13.8s\tremaining: 1m 37s\n",
      "124:\tlearn: 0.9270607\ttest: 0.9252774\tbest: 0.9252774 (124)\ttotal: 13.9s\tremaining: 1m 37s\n",
      "125:\tlearn: 0.9272041\ttest: 0.9255562\tbest: 0.9255562 (125)\ttotal: 14s\tremaining: 1m 37s\n",
      "126:\tlearn: 0.9275148\ttest: 0.9255562\tbest: 0.9255562 (125)\ttotal: 14.2s\tremaining: 1m 37s\n",
      "127:\tlearn: 0.9277776\ttest: 0.9260023\tbest: 0.9260023 (127)\ttotal: 14.3s\tremaining: 1m 37s\n",
      "128:\tlearn: 0.9281122\ttest: 0.9256678\tbest: 0.9260023 (127)\ttotal: 14.4s\tremaining: 1m 37s\n",
      "129:\tlearn: 0.9282317\ttest: 0.9260581\tbest: 0.9260581 (129)\ttotal: 14.6s\tremaining: 1m 37s\n",
      "130:\tlearn: 0.9284946\ttest: 0.9262254\tbest: 0.9262254 (130)\ttotal: 14.8s\tremaining: 1m 37s\n",
      "131:\tlearn: 0.9286619\ttest: 0.9261696\tbest: 0.9262254 (130)\ttotal: 14.9s\tremaining: 1m 38s\n",
      "132:\tlearn: 0.9290682\ttest: 0.9261696\tbest: 0.9262254 (130)\ttotal: 15.1s\tremaining: 1m 38s\n",
      "133:\tlearn: 0.9293789\ttest: 0.9265042\tbest: 0.9265042 (133)\ttotal: 15.2s\tremaining: 1m 38s\n",
      "134:\tlearn: 0.9294506\ttest: 0.9265042\tbest: 0.9265042 (133)\ttotal: 15.4s\tremaining: 1m 38s\n",
      "135:\tlearn: 0.9293550\ttest: 0.9268946\tbest: 0.9268946 (135)\ttotal: 15.5s\tremaining: 1m 38s\n",
      "136:\tlearn: 0.9297135\ttest: 0.9269503\tbest: 0.9269503 (136)\ttotal: 15.6s\tremaining: 1m 38s\n",
      "137:\tlearn: 0.9300719\ttest: 0.9271176\tbest: 0.9271176 (137)\ttotal: 15.8s\tremaining: 1m 38s\n",
      "138:\tlearn: 0.9301197\ttest: 0.9270061\tbest: 0.9271176 (137)\ttotal: 15.9s\tremaining: 1m 38s\n",
      "139:\tlearn: 0.9304782\ttest: 0.9277310\tbest: 0.9277310 (139)\ttotal: 16s\tremaining: 1m 38s\n",
      "140:\tlearn: 0.9304782\ttest: 0.9274522\tbest: 0.9277310 (139)\ttotal: 16.1s\tremaining: 1m 38s\n",
      "141:\tlearn: 0.9305499\ttest: 0.9275637\tbest: 0.9277310 (139)\ttotal: 16.3s\tremaining: 1m 38s\n",
      "142:\tlearn: 0.9305499\ttest: 0.9278425\tbest: 0.9278425 (142)\ttotal: 16.4s\tremaining: 1m 38s\n",
      "143:\tlearn: 0.9309084\ttest: 0.9279541\tbest: 0.9279541 (143)\ttotal: 16.5s\tremaining: 1m 38s\n",
      "144:\tlearn: 0.9310757\ttest: 0.9280656\tbest: 0.9280656 (144)\ttotal: 16.6s\tremaining: 1m 38s\n",
      "145:\tlearn: 0.9314581\ttest: 0.9281771\tbest: 0.9281771 (145)\ttotal: 16.8s\tremaining: 1m 38s\n",
      "146:\tlearn: 0.9316493\ttest: 0.9283444\tbest: 0.9283444 (146)\ttotal: 16.9s\tremaining: 1m 37s\n",
      "147:\tlearn: 0.9320555\ttest: 0.9285674\tbest: 0.9285674 (147)\ttotal: 17s\tremaining: 1m 37s\n",
      "148:\tlearn: 0.9325574\ttest: 0.9291251\tbest: 0.9291251 (148)\ttotal: 17.1s\tremaining: 1m 37s\n",
      "149:\tlearn: 0.9330593\ttest: 0.9291251\tbest: 0.9291251 (148)\ttotal: 17.2s\tremaining: 1m 37s\n",
      "150:\tlearn: 0.9334417\ttest: 0.9293481\tbest: 0.9293481 (150)\ttotal: 17.3s\tremaining: 1m 37s\n",
      "151:\tlearn: 0.9335851\ttest: 0.9295154\tbest: 0.9295154 (151)\ttotal: 17.4s\tremaining: 1m 37s\n",
      "152:\tlearn: 0.9336090\ttest: 0.9298500\tbest: 0.9298500 (152)\ttotal: 17.5s\tremaining: 1m 37s\n",
      "153:\tlearn: 0.9338480\ttest: 0.9300730\tbest: 0.9300730 (153)\ttotal: 17.7s\tremaining: 1m 37s\n",
      "154:\tlearn: 0.9340630\ttest: 0.9303519\tbest: 0.9303519 (154)\ttotal: 17.8s\tremaining: 1m 36s\n",
      "155:\tlearn: 0.9343976\ttest: 0.9304634\tbest: 0.9304634 (155)\ttotal: 17.9s\tremaining: 1m 36s\n",
      "156:\tlearn: 0.9346844\ttest: 0.9307422\tbest: 0.9307422 (156)\ttotal: 18s\tremaining: 1m 36s\n",
      "157:\tlearn: 0.9347561\ttest: 0.9306864\tbest: 0.9307422 (156)\ttotal: 18.1s\tremaining: 1m 36s\n",
      "158:\tlearn: 0.9351146\ttest: 0.9309095\tbest: 0.9309095 (158)\ttotal: 18.2s\tremaining: 1m 36s\n",
      "159:\tlearn: 0.9353536\ttest: 0.9312998\tbest: 0.9312998 (159)\ttotal: 18.3s\tremaining: 1m 36s\n",
      "160:\tlearn: 0.9354970\ttest: 0.9311325\tbest: 0.9312998 (159)\ttotal: 18.5s\tremaining: 1m 36s\n",
      "161:\tlearn: 0.9355448\ttest: 0.9312998\tbest: 0.9312998 (159)\ttotal: 18.6s\tremaining: 1m 36s\n",
      "162:\tlearn: 0.9358555\ttest: 0.9314671\tbest: 0.9314671 (162)\ttotal: 18.7s\tremaining: 1m 36s\n",
      "163:\tlearn: 0.9359750\ttest: 0.9313556\tbest: 0.9314671 (162)\ttotal: 18.9s\tremaining: 1m 36s\n",
      "164:\tlearn: 0.9360705\ttest: 0.9316344\tbest: 0.9316344 (164)\ttotal: 19s\tremaining: 1m 36s\n",
      "165:\tlearn: 0.9364051\ttest: 0.9318575\tbest: 0.9318575 (165)\ttotal: 19.2s\tremaining: 1m 36s\n",
      "166:\tlearn: 0.9364768\ttest: 0.9323593\tbest: 0.9323593 (166)\ttotal: 19.3s\tremaining: 1m 36s\n",
      "167:\tlearn: 0.9372894\ttest: 0.9325824\tbest: 0.9325824 (167)\ttotal: 19.4s\tremaining: 1m 35s\n",
      "168:\tlearn: 0.9376957\ttest: 0.9332515\tbest: 0.9332515 (168)\ttotal: 19.5s\tremaining: 1m 35s\n",
      "169:\tlearn: 0.9378630\ttest: 0.9333631\tbest: 0.9333631 (169)\ttotal: 19.6s\tremaining: 1m 35s\n",
      "170:\tlearn: 0.9379825\ttest: 0.9334188\tbest: 0.9334188 (170)\ttotal: 19.7s\tremaining: 1m 35s\n",
      "171:\tlearn: 0.9381736\ttest: 0.9333631\tbest: 0.9334188 (170)\ttotal: 19.8s\tremaining: 1m 35s\n",
      "172:\tlearn: 0.9381259\ttest: 0.9334188\tbest: 0.9334188 (170)\ttotal: 19.9s\tremaining: 1m 35s\n",
      "173:\tlearn: 0.9382692\ttest: 0.9338649\tbest: 0.9338649 (173)\ttotal: 20.1s\tremaining: 1m 35s\n",
      "174:\tlearn: 0.9383887\ttest: 0.9339207\tbest: 0.9339207 (174)\ttotal: 20.2s\tremaining: 1m 35s\n",
      "175:\tlearn: 0.9384843\ttest: 0.9338649\tbest: 0.9339207 (174)\ttotal: 20.3s\tremaining: 1m 35s\n",
      "176:\tlearn: 0.9386516\ttest: 0.9340880\tbest: 0.9340880 (176)\ttotal: 20.4s\tremaining: 1m 34s\n",
      "177:\tlearn: 0.9389384\ttest: 0.9344226\tbest: 0.9344226 (177)\ttotal: 20.5s\tremaining: 1m 34s\n",
      "178:\tlearn: 0.9394403\ttest: 0.9345899\tbest: 0.9345899 (178)\ttotal: 20.6s\tremaining: 1m 34s\n",
      "179:\tlearn: 0.9395837\ttest: 0.9345899\tbest: 0.9345899 (178)\ttotal: 20.7s\tremaining: 1m 34s\n",
      "180:\tlearn: 0.9397749\ttest: 0.9348687\tbest: 0.9348687 (180)\ttotal: 20.8s\tremaining: 1m 34s\n",
      "181:\tlearn: 0.9398944\ttest: 0.9352033\tbest: 0.9352033 (181)\ttotal: 21s\tremaining: 1m 34s\n",
      "182:\tlearn: 0.9400856\ttest: 0.9351475\tbest: 0.9352033 (181)\ttotal: 21.1s\tremaining: 1m 34s\n",
      "183:\tlearn: 0.9400617\ttest: 0.9350917\tbest: 0.9352033 (181)\ttotal: 21.2s\tremaining: 1m 33s\n",
      "184:\tlearn: 0.9402528\ttest: 0.9348687\tbest: 0.9352033 (181)\ttotal: 21.3s\tremaining: 1m 33s\n"
     ]
    },
    {
     "name": "stdout",
     "output_type": "stream",
     "text": [
      "185:\tlearn: 0.9401573\ttest: 0.9350917\tbest: 0.9352033 (181)\ttotal: 21.4s\tremaining: 1m 33s\n",
      "186:\tlearn: 0.9403962\ttest: 0.9352590\tbest: 0.9352590 (186)\ttotal: 21.5s\tremaining: 1m 33s\n",
      "187:\tlearn: 0.9405396\ttest: 0.9353148\tbest: 0.9353148 (187)\ttotal: 21.6s\tremaining: 1m 33s\n",
      "188:\tlearn: 0.9406830\ttest: 0.9351475\tbest: 0.9353148 (187)\ttotal: 21.7s\tremaining: 1m 33s\n",
      "189:\tlearn: 0.9409459\ttest: 0.9354821\tbest: 0.9354821 (189)\ttotal: 21.9s\tremaining: 1m 33s\n",
      "190:\tlearn: 0.9409698\ttest: 0.9357051\tbest: 0.9357051 (190)\ttotal: 22s\tremaining: 1m 33s\n",
      "191:\tlearn: 0.9412327\ttest: 0.9357609\tbest: 0.9357609 (191)\ttotal: 22.1s\tremaining: 1m 32s\n",
      "192:\tlearn: 0.9412805\ttest: 0.9358167\tbest: 0.9358167 (192)\ttotal: 22.2s\tremaining: 1m 32s\n",
      "193:\tlearn: 0.9419258\ttest: 0.9358724\tbest: 0.9358724 (193)\ttotal: 22.3s\tremaining: 1m 32s\n",
      "194:\tlearn: 0.9417824\ttest: 0.9358724\tbest: 0.9358724 (193)\ttotal: 22.4s\tremaining: 1m 32s\n",
      "195:\tlearn: 0.9417585\ttest: 0.9357051\tbest: 0.9358724 (193)\ttotal: 22.6s\tremaining: 1m 32s\n",
      "196:\tlearn: 0.9418541\ttest: 0.9358167\tbest: 0.9358724 (193)\ttotal: 22.6s\tremaining: 1m 32s\n",
      "197:\tlearn: 0.9418302\ttest: 0.9357051\tbest: 0.9358724 (193)\ttotal: 22.8s\tremaining: 1m 32s\n",
      "198:\tlearn: 0.9418541\ttest: 0.9357609\tbest: 0.9358724 (193)\ttotal: 22.9s\tremaining: 1m 32s\n",
      "199:\tlearn: 0.9418302\ttest: 0.9357051\tbest: 0.9358724 (193)\ttotal: 23s\tremaining: 1m 31s\n",
      "200:\tlearn: 0.9417824\ttest: 0.9358724\tbest: 0.9358724 (193)\ttotal: 23.1s\tremaining: 1m 31s\n",
      "201:\tlearn: 0.9418541\ttest: 0.9357609\tbest: 0.9358724 (193)\ttotal: 23.2s\tremaining: 1m 31s\n",
      "202:\tlearn: 0.9420692\ttest: 0.9357609\tbest: 0.9358724 (193)\ttotal: 23.3s\tremaining: 1m 31s\n",
      "203:\tlearn: 0.9423082\ttest: 0.9360397\tbest: 0.9360397 (203)\ttotal: 23.4s\tremaining: 1m 31s\n",
      "204:\tlearn: 0.9422604\ttest: 0.9356494\tbest: 0.9360397 (203)\ttotal: 23.6s\tremaining: 1m 31s\n",
      "205:\tlearn: 0.9425232\ttest: 0.9359282\tbest: 0.9360397 (203)\ttotal: 23.7s\tremaining: 1m 31s\n",
      "206:\tlearn: 0.9424754\ttest: 0.9360397\tbest: 0.9360397 (203)\ttotal: 23.8s\tremaining: 1m 31s\n",
      "207:\tlearn: 0.9426427\ttest: 0.9358724\tbest: 0.9360397 (203)\ttotal: 23.9s\tremaining: 1m 31s\n",
      "208:\tlearn: 0.9428578\ttest: 0.9358724\tbest: 0.9360397 (203)\ttotal: 24s\tremaining: 1m 30s\n",
      "209:\tlearn: 0.9430251\ttest: 0.9357609\tbest: 0.9360397 (203)\ttotal: 24.2s\tremaining: 1m 30s\n",
      "210:\tlearn: 0.9429295\ttest: 0.9358724\tbest: 0.9360397 (203)\ttotal: 24.2s\tremaining: 1m 30s\n",
      "211:\tlearn: 0.9429773\ttest: 0.9357609\tbest: 0.9360397 (203)\ttotal: 24.3s\tremaining: 1m 30s\n",
      "212:\tlearn: 0.9430012\ttest: 0.9358167\tbest: 0.9360397 (203)\ttotal: 24.5s\tremaining: 1m 30s\n",
      "213:\tlearn: 0.9431207\ttest: 0.9357051\tbest: 0.9360397 (203)\ttotal: 24.6s\tremaining: 1m 30s\n",
      "214:\tlearn: 0.9432641\ttest: 0.9355936\tbest: 0.9360397 (203)\ttotal: 24.7s\tremaining: 1m 30s\n",
      "215:\tlearn: 0.9433358\ttest: 0.9355936\tbest: 0.9360397 (203)\ttotal: 24.8s\tremaining: 1m 29s\n",
      "216:\tlearn: 0.9433836\ttest: 0.9355936\tbest: 0.9360397 (203)\ttotal: 24.9s\tremaining: 1m 29s\n",
      "217:\tlearn: 0.9435987\ttest: 0.9358724\tbest: 0.9360397 (203)\ttotal: 25s\tremaining: 1m 29s\n",
      "218:\tlearn: 0.9439572\ttest: 0.9363743\tbest: 0.9363743 (218)\ttotal: 25.1s\tremaining: 1m 29s\n",
      "219:\tlearn: 0.9440528\ttest: 0.9363743\tbest: 0.9363743 (218)\ttotal: 25.2s\tremaining: 1m 29s\n",
      "220:\tlearn: 0.9442440\ttest: 0.9364858\tbest: 0.9364858 (220)\ttotal: 25.3s\tremaining: 1m 29s\n",
      "221:\tlearn: 0.9443157\ttest: 0.9367089\tbest: 0.9367089 (221)\ttotal: 25.5s\tremaining: 1m 29s\n",
      "222:\tlearn: 0.9446024\ttest: 0.9370434\tbest: 0.9370434 (222)\ttotal: 25.6s\tremaining: 1m 29s\n",
      "223:\tlearn: 0.9447936\ttest: 0.9370992\tbest: 0.9370992 (223)\ttotal: 25.7s\tremaining: 1m 29s\n",
      "224:\tlearn: 0.9448175\ttest: 0.9373223\tbest: 0.9373223 (224)\ttotal: 25.8s\tremaining: 1m 28s\n",
      "225:\tlearn: 0.9449370\ttest: 0.9375453\tbest: 0.9375453 (225)\ttotal: 25.9s\tremaining: 1m 28s\n",
      "226:\tlearn: 0.9451760\ttest: 0.9377684\tbest: 0.9377684 (226)\ttotal: 26.1s\tremaining: 1m 28s\n",
      "227:\tlearn: 0.9452477\ttest: 0.9379356\tbest: 0.9379356 (227)\ttotal: 26.2s\tremaining: 1m 28s\n",
      "228:\tlearn: 0.9453911\ttest: 0.9380472\tbest: 0.9380472 (228)\ttotal: 26.4s\tremaining: 1m 28s\n",
      "229:\tlearn: 0.9458213\ttest: 0.9388836\tbest: 0.9388836 (229)\ttotal: 26.6s\tremaining: 1m 28s\n",
      "230:\tlearn: 0.9457735\ttest: 0.9386606\tbest: 0.9388836 (229)\ttotal: 26.7s\tremaining: 1m 28s\n",
      "231:\tlearn: 0.9458930\ttest: 0.9386048\tbest: 0.9388836 (229)\ttotal: 26.8s\tremaining: 1m 28s\n",
      "232:\tlearn: 0.9459647\ttest: 0.9386606\tbest: 0.9388836 (229)\ttotal: 27s\tremaining: 1m 28s\n",
      "233:\tlearn: 0.9459886\ttest: 0.9387721\tbest: 0.9388836 (229)\ttotal: 27.1s\tremaining: 1m 28s\n",
      "234:\tlearn: 0.9461320\ttest: 0.9388279\tbest: 0.9388836 (229)\ttotal: 27.2s\tremaining: 1m 28s\n",
      "235:\tlearn: 0.9462993\ttest: 0.9389394\tbest: 0.9389394 (235)\ttotal: 27.3s\tremaining: 1m 28s\n",
      "236:\tlearn: 0.9462993\ttest: 0.9391624\tbest: 0.9391624 (236)\ttotal: 27.4s\tremaining: 1m 28s\n",
      "237:\tlearn: 0.9462993\ttest: 0.9392740\tbest: 0.9392740 (237)\ttotal: 27.5s\tremaining: 1m 28s\n",
      "238:\tlearn: 0.9463471\ttest: 0.9393297\tbest: 0.9393297 (238)\ttotal: 27.6s\tremaining: 1m 27s\n",
      "239:\tlearn: 0.9464666\ttest: 0.9393297\tbest: 0.9393297 (238)\ttotal: 27.7s\tremaining: 1m 27s\n",
      "240:\tlearn: 0.9464666\ttest: 0.9394970\tbest: 0.9394970 (240)\ttotal: 27.8s\tremaining: 1m 27s\n",
      "241:\tlearn: 0.9464427\ttest: 0.9396085\tbest: 0.9396085 (241)\ttotal: 27.9s\tremaining: 1m 27s\n",
      "242:\tlearn: 0.9464905\ttest: 0.9395528\tbest: 0.9396085 (241)\ttotal: 28.1s\tremaining: 1m 27s\n",
      "243:\tlearn: 0.9465621\ttest: 0.9397758\tbest: 0.9397758 (243)\ttotal: 28.2s\tremaining: 1m 27s\n",
      "244:\tlearn: 0.9465860\ttest: 0.9399989\tbest: 0.9399989 (244)\ttotal: 28.3s\tremaining: 1m 27s\n",
      "245:\tlearn: 0.9468250\ttest: 0.9401104\tbest: 0.9401104 (245)\ttotal: 28.4s\tremaining: 1m 27s\n",
      "246:\tlearn: 0.9468250\ttest: 0.9397758\tbest: 0.9401104 (245)\ttotal: 28.5s\tremaining: 1m 26s\n",
      "247:\tlearn: 0.9469445\ttest: 0.9399989\tbest: 0.9401104 (245)\ttotal: 28.6s\tremaining: 1m 26s\n",
      "248:\tlearn: 0.9472313\ttest: 0.9401662\tbest: 0.9401662 (248)\ttotal: 28.7s\tremaining: 1m 26s\n",
      "249:\tlearn: 0.9473030\ttest: 0.9401104\tbest: 0.9401662 (248)\ttotal: 28.8s\tremaining: 1m 26s\n",
      "250:\tlearn: 0.9474703\ttest: 0.9402777\tbest: 0.9402777 (250)\ttotal: 28.9s\tremaining: 1m 26s\n",
      "251:\tlearn: 0.9475420\ttest: 0.9402777\tbest: 0.9402777 (250)\ttotal: 29s\tremaining: 1m 26s\n",
      "252:\tlearn: 0.9475181\ttest: 0.9402777\tbest: 0.9402777 (250)\ttotal: 29.1s\tremaining: 1m 25s\n",
      "253:\tlearn: 0.9475420\ttest: 0.9401662\tbest: 0.9402777 (250)\ttotal: 29.2s\tremaining: 1m 25s\n",
      "254:\tlearn: 0.9475898\ttest: 0.9400546\tbest: 0.9402777 (250)\ttotal: 29.3s\tremaining: 1m 25s\n",
      "255:\tlearn: 0.9476854\ttest: 0.9401104\tbest: 0.9402777 (250)\ttotal: 29.3s\tremaining: 1m 25s\n",
      "256:\tlearn: 0.9478288\ttest: 0.9401104\tbest: 0.9402777 (250)\ttotal: 29.4s\tremaining: 1m 25s\n",
      "257:\tlearn: 0.9478527\ttest: 0.9400546\tbest: 0.9402777 (250)\ttotal: 29.5s\tremaining: 1m 24s\n",
      "258:\tlearn: 0.9478527\ttest: 0.9401104\tbest: 0.9402777 (250)\ttotal: 29.6s\tremaining: 1m 24s\n",
      "259:\tlearn: 0.9479005\ttest: 0.9401104\tbest: 0.9402777 (250)\ttotal: 29.7s\tremaining: 1m 24s\n",
      "260:\tlearn: 0.9480200\ttest: 0.9402777\tbest: 0.9402777 (250)\ttotal: 29.8s\tremaining: 1m 24s\n",
      "261:\tlearn: 0.9480439\ttest: 0.9404450\tbest: 0.9404450 (261)\ttotal: 29.9s\tremaining: 1m 24s\n",
      "262:\tlearn: 0.9481395\ttest: 0.9405565\tbest: 0.9405565 (262)\ttotal: 30.1s\tremaining: 1m 24s\n",
      "263:\tlearn: 0.9482112\ttest: 0.9405565\tbest: 0.9405565 (262)\ttotal: 30.2s\tremaining: 1m 24s\n",
      "264:\tlearn: 0.9483785\ttest: 0.9407238\tbest: 0.9407238 (264)\ttotal: 30.4s\tremaining: 1m 24s\n",
      "265:\tlearn: 0.9482829\ttest: 0.9406680\tbest: 0.9407238 (264)\ttotal: 30.5s\tremaining: 1m 24s\n",
      "266:\tlearn: 0.9484980\ttest: 0.9406680\tbest: 0.9407238 (264)\ttotal: 30.6s\tremaining: 1m 24s\n",
      "267:\tlearn: 0.9485697\ttest: 0.9405565\tbest: 0.9407238 (264)\ttotal: 30.7s\tremaining: 1m 23s\n",
      "268:\tlearn: 0.9486413\ttest: 0.9405008\tbest: 0.9407238 (264)\ttotal: 30.9s\tremaining: 1m 23s\n",
      "269:\tlearn: 0.9486652\ttest: 0.9407238\tbest: 0.9407238 (264)\ttotal: 31s\tremaining: 1m 23s\n",
      "270:\tlearn: 0.9486413\ttest: 0.9408353\tbest: 0.9408353 (270)\ttotal: 31.1s\tremaining: 1m 23s\n",
      "271:\tlearn: 0.9486413\ttest: 0.9408353\tbest: 0.9408353 (270)\ttotal: 31.2s\tremaining: 1m 23s\n",
      "272:\tlearn: 0.9486413\ttest: 0.9408353\tbest: 0.9408353 (270)\ttotal: 31.4s\tremaining: 1m 23s\n",
      "273:\tlearn: 0.9485936\ttest: 0.9407238\tbest: 0.9408353 (270)\ttotal: 31.4s\tremaining: 1m 23s\n",
      "274:\tlearn: 0.9485697\ttest: 0.9408353\tbest: 0.9408353 (270)\ttotal: 31.6s\tremaining: 1m 23s\n",
      "275:\tlearn: 0.9487369\ttest: 0.9407796\tbest: 0.9408353 (270)\ttotal: 31.7s\tremaining: 1m 23s\n",
      "276:\tlearn: 0.9488803\ttest: 0.9408911\tbest: 0.9408911 (276)\ttotal: 31.8s\tremaining: 1m 23s\n"
     ]
    },
    {
     "name": "stdout",
     "output_type": "stream",
     "text": [
      "277:\tlearn: 0.9488325\ttest: 0.9409469\tbest: 0.9409469 (277)\ttotal: 32s\tremaining: 1m 23s\n",
      "278:\tlearn: 0.9490715\ttest: 0.9412814\tbest: 0.9412814 (278)\ttotal: 32.1s\tremaining: 1m 22s\n",
      "279:\tlearn: 0.9491432\ttest: 0.9415603\tbest: 0.9415603 (279)\ttotal: 32.2s\tremaining: 1m 22s\n",
      "280:\tlearn: 0.9491910\ttest: 0.9413372\tbest: 0.9415603 (279)\ttotal: 32.3s\tremaining: 1m 22s\n",
      "281:\tlearn: 0.9492866\ttest: 0.9416160\tbest: 0.9416160 (281)\ttotal: 32.4s\tremaining: 1m 22s\n",
      "282:\tlearn: 0.9494061\ttest: 0.9416718\tbest: 0.9416718 (282)\ttotal: 32.5s\tremaining: 1m 22s\n",
      "283:\tlearn: 0.9494778\ttest: 0.9417275\tbest: 0.9417275 (283)\ttotal: 32.6s\tremaining: 1m 22s\n",
      "284:\tlearn: 0.9495495\ttest: 0.9417833\tbest: 0.9417833 (284)\ttotal: 32.8s\tremaining: 1m 22s\n",
      "285:\tlearn: 0.9495495\ttest: 0.9417833\tbest: 0.9417833 (284)\ttotal: 32.9s\tremaining: 1m 22s\n",
      "286:\tlearn: 0.9495495\ttest: 0.9417275\tbest: 0.9417833 (284)\ttotal: 33s\tremaining: 1m 21s\n",
      "287:\tlearn: 0.9497168\ttest: 0.9417833\tbest: 0.9417833 (284)\ttotal: 33.1s\tremaining: 1m 21s\n",
      "288:\tlearn: 0.9498841\ttest: 0.9420621\tbest: 0.9420621 (288)\ttotal: 33.2s\tremaining: 1m 21s\n",
      "289:\tlearn: 0.9498602\ttest: 0.9422852\tbest: 0.9422852 (289)\ttotal: 33.3s\tremaining: 1m 21s\n",
      "290:\tlearn: 0.9499558\ttest: 0.9423409\tbest: 0.9423409 (290)\ttotal: 33.4s\tremaining: 1m 21s\n",
      "291:\tlearn: 0.9499797\ttest: 0.9423967\tbest: 0.9423967 (291)\ttotal: 33.5s\tremaining: 1m 21s\n",
      "292:\tlearn: 0.9500036\ttest: 0.9422294\tbest: 0.9423967 (291)\ttotal: 33.6s\tremaining: 1m 21s\n",
      "293:\tlearn: 0.9500514\ttest: 0.9420621\tbest: 0.9423967 (291)\ttotal: 33.7s\tremaining: 1m 20s\n",
      "294:\tlearn: 0.9500514\ttest: 0.9420064\tbest: 0.9423967 (291)\ttotal: 33.8s\tremaining: 1m 20s\n",
      "295:\tlearn: 0.9503143\ttest: 0.9420621\tbest: 0.9423967 (291)\ttotal: 33.9s\tremaining: 1m 20s\n",
      "296:\tlearn: 0.9503143\ttest: 0.9422294\tbest: 0.9423967 (291)\ttotal: 34s\tremaining: 1m 20s\n",
      "297:\tlearn: 0.9503621\ttest: 0.9421179\tbest: 0.9423967 (291)\ttotal: 34.1s\tremaining: 1m 20s\n",
      "298:\tlearn: 0.9504099\ttest: 0.9420621\tbest: 0.9423967 (291)\ttotal: 34.2s\tremaining: 1m 20s\n",
      "299:\tlearn: 0.9504577\ttest: 0.9420064\tbest: 0.9423967 (291)\ttotal: 34.3s\tremaining: 1m 20s\n",
      "300:\tlearn: 0.9506011\ttest: 0.9422294\tbest: 0.9423967 (291)\ttotal: 34.4s\tremaining: 1m 19s\n",
      "301:\tlearn: 0.9505772\ttest: 0.9422294\tbest: 0.9423967 (291)\ttotal: 34.6s\tremaining: 1m 19s\n",
      "302:\tlearn: 0.9506011\ttest: 0.9421736\tbest: 0.9423967 (291)\ttotal: 34.7s\tremaining: 1m 19s\n",
      "303:\tlearn: 0.9506728\ttest: 0.9422852\tbest: 0.9423967 (291)\ttotal: 34.8s\tremaining: 1m 19s\n",
      "304:\tlearn: 0.9508161\ttest: 0.9423409\tbest: 0.9423967 (291)\ttotal: 34.9s\tremaining: 1m 19s\n",
      "305:\tlearn: 0.9508161\ttest: 0.9423967\tbest: 0.9423967 (291)\ttotal: 35s\tremaining: 1m 19s\n",
      "306:\tlearn: 0.9508639\ttest: 0.9425640\tbest: 0.9425640 (306)\ttotal: 35.1s\tremaining: 1m 19s\n",
      "307:\tlearn: 0.9509595\ttest: 0.9426198\tbest: 0.9426198 (307)\ttotal: 35.3s\tremaining: 1m 19s\n",
      "308:\tlearn: 0.9508878\ttest: 0.9425640\tbest: 0.9426198 (307)\ttotal: 35.4s\tremaining: 1m 19s\n",
      "309:\tlearn: 0.9509595\ttest: 0.9426198\tbest: 0.9426198 (307)\ttotal: 35.5s\tremaining: 1m 18s\n",
      "310:\tlearn: 0.9510551\ttest: 0.9426755\tbest: 0.9426755 (310)\ttotal: 35.6s\tremaining: 1m 18s\n",
      "311:\tlearn: 0.9511029\ttest: 0.9427870\tbest: 0.9427870 (311)\ttotal: 35.7s\tremaining: 1m 18s\n",
      "312:\tlearn: 0.9512463\ttest: 0.9429543\tbest: 0.9429543 (312)\ttotal: 35.8s\tremaining: 1m 18s\n",
      "313:\tlearn: 0.9512463\ttest: 0.9430101\tbest: 0.9430101 (313)\ttotal: 35.9s\tremaining: 1m 18s\n",
      "314:\tlearn: 0.9512224\ttest: 0.9431774\tbest: 0.9431774 (314)\ttotal: 36s\tremaining: 1m 18s\n",
      "315:\tlearn: 0.9514375\ttest: 0.9434562\tbest: 0.9434562 (315)\ttotal: 36.1s\tremaining: 1m 18s\n",
      "316:\tlearn: 0.9515809\ttest: 0.9434004\tbest: 0.9434562 (315)\ttotal: 36.2s\tremaining: 1m 17s\n",
      "317:\tlearn: 0.9518677\ttest: 0.9432331\tbest: 0.9434562 (315)\ttotal: 36.3s\tremaining: 1m 17s\n",
      "318:\tlearn: 0.9518199\ttest: 0.9431774\tbest: 0.9434562 (315)\ttotal: 36.4s\tremaining: 1m 17s\n",
      "319:\tlearn: 0.9517960\ttest: 0.9432889\tbest: 0.9434562 (315)\ttotal: 36.5s\tremaining: 1m 17s\n",
      "320:\tlearn: 0.9520111\ttest: 0.9432331\tbest: 0.9434562 (315)\ttotal: 36.6s\tremaining: 1m 17s\n",
      "321:\tlearn: 0.9520589\ttest: 0.9433447\tbest: 0.9434562 (315)\ttotal: 36.7s\tremaining: 1m 17s\n",
      "322:\tlearn: 0.9522023\ttest: 0.9431774\tbest: 0.9434562 (315)\ttotal: 36.8s\tremaining: 1m 17s\n",
      "323:\tlearn: 0.9524652\ttest: 0.9433447\tbest: 0.9434562 (315)\ttotal: 36.9s\tremaining: 1m 17s\n",
      "324:\tlearn: 0.9524891\ttest: 0.9435677\tbest: 0.9435677 (324)\ttotal: 37s\tremaining: 1m 16s\n",
      "325:\tlearn: 0.9524652\ttest: 0.9437908\tbest: 0.9437908 (325)\ttotal: 37.1s\tremaining: 1m 16s\n",
      "326:\tlearn: 0.9526803\ttest: 0.9439023\tbest: 0.9439023 (326)\ttotal: 37.2s\tremaining: 1m 16s\n",
      "327:\tlearn: 0.9527042\ttest: 0.9440138\tbest: 0.9440138 (327)\ttotal: 37.4s\tremaining: 1m 16s\n",
      "328:\tlearn: 0.9528714\ttest: 0.9441254\tbest: 0.9441254 (328)\ttotal: 37.4s\tremaining: 1m 16s\n",
      "329:\tlearn: 0.9529909\ttest: 0.9441811\tbest: 0.9441811 (329)\ttotal: 37.5s\tremaining: 1m 16s\n",
      "330:\tlearn: 0.9529670\ttest: 0.9441254\tbest: 0.9441811 (329)\ttotal: 37.6s\tremaining: 1m 16s\n",
      "331:\tlearn: 0.9531343\ttest: 0.9441811\tbest: 0.9441811 (329)\ttotal: 37.7s\tremaining: 1m 15s\n",
      "332:\tlearn: 0.9531582\ttest: 0.9441811\tbest: 0.9441811 (329)\ttotal: 37.8s\tremaining: 1m 15s\n",
      "333:\tlearn: 0.9531104\ttest: 0.9441811\tbest: 0.9441811 (329)\ttotal: 37.9s\tremaining: 1m 15s\n",
      "334:\tlearn: 0.9532060\ttest: 0.9442926\tbest: 0.9442926 (334)\ttotal: 38s\tremaining: 1m 15s\n",
      "335:\tlearn: 0.9533016\ttest: 0.9444042\tbest: 0.9444042 (335)\ttotal: 38.1s\tremaining: 1m 15s\n",
      "336:\tlearn: 0.9533494\ttest: 0.9443484\tbest: 0.9444042 (335)\ttotal: 38.2s\tremaining: 1m 15s\n",
      "337:\tlearn: 0.9533494\ttest: 0.9445715\tbest: 0.9445715 (337)\ttotal: 38.3s\tremaining: 1m 14s\n",
      "338:\tlearn: 0.9533016\ttest: 0.9444599\tbest: 0.9445715 (337)\ttotal: 38.4s\tremaining: 1m 14s\n",
      "339:\tlearn: 0.9533733\ttest: 0.9444599\tbest: 0.9445715 (337)\ttotal: 38.5s\tremaining: 1m 14s\n",
      "340:\tlearn: 0.9533733\ttest: 0.9445157\tbest: 0.9445715 (337)\ttotal: 38.6s\tremaining: 1m 14s\n",
      "341:\tlearn: 0.9534689\ttest: 0.9444042\tbest: 0.9445715 (337)\ttotal: 38.7s\tremaining: 1m 14s\n",
      "342:\tlearn: 0.9534450\ttest: 0.9444042\tbest: 0.9445715 (337)\ttotal: 38.8s\tremaining: 1m 14s\n",
      "343:\tlearn: 0.9535645\ttest: 0.9442926\tbest: 0.9445715 (337)\ttotal: 38.9s\tremaining: 1m 14s\n",
      "344:\tlearn: 0.9535884\ttest: 0.9442926\tbest: 0.9445715 (337)\ttotal: 39s\tremaining: 1m 13s\n",
      "345:\tlearn: 0.9535884\ttest: 0.9443484\tbest: 0.9445715 (337)\ttotal: 39s\tremaining: 1m 13s\n",
      "346:\tlearn: 0.9536601\ttest: 0.9442926\tbest: 0.9445715 (337)\ttotal: 39.1s\tremaining: 1m 13s\n",
      "347:\tlearn: 0.9537318\ttest: 0.9443484\tbest: 0.9445715 (337)\ttotal: 39.2s\tremaining: 1m 13s\n",
      "348:\tlearn: 0.9538513\ttest: 0.9444599\tbest: 0.9445715 (337)\ttotal: 39.3s\tremaining: 1m 13s\n",
      "349:\tlearn: 0.9539230\ttest: 0.9442926\tbest: 0.9445715 (337)\ttotal: 39.4s\tremaining: 1m 13s\n",
      "350:\tlearn: 0.9539230\ttest: 0.9442926\tbest: 0.9445715 (337)\ttotal: 39.5s\tremaining: 1m 13s\n",
      "351:\tlearn: 0.9539708\ttest: 0.9442926\tbest: 0.9445715 (337)\ttotal: 39.6s\tremaining: 1m 12s\n",
      "352:\tlearn: 0.9540425\ttest: 0.9442369\tbest: 0.9445715 (337)\ttotal: 39.7s\tremaining: 1m 12s\n",
      "353:\tlearn: 0.9541381\ttest: 0.9442926\tbest: 0.9445715 (337)\ttotal: 39.8s\tremaining: 1m 12s\n",
      "354:\tlearn: 0.9541620\ttest: 0.9442926\tbest: 0.9445715 (337)\ttotal: 39.9s\tremaining: 1m 12s\n",
      "355:\tlearn: 0.9542337\ttest: 0.9442926\tbest: 0.9445715 (337)\ttotal: 40s\tremaining: 1m 12s\n",
      "356:\tlearn: 0.9543054\ttest: 0.9444599\tbest: 0.9445715 (337)\ttotal: 40.1s\tremaining: 1m 12s\n",
      "357:\tlearn: 0.9543293\ttest: 0.9445157\tbest: 0.9445715 (337)\ttotal: 40.2s\tremaining: 1m 12s\n",
      "358:\tlearn: 0.9543054\ttest: 0.9446272\tbest: 0.9446272 (358)\ttotal: 40.3s\tremaining: 1m 11s\n",
      "359:\tlearn: 0.9543293\ttest: 0.9446830\tbest: 0.9446830 (359)\ttotal: 40.4s\tremaining: 1m 11s\n",
      "360:\tlearn: 0.9544488\ttest: 0.9446272\tbest: 0.9446830 (359)\ttotal: 40.5s\tremaining: 1m 11s\n",
      "361:\tlearn: 0.9544727\ttest: 0.9447945\tbest: 0.9447945 (361)\ttotal: 40.6s\tremaining: 1m 11s\n",
      "362:\tlearn: 0.9544488\ttest: 0.9447945\tbest: 0.9447945 (361)\ttotal: 40.7s\tremaining: 1m 11s\n",
      "363:\tlearn: 0.9545444\ttest: 0.9447387\tbest: 0.9447945 (361)\ttotal: 40.8s\tremaining: 1m 11s\n",
      "364:\tlearn: 0.9545683\ttest: 0.9447387\tbest: 0.9447945 (361)\ttotal: 40.9s\tremaining: 1m 11s\n",
      "365:\tlearn: 0.9546400\ttest: 0.9446830\tbest: 0.9447945 (361)\ttotal: 41s\tremaining: 1m 10s\n",
      "366:\tlearn: 0.9545205\ttest: 0.9446830\tbest: 0.9447945 (361)\ttotal: 41.1s\tremaining: 1m 10s\n",
      "367:\tlearn: 0.9546639\ttest: 0.9445715\tbest: 0.9447945 (361)\ttotal: 41.2s\tremaining: 1m 10s\n",
      "368:\tlearn: 0.9546878\ttest: 0.9446272\tbest: 0.9447945 (361)\ttotal: 41.3s\tremaining: 1m 10s\n"
     ]
    },
    {
     "name": "stdout",
     "output_type": "stream",
     "text": [
      "369:\tlearn: 0.9546400\ttest: 0.9447387\tbest: 0.9447945 (361)\ttotal: 41.4s\tremaining: 1m 10s\n",
      "370:\tlearn: 0.9546400\ttest: 0.9446830\tbest: 0.9447945 (361)\ttotal: 41.5s\tremaining: 1m 10s\n",
      "371:\tlearn: 0.9547595\ttest: 0.9447387\tbest: 0.9447945 (361)\ttotal: 41.6s\tremaining: 1m 10s\n",
      "372:\tlearn: 0.9548073\ttest: 0.9447387\tbest: 0.9447945 (361)\ttotal: 41.6s\tremaining: 1m 9s\n",
      "373:\tlearn: 0.9548551\ttest: 0.9448503\tbest: 0.9448503 (373)\ttotal: 41.7s\tremaining: 1m 9s\n",
      "374:\tlearn: 0.9548551\ttest: 0.9447387\tbest: 0.9448503 (373)\ttotal: 41.8s\tremaining: 1m 9s\n",
      "375:\tlearn: 0.9550462\ttest: 0.9446272\tbest: 0.9448503 (373)\ttotal: 41.9s\tremaining: 1m 9s\n",
      "376:\tlearn: 0.9550223\ttest: 0.9446272\tbest: 0.9448503 (373)\ttotal: 42s\tremaining: 1m 9s\n",
      "377:\tlearn: 0.9551418\ttest: 0.9449618\tbest: 0.9449618 (377)\ttotal: 42.1s\tremaining: 1m 9s\n",
      "378:\tlearn: 0.9550223\ttest: 0.9450176\tbest: 0.9450176 (378)\ttotal: 42.2s\tremaining: 1m 9s\n",
      "379:\tlearn: 0.9550462\ttest: 0.9450733\tbest: 0.9450733 (379)\ttotal: 42.3s\tremaining: 1m 8s\n",
      "380:\tlearn: 0.9550701\ttest: 0.9451291\tbest: 0.9451291 (380)\ttotal: 42.3s\tremaining: 1m 8s\n",
      "381:\tlearn: 0.9551418\ttest: 0.9450733\tbest: 0.9451291 (380)\ttotal: 42.4s\tremaining: 1m 8s\n",
      "382:\tlearn: 0.9551896\ttest: 0.9449618\tbest: 0.9451291 (380)\ttotal: 42.5s\tremaining: 1m 8s\n",
      "383:\tlearn: 0.9552852\ttest: 0.9450733\tbest: 0.9451291 (380)\ttotal: 42.6s\tremaining: 1m 8s\n",
      "384:\tlearn: 0.9552374\ttest: 0.9451291\tbest: 0.9451291 (380)\ttotal: 42.7s\tremaining: 1m 8s\n",
      "385:\tlearn: 0.9553330\ttest: 0.9450176\tbest: 0.9451291 (380)\ttotal: 42.8s\tremaining: 1m 8s\n",
      "386:\tlearn: 0.9554286\ttest: 0.9450176\tbest: 0.9451291 (380)\ttotal: 42.9s\tremaining: 1m 7s\n",
      "387:\tlearn: 0.9552852\ttest: 0.9451291\tbest: 0.9451291 (380)\ttotal: 43s\tremaining: 1m 7s\n",
      "388:\tlearn: 0.9555242\ttest: 0.9454079\tbest: 0.9454079 (388)\ttotal: 43.1s\tremaining: 1m 7s\n",
      "389:\tlearn: 0.9555720\ttest: 0.9452406\tbest: 0.9454079 (388)\ttotal: 43.2s\tremaining: 1m 7s\n",
      "390:\tlearn: 0.9556915\ttest: 0.9454079\tbest: 0.9454079 (388)\ttotal: 43.3s\tremaining: 1m 7s\n",
      "391:\tlearn: 0.9556915\ttest: 0.9454079\tbest: 0.9454079 (388)\ttotal: 43.4s\tremaining: 1m 7s\n",
      "392:\tlearn: 0.9556915\ttest: 0.9455752\tbest: 0.9455752 (392)\ttotal: 43.5s\tremaining: 1m 7s\n",
      "393:\tlearn: 0.9557871\ttest: 0.9455752\tbest: 0.9455752 (392)\ttotal: 43.6s\tremaining: 1m 7s\n",
      "394:\tlearn: 0.9558349\ttest: 0.9455752\tbest: 0.9455752 (392)\ttotal: 43.7s\tremaining: 1m 6s\n",
      "395:\tlearn: 0.9559305\ttest: 0.9456867\tbest: 0.9456867 (395)\ttotal: 43.8s\tremaining: 1m 6s\n",
      "396:\tlearn: 0.9559544\ttest: 0.9456867\tbest: 0.9456867 (395)\ttotal: 43.9s\tremaining: 1m 6s\n",
      "397:\tlearn: 0.9561217\ttest: 0.9459655\tbest: 0.9459655 (397)\ttotal: 44s\tremaining: 1m 6s\n",
      "398:\tlearn: 0.9561695\ttest: 0.9459655\tbest: 0.9459655 (397)\ttotal: 44.1s\tremaining: 1m 6s\n",
      "399:\tlearn: 0.9561217\ttest: 0.9459655\tbest: 0.9459655 (397)\ttotal: 44.2s\tremaining: 1m 6s\n",
      "400:\tlearn: 0.9561456\ttest: 0.9460213\tbest: 0.9460213 (400)\ttotal: 44.3s\tremaining: 1m 6s\n",
      "401:\tlearn: 0.9560978\ttest: 0.9459655\tbest: 0.9460213 (400)\ttotal: 44.4s\tremaining: 1m 6s\n",
      "402:\tlearn: 0.9561217\ttest: 0.9460771\tbest: 0.9460771 (402)\ttotal: 44.5s\tremaining: 1m 5s\n",
      "403:\tlearn: 0.9561217\ttest: 0.9460771\tbest: 0.9460771 (402)\ttotal: 44.6s\tremaining: 1m 5s\n",
      "404:\tlearn: 0.9561456\ttest: 0.9460213\tbest: 0.9460771 (402)\ttotal: 44.7s\tremaining: 1m 5s\n",
      "405:\tlearn: 0.9562651\ttest: 0.9461886\tbest: 0.9461886 (405)\ttotal: 44.8s\tremaining: 1m 5s\n",
      "406:\tlearn: 0.9564085\ttest: 0.9460213\tbest: 0.9461886 (405)\ttotal: 44.9s\tremaining: 1m 5s\n",
      "407:\tlearn: 0.9564563\ttest: 0.9461328\tbest: 0.9461886 (405)\ttotal: 45s\tremaining: 1m 5s\n",
      "408:\tlearn: 0.9564085\ttest: 0.9461328\tbest: 0.9461886 (405)\ttotal: 45.1s\tremaining: 1m 5s\n",
      "409:\tlearn: 0.9564563\ttest: 0.9460771\tbest: 0.9461886 (405)\ttotal: 45.2s\tremaining: 1m 5s\n",
      "410:\tlearn: 0.9564802\ttest: 0.9461328\tbest: 0.9461886 (405)\ttotal: 45.3s\tremaining: 1m 4s\n",
      "411:\tlearn: 0.9564802\ttest: 0.9461886\tbest: 0.9461886 (405)\ttotal: 45.3s\tremaining: 1m 4s\n",
      "412:\tlearn: 0.9564324\ttest: 0.9462444\tbest: 0.9462444 (412)\ttotal: 45.4s\tremaining: 1m 4s\n",
      "413:\tlearn: 0.9565041\ttest: 0.9461886\tbest: 0.9462444 (412)\ttotal: 45.5s\tremaining: 1m 4s\n",
      "414:\tlearn: 0.9565519\ttest: 0.9463559\tbest: 0.9463559 (414)\ttotal: 45.6s\tremaining: 1m 4s\n",
      "415:\tlearn: 0.9566475\ttest: 0.9462444\tbest: 0.9463559 (414)\ttotal: 45.8s\tremaining: 1m 4s\n",
      "416:\tlearn: 0.9566475\ttest: 0.9461886\tbest: 0.9463559 (414)\ttotal: 45.9s\tremaining: 1m 4s\n",
      "417:\tlearn: 0.9566953\ttest: 0.9462444\tbest: 0.9463559 (414)\ttotal: 46s\tremaining: 1m 4s\n",
      "418:\tlearn: 0.9566475\ttest: 0.9462444\tbest: 0.9463559 (414)\ttotal: 46.1s\tremaining: 1m 3s\n",
      "419:\tlearn: 0.9566714\ttest: 0.9462444\tbest: 0.9463559 (414)\ttotal: 46.2s\tremaining: 1m 3s\n",
      "420:\tlearn: 0.9566714\ttest: 0.9462444\tbest: 0.9463559 (414)\ttotal: 46.3s\tremaining: 1m 3s\n",
      "421:\tlearn: 0.9567192\ttest: 0.9463001\tbest: 0.9463559 (414)\ttotal: 46.4s\tremaining: 1m 3s\n",
      "422:\tlearn: 0.9567909\ttest: 0.9464674\tbest: 0.9464674 (422)\ttotal: 46.5s\tremaining: 1m 3s\n",
      "423:\tlearn: 0.9569104\ttest: 0.9462444\tbest: 0.9464674 (422)\ttotal: 46.6s\tremaining: 1m 3s\n",
      "424:\tlearn: 0.9569582\ttest: 0.9460771\tbest: 0.9464674 (422)\ttotal: 46.8s\tremaining: 1m 3s\n",
      "425:\tlearn: 0.9569582\ttest: 0.9460771\tbest: 0.9464674 (422)\ttotal: 46.9s\tremaining: 1m 3s\n",
      "426:\tlearn: 0.9570298\ttest: 0.9461886\tbest: 0.9464674 (422)\ttotal: 47s\tremaining: 1m 3s\n",
      "427:\tlearn: 0.9571254\ttest: 0.9462444\tbest: 0.9464674 (422)\ttotal: 47.1s\tremaining: 1m 2s\n",
      "428:\tlearn: 0.9572449\ttest: 0.9464116\tbest: 0.9464674 (422)\ttotal: 47.2s\tremaining: 1m 2s\n",
      "429:\tlearn: 0.9572688\ttest: 0.9463001\tbest: 0.9464674 (422)\ttotal: 47.3s\tremaining: 1m 2s\n",
      "430:\tlearn: 0.9573405\ttest: 0.9461886\tbest: 0.9464674 (422)\ttotal: 47.5s\tremaining: 1m 2s\n",
      "431:\tlearn: 0.9573166\ttest: 0.9462444\tbest: 0.9464674 (422)\ttotal: 47.6s\tremaining: 1m 2s\n",
      "432:\tlearn: 0.9573644\ttest: 0.9463559\tbest: 0.9464674 (422)\ttotal: 47.7s\tremaining: 1m 2s\n",
      "433:\tlearn: 0.9575078\ttest: 0.9463559\tbest: 0.9464674 (422)\ttotal: 47.8s\tremaining: 1m 2s\n",
      "434:\tlearn: 0.9575556\ttest: 0.9463001\tbest: 0.9464674 (422)\ttotal: 47.9s\tremaining: 1m 2s\n",
      "435:\tlearn: 0.9575317\ttest: 0.9463559\tbest: 0.9464674 (422)\ttotal: 48s\tremaining: 1m 2s\n",
      "436:\tlearn: 0.9577229\ttest: 0.9464116\tbest: 0.9464674 (422)\ttotal: 48.1s\tremaining: 1m 1s\n",
      "437:\tlearn: 0.9576751\ttest: 0.9464674\tbest: 0.9464674 (422)\ttotal: 48.2s\tremaining: 1m 1s\n",
      "438:\tlearn: 0.9576512\ttest: 0.9465232\tbest: 0.9465232 (438)\ttotal: 48.3s\tremaining: 1m 1s\n",
      "439:\tlearn: 0.9577468\ttest: 0.9464674\tbest: 0.9465232 (438)\ttotal: 48.4s\tremaining: 1m 1s\n",
      "440:\tlearn: 0.9577229\ttest: 0.9464674\tbest: 0.9465232 (438)\ttotal: 48.5s\tremaining: 1m 1s\n",
      "441:\tlearn: 0.9577468\ttest: 0.9464674\tbest: 0.9465232 (438)\ttotal: 48.6s\tremaining: 1m 1s\n",
      "442:\tlearn: 0.9577468\ttest: 0.9465232\tbest: 0.9465232 (438)\ttotal: 48.7s\tremaining: 1m 1s\n",
      "443:\tlearn: 0.9578185\ttest: 0.9466347\tbest: 0.9466347 (443)\ttotal: 48.8s\tremaining: 1m 1s\n",
      "444:\tlearn: 0.9578663\ttest: 0.9466905\tbest: 0.9466905 (444)\ttotal: 48.9s\tremaining: 1m\n",
      "445:\tlearn: 0.9578663\ttest: 0.9467462\tbest: 0.9467462 (445)\ttotal: 49s\tremaining: 1m\n",
      "446:\tlearn: 0.9578185\ttest: 0.9467462\tbest: 0.9467462 (445)\ttotal: 49.1s\tremaining: 1m\n",
      "447:\tlearn: 0.9578663\ttest: 0.9466905\tbest: 0.9467462 (445)\ttotal: 49.2s\tremaining: 1m\n",
      "448:\tlearn: 0.9579380\ttest: 0.9467462\tbest: 0.9467462 (445)\ttotal: 49.3s\tremaining: 1m\n",
      "449:\tlearn: 0.9579141\ttest: 0.9466905\tbest: 0.9467462 (445)\ttotal: 49.4s\tremaining: 1m\n",
      "450:\tlearn: 0.9580336\ttest: 0.9467462\tbest: 0.9467462 (445)\ttotal: 49.5s\tremaining: 1m\n",
      "451:\tlearn: 0.9579858\ttest: 0.9468020\tbest: 0.9468020 (451)\ttotal: 49.6s\tremaining: 1m\n",
      "452:\tlearn: 0.9580336\ttest: 0.9467462\tbest: 0.9468020 (451)\ttotal: 49.7s\tremaining: 60s\n",
      "453:\tlearn: 0.9579858\ttest: 0.9467462\tbest: 0.9468020 (451)\ttotal: 49.8s\tremaining: 59.9s\n",
      "454:\tlearn: 0.9580336\ttest: 0.9467462\tbest: 0.9468020 (451)\ttotal: 49.9s\tremaining: 59.8s\n",
      "455:\tlearn: 0.9581531\ttest: 0.9468020\tbest: 0.9468020 (451)\ttotal: 50.1s\tremaining: 59.7s\n",
      "456:\tlearn: 0.9581053\ttest: 0.9467462\tbest: 0.9468020 (451)\ttotal: 50.2s\tremaining: 59.6s\n",
      "457:\tlearn: 0.9582248\ttest: 0.9468020\tbest: 0.9468020 (451)\ttotal: 50.3s\tremaining: 59.5s\n",
      "458:\tlearn: 0.9582248\ttest: 0.9469693\tbest: 0.9469693 (458)\ttotal: 50.4s\tremaining: 59.4s\n",
      "459:\tlearn: 0.9582965\ttest: 0.9469693\tbest: 0.9469693 (458)\ttotal: 50.5s\tremaining: 59.3s\n",
      "460:\tlearn: 0.9583921\ttest: 0.9469693\tbest: 0.9469693 (458)\ttotal: 50.6s\tremaining: 59.2s\n",
      "461:\tlearn: 0.9583204\ttest: 0.9470808\tbest: 0.9470808 (461)\ttotal: 50.7s\tremaining: 59s\n"
     ]
    },
    {
     "name": "stdout",
     "output_type": "stream",
     "text": [
      "462:\tlearn: 0.9582726\ttest: 0.9471923\tbest: 0.9471923 (462)\ttotal: 50.8s\tremaining: 58.9s\n",
      "463:\tlearn: 0.9582726\ttest: 0.9471366\tbest: 0.9471923 (462)\ttotal: 50.9s\tremaining: 58.8s\n",
      "464:\tlearn: 0.9582487\ttest: 0.9470808\tbest: 0.9471923 (462)\ttotal: 51s\tremaining: 58.7s\n",
      "465:\tlearn: 0.9582726\ttest: 0.9471366\tbest: 0.9471923 (462)\ttotal: 51.1s\tremaining: 58.5s\n",
      "466:\tlearn: 0.9582726\ttest: 0.9471366\tbest: 0.9471923 (462)\ttotal: 51.2s\tremaining: 58.4s\n",
      "467:\tlearn: 0.9584399\ttest: 0.9471366\tbest: 0.9471923 (462)\ttotal: 51.2s\tremaining: 58.2s\n",
      "468:\tlearn: 0.9585594\ttest: 0.9471366\tbest: 0.9471923 (462)\ttotal: 51.3s\tremaining: 58.1s\n",
      "469:\tlearn: 0.9587267\ttest: 0.9473039\tbest: 0.9473039 (469)\ttotal: 51.4s\tremaining: 58s\n",
      "470:\tlearn: 0.9589657\ttest: 0.9474154\tbest: 0.9474154 (470)\ttotal: 51.5s\tremaining: 57.9s\n",
      "471:\tlearn: 0.9589418\ttest: 0.9474711\tbest: 0.9474711 (471)\ttotal: 51.6s\tremaining: 57.8s\n",
      "472:\tlearn: 0.9590613\ttest: 0.9476942\tbest: 0.9476942 (472)\ttotal: 51.7s\tremaining: 57.7s\n",
      "473:\tlearn: 0.9590852\ttest: 0.9474711\tbest: 0.9476942 (472)\ttotal: 51.8s\tremaining: 57.5s\n",
      "474:\tlearn: 0.9590852\ttest: 0.9475269\tbest: 0.9476942 (472)\ttotal: 51.9s\tremaining: 57.4s\n",
      "475:\tlearn: 0.9591807\ttest: 0.9476384\tbest: 0.9476942 (472)\ttotal: 52s\tremaining: 57.3s\n",
      "476:\tlearn: 0.9592046\ttest: 0.9473596\tbest: 0.9476942 (472)\ttotal: 52.1s\tremaining: 57.1s\n",
      "477:\tlearn: 0.9592046\ttest: 0.9473596\tbest: 0.9476942 (472)\ttotal: 52.2s\tremaining: 57s\n",
      "478:\tlearn: 0.9592285\ttest: 0.9474711\tbest: 0.9476942 (472)\ttotal: 52.3s\tremaining: 56.9s\n",
      "479:\tlearn: 0.9593958\ttest: 0.9473596\tbest: 0.9476942 (472)\ttotal: 52.4s\tremaining: 56.8s\n",
      "480:\tlearn: 0.9594675\ttest: 0.9471923\tbest: 0.9476942 (472)\ttotal: 52.5s\tremaining: 56.6s\n",
      "481:\tlearn: 0.9594197\ttest: 0.9471923\tbest: 0.9476942 (472)\ttotal: 52.6s\tremaining: 56.5s\n",
      "482:\tlearn: 0.9595392\ttest: 0.9472481\tbest: 0.9476942 (472)\ttotal: 52.7s\tremaining: 56.4s\n",
      "483:\tlearn: 0.9594914\ttest: 0.9471366\tbest: 0.9476942 (472)\ttotal: 52.8s\tremaining: 56.3s\n",
      "484:\tlearn: 0.9595631\ttest: 0.9470808\tbest: 0.9476942 (472)\ttotal: 52.9s\tremaining: 56.2s\n",
      "485:\tlearn: 0.9595870\ttest: 0.9471366\tbest: 0.9476942 (472)\ttotal: 53s\tremaining: 56.1s\n",
      "486:\tlearn: 0.9596348\ttest: 0.9473596\tbest: 0.9476942 (472)\ttotal: 53.1s\tremaining: 55.9s\n",
      "487:\tlearn: 0.9596348\ttest: 0.9473039\tbest: 0.9476942 (472)\ttotal: 53.2s\tremaining: 55.8s\n",
      "488:\tlearn: 0.9596587\ttest: 0.9473039\tbest: 0.9476942 (472)\ttotal: 53.3s\tremaining: 55.7s\n",
      "489:\tlearn: 0.9597065\ttest: 0.9473039\tbest: 0.9476942 (472)\ttotal: 53.4s\tremaining: 55.6s\n",
      "490:\tlearn: 0.9596109\ttest: 0.9473596\tbest: 0.9476942 (472)\ttotal: 53.5s\tremaining: 55.4s\n",
      "491:\tlearn: 0.9596348\ttest: 0.9471923\tbest: 0.9476942 (472)\ttotal: 53.6s\tremaining: 55.3s\n",
      "492:\tlearn: 0.9596109\ttest: 0.9471923\tbest: 0.9476942 (472)\ttotal: 53.7s\tremaining: 55.2s\n",
      "493:\tlearn: 0.9597304\ttest: 0.9473596\tbest: 0.9476942 (472)\ttotal: 53.8s\tremaining: 55.1s\n",
      "494:\tlearn: 0.9597782\ttest: 0.9473596\tbest: 0.9476942 (472)\ttotal: 53.8s\tremaining: 54.9s\n",
      "495:\tlearn: 0.9597304\ttest: 0.9474154\tbest: 0.9476942 (472)\ttotal: 54s\tremaining: 54.8s\n",
      "496:\tlearn: 0.9597304\ttest: 0.9473596\tbest: 0.9476942 (472)\ttotal: 54s\tremaining: 54.7s\n",
      "497:\tlearn: 0.9597543\ttest: 0.9473039\tbest: 0.9476942 (472)\ttotal: 54.1s\tremaining: 54.6s\n",
      "498:\tlearn: 0.9597782\ttest: 0.9473596\tbest: 0.9476942 (472)\ttotal: 54.2s\tremaining: 54.5s\n",
      "499:\tlearn: 0.9597782\ttest: 0.9473596\tbest: 0.9476942 (472)\ttotal: 54.3s\tremaining: 54.3s\n",
      "500:\tlearn: 0.9600650\ttest: 0.9474154\tbest: 0.9476942 (472)\ttotal: 54.4s\tremaining: 54.2s\n",
      "501:\tlearn: 0.9599933\ttest: 0.9474154\tbest: 0.9476942 (472)\ttotal: 54.5s\tremaining: 54.1s\n",
      "502:\tlearn: 0.9599933\ttest: 0.9474154\tbest: 0.9476942 (472)\ttotal: 54.6s\tremaining: 54s\n",
      "503:\tlearn: 0.9600889\ttest: 0.9472481\tbest: 0.9476942 (472)\ttotal: 54.7s\tremaining: 53.9s\n",
      "504:\tlearn: 0.9600889\ttest: 0.9473596\tbest: 0.9476942 (472)\ttotal: 54.8s\tremaining: 53.7s\n",
      "505:\tlearn: 0.9601128\ttest: 0.9473596\tbest: 0.9476942 (472)\ttotal: 54.9s\tremaining: 53.6s\n",
      "506:\tlearn: 0.9601367\ttest: 0.9473596\tbest: 0.9476942 (472)\ttotal: 55s\tremaining: 53.5s\n",
      "507:\tlearn: 0.9601367\ttest: 0.9473596\tbest: 0.9476942 (472)\ttotal: 55.1s\tremaining: 53.4s\n",
      "508:\tlearn: 0.9600889\ttest: 0.9473039\tbest: 0.9476942 (472)\ttotal: 55.2s\tremaining: 53.3s\n",
      "509:\tlearn: 0.9600650\ttest: 0.9473596\tbest: 0.9476942 (472)\ttotal: 55.3s\tremaining: 53.1s\n",
      "510:\tlearn: 0.9600650\ttest: 0.9474711\tbest: 0.9476942 (472)\ttotal: 55.4s\tremaining: 53s\n",
      "511:\tlearn: 0.9602562\ttest: 0.9474154\tbest: 0.9476942 (472)\ttotal: 55.5s\tremaining: 52.9s\n",
      "512:\tlearn: 0.9603279\ttest: 0.9474154\tbest: 0.9476942 (472)\ttotal: 55.6s\tremaining: 52.8s\n",
      "513:\tlearn: 0.9603279\ttest: 0.9474711\tbest: 0.9476942 (472)\ttotal: 55.7s\tremaining: 52.7s\n",
      "514:\tlearn: 0.9603279\ttest: 0.9474711\tbest: 0.9476942 (472)\ttotal: 55.8s\tremaining: 52.6s\n",
      "515:\tlearn: 0.9603040\ttest: 0.9473039\tbest: 0.9476942 (472)\ttotal: 55.9s\tremaining: 52.4s\n",
      "516:\tlearn: 0.9605191\ttest: 0.9471366\tbest: 0.9476942 (472)\ttotal: 56s\tremaining: 52.3s\n",
      "517:\tlearn: 0.9605191\ttest: 0.9474711\tbest: 0.9476942 (472)\ttotal: 56.1s\tremaining: 52.2s\n",
      "518:\tlearn: 0.9605908\ttest: 0.9475827\tbest: 0.9476942 (472)\ttotal: 56.2s\tremaining: 52s\n",
      "519:\tlearn: 0.9606147\ttest: 0.9475827\tbest: 0.9476942 (472)\ttotal: 56.3s\tremaining: 51.9s\n",
      "520:\tlearn: 0.9605908\ttest: 0.9475827\tbest: 0.9476942 (472)\ttotal: 56.3s\tremaining: 51.8s\n",
      "521:\tlearn: 0.9605669\ttest: 0.9474154\tbest: 0.9476942 (472)\ttotal: 56.4s\tremaining: 51.7s\n",
      "522:\tlearn: 0.9605191\ttest: 0.9474711\tbest: 0.9476942 (472)\ttotal: 56.6s\tremaining: 51.6s\n",
      "523:\tlearn: 0.9605191\ttest: 0.9475269\tbest: 0.9476942 (472)\ttotal: 56.7s\tremaining: 51.5s\n",
      "524:\tlearn: 0.9604952\ttest: 0.9474711\tbest: 0.9476942 (472)\ttotal: 56.8s\tremaining: 51.4s\n",
      "525:\tlearn: 0.9605191\ttest: 0.9474154\tbest: 0.9476942 (472)\ttotal: 56.9s\tremaining: 51.2s\n",
      "526:\tlearn: 0.9606386\ttest: 0.9476384\tbest: 0.9476942 (472)\ttotal: 57s\tremaining: 51.1s\n",
      "527:\tlearn: 0.9608298\ttest: 0.9475269\tbest: 0.9476942 (472)\ttotal: 57.1s\tremaining: 51s\n",
      "528:\tlearn: 0.9607820\ttest: 0.9473596\tbest: 0.9476942 (472)\ttotal: 57.2s\tremaining: 50.9s\n",
      "529:\tlearn: 0.9608776\ttest: 0.9473596\tbest: 0.9476942 (472)\ttotal: 57.2s\tremaining: 50.8s\n",
      "530:\tlearn: 0.9608776\ttest: 0.9474154\tbest: 0.9476942 (472)\ttotal: 57.3s\tremaining: 50.6s\n",
      "531:\tlearn: 0.9608776\ttest: 0.9474154\tbest: 0.9476942 (472)\ttotal: 57.5s\tremaining: 50.5s\n",
      "532:\tlearn: 0.9609015\ttest: 0.9473596\tbest: 0.9476942 (472)\ttotal: 57.6s\tremaining: 50.4s\n",
      "533:\tlearn: 0.9608776\ttest: 0.9476384\tbest: 0.9476942 (472)\ttotal: 57.7s\tremaining: 50.3s\n",
      "534:\tlearn: 0.9609493\ttest: 0.9476942\tbest: 0.9476942 (472)\ttotal: 57.7s\tremaining: 50.2s\n",
      "535:\tlearn: 0.9610449\ttest: 0.9476942\tbest: 0.9476942 (472)\ttotal: 57.8s\tremaining: 50.1s\n",
      "536:\tlearn: 0.9610927\ttest: 0.9476942\tbest: 0.9476942 (472)\ttotal: 57.9s\tremaining: 50s\n",
      "537:\tlearn: 0.9610927\ttest: 0.9476384\tbest: 0.9476942 (472)\ttotal: 58.1s\tremaining: 49.9s\n",
      "538:\tlearn: 0.9610449\ttest: 0.9477500\tbest: 0.9477500 (538)\ttotal: 58.1s\tremaining: 49.7s\n",
      "539:\tlearn: 0.9611166\ttest: 0.9477500\tbest: 0.9477500 (538)\ttotal: 58.2s\tremaining: 49.6s\n",
      "540:\tlearn: 0.9611405\ttest: 0.9477500\tbest: 0.9477500 (538)\ttotal: 58.3s\tremaining: 49.5s\n",
      "541:\tlearn: 0.9612122\ttest: 0.9478057\tbest: 0.9478057 (541)\ttotal: 58.4s\tremaining: 49.4s\n",
      "542:\tlearn: 0.9611166\ttest: 0.9478057\tbest: 0.9478057 (541)\ttotal: 58.5s\tremaining: 49.3s\n",
      "543:\tlearn: 0.9610688\ttest: 0.9478615\tbest: 0.9478615 (543)\ttotal: 58.6s\tremaining: 49.1s\n",
      "544:\tlearn: 0.9610927\ttest: 0.9478057\tbest: 0.9478615 (543)\ttotal: 58.7s\tremaining: 49s\n",
      "545:\tlearn: 0.9611166\ttest: 0.9478615\tbest: 0.9478615 (543)\ttotal: 58.8s\tremaining: 48.9s\n",
      "546:\tlearn: 0.9611644\ttest: 0.9479730\tbest: 0.9479730 (546)\ttotal: 58.9s\tremaining: 48.8s\n",
      "547:\tlearn: 0.9613316\ttest: 0.9481961\tbest: 0.9481961 (547)\ttotal: 59s\tremaining: 48.7s\n",
      "548:\tlearn: 0.9613555\ttest: 0.9480288\tbest: 0.9481961 (547)\ttotal: 59.1s\tremaining: 48.6s\n",
      "549:\tlearn: 0.9614272\ttest: 0.9480845\tbest: 0.9481961 (547)\ttotal: 59.2s\tremaining: 48.5s\n",
      "550:\tlearn: 0.9614750\ttest: 0.9480288\tbest: 0.9481961 (547)\ttotal: 59.3s\tremaining: 48.3s\n",
      "551:\tlearn: 0.9614989\ttest: 0.9480845\tbest: 0.9481961 (547)\ttotal: 59.4s\tremaining: 48.2s\n",
      "552:\tlearn: 0.9614989\ttest: 0.9478615\tbest: 0.9481961 (547)\ttotal: 59.5s\tremaining: 48.1s\n",
      "553:\tlearn: 0.9614989\ttest: 0.9476942\tbest: 0.9481961 (547)\ttotal: 59.6s\tremaining: 48s\n"
     ]
    },
    {
     "name": "stdout",
     "output_type": "stream",
     "text": [
      "554:\tlearn: 0.9614989\ttest: 0.9476384\tbest: 0.9481961 (547)\ttotal: 59.7s\tremaining: 47.9s\n",
      "555:\tlearn: 0.9614272\ttest: 0.9478057\tbest: 0.9481961 (547)\ttotal: 59.8s\tremaining: 47.8s\n",
      "556:\tlearn: 0.9615945\ttest: 0.9478615\tbest: 0.9481961 (547)\ttotal: 59.9s\tremaining: 47.7s\n",
      "557:\tlearn: 0.9615945\ttest: 0.9479172\tbest: 0.9481961 (547)\ttotal: 1m\tremaining: 47.5s\n",
      "558:\tlearn: 0.9615945\ttest: 0.9478615\tbest: 0.9481961 (547)\ttotal: 1m\tremaining: 47.4s\n",
      "559:\tlearn: 0.9617140\ttest: 0.9477500\tbest: 0.9481961 (547)\ttotal: 1m\tremaining: 47.3s\n",
      "560:\tlearn: 0.9617140\ttest: 0.9477500\tbest: 0.9481961 (547)\ttotal: 1m\tremaining: 47.2s\n",
      "561:\tlearn: 0.9617140\ttest: 0.9477500\tbest: 0.9481961 (547)\ttotal: 1m\tremaining: 47.1s\n",
      "562:\tlearn: 0.9616662\ttest: 0.9477500\tbest: 0.9481961 (547)\ttotal: 1m\tremaining: 47s\n",
      "563:\tlearn: 0.9617140\ttest: 0.9479172\tbest: 0.9481961 (547)\ttotal: 1m\tremaining: 46.8s\n",
      "564:\tlearn: 0.9617618\ttest: 0.9480288\tbest: 0.9481961 (547)\ttotal: 1m\tremaining: 46.7s\n",
      "565:\tlearn: 0.9617618\ttest: 0.9479730\tbest: 0.9481961 (547)\ttotal: 1m\tremaining: 46.6s\n",
      "566:\tlearn: 0.9618335\ttest: 0.9479172\tbest: 0.9481961 (547)\ttotal: 1m\tremaining: 46.5s\n",
      "567:\tlearn: 0.9619291\ttest: 0.9480288\tbest: 0.9481961 (547)\ttotal: 1m 1s\tremaining: 46.4s\n",
      "568:\tlearn: 0.9620008\ttest: 0.9479172\tbest: 0.9481961 (547)\ttotal: 1m 1s\tremaining: 46.3s\n",
      "569:\tlearn: 0.9620247\ttest: 0.9478615\tbest: 0.9481961 (547)\ttotal: 1m 1s\tremaining: 46.2s\n",
      "570:\tlearn: 0.9620247\ttest: 0.9479172\tbest: 0.9481961 (547)\ttotal: 1m 1s\tremaining: 46.1s\n",
      "571:\tlearn: 0.9620247\ttest: 0.9479172\tbest: 0.9481961 (547)\ttotal: 1m 1s\tremaining: 45.9s\n",
      "572:\tlearn: 0.9619769\ttest: 0.9478057\tbest: 0.9481961 (547)\ttotal: 1m 1s\tremaining: 45.9s\n",
      "573:\tlearn: 0.9620247\ttest: 0.9479172\tbest: 0.9481961 (547)\ttotal: 1m 1s\tremaining: 45.8s\n",
      "574:\tlearn: 0.9620008\ttest: 0.9479730\tbest: 0.9481961 (547)\ttotal: 1m 1s\tremaining: 45.6s\n",
      "575:\tlearn: 0.9621442\ttest: 0.9479730\tbest: 0.9481961 (547)\ttotal: 1m 1s\tremaining: 45.5s\n",
      "576:\tlearn: 0.9621442\ttest: 0.9479172\tbest: 0.9481961 (547)\ttotal: 1m 1s\tremaining: 45.4s\n",
      "577:\tlearn: 0.9621442\ttest: 0.9479172\tbest: 0.9481961 (547)\ttotal: 1m 2s\tremaining: 45.3s\n",
      "578:\tlearn: 0.9621920\ttest: 0.9476942\tbest: 0.9481961 (547)\ttotal: 1m 2s\tremaining: 45.3s\n",
      "579:\tlearn: 0.9622398\ttest: 0.9476384\tbest: 0.9481961 (547)\ttotal: 1m 2s\tremaining: 45.2s\n",
      "580:\tlearn: 0.9622876\ttest: 0.9476384\tbest: 0.9481961 (547)\ttotal: 1m 2s\tremaining: 45.1s\n",
      "581:\tlearn: 0.9622876\ttest: 0.9476384\tbest: 0.9481961 (547)\ttotal: 1m 2s\tremaining: 45s\n",
      "582:\tlearn: 0.9623593\ttest: 0.9476942\tbest: 0.9481961 (547)\ttotal: 1m 2s\tremaining: 44.9s\n",
      "583:\tlearn: 0.9623593\ttest: 0.9478615\tbest: 0.9481961 (547)\ttotal: 1m 2s\tremaining: 44.8s\n",
      "584:\tlearn: 0.9624549\ttest: 0.9478615\tbest: 0.9481961 (547)\ttotal: 1m 3s\tremaining: 44.7s\n",
      "585:\tlearn: 0.9624071\ttest: 0.9478615\tbest: 0.9481961 (547)\ttotal: 1m 3s\tremaining: 44.6s\n",
      "586:\tlearn: 0.9624549\ttest: 0.9479172\tbest: 0.9481961 (547)\ttotal: 1m 3s\tremaining: 44.5s\n",
      "587:\tlearn: 0.9624549\ttest: 0.9479172\tbest: 0.9481961 (547)\ttotal: 1m 3s\tremaining: 44.4s\n",
      "588:\tlearn: 0.9624071\ttest: 0.9479730\tbest: 0.9481961 (547)\ttotal: 1m 3s\tremaining: 44.3s\n",
      "589:\tlearn: 0.9624310\ttest: 0.9480288\tbest: 0.9481961 (547)\ttotal: 1m 3s\tremaining: 44.2s\n",
      "590:\tlearn: 0.9624788\ttest: 0.9479172\tbest: 0.9481961 (547)\ttotal: 1m 3s\tremaining: 44.1s\n",
      "591:\tlearn: 0.9625266\ttest: 0.9480288\tbest: 0.9481961 (547)\ttotal: 1m 3s\tremaining: 44s\n",
      "592:\tlearn: 0.9625505\ttest: 0.9480845\tbest: 0.9481961 (547)\ttotal: 1m 3s\tremaining: 43.9s\n",
      "593:\tlearn: 0.9625505\ttest: 0.9480845\tbest: 0.9481961 (547)\ttotal: 1m 4s\tremaining: 43.7s\n",
      "594:\tlearn: 0.9625744\ttest: 0.9480845\tbest: 0.9481961 (547)\ttotal: 1m 4s\tremaining: 43.6s\n",
      "595:\tlearn: 0.9626222\ttest: 0.9481961\tbest: 0.9481961 (547)\ttotal: 1m 4s\tremaining: 43.5s\n",
      "596:\tlearn: 0.9626461\ttest: 0.9480845\tbest: 0.9481961 (547)\ttotal: 1m 4s\tremaining: 43.4s\n",
      "597:\tlearn: 0.9626939\ttest: 0.9482518\tbest: 0.9482518 (597)\ttotal: 1m 4s\tremaining: 43.3s\n",
      "598:\tlearn: 0.9627178\ttest: 0.9481961\tbest: 0.9482518 (597)\ttotal: 1m 4s\tremaining: 43.2s\n",
      "599:\tlearn: 0.9627178\ttest: 0.9482518\tbest: 0.9482518 (597)\ttotal: 1m 4s\tremaining: 43s\n",
      "600:\tlearn: 0.9627417\ttest: 0.9485864\tbest: 0.9485864 (600)\ttotal: 1m 4s\tremaining: 42.9s\n",
      "601:\tlearn: 0.9628134\ttest: 0.9485864\tbest: 0.9485864 (600)\ttotal: 1m 4s\tremaining: 42.8s\n",
      "602:\tlearn: 0.9628134\ttest: 0.9485864\tbest: 0.9485864 (600)\ttotal: 1m 4s\tremaining: 42.7s\n",
      "603:\tlearn: 0.9627417\ttest: 0.9486422\tbest: 0.9486422 (603)\ttotal: 1m 4s\tremaining: 42.6s\n",
      "604:\tlearn: 0.9627178\ttest: 0.9485864\tbest: 0.9486422 (603)\ttotal: 1m 5s\tremaining: 42.5s\n",
      "605:\tlearn: 0.9627417\ttest: 0.9485864\tbest: 0.9486422 (603)\ttotal: 1m 5s\tremaining: 42.3s\n",
      "606:\tlearn: 0.9628373\ttest: 0.9485864\tbest: 0.9486422 (603)\ttotal: 1m 5s\tremaining: 42.2s\n",
      "607:\tlearn: 0.9628851\ttest: 0.9485864\tbest: 0.9486422 (603)\ttotal: 1m 5s\tremaining: 42.1s\n",
      "608:\tlearn: 0.9628851\ttest: 0.9485306\tbest: 0.9486422 (603)\ttotal: 1m 5s\tremaining: 42s\n",
      "609:\tlearn: 0.9628851\ttest: 0.9485864\tbest: 0.9486422 (603)\ttotal: 1m 5s\tremaining: 41.9s\n",
      "610:\tlearn: 0.9628851\ttest: 0.9485864\tbest: 0.9486422 (603)\ttotal: 1m 5s\tremaining: 41.8s\n",
      "611:\tlearn: 0.9628851\ttest: 0.9485864\tbest: 0.9486422 (603)\ttotal: 1m 5s\tremaining: 41.7s\n",
      "612:\tlearn: 0.9629807\ttest: 0.9484191\tbest: 0.9486422 (603)\ttotal: 1m 5s\tremaining: 41.6s\n",
      "613:\tlearn: 0.9629568\ttest: 0.9484749\tbest: 0.9486422 (603)\ttotal: 1m 5s\tremaining: 41.5s\n",
      "614:\tlearn: 0.9630285\ttest: 0.9484749\tbest: 0.9486422 (603)\ttotal: 1m 6s\tremaining: 41.4s\n",
      "615:\tlearn: 0.9629329\ttest: 0.9485864\tbest: 0.9486422 (603)\ttotal: 1m 6s\tremaining: 41.2s\n",
      "616:\tlearn: 0.9630046\ttest: 0.9484749\tbest: 0.9486422 (603)\ttotal: 1m 6s\tremaining: 41.1s\n",
      "617:\tlearn: 0.9630046\ttest: 0.9485306\tbest: 0.9486422 (603)\ttotal: 1m 6s\tremaining: 41s\n",
      "618:\tlearn: 0.9630285\ttest: 0.9485306\tbest: 0.9486422 (603)\ttotal: 1m 6s\tremaining: 40.9s\n",
      "619:\tlearn: 0.9630046\ttest: 0.9484749\tbest: 0.9486422 (603)\ttotal: 1m 6s\tremaining: 40.8s\n",
      "620:\tlearn: 0.9630763\ttest: 0.9485864\tbest: 0.9486422 (603)\ttotal: 1m 6s\tremaining: 40.7s\n",
      "621:\tlearn: 0.9631002\ttest: 0.9485306\tbest: 0.9486422 (603)\ttotal: 1m 6s\tremaining: 40.6s\n",
      "622:\tlearn: 0.9632914\ttest: 0.9484191\tbest: 0.9486422 (603)\ttotal: 1m 6s\tremaining: 40.5s\n",
      "623:\tlearn: 0.9633152\ttest: 0.9484749\tbest: 0.9486422 (603)\ttotal: 1m 7s\tremaining: 40.4s\n",
      "624:\tlearn: 0.9633152\ttest: 0.9484749\tbest: 0.9486422 (603)\ttotal: 1m 7s\tremaining: 40.3s\n",
      "625:\tlearn: 0.9633152\ttest: 0.9484191\tbest: 0.9486422 (603)\ttotal: 1m 7s\tremaining: 40.2s\n",
      "626:\tlearn: 0.9634108\ttest: 0.9484749\tbest: 0.9486422 (603)\ttotal: 1m 7s\tremaining: 40.1s\n",
      "627:\tlearn: 0.9634108\ttest: 0.9484191\tbest: 0.9486422 (603)\ttotal: 1m 7s\tremaining: 40s\n",
      "628:\tlearn: 0.9634108\ttest: 0.9484749\tbest: 0.9486422 (603)\ttotal: 1m 7s\tremaining: 39.8s\n",
      "629:\tlearn: 0.9634108\ttest: 0.9483076\tbest: 0.9486422 (603)\ttotal: 1m 7s\tremaining: 39.7s\n",
      "630:\tlearn: 0.9634108\ttest: 0.9482518\tbest: 0.9486422 (603)\ttotal: 1m 7s\tremaining: 39.6s\n",
      "631:\tlearn: 0.9634586\ttest: 0.9483076\tbest: 0.9486422 (603)\ttotal: 1m 7s\tremaining: 39.5s\n",
      "632:\tlearn: 0.9635064\ttest: 0.9480845\tbest: 0.9486422 (603)\ttotal: 1m 7s\tremaining: 39.4s\n",
      "633:\tlearn: 0.9635303\ttest: 0.9481403\tbest: 0.9486422 (603)\ttotal: 1m 8s\tremaining: 39.3s\n",
      "634:\tlearn: 0.9635781\ttest: 0.9480845\tbest: 0.9486422 (603)\ttotal: 1m 8s\tremaining: 39.2s\n",
      "635:\tlearn: 0.9636976\ttest: 0.9480845\tbest: 0.9486422 (603)\ttotal: 1m 8s\tremaining: 39.1s\n",
      "636:\tlearn: 0.9637215\ttest: 0.9480288\tbest: 0.9486422 (603)\ttotal: 1m 8s\tremaining: 38.9s\n",
      "637:\tlearn: 0.9636737\ttest: 0.9481961\tbest: 0.9486422 (603)\ttotal: 1m 8s\tremaining: 38.8s\n",
      "638:\tlearn: 0.9637454\ttest: 0.9482518\tbest: 0.9486422 (603)\ttotal: 1m 8s\tremaining: 38.7s\n",
      "639:\tlearn: 0.9637932\ttest: 0.9483634\tbest: 0.9486422 (603)\ttotal: 1m 8s\tremaining: 38.6s\n",
      "640:\tlearn: 0.9637693\ttest: 0.9483634\tbest: 0.9486422 (603)\ttotal: 1m 8s\tremaining: 38.5s\n",
      "641:\tlearn: 0.9637932\ttest: 0.9483076\tbest: 0.9486422 (603)\ttotal: 1m 8s\tremaining: 38.4s\n",
      "642:\tlearn: 0.9637932\ttest: 0.9484191\tbest: 0.9486422 (603)\ttotal: 1m 8s\tremaining: 38.3s\n",
      "643:\tlearn: 0.9638410\ttest: 0.9483634\tbest: 0.9486422 (603)\ttotal: 1m 9s\tremaining: 38.2s\n",
      "644:\tlearn: 0.9640083\ttest: 0.9482518\tbest: 0.9486422 (603)\ttotal: 1m 9s\tremaining: 38s\n",
      "645:\tlearn: 0.9640561\ttest: 0.9481961\tbest: 0.9486422 (603)\ttotal: 1m 9s\tremaining: 37.9s\n"
     ]
    },
    {
     "name": "stdout",
     "output_type": "stream",
     "text": [
      "646:\tlearn: 0.9641995\ttest: 0.9481961\tbest: 0.9486422 (603)\ttotal: 1m 9s\tremaining: 37.8s\n",
      "647:\tlearn: 0.9642951\ttest: 0.9482518\tbest: 0.9486422 (603)\ttotal: 1m 9s\tremaining: 37.7s\n",
      "648:\tlearn: 0.9641756\ttest: 0.9484191\tbest: 0.9486422 (603)\ttotal: 1m 9s\tremaining: 37.6s\n",
      "649:\tlearn: 0.9642234\ttest: 0.9485306\tbest: 0.9486422 (603)\ttotal: 1m 9s\tremaining: 37.5s\n",
      "650:\tlearn: 0.9642712\ttest: 0.9484749\tbest: 0.9486422 (603)\ttotal: 1m 9s\tremaining: 37.4s\n",
      "651:\tlearn: 0.9644146\ttest: 0.9484749\tbest: 0.9486422 (603)\ttotal: 1m 9s\tremaining: 37.3s\n",
      "652:\tlearn: 0.9644863\ttest: 0.9484191\tbest: 0.9486422 (603)\ttotal: 1m 9s\tremaining: 37.2s\n",
      "653:\tlearn: 0.9644863\ttest: 0.9484191\tbest: 0.9486422 (603)\ttotal: 1m 10s\tremaining: 37s\n",
      "654:\tlearn: 0.9645580\ttest: 0.9485864\tbest: 0.9486422 (603)\ttotal: 1m 10s\tremaining: 36.9s\n",
      "655:\tlearn: 0.9645580\ttest: 0.9485306\tbest: 0.9486422 (603)\ttotal: 1m 10s\tremaining: 36.8s\n",
      "656:\tlearn: 0.9645580\ttest: 0.9485306\tbest: 0.9486422 (603)\ttotal: 1m 10s\tremaining: 36.7s\n",
      "657:\tlearn: 0.9646297\ttest: 0.9485306\tbest: 0.9486422 (603)\ttotal: 1m 10s\tremaining: 36.6s\n",
      "658:\tlearn: 0.9645341\ttest: 0.9486422\tbest: 0.9486422 (603)\ttotal: 1m 10s\tremaining: 36.5s\n",
      "659:\tlearn: 0.9647731\ttest: 0.9485306\tbest: 0.9486422 (603)\ttotal: 1m 10s\tremaining: 36.4s\n",
      "660:\tlearn: 0.9646058\ttest: 0.9484749\tbest: 0.9486422 (603)\ttotal: 1m 10s\tremaining: 36.3s\n",
      "661:\tlearn: 0.9647014\ttest: 0.9485864\tbest: 0.9486422 (603)\ttotal: 1m 10s\tremaining: 36.2s\n",
      "662:\tlearn: 0.9645819\ttest: 0.9483634\tbest: 0.9486422 (603)\ttotal: 1m 10s\tremaining: 36s\n",
      "663:\tlearn: 0.9646536\ttest: 0.9483634\tbest: 0.9486422 (603)\ttotal: 1m 11s\tremaining: 35.9s\n",
      "664:\tlearn: 0.9646058\ttest: 0.9482518\tbest: 0.9486422 (603)\ttotal: 1m 11s\tremaining: 35.8s\n",
      "665:\tlearn: 0.9646775\ttest: 0.9484191\tbest: 0.9486422 (603)\ttotal: 1m 11s\tremaining: 35.7s\n",
      "666:\tlearn: 0.9647253\ttest: 0.9483634\tbest: 0.9486422 (603)\ttotal: 1m 11s\tremaining: 35.6s\n",
      "667:\tlearn: 0.9646536\ttest: 0.9484749\tbest: 0.9486422 (603)\ttotal: 1m 11s\tremaining: 35.5s\n",
      "668:\tlearn: 0.9646536\ttest: 0.9485306\tbest: 0.9486422 (603)\ttotal: 1m 11s\tremaining: 35.4s\n",
      "669:\tlearn: 0.9647970\ttest: 0.9483634\tbest: 0.9486422 (603)\ttotal: 1m 11s\tremaining: 35.3s\n",
      "670:\tlearn: 0.9648448\ttest: 0.9484191\tbest: 0.9486422 (603)\ttotal: 1m 11s\tremaining: 35.2s\n",
      "671:\tlearn: 0.9648687\ttest: 0.9483634\tbest: 0.9486422 (603)\ttotal: 1m 11s\tremaining: 35s\n",
      "672:\tlearn: 0.9649643\ttest: 0.9483634\tbest: 0.9486422 (603)\ttotal: 1m 11s\tremaining: 34.9s\n",
      "673:\tlearn: 0.9650121\ttest: 0.9486422\tbest: 0.9486422 (603)\ttotal: 1m 12s\tremaining: 34.8s\n",
      "674:\tlearn: 0.9650121\ttest: 0.9486422\tbest: 0.9486422 (603)\ttotal: 1m 12s\tremaining: 34.7s\n",
      "675:\tlearn: 0.9650360\ttest: 0.9486979\tbest: 0.9486979 (675)\ttotal: 1m 12s\tremaining: 34.6s\n",
      "676:\tlearn: 0.9650121\ttest: 0.9486979\tbest: 0.9486979 (675)\ttotal: 1m 12s\tremaining: 34.5s\n",
      "677:\tlearn: 0.9651077\ttest: 0.9487537\tbest: 0.9487537 (677)\ttotal: 1m 12s\tremaining: 34.4s\n",
      "678:\tlearn: 0.9650838\ttest: 0.9488095\tbest: 0.9488095 (678)\ttotal: 1m 12s\tremaining: 34.3s\n",
      "679:\tlearn: 0.9650599\ttest: 0.9488652\tbest: 0.9488652 (679)\ttotal: 1m 12s\tremaining: 34.2s\n",
      "680:\tlearn: 0.9651794\ttest: 0.9488652\tbest: 0.9488652 (679)\ttotal: 1m 12s\tremaining: 34.1s\n",
      "681:\tlearn: 0.9652511\ttest: 0.9489767\tbest: 0.9489767 (681)\ttotal: 1m 12s\tremaining: 33.9s\n",
      "682:\tlearn: 0.9653228\ttest: 0.9490325\tbest: 0.9490325 (682)\ttotal: 1m 12s\tremaining: 33.8s\n",
      "683:\tlearn: 0.9652511\ttest: 0.9488652\tbest: 0.9490325 (682)\ttotal: 1m 13s\tremaining: 33.7s\n",
      "684:\tlearn: 0.9654183\ttest: 0.9489210\tbest: 0.9490325 (682)\ttotal: 1m 13s\tremaining: 33.6s\n",
      "685:\tlearn: 0.9652750\ttest: 0.9488095\tbest: 0.9490325 (682)\ttotal: 1m 13s\tremaining: 33.5s\n",
      "686:\tlearn: 0.9652989\ttest: 0.9487537\tbest: 0.9490325 (682)\ttotal: 1m 13s\tremaining: 33.4s\n",
      "687:\tlearn: 0.9652989\ttest: 0.9489210\tbest: 0.9490325 (682)\ttotal: 1m 13s\tremaining: 33.3s\n",
      "688:\tlearn: 0.9653467\ttest: 0.9488652\tbest: 0.9490325 (682)\ttotal: 1m 13s\tremaining: 33.2s\n",
      "689:\tlearn: 0.9654661\ttest: 0.9488652\tbest: 0.9490325 (682)\ttotal: 1m 13s\tremaining: 33.1s\n",
      "690:\tlearn: 0.9654661\ttest: 0.9489767\tbest: 0.9490325 (682)\ttotal: 1m 13s\tremaining: 33s\n",
      "691:\tlearn: 0.9655139\ttest: 0.9490883\tbest: 0.9490883 (691)\ttotal: 1m 13s\tremaining: 32.9s\n",
      "692:\tlearn: 0.9654900\ttest: 0.9489767\tbest: 0.9490883 (691)\ttotal: 1m 13s\tremaining: 32.7s\n",
      "693:\tlearn: 0.9655617\ttest: 0.9491440\tbest: 0.9491440 (693)\ttotal: 1m 13s\tremaining: 32.6s\n",
      "694:\tlearn: 0.9656334\ttest: 0.9491998\tbest: 0.9491998 (694)\ttotal: 1m 14s\tremaining: 32.5s\n",
      "695:\tlearn: 0.9656334\ttest: 0.9491440\tbest: 0.9491998 (694)\ttotal: 1m 14s\tremaining: 32.4s\n",
      "696:\tlearn: 0.9655856\ttest: 0.9490325\tbest: 0.9491998 (694)\ttotal: 1m 14s\tremaining: 32.3s\n",
      "697:\tlearn: 0.9656095\ttest: 0.9490883\tbest: 0.9491998 (694)\ttotal: 1m 14s\tremaining: 32.2s\n",
      "698:\tlearn: 0.9656573\ttest: 0.9492556\tbest: 0.9492556 (698)\ttotal: 1m 14s\tremaining: 32.1s\n",
      "699:\tlearn: 0.9655856\ttest: 0.9490883\tbest: 0.9492556 (698)\ttotal: 1m 14s\tremaining: 32s\n",
      "700:\tlearn: 0.9656812\ttest: 0.9490325\tbest: 0.9492556 (698)\ttotal: 1m 14s\tremaining: 31.9s\n",
      "701:\tlearn: 0.9656812\ttest: 0.9489767\tbest: 0.9492556 (698)\ttotal: 1m 14s\tremaining: 31.8s\n",
      "702:\tlearn: 0.9656812\ttest: 0.9490883\tbest: 0.9492556 (698)\ttotal: 1m 14s\tremaining: 31.7s\n",
      "703:\tlearn: 0.9657051\ttest: 0.9490883\tbest: 0.9492556 (698)\ttotal: 1m 15s\tremaining: 31.6s\n",
      "704:\tlearn: 0.9658007\ttest: 0.9490325\tbest: 0.9492556 (698)\ttotal: 1m 15s\tremaining: 31.5s\n",
      "705:\tlearn: 0.9658007\ttest: 0.9491998\tbest: 0.9492556 (698)\ttotal: 1m 15s\tremaining: 31.3s\n",
      "706:\tlearn: 0.9658246\ttest: 0.9490325\tbest: 0.9492556 (698)\ttotal: 1m 15s\tremaining: 31.2s\n",
      "707:\tlearn: 0.9658485\ttest: 0.9489210\tbest: 0.9492556 (698)\ttotal: 1m 15s\tremaining: 31.1s\n",
      "708:\tlearn: 0.9658963\ttest: 0.9488095\tbest: 0.9492556 (698)\ttotal: 1m 15s\tremaining: 31s\n",
      "709:\tlearn: 0.9658246\ttest: 0.9489210\tbest: 0.9492556 (698)\ttotal: 1m 15s\tremaining: 30.9s\n",
      "710:\tlearn: 0.9658246\ttest: 0.9490325\tbest: 0.9492556 (698)\ttotal: 1m 15s\tremaining: 30.8s\n",
      "711:\tlearn: 0.9658963\ttest: 0.9489767\tbest: 0.9492556 (698)\ttotal: 1m 15s\tremaining: 30.7s\n",
      "712:\tlearn: 0.9659919\ttest: 0.9489767\tbest: 0.9492556 (698)\ttotal: 1m 15s\tremaining: 30.6s\n",
      "713:\tlearn: 0.9661353\ttest: 0.9489210\tbest: 0.9492556 (698)\ttotal: 1m 16s\tremaining: 30.5s\n",
      "714:\tlearn: 0.9661353\ttest: 0.9489767\tbest: 0.9492556 (698)\ttotal: 1m 16s\tremaining: 30.4s\n",
      "715:\tlearn: 0.9661114\ttest: 0.9489767\tbest: 0.9492556 (698)\ttotal: 1m 16s\tremaining: 30.2s\n",
      "716:\tlearn: 0.9661592\ttest: 0.9489767\tbest: 0.9492556 (698)\ttotal: 1m 16s\tremaining: 30.1s\n",
      "717:\tlearn: 0.9662309\ttest: 0.9488652\tbest: 0.9492556 (698)\ttotal: 1m 16s\tremaining: 30s\n",
      "718:\tlearn: 0.9662548\ttest: 0.9489210\tbest: 0.9492556 (698)\ttotal: 1m 16s\tremaining: 29.9s\n",
      "719:\tlearn: 0.9663504\ttest: 0.9488652\tbest: 0.9492556 (698)\ttotal: 1m 16s\tremaining: 29.8s\n",
      "720:\tlearn: 0.9663265\ttest: 0.9488095\tbest: 0.9492556 (698)\ttotal: 1m 16s\tremaining: 29.7s\n",
      "721:\tlearn: 0.9663026\ttest: 0.9488095\tbest: 0.9492556 (698)\ttotal: 1m 16s\tremaining: 29.6s\n",
      "722:\tlearn: 0.9662070\ttest: 0.9488095\tbest: 0.9492556 (698)\ttotal: 1m 16s\tremaining: 29.5s\n",
      "723:\tlearn: 0.9662787\ttest: 0.9487537\tbest: 0.9492556 (698)\ttotal: 1m 17s\tremaining: 29.4s\n",
      "724:\tlearn: 0.9662309\ttest: 0.9487537\tbest: 0.9492556 (698)\ttotal: 1m 17s\tremaining: 29.3s\n",
      "725:\tlearn: 0.9663982\ttest: 0.9486979\tbest: 0.9492556 (698)\ttotal: 1m 17s\tremaining: 29.1s\n",
      "726:\tlearn: 0.9664699\ttest: 0.9485864\tbest: 0.9492556 (698)\ttotal: 1m 17s\tremaining: 29s\n",
      "727:\tlearn: 0.9664699\ttest: 0.9486422\tbest: 0.9492556 (698)\ttotal: 1m 17s\tremaining: 28.9s\n",
      "728:\tlearn: 0.9665416\ttest: 0.9486979\tbest: 0.9492556 (698)\ttotal: 1m 17s\tremaining: 28.8s\n",
      "729:\tlearn: 0.9664699\ttest: 0.9487537\tbest: 0.9492556 (698)\ttotal: 1m 17s\tremaining: 28.7s\n",
      "730:\tlearn: 0.9664460\ttest: 0.9489210\tbest: 0.9492556 (698)\ttotal: 1m 17s\tremaining: 28.6s\n",
      "731:\tlearn: 0.9665177\ttest: 0.9489767\tbest: 0.9492556 (698)\ttotal: 1m 17s\tremaining: 28.5s\n",
      "732:\tlearn: 0.9665894\ttest: 0.9488652\tbest: 0.9492556 (698)\ttotal: 1m 18s\tremaining: 28.4s\n",
      "733:\tlearn: 0.9665655\ttest: 0.9487537\tbest: 0.9492556 (698)\ttotal: 1m 18s\tremaining: 28.3s\n",
      "734:\tlearn: 0.9665655\ttest: 0.9485864\tbest: 0.9492556 (698)\ttotal: 1m 18s\tremaining: 28.2s\n",
      "735:\tlearn: 0.9666372\ttest: 0.9485864\tbest: 0.9492556 (698)\ttotal: 1m 18s\tremaining: 28.1s\n",
      "736:\tlearn: 0.9666133\ttest: 0.9486979\tbest: 0.9492556 (698)\ttotal: 1m 18s\tremaining: 28s\n"
     ]
    },
    {
     "name": "stdout",
     "output_type": "stream",
     "text": [
      "737:\tlearn: 0.9667089\ttest: 0.9487537\tbest: 0.9492556 (698)\ttotal: 1m 18s\tremaining: 27.9s\n",
      "738:\tlearn: 0.9667567\ttest: 0.9487537\tbest: 0.9492556 (698)\ttotal: 1m 18s\tremaining: 27.8s\n",
      "739:\tlearn: 0.9667328\ttest: 0.9488095\tbest: 0.9492556 (698)\ttotal: 1m 18s\tremaining: 27.7s\n",
      "740:\tlearn: 0.9667806\ttest: 0.9488095\tbest: 0.9492556 (698)\ttotal: 1m 19s\tremaining: 27.6s\n",
      "741:\tlearn: 0.9668045\ttest: 0.9488095\tbest: 0.9492556 (698)\ttotal: 1m 19s\tremaining: 27.5s\n",
      "742:\tlearn: 0.9668523\ttest: 0.9488095\tbest: 0.9492556 (698)\ttotal: 1m 19s\tremaining: 27.4s\n",
      "743:\tlearn: 0.9669001\ttest: 0.9489210\tbest: 0.9492556 (698)\ttotal: 1m 19s\tremaining: 27.3s\n",
      "744:\tlearn: 0.9669240\ttest: 0.9489767\tbest: 0.9492556 (698)\ttotal: 1m 19s\tremaining: 27.2s\n",
      "745:\tlearn: 0.9668762\ttest: 0.9489210\tbest: 0.9492556 (698)\ttotal: 1m 19s\tremaining: 27.1s\n",
      "746:\tlearn: 0.9669001\ttest: 0.9489210\tbest: 0.9492556 (698)\ttotal: 1m 19s\tremaining: 27s\n",
      "747:\tlearn: 0.9669001\ttest: 0.9489210\tbest: 0.9492556 (698)\ttotal: 1m 19s\tremaining: 26.9s\n",
      "748:\tlearn: 0.9669001\ttest: 0.9490883\tbest: 0.9492556 (698)\ttotal: 1m 19s\tremaining: 26.8s\n",
      "749:\tlearn: 0.9670196\ttest: 0.9489210\tbest: 0.9492556 (698)\ttotal: 1m 19s\tremaining: 26.7s\n",
      "750:\tlearn: 0.9669957\ttest: 0.9488652\tbest: 0.9492556 (698)\ttotal: 1m 20s\tremaining: 26.5s\n",
      "751:\tlearn: 0.9670674\ttest: 0.9487537\tbest: 0.9492556 (698)\ttotal: 1m 20s\tremaining: 26.4s\n",
      "752:\tlearn: 0.9669718\ttest: 0.9488652\tbest: 0.9492556 (698)\ttotal: 1m 20s\tremaining: 26.3s\n",
      "753:\tlearn: 0.9669957\ttest: 0.9490325\tbest: 0.9492556 (698)\ttotal: 1m 20s\tremaining: 26.2s\n",
      "754:\tlearn: 0.9670196\ttest: 0.9490883\tbest: 0.9492556 (698)\ttotal: 1m 20s\tremaining: 26.1s\n",
      "755:\tlearn: 0.9668523\ttest: 0.9487537\tbest: 0.9492556 (698)\ttotal: 1m 20s\tremaining: 26s\n",
      "756:\tlearn: 0.9670435\ttest: 0.9488652\tbest: 0.9492556 (698)\ttotal: 1m 20s\tremaining: 25.9s\n",
      "757:\tlearn: 0.9671152\ttest: 0.9488095\tbest: 0.9492556 (698)\ttotal: 1m 20s\tremaining: 25.8s\n",
      "758:\tlearn: 0.9671391\ttest: 0.9488095\tbest: 0.9492556 (698)\ttotal: 1m 20s\tremaining: 25.7s\n",
      "759:\tlearn: 0.9672586\ttest: 0.9488095\tbest: 0.9492556 (698)\ttotal: 1m 20s\tremaining: 25.6s\n",
      "760:\tlearn: 0.9672347\ttest: 0.9488652\tbest: 0.9492556 (698)\ttotal: 1m 21s\tremaining: 25.5s\n",
      "761:\tlearn: 0.9672586\ttest: 0.9488652\tbest: 0.9492556 (698)\ttotal: 1m 21s\tremaining: 25.4s\n",
      "762:\tlearn: 0.9672825\ttest: 0.9487537\tbest: 0.9492556 (698)\ttotal: 1m 21s\tremaining: 25.3s\n",
      "763:\tlearn: 0.9673781\ttest: 0.9486979\tbest: 0.9492556 (698)\ttotal: 1m 21s\tremaining: 25.2s\n",
      "764:\tlearn: 0.9673781\ttest: 0.9486979\tbest: 0.9492556 (698)\ttotal: 1m 21s\tremaining: 25.1s\n",
      "765:\tlearn: 0.9673781\ttest: 0.9484749\tbest: 0.9492556 (698)\ttotal: 1m 21s\tremaining: 25s\n",
      "766:\tlearn: 0.9673781\ttest: 0.9485306\tbest: 0.9492556 (698)\ttotal: 1m 21s\tremaining: 24.9s\n",
      "767:\tlearn: 0.9674737\ttest: 0.9486422\tbest: 0.9492556 (698)\ttotal: 1m 21s\tremaining: 24.8s\n",
      "768:\tlearn: 0.9674976\ttest: 0.9485306\tbest: 0.9492556 (698)\ttotal: 1m 22s\tremaining: 24.6s\n",
      "769:\tlearn: 0.9675453\ttest: 0.9485864\tbest: 0.9492556 (698)\ttotal: 1m 22s\tremaining: 24.5s\n",
      "770:\tlearn: 0.9675453\ttest: 0.9485306\tbest: 0.9492556 (698)\ttotal: 1m 22s\tremaining: 24.4s\n",
      "771:\tlearn: 0.9675692\ttest: 0.9485306\tbest: 0.9492556 (698)\ttotal: 1m 22s\tremaining: 24.3s\n",
      "772:\tlearn: 0.9676409\ttest: 0.9485306\tbest: 0.9492556 (698)\ttotal: 1m 22s\tremaining: 24.2s\n",
      "773:\tlearn: 0.9677365\ttest: 0.9484749\tbest: 0.9492556 (698)\ttotal: 1m 22s\tremaining: 24.1s\n",
      "774:\tlearn: 0.9678560\ttest: 0.9484749\tbest: 0.9492556 (698)\ttotal: 1m 22s\tremaining: 24s\n",
      "775:\tlearn: 0.9678082\ttest: 0.9484191\tbest: 0.9492556 (698)\ttotal: 1m 22s\tremaining: 23.9s\n",
      "776:\tlearn: 0.9678321\ttest: 0.9486422\tbest: 0.9492556 (698)\ttotal: 1m 22s\tremaining: 23.8s\n",
      "777:\tlearn: 0.9678560\ttest: 0.9485306\tbest: 0.9492556 (698)\ttotal: 1m 22s\tremaining: 23.7s\n",
      "778:\tlearn: 0.9678799\ttest: 0.9485306\tbest: 0.9492556 (698)\ttotal: 1m 23s\tremaining: 23.6s\n",
      "779:\tlearn: 0.9678560\ttest: 0.9485306\tbest: 0.9492556 (698)\ttotal: 1m 23s\tremaining: 23.4s\n",
      "780:\tlearn: 0.9678799\ttest: 0.9485306\tbest: 0.9492556 (698)\ttotal: 1m 23s\tremaining: 23.3s\n",
      "781:\tlearn: 0.9680711\ttest: 0.9486422\tbest: 0.9492556 (698)\ttotal: 1m 23s\tremaining: 23.2s\n",
      "782:\tlearn: 0.9680711\ttest: 0.9486422\tbest: 0.9492556 (698)\ttotal: 1m 23s\tremaining: 23.1s\n",
      "783:\tlearn: 0.9680950\ttest: 0.9486979\tbest: 0.9492556 (698)\ttotal: 1m 23s\tremaining: 23s\n",
      "784:\tlearn: 0.9681428\ttest: 0.9486979\tbest: 0.9492556 (698)\ttotal: 1m 23s\tremaining: 22.9s\n",
      "785:\tlearn: 0.9682384\ttest: 0.9488095\tbest: 0.9492556 (698)\ttotal: 1m 23s\tremaining: 22.8s\n",
      "786:\tlearn: 0.9682623\ttest: 0.9488095\tbest: 0.9492556 (698)\ttotal: 1m 23s\tremaining: 22.7s\n",
      "787:\tlearn: 0.9682145\ttest: 0.9486422\tbest: 0.9492556 (698)\ttotal: 1m 23s\tremaining: 22.6s\n",
      "788:\tlearn: 0.9682623\ttest: 0.9488095\tbest: 0.9492556 (698)\ttotal: 1m 24s\tremaining: 22.5s\n",
      "789:\tlearn: 0.9682384\ttest: 0.9487537\tbest: 0.9492556 (698)\ttotal: 1m 24s\tremaining: 22.4s\n",
      "790:\tlearn: 0.9683101\ttest: 0.9488095\tbest: 0.9492556 (698)\ttotal: 1m 24s\tremaining: 22.3s\n",
      "791:\tlearn: 0.9683818\ttest: 0.9488095\tbest: 0.9492556 (698)\ttotal: 1m 24s\tremaining: 22.1s\n",
      "792:\tlearn: 0.9684535\ttest: 0.9487537\tbest: 0.9492556 (698)\ttotal: 1m 24s\tremaining: 22s\n",
      "793:\tlearn: 0.9684057\ttest: 0.9488095\tbest: 0.9492556 (698)\ttotal: 1m 24s\tremaining: 21.9s\n",
      "794:\tlearn: 0.9683818\ttest: 0.9488652\tbest: 0.9492556 (698)\ttotal: 1m 24s\tremaining: 21.8s\n",
      "795:\tlearn: 0.9685252\ttest: 0.9489210\tbest: 0.9492556 (698)\ttotal: 1m 24s\tremaining: 21.7s\n",
      "796:\tlearn: 0.9685491\ttest: 0.9489210\tbest: 0.9492556 (698)\ttotal: 1m 24s\tremaining: 21.6s\n",
      "797:\tlearn: 0.9685252\ttest: 0.9489210\tbest: 0.9492556 (698)\ttotal: 1m 24s\tremaining: 21.5s\n",
      "798:\tlearn: 0.9685252\ttest: 0.9490325\tbest: 0.9492556 (698)\ttotal: 1m 24s\tremaining: 21.4s\n",
      "799:\tlearn: 0.9685491\ttest: 0.9491440\tbest: 0.9492556 (698)\ttotal: 1m 25s\tremaining: 21.3s\n",
      "800:\tlearn: 0.9685491\ttest: 0.9491440\tbest: 0.9492556 (698)\ttotal: 1m 25s\tremaining: 21.2s\n",
      "801:\tlearn: 0.9686447\ttest: 0.9491998\tbest: 0.9492556 (698)\ttotal: 1m 25s\tremaining: 21.1s\n",
      "802:\tlearn: 0.9686447\ttest: 0.9491440\tbest: 0.9492556 (698)\ttotal: 1m 25s\tremaining: 20.9s\n",
      "803:\tlearn: 0.9686447\ttest: 0.9491440\tbest: 0.9492556 (698)\ttotal: 1m 25s\tremaining: 20.8s\n",
      "804:\tlearn: 0.9686447\ttest: 0.9491998\tbest: 0.9492556 (698)\ttotal: 1m 25s\tremaining: 20.7s\n",
      "805:\tlearn: 0.9686686\ttest: 0.9490325\tbest: 0.9492556 (698)\ttotal: 1m 25s\tremaining: 20.6s\n",
      "806:\tlearn: 0.9687403\ttest: 0.9490883\tbest: 0.9492556 (698)\ttotal: 1m 25s\tremaining: 20.5s\n",
      "807:\tlearn: 0.9687403\ttest: 0.9490883\tbest: 0.9492556 (698)\ttotal: 1m 25s\tremaining: 20.4s\n",
      "808:\tlearn: 0.9687403\ttest: 0.9490883\tbest: 0.9492556 (698)\ttotal: 1m 25s\tremaining: 20.3s\n",
      "809:\tlearn: 0.9686686\ttest: 0.9490883\tbest: 0.9492556 (698)\ttotal: 1m 26s\tremaining: 20.2s\n",
      "810:\tlearn: 0.9688120\ttest: 0.9492556\tbest: 0.9492556 (698)\ttotal: 1m 26s\tremaining: 20.1s\n",
      "811:\tlearn: 0.9688837\ttest: 0.9493113\tbest: 0.9493113 (811)\ttotal: 1m 26s\tremaining: 20s\n",
      "812:\tlearn: 0.9689076\ttest: 0.9492556\tbest: 0.9493113 (811)\ttotal: 1m 26s\tremaining: 19.9s\n",
      "813:\tlearn: 0.9688837\ttest: 0.9494229\tbest: 0.9494229 (813)\ttotal: 1m 26s\tremaining: 19.8s\n",
      "814:\tlearn: 0.9689793\ttest: 0.9494229\tbest: 0.9494229 (813)\ttotal: 1m 26s\tremaining: 19.7s\n",
      "815:\tlearn: 0.9688598\ttest: 0.9491440\tbest: 0.9494229 (813)\ttotal: 1m 26s\tremaining: 19.6s\n",
      "816:\tlearn: 0.9688598\ttest: 0.9491998\tbest: 0.9494229 (813)\ttotal: 1m 26s\tremaining: 19.5s\n",
      "817:\tlearn: 0.9689554\ttest: 0.9491998\tbest: 0.9494229 (813)\ttotal: 1m 27s\tremaining: 19.4s\n",
      "818:\tlearn: 0.9690988\ttest: 0.9492556\tbest: 0.9494229 (813)\ttotal: 1m 27s\tremaining: 19.3s\n",
      "819:\tlearn: 0.9690988\ttest: 0.9491440\tbest: 0.9494229 (813)\ttotal: 1m 27s\tremaining: 19.2s\n",
      "820:\tlearn: 0.9691227\ttest: 0.9491998\tbest: 0.9494229 (813)\ttotal: 1m 27s\tremaining: 19.1s\n",
      "821:\tlearn: 0.9691227\ttest: 0.9493113\tbest: 0.9494229 (813)\ttotal: 1m 27s\tremaining: 18.9s\n",
      "822:\tlearn: 0.9690988\ttest: 0.9493113\tbest: 0.9494229 (813)\ttotal: 1m 27s\tremaining: 18.8s\n",
      "823:\tlearn: 0.9690988\ttest: 0.9494786\tbest: 0.9494786 (823)\ttotal: 1m 27s\tremaining: 18.7s\n",
      "824:\tlearn: 0.9691705\ttest: 0.9494786\tbest: 0.9494786 (823)\ttotal: 1m 27s\tremaining: 18.6s\n",
      "825:\tlearn: 0.9692422\ttest: 0.9493671\tbest: 0.9494786 (823)\ttotal: 1m 27s\tremaining: 18.5s\n",
      "826:\tlearn: 0.9692422\ttest: 0.9493671\tbest: 0.9494786 (823)\ttotal: 1m 28s\tremaining: 18.4s\n",
      "827:\tlearn: 0.9692183\ttest: 0.9494229\tbest: 0.9494786 (823)\ttotal: 1m 28s\tremaining: 18.3s\n",
      "828:\tlearn: 0.9693856\ttest: 0.9494229\tbest: 0.9494786 (823)\ttotal: 1m 28s\tremaining: 18.2s\n"
     ]
    },
    {
     "name": "stdout",
     "output_type": "stream",
     "text": [
      "829:\tlearn: 0.9693378\ttest: 0.9495344\tbest: 0.9495344 (829)\ttotal: 1m 28s\tremaining: 18.1s\n",
      "830:\tlearn: 0.9693856\ttest: 0.9495901\tbest: 0.9495901 (830)\ttotal: 1m 28s\tremaining: 18s\n",
      "831:\tlearn: 0.9694095\ttest: 0.9494786\tbest: 0.9495901 (830)\ttotal: 1m 28s\tremaining: 17.9s\n",
      "832:\tlearn: 0.9694095\ttest: 0.9494786\tbest: 0.9495901 (830)\ttotal: 1m 28s\tremaining: 17.8s\n",
      "833:\tlearn: 0.9694812\ttest: 0.9494229\tbest: 0.9495901 (830)\ttotal: 1m 28s\tremaining: 17.7s\n",
      "834:\tlearn: 0.9694573\ttest: 0.9496459\tbest: 0.9496459 (834)\ttotal: 1m 28s\tremaining: 17.5s\n",
      "835:\tlearn: 0.9694573\ttest: 0.9497574\tbest: 0.9497574 (835)\ttotal: 1m 28s\tremaining: 17.4s\n",
      "836:\tlearn: 0.9695768\ttest: 0.9495901\tbest: 0.9497574 (835)\ttotal: 1m 28s\tremaining: 17.3s\n",
      "837:\tlearn: 0.9696484\ttest: 0.9495901\tbest: 0.9497574 (835)\ttotal: 1m 29s\tremaining: 17.2s\n",
      "838:\tlearn: 0.9696484\ttest: 0.9494786\tbest: 0.9497574 (835)\ttotal: 1m 29s\tremaining: 17.1s\n",
      "839:\tlearn: 0.9697201\ttest: 0.9494786\tbest: 0.9497574 (835)\ttotal: 1m 29s\tremaining: 17s\n",
      "840:\tlearn: 0.9696962\ttest: 0.9494229\tbest: 0.9497574 (835)\ttotal: 1m 29s\tremaining: 16.9s\n",
      "841:\tlearn: 0.9697918\ttest: 0.9494229\tbest: 0.9497574 (835)\ttotal: 1m 29s\tremaining: 16.8s\n",
      "842:\tlearn: 0.9698157\ttest: 0.9494229\tbest: 0.9497574 (835)\ttotal: 1m 29s\tremaining: 16.7s\n",
      "843:\tlearn: 0.9698396\ttest: 0.9493671\tbest: 0.9497574 (835)\ttotal: 1m 29s\tremaining: 16.6s\n",
      "844:\tlearn: 0.9697201\ttest: 0.9494229\tbest: 0.9497574 (835)\ttotal: 1m 29s\tremaining: 16.5s\n",
      "845:\tlearn: 0.9697201\ttest: 0.9494229\tbest: 0.9497574 (835)\ttotal: 1m 29s\tremaining: 16.4s\n",
      "846:\tlearn: 0.9698157\ttest: 0.9494229\tbest: 0.9497574 (835)\ttotal: 1m 29s\tremaining: 16.2s\n",
      "847:\tlearn: 0.9698635\ttest: 0.9494786\tbest: 0.9497574 (835)\ttotal: 1m 30s\tremaining: 16.1s\n",
      "848:\tlearn: 0.9698396\ttest: 0.9494786\tbest: 0.9497574 (835)\ttotal: 1m 30s\tremaining: 16s\n",
      "849:\tlearn: 0.9699113\ttest: 0.9494786\tbest: 0.9497574 (835)\ttotal: 1m 30s\tremaining: 15.9s\n",
      "850:\tlearn: 0.9699830\ttest: 0.9494229\tbest: 0.9497574 (835)\ttotal: 1m 30s\tremaining: 15.8s\n",
      "851:\tlearn: 0.9700547\ttest: 0.9494786\tbest: 0.9497574 (835)\ttotal: 1m 30s\tremaining: 15.7s\n",
      "852:\tlearn: 0.9701025\ttest: 0.9494786\tbest: 0.9497574 (835)\ttotal: 1m 30s\tremaining: 15.6s\n",
      "853:\tlearn: 0.9701742\ttest: 0.9495344\tbest: 0.9497574 (835)\ttotal: 1m 30s\tremaining: 15.5s\n",
      "854:\tlearn: 0.9702459\ttest: 0.9496459\tbest: 0.9497574 (835)\ttotal: 1m 30s\tremaining: 15.4s\n",
      "855:\tlearn: 0.9702937\ttest: 0.9497574\tbest: 0.9497574 (835)\ttotal: 1m 30s\tremaining: 15.3s\n",
      "856:\tlearn: 0.9702698\ttest: 0.9498132\tbest: 0.9498132 (856)\ttotal: 1m 30s\tremaining: 15.2s\n",
      "857:\tlearn: 0.9703176\ttest: 0.9496459\tbest: 0.9498132 (856)\ttotal: 1m 31s\tremaining: 15.1s\n",
      "858:\tlearn: 0.9703893\ttest: 0.9497574\tbest: 0.9498132 (856)\ttotal: 1m 31s\tremaining: 15s\n",
      "859:\tlearn: 0.9703654\ttest: 0.9496459\tbest: 0.9498132 (856)\ttotal: 1m 31s\tremaining: 14.8s\n",
      "860:\tlearn: 0.9703654\ttest: 0.9496459\tbest: 0.9498132 (856)\ttotal: 1m 31s\tremaining: 14.7s\n",
      "861:\tlearn: 0.9703893\ttest: 0.9496459\tbest: 0.9498132 (856)\ttotal: 1m 31s\tremaining: 14.6s\n",
      "862:\tlearn: 0.9704132\ttest: 0.9496459\tbest: 0.9498132 (856)\ttotal: 1m 31s\tremaining: 14.5s\n",
      "863:\tlearn: 0.9703415\ttest: 0.9496459\tbest: 0.9498132 (856)\ttotal: 1m 31s\tremaining: 14.4s\n",
      "864:\tlearn: 0.9704132\ttest: 0.9497017\tbest: 0.9498132 (856)\ttotal: 1m 31s\tremaining: 14.3s\n",
      "865:\tlearn: 0.9704849\ttest: 0.9497017\tbest: 0.9498132 (856)\ttotal: 1m 31s\tremaining: 14.2s\n",
      "866:\tlearn: 0.9705566\ttest: 0.9496459\tbest: 0.9498132 (856)\ttotal: 1m 31s\tremaining: 14.1s\n",
      "867:\tlearn: 0.9705805\ttest: 0.9496459\tbest: 0.9498132 (856)\ttotal: 1m 31s\tremaining: 14s\n",
      "868:\tlearn: 0.9705805\ttest: 0.9498132\tbest: 0.9498132 (856)\ttotal: 1m 32s\tremaining: 13.9s\n",
      "869:\tlearn: 0.9705566\ttest: 0.9498132\tbest: 0.9498132 (856)\ttotal: 1m 32s\tremaining: 13.8s\n",
      "870:\tlearn: 0.9705566\ttest: 0.9498132\tbest: 0.9498132 (856)\ttotal: 1m 32s\tremaining: 13.7s\n",
      "871:\tlearn: 0.9705566\ttest: 0.9498132\tbest: 0.9498132 (856)\ttotal: 1m 32s\tremaining: 13.6s\n",
      "872:\tlearn: 0.9705805\ttest: 0.9498132\tbest: 0.9498132 (856)\ttotal: 1m 32s\tremaining: 13.5s\n",
      "873:\tlearn: 0.9706761\ttest: 0.9498132\tbest: 0.9498132 (856)\ttotal: 1m 32s\tremaining: 13.3s\n",
      "874:\tlearn: 0.9707956\ttest: 0.9496459\tbest: 0.9498132 (856)\ttotal: 1m 32s\tremaining: 13.2s\n",
      "875:\tlearn: 0.9707478\ttest: 0.9496459\tbest: 0.9498132 (856)\ttotal: 1m 32s\tremaining: 13.1s\n",
      "876:\tlearn: 0.9707717\ttest: 0.9496459\tbest: 0.9498132 (856)\ttotal: 1m 32s\tremaining: 13s\n",
      "877:\tlearn: 0.9707956\ttest: 0.9496459\tbest: 0.9498132 (856)\ttotal: 1m 32s\tremaining: 12.9s\n",
      "878:\tlearn: 0.9707956\ttest: 0.9495901\tbest: 0.9498132 (856)\ttotal: 1m 33s\tremaining: 12.8s\n",
      "879:\tlearn: 0.9708195\ttest: 0.9495901\tbest: 0.9498132 (856)\ttotal: 1m 33s\tremaining: 12.7s\n",
      "880:\tlearn: 0.9708195\ttest: 0.9495901\tbest: 0.9498132 (856)\ttotal: 1m 33s\tremaining: 12.6s\n",
      "881:\tlearn: 0.9708912\ttest: 0.9497017\tbest: 0.9498132 (856)\ttotal: 1m 33s\tremaining: 12.5s\n",
      "882:\tlearn: 0.9708912\ttest: 0.9496459\tbest: 0.9498132 (856)\ttotal: 1m 33s\tremaining: 12.4s\n",
      "883:\tlearn: 0.9708912\ttest: 0.9495344\tbest: 0.9498132 (856)\ttotal: 1m 33s\tremaining: 12.3s\n",
      "884:\tlearn: 0.9708673\ttest: 0.9498132\tbest: 0.9498132 (856)\ttotal: 1m 33s\tremaining: 12.2s\n",
      "885:\tlearn: 0.9709629\ttest: 0.9498132\tbest: 0.9498132 (856)\ttotal: 1m 33s\tremaining: 12.1s\n",
      "886:\tlearn: 0.9709629\ttest: 0.9497574\tbest: 0.9498132 (856)\ttotal: 1m 34s\tremaining: 12s\n",
      "887:\tlearn: 0.9709629\ttest: 0.9497017\tbest: 0.9498132 (856)\ttotal: 1m 34s\tremaining: 11.9s\n",
      "888:\tlearn: 0.9709390\ttest: 0.9497017\tbest: 0.9498132 (856)\ttotal: 1m 34s\tremaining: 11.8s\n",
      "889:\tlearn: 0.9710107\ttest: 0.9495901\tbest: 0.9498132 (856)\ttotal: 1m 34s\tremaining: 11.7s\n",
      "890:\tlearn: 0.9710585\ttest: 0.9496459\tbest: 0.9498132 (856)\ttotal: 1m 34s\tremaining: 11.6s\n",
      "891:\tlearn: 0.9710824\ttest: 0.9497574\tbest: 0.9498132 (856)\ttotal: 1m 34s\tremaining: 11.5s\n",
      "892:\tlearn: 0.9711541\ttest: 0.9497017\tbest: 0.9498132 (856)\ttotal: 1m 34s\tremaining: 11.4s\n",
      "893:\tlearn: 0.9711780\ttest: 0.9496459\tbest: 0.9498132 (856)\ttotal: 1m 34s\tremaining: 11.2s\n",
      "894:\tlearn: 0.9713214\ttest: 0.9496459\tbest: 0.9498132 (856)\ttotal: 1m 34s\tremaining: 11.1s\n",
      "895:\tlearn: 0.9713453\ttest: 0.9495901\tbest: 0.9498132 (856)\ttotal: 1m 35s\tremaining: 11s\n",
      "896:\tlearn: 0.9712736\ttest: 0.9495344\tbest: 0.9498132 (856)\ttotal: 1m 35s\tremaining: 10.9s\n",
      "897:\tlearn: 0.9712497\ttest: 0.9494786\tbest: 0.9498132 (856)\ttotal: 1m 35s\tremaining: 10.8s\n",
      "898:\tlearn: 0.9712736\ttest: 0.9494786\tbest: 0.9498132 (856)\ttotal: 1m 35s\tremaining: 10.7s\n",
      "899:\tlearn: 0.9712736\ttest: 0.9493671\tbest: 0.9498132 (856)\ttotal: 1m 35s\tremaining: 10.6s\n",
      "900:\tlearn: 0.9712497\ttest: 0.9494786\tbest: 0.9498132 (856)\ttotal: 1m 35s\tremaining: 10.5s\n",
      "901:\tlearn: 0.9712258\ttest: 0.9494786\tbest: 0.9498132 (856)\ttotal: 1m 35s\tremaining: 10.4s\n",
      "902:\tlearn: 0.9713931\ttest: 0.9495344\tbest: 0.9498132 (856)\ttotal: 1m 35s\tremaining: 10.3s\n",
      "903:\tlearn: 0.9715126\ttest: 0.9495901\tbest: 0.9498132 (856)\ttotal: 1m 35s\tremaining: 10.2s\n",
      "904:\tlearn: 0.9714409\ttest: 0.9495901\tbest: 0.9498132 (856)\ttotal: 1m 35s\tremaining: 10.1s\n",
      "905:\tlearn: 0.9714648\ttest: 0.9495901\tbest: 0.9498132 (856)\ttotal: 1m 36s\tremaining: 9.97s\n",
      "906:\tlearn: 0.9715365\ttest: 0.9495901\tbest: 0.9498132 (856)\ttotal: 1m 36s\tremaining: 9.86s\n",
      "907:\tlearn: 0.9714409\ttest: 0.9495901\tbest: 0.9498132 (856)\ttotal: 1m 36s\tremaining: 9.76s\n",
      "908:\tlearn: 0.9715365\ttest: 0.9494786\tbest: 0.9498132 (856)\ttotal: 1m 36s\tremaining: 9.65s\n",
      "909:\tlearn: 0.9715843\ttest: 0.9495344\tbest: 0.9498132 (856)\ttotal: 1m 36s\tremaining: 9.54s\n",
      "910:\tlearn: 0.9715843\ttest: 0.9495344\tbest: 0.9498132 (856)\ttotal: 1m 36s\tremaining: 9.43s\n",
      "911:\tlearn: 0.9716321\ttest: 0.9495901\tbest: 0.9498132 (856)\ttotal: 1m 36s\tremaining: 9.33s\n",
      "912:\tlearn: 0.9716321\ttest: 0.9495344\tbest: 0.9498132 (856)\ttotal: 1m 36s\tremaining: 9.22s\n",
      "913:\tlearn: 0.9716560\ttest: 0.9494786\tbest: 0.9498132 (856)\ttotal: 1m 36s\tremaining: 9.12s\n",
      "914:\tlearn: 0.9718232\ttest: 0.9494229\tbest: 0.9498132 (856)\ttotal: 1m 36s\tremaining: 9.01s\n",
      "915:\tlearn: 0.9717754\ttest: 0.9493671\tbest: 0.9498132 (856)\ttotal: 1m 37s\tremaining: 8.9s\n",
      "916:\tlearn: 0.9718232\ttest: 0.9494786\tbest: 0.9498132 (856)\ttotal: 1m 37s\tremaining: 8.8s\n",
      "917:\tlearn: 0.9717276\ttest: 0.9494786\tbest: 0.9498132 (856)\ttotal: 1m 37s\tremaining: 8.69s\n",
      "918:\tlearn: 0.9717276\ttest: 0.9494786\tbest: 0.9498132 (856)\ttotal: 1m 37s\tremaining: 8.59s\n",
      "919:\tlearn: 0.9717515\ttest: 0.9493671\tbest: 0.9498132 (856)\ttotal: 1m 37s\tremaining: 8.48s\n",
      "920:\tlearn: 0.9717276\ttest: 0.9494229\tbest: 0.9498132 (856)\ttotal: 1m 37s\tremaining: 8.38s\n"
     ]
    },
    {
     "name": "stdout",
     "output_type": "stream",
     "text": [
      "921:\tlearn: 0.9717754\ttest: 0.9494786\tbest: 0.9498132 (856)\ttotal: 1m 37s\tremaining: 8.27s\n",
      "922:\tlearn: 0.9718710\ttest: 0.9494229\tbest: 0.9498132 (856)\ttotal: 1m 37s\tremaining: 8.17s\n",
      "923:\tlearn: 0.9717993\ttest: 0.9494786\tbest: 0.9498132 (856)\ttotal: 1m 38s\tremaining: 8.06s\n",
      "924:\tlearn: 0.9718471\ttest: 0.9493671\tbest: 0.9498132 (856)\ttotal: 1m 38s\tremaining: 7.96s\n",
      "925:\tlearn: 0.9718710\ttest: 0.9494229\tbest: 0.9498132 (856)\ttotal: 1m 38s\tremaining: 7.85s\n",
      "926:\tlearn: 0.9719188\ttest: 0.9492556\tbest: 0.9498132 (856)\ttotal: 1m 38s\tremaining: 7.74s\n",
      "927:\tlearn: 0.9719427\ttest: 0.9493113\tbest: 0.9498132 (856)\ttotal: 1m 38s\tremaining: 7.64s\n",
      "928:\tlearn: 0.9718710\ttest: 0.9493671\tbest: 0.9498132 (856)\ttotal: 1m 38s\tremaining: 7.53s\n",
      "929:\tlearn: 0.9719188\ttest: 0.9494229\tbest: 0.9498132 (856)\ttotal: 1m 38s\tremaining: 7.42s\n",
      "930:\tlearn: 0.9719427\ttest: 0.9493671\tbest: 0.9498132 (856)\ttotal: 1m 38s\tremaining: 7.32s\n",
      "931:\tlearn: 0.9720144\ttest: 0.9493671\tbest: 0.9498132 (856)\ttotal: 1m 38s\tremaining: 7.21s\n",
      "932:\tlearn: 0.9719905\ttest: 0.9494229\tbest: 0.9498132 (856)\ttotal: 1m 38s\tremaining: 7.11s\n",
      "933:\tlearn: 0.9719905\ttest: 0.9494229\tbest: 0.9498132 (856)\ttotal: 1m 39s\tremaining: 7s\n",
      "934:\tlearn: 0.9719427\ttest: 0.9493671\tbest: 0.9498132 (856)\ttotal: 1m 39s\tremaining: 6.89s\n",
      "935:\tlearn: 0.9719666\ttest: 0.9494229\tbest: 0.9498132 (856)\ttotal: 1m 39s\tremaining: 6.78s\n",
      "936:\tlearn: 0.9719905\ttest: 0.9492556\tbest: 0.9498132 (856)\ttotal: 1m 39s\tremaining: 6.68s\n",
      "937:\tlearn: 0.9720144\ttest: 0.9492556\tbest: 0.9498132 (856)\ttotal: 1m 39s\tremaining: 6.57s\n",
      "938:\tlearn: 0.9719905\ttest: 0.9493113\tbest: 0.9498132 (856)\ttotal: 1m 39s\tremaining: 6.47s\n",
      "939:\tlearn: 0.9719427\ttest: 0.9492556\tbest: 0.9498132 (856)\ttotal: 1m 39s\tremaining: 6.36s\n",
      "940:\tlearn: 0.9719427\ttest: 0.9491998\tbest: 0.9498132 (856)\ttotal: 1m 39s\tremaining: 6.26s\n",
      "941:\tlearn: 0.9720144\ttest: 0.9491998\tbest: 0.9498132 (856)\ttotal: 1m 39s\tremaining: 6.15s\n",
      "942:\tlearn: 0.9719666\ttest: 0.9490325\tbest: 0.9498132 (856)\ttotal: 1m 39s\tremaining: 6.04s\n",
      "943:\tlearn: 0.9720861\ttest: 0.9490325\tbest: 0.9498132 (856)\ttotal: 1m 40s\tremaining: 5.94s\n",
      "944:\tlearn: 0.9721100\ttest: 0.9490883\tbest: 0.9498132 (856)\ttotal: 1m 40s\tremaining: 5.83s\n",
      "945:\tlearn: 0.9721817\ttest: 0.9490883\tbest: 0.9498132 (856)\ttotal: 1m 40s\tremaining: 5.72s\n",
      "946:\tlearn: 0.9721817\ttest: 0.9490883\tbest: 0.9498132 (856)\ttotal: 1m 40s\tremaining: 5.62s\n",
      "947:\tlearn: 0.9722534\ttest: 0.9490883\tbest: 0.9498132 (856)\ttotal: 1m 40s\tremaining: 5.51s\n",
      "948:\tlearn: 0.9722295\ttest: 0.9491440\tbest: 0.9498132 (856)\ttotal: 1m 40s\tremaining: 5.41s\n",
      "949:\tlearn: 0.9722773\ttest: 0.9490883\tbest: 0.9498132 (856)\ttotal: 1m 40s\tremaining: 5.3s\n",
      "950:\tlearn: 0.9722773\ttest: 0.9491440\tbest: 0.9498132 (856)\ttotal: 1m 40s\tremaining: 5.19s\n",
      "951:\tlearn: 0.9722534\ttest: 0.9490883\tbest: 0.9498132 (856)\ttotal: 1m 40s\tremaining: 5.09s\n",
      "952:\tlearn: 0.9723251\ttest: 0.9490325\tbest: 0.9498132 (856)\ttotal: 1m 40s\tremaining: 4.98s\n",
      "953:\tlearn: 0.9723251\ttest: 0.9490883\tbest: 0.9498132 (856)\ttotal: 1m 41s\tremaining: 4.87s\n",
      "954:\tlearn: 0.9724207\ttest: 0.9490883\tbest: 0.9498132 (856)\ttotal: 1m 41s\tremaining: 4.77s\n",
      "955:\tlearn: 0.9723968\ttest: 0.9492556\tbest: 0.9498132 (856)\ttotal: 1m 41s\tremaining: 4.66s\n",
      "956:\tlearn: 0.9723729\ttest: 0.9491440\tbest: 0.9498132 (856)\ttotal: 1m 41s\tremaining: 4.55s\n",
      "957:\tlearn: 0.9724207\ttest: 0.9491998\tbest: 0.9498132 (856)\ttotal: 1m 41s\tremaining: 4.45s\n",
      "958:\tlearn: 0.9724446\ttest: 0.9491998\tbest: 0.9498132 (856)\ttotal: 1m 41s\tremaining: 4.34s\n",
      "959:\tlearn: 0.9724685\ttest: 0.9492556\tbest: 0.9498132 (856)\ttotal: 1m 41s\tremaining: 4.24s\n",
      "960:\tlearn: 0.9724685\ttest: 0.9493113\tbest: 0.9498132 (856)\ttotal: 1m 41s\tremaining: 4.13s\n",
      "961:\tlearn: 0.9724207\ttest: 0.9492556\tbest: 0.9498132 (856)\ttotal: 1m 41s\tremaining: 4.03s\n",
      "962:\tlearn: 0.9725163\ttest: 0.9493113\tbest: 0.9498132 (856)\ttotal: 1m 42s\tremaining: 3.92s\n",
      "963:\tlearn: 0.9725402\ttest: 0.9493113\tbest: 0.9498132 (856)\ttotal: 1m 42s\tremaining: 3.81s\n",
      "964:\tlearn: 0.9724924\ttest: 0.9493113\tbest: 0.9498132 (856)\ttotal: 1m 42s\tremaining: 3.71s\n",
      "965:\tlearn: 0.9725402\ttest: 0.9494229\tbest: 0.9498132 (856)\ttotal: 1m 42s\tremaining: 3.6s\n",
      "966:\tlearn: 0.9725641\ttest: 0.9494229\tbest: 0.9498132 (856)\ttotal: 1m 42s\tremaining: 3.5s\n",
      "967:\tlearn: 0.9725641\ttest: 0.9494229\tbest: 0.9498132 (856)\ttotal: 1m 42s\tremaining: 3.39s\n",
      "968:\tlearn: 0.9725402\ttest: 0.9494229\tbest: 0.9498132 (856)\ttotal: 1m 42s\tremaining: 3.28s\n",
      "969:\tlearn: 0.9725880\ttest: 0.9494229\tbest: 0.9498132 (856)\ttotal: 1m 42s\tremaining: 3.18s\n",
      "970:\tlearn: 0.9725641\ttest: 0.9494786\tbest: 0.9498132 (856)\ttotal: 1m 42s\tremaining: 3.07s\n",
      "971:\tlearn: 0.9725641\ttest: 0.9494786\tbest: 0.9498132 (856)\ttotal: 1m 42s\tremaining: 2.96s\n",
      "972:\tlearn: 0.9725641\ttest: 0.9494786\tbest: 0.9498132 (856)\ttotal: 1m 43s\tremaining: 2.86s\n",
      "973:\tlearn: 0.9725880\ttest: 0.9495344\tbest: 0.9498132 (856)\ttotal: 1m 43s\tremaining: 2.75s\n",
      "974:\tlearn: 0.9725880\ttest: 0.9495344\tbest: 0.9498132 (856)\ttotal: 1m 43s\tremaining: 2.65s\n",
      "975:\tlearn: 0.9726358\ttest: 0.9494786\tbest: 0.9498132 (856)\ttotal: 1m 43s\tremaining: 2.54s\n",
      "976:\tlearn: 0.9726358\ttest: 0.9494786\tbest: 0.9498132 (856)\ttotal: 1m 43s\tremaining: 2.43s\n",
      "977:\tlearn: 0.9726836\ttest: 0.9493113\tbest: 0.9498132 (856)\ttotal: 1m 43s\tremaining: 2.33s\n",
      "978:\tlearn: 0.9727314\ttest: 0.9494229\tbest: 0.9498132 (856)\ttotal: 1m 43s\tremaining: 2.22s\n",
      "979:\tlearn: 0.9727553\ttest: 0.9494229\tbest: 0.9498132 (856)\ttotal: 1m 43s\tremaining: 2.12s\n",
      "980:\tlearn: 0.9728031\ttest: 0.9493113\tbest: 0.9498132 (856)\ttotal: 1m 43s\tremaining: 2.01s\n",
      "981:\tlearn: 0.9727553\ttest: 0.9493113\tbest: 0.9498132 (856)\ttotal: 1m 43s\tremaining: 1.91s\n",
      "982:\tlearn: 0.9728270\ttest: 0.9493113\tbest: 0.9498132 (856)\ttotal: 1m 44s\tremaining: 1.8s\n",
      "983:\tlearn: 0.9728270\ttest: 0.9493113\tbest: 0.9498132 (856)\ttotal: 1m 44s\tremaining: 1.69s\n",
      "984:\tlearn: 0.9728987\ttest: 0.9493113\tbest: 0.9498132 (856)\ttotal: 1m 44s\tremaining: 1.59s\n",
      "985:\tlearn: 0.9729226\ttest: 0.9493671\tbest: 0.9498132 (856)\ttotal: 1m 44s\tremaining: 1.48s\n",
      "986:\tlearn: 0.9729465\ttest: 0.9494229\tbest: 0.9498132 (856)\ttotal: 1m 44s\tremaining: 1.38s\n",
      "987:\tlearn: 0.9729943\ttest: 0.9495344\tbest: 0.9498132 (856)\ttotal: 1m 44s\tremaining: 1.27s\n",
      "988:\tlearn: 0.9729465\ttest: 0.9495344\tbest: 0.9498132 (856)\ttotal: 1m 44s\tremaining: 1.16s\n",
      "989:\tlearn: 0.9730182\ttest: 0.9494786\tbest: 0.9498132 (856)\ttotal: 1m 44s\tremaining: 1.06s\n",
      "990:\tlearn: 0.9729704\ttest: 0.9495901\tbest: 0.9498132 (856)\ttotal: 1m 44s\tremaining: 952ms\n",
      "991:\tlearn: 0.9729704\ttest: 0.9495344\tbest: 0.9498132 (856)\ttotal: 1m 44s\tremaining: 846ms\n",
      "992:\tlearn: 0.9730421\ttest: 0.9496459\tbest: 0.9498132 (856)\ttotal: 1m 45s\tremaining: 740ms\n",
      "993:\tlearn: 0.9730421\ttest: 0.9496459\tbest: 0.9498132 (856)\ttotal: 1m 45s\tremaining: 634ms\n",
      "994:\tlearn: 0.9731138\ttest: 0.9495901\tbest: 0.9498132 (856)\ttotal: 1m 45s\tremaining: 529ms\n",
      "995:\tlearn: 0.9731377\ttest: 0.9495901\tbest: 0.9498132 (856)\ttotal: 1m 45s\tremaining: 423ms\n",
      "996:\tlearn: 0.9731377\ttest: 0.9496459\tbest: 0.9498132 (856)\ttotal: 1m 45s\tremaining: 317ms\n",
      "997:\tlearn: 0.9731377\ttest: 0.9496459\tbest: 0.9498132 (856)\ttotal: 1m 45s\tremaining: 211ms\n",
      "998:\tlearn: 0.9731377\ttest: 0.9495901\tbest: 0.9498132 (856)\ttotal: 1m 45s\tremaining: 106ms\n",
      "999:\tlearn: 0.9731377\ttest: 0.9495901\tbest: 0.9498132 (856)\ttotal: 1m 45s\tremaining: 0us\n",
      "\n",
      "bestTest = 0.9498131936\n",
      "bestIteration = 856\n",
      "\n",
      "Shrink model to first 857 iterations.\n"
     ]
    },
    {
     "data": {
      "text/plain": [
       "<catboost.core.CatBoostClassifier at 0x1de75fb1ec8>"
      ]
     },
     "execution_count": 304,
     "metadata": {},
     "output_type": "execute_result"
    }
   ],
   "source": [
    "cate_features_index = np.where(x.dtypes != float)[0]\n",
    "x_train,x_test,y_train,y_test = train_test_split(x_smk, y_smk, test_size=0.3, random_state=1)\n",
    "cat.fit(x_train,y_train,cat_features=cate_features_index,eval_set=(x_test,y_test))"
   ]
  },
  {
   "cell_type": "code",
   "execution_count": 305,
   "metadata": {},
   "outputs": [
    {
     "name": "stdout",
     "output_type": "stream",
     "text": [
      " Train Prediction  f1_score : 0.9691037453631685\n",
      "              precision    recall  f1-score   support\n",
      "\n",
      "           0       0.97      0.97      0.97     20870\n",
      "           1       0.97      0.97      0.97     20973\n",
      "\n",
      "    accuracy                           0.97     41843\n",
      "   macro avg       0.97      0.97      0.97     41843\n",
      "weighted avg       0.97      0.97      0.97     41843\n",
      "\n",
      " Test Prediction Accuracy : 0.9498131935537836\n",
      "              precision    recall  f1-score   support\n",
      "\n",
      "           0       0.95      0.95      0.95      9018\n",
      "           1       0.95      0.95      0.95      8915\n",
      "\n",
      "    accuracy                           0.95     17933\n",
      "   macro avg       0.95      0.95      0.95     17933\n",
      "weighted avg       0.95      0.95      0.95     17933\n",
      "\n"
     ]
    }
   ],
   "source": [
    "     ### Predict training set:\n",
    "dtrain_predictions  = cat.predict(x_train);\n",
    "train_accuracy=f1_score(y_train,dtrain_predictions)\n",
    "print(\" Train Prediction  f1_score :\",train_accuracy)\n",
    "print(classification_report(y_train,dtrain_predictions))\n",
    "    \n",
    "### Predict test set:\n",
    "dtest_predictions = cat.predict(x_test)\n",
    "test_accuracy=accuracy_score(y_test,dtest_predictions)\n",
    "print(\" Test Prediction Accuracy :\",test_accuracy)\n",
    "print(classification_report(y_test,dtest_predictions))\n",
    "\n",
    "final_predictions  = cat.predict(ch_test);\n",
    "result = pd.DataFrame(final_predictions,columns= [\"labels\"])\n",
    "result.to_excel('catboost.xlsx',index=False)"
   ]
  },
  {
   "cell_type": "markdown",
   "metadata": {},
   "source": [
    "## Voting Classification"
   ]
  },
  {
   "cell_type": "code",
   "execution_count": 306,
   "metadata": {},
   "outputs": [],
   "source": [
    "estimators=[('random', random),('ada', ada), ('xgb', xgb), ('gd', gd),('lgb',lgb),('knn',knn)]"
   ]
  },
  {
   "cell_type": "code",
   "execution_count": 307,
   "metadata": {},
   "outputs": [],
   "source": [
    "voteBoost = VotingClassifier(estimators=estimators,voting='soft')"
   ]
  },
  {
   "cell_type": "code",
   "execution_count": 308,
   "metadata": {},
   "outputs": [
    {
     "name": "stdout",
     "output_type": "stream",
     "text": [
      " Train Prediction  f1_score : 0.965998256320837\n",
      "              precision    recall  f1-score   support\n",
      "\n",
      "           0       0.98      0.95      0.97     20870\n",
      "           1       0.95      0.98      0.97     20973\n",
      "\n",
      "    accuracy                           0.97     41843\n",
      "   macro avg       0.97      0.97      0.97     41843\n",
      "weighted avg       0.97      0.97      0.97     41843\n",
      "\n",
      " Test Prediction Accuracy : 0.9481960631238499\n",
      "              precision    recall  f1-score   support\n",
      "\n",
      "           0       0.97      0.93      0.95      9018\n",
      "           1       0.93      0.97      0.95      8915\n",
      "\n",
      "    accuracy                           0.95     17933\n",
      "   macro avg       0.95      0.95      0.95     17933\n",
      "weighted avg       0.95      0.95      0.95     17933\n",
      "\n"
     ]
    }
   ],
   "source": [
    "model_fit(voteBoost,x_smk, y_smk,ch_test,'voteBoost_submission')"
   ]
  },
  {
   "cell_type": "code",
   "execution_count": 309,
   "metadata": {},
   "outputs": [],
   "source": [
    "stackBoost = StackingClassifier(\n",
    "    estimators=estimators\n",
    ")"
   ]
  },
  {
   "cell_type": "code",
   "execution_count": 310,
   "metadata": {},
   "outputs": [
    {
     "name": "stdout",
     "output_type": "stream",
     "text": [
      " Train Prediction  f1_score : 0.9705405663075604\n",
      "              precision    recall  f1-score   support\n",
      "\n",
      "           0       0.97      0.97      0.97     20870\n",
      "           1       0.97      0.97      0.97     20973\n",
      "\n",
      "    accuracy                           0.97     41843\n",
      "   macro avg       0.97      0.97      0.97     41843\n",
      "weighted avg       0.97      0.97      0.97     41843\n",
      "\n",
      " Test Prediction Accuracy : 0.953549322478113\n",
      "              precision    recall  f1-score   support\n",
      "\n",
      "           0       0.96      0.95      0.95      9018\n",
      "           1       0.95      0.96      0.95      8915\n",
      "\n",
      "    accuracy                           0.95     17933\n",
      "   macro avg       0.95      0.95      0.95     17933\n",
      "weighted avg       0.95      0.95      0.95     17933\n",
      "\n"
     ]
    }
   ],
   "source": [
    "model_fit(stackBoost,x_smk, y_smk,ch_test,'stackBoost_submission')"
   ]
  },
  {
   "cell_type": "code",
   "execution_count": 311,
   "metadata": {},
   "outputs": [],
   "source": [
    "voteBoost = VotingClassifier(estimators=estimators,voting='hard')\n"
   ]
  },
  {
   "cell_type": "code",
   "execution_count": 312,
   "metadata": {},
   "outputs": [
    {
     "name": "stdout",
     "output_type": "stream",
     "text": [
      " Train Prediction  f1_score : 0.9568042813455658\n",
      "              precision    recall  f1-score   support\n",
      "\n",
      "           0       0.95      0.96      0.96     20870\n",
      "           1       0.96      0.95      0.96     20973\n",
      "\n",
      "    accuracy                           0.96     41843\n",
      "   macro avg       0.96      0.96      0.96     41843\n",
      "weighted avg       0.96      0.96      0.96     41843\n",
      "\n",
      " Test Prediction Accuracy : 0.9444599341995205\n",
      "              precision    recall  f1-score   support\n",
      "\n",
      "           0       0.94      0.95      0.94      9018\n",
      "           1       0.95      0.94      0.94      8915\n",
      "\n",
      "    accuracy                           0.94     17933\n",
      "   macro avg       0.94      0.94      0.94     17933\n",
      "weighted avg       0.94      0.94      0.94     17933\n",
      "\n"
     ]
    }
   ],
   "source": [
    "model_fit(voteBoost,x_smk, y_smk,ch_test,'voteHard_submission')"
   ]
  },
  {
   "cell_type": "code",
   "execution_count": 419,
   "metadata": {},
   "outputs": [],
   "source": [
    "estimators=[('lgb1', lgb),\n",
    "            ('lgb2', lgb),\n",
    "            ('lgb3', lgb),\n",
    "            ('lgb4',lgb)]"
   ]
  },
  {
   "cell_type": "code",
   "execution_count": 420,
   "metadata": {},
   "outputs": [],
   "source": [
    "voteBoost = VotingClassifier(estimators=estimators,voting='hard')"
   ]
  },
  {
   "cell_type": "code",
   "execution_count": 421,
   "metadata": {},
   "outputs": [
    {
     "name": "stdout",
     "output_type": "stream",
     "text": [
      " Train Prediction  f1_score : 0.9492168960607499\n",
      "              precision    recall  f1-score   support\n",
      "\n",
      "           0       0.95      0.94      0.95     20870\n",
      "           1       0.94      0.95      0.95     20973\n",
      "\n",
      "    accuracy                           0.95     41843\n",
      "   macro avg       0.95      0.95      0.95     41843\n",
      "weighted avg       0.95      0.95      0.95     41843\n",
      "\n",
      " Test Prediction Accuracy : 0.941114147103106\n",
      "              precision    recall  f1-score   support\n",
      "\n",
      "           0       0.95      0.94      0.94      9018\n",
      "           1       0.94      0.95      0.94      8915\n",
      "\n",
      "    accuracy                           0.94     17933\n",
      "   macro avg       0.94      0.94      0.94     17933\n",
      "weighted avg       0.94      0.94      0.94     17933\n",
      "\n"
     ]
    }
   ],
   "source": [
    "model_fit(voteBoost,x_smk, y_smk,ch_test,'voteBoost_submission_LDG')"
   ]
  },
  {
   "cell_type": "markdown",
   "metadata": {},
   "source": [
    "## Support Vector Machine"
   ]
  },
  {
   "cell_type": "code",
   "execution_count": 414,
   "metadata": {},
   "outputs": [
    {
     "name": "stdout",
     "output_type": "stream",
     "text": [
      " Train Prediction  f1_score : 1.0\n",
      "              precision    recall  f1-score   support\n",
      "\n",
      "           0       1.00      1.00      1.00     20870\n",
      "           1       1.00      1.00      1.00     20973\n",
      "\n",
      "    accuracy                           1.00     41843\n",
      "   macro avg       1.00      1.00      1.00     41843\n",
      "weighted avg       1.00      1.00      1.00     41843\n",
      "\n",
      " Test Prediction Accuracy : 0.6876707745497128\n",
      "              precision    recall  f1-score   support\n",
      "\n",
      "           0       0.62      1.00      0.76      9018\n",
      "           1       1.00      0.37      0.54      8915\n",
      "\n",
      "    accuracy                           0.69     17933\n",
      "   macro avg       0.81      0.69      0.65     17933\n",
      "weighted avg       0.81      0.69      0.65     17933\n",
      "\n"
     ]
    }
   ],
   "source": [
    "svc = svm.SVC(kernel='rbf', C=100,gamma=100)\n",
    "model_fit(svc,x_smk, y_smk,ch_test,'svc_submission')"
   ]
  },
  {
   "cell_type": "code",
   "execution_count": null,
   "metadata": {},
   "outputs": [],
   "source": []
  }
 ],
 "metadata": {
  "kernelspec": {
   "display_name": "Python 3",
   "language": "python",
   "name": "python3"
  },
  "language_info": {
   "codemirror_mode": {
    "name": "ipython",
    "version": 3
   },
   "file_extension": ".py",
   "mimetype": "text/x-python",
   "name": "python",
   "nbconvert_exporter": "python",
   "pygments_lexer": "ipython3",
   "version": "3.7.4"
  }
 },
 "nbformat": 4,
 "nbformat_minor": 2
}
