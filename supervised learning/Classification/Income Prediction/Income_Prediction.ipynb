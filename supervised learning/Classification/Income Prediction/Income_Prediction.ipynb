{
 "cells": [
  {
   "cell_type": "code",
   "execution_count": 1,
   "metadata": {},
   "outputs": [],
   "source": [
    "#preprocessing tools\n",
    "import pandas as pd\n",
    "import numpy as np\n",
    "\n",
    "#EDA Tools\n",
    "import pandas_profiling\n",
    "%matplotlib inline\n",
    "import matplotlib.pyplot as plt \n",
    "plt.rc(\"font\", size=14)\n",
    "import seaborn as sns\n",
    "sns.set(style=\"white\")\n",
    "sns.set(style=\"whitegrid\", color_codes=True)\n",
    "\n",
    "#modeling\n",
    "from imblearn.under_sampling import NearMiss\n",
    "from sklearn.preprocessing import StandardScaler, MinMaxScaler\n",
    "from sklearn.metrics import roc_auc_score, confusion_matrix, recall_score, precision_score,accuracy_score\n",
    "from sklearn.metrics import roc_curve, precision_recall_curve, classification_report,f1_score\n",
    "from sklearn.linear_model import LogisticRegression\n",
    "from sklearn.neighbors import KNeighborsClassifier\n",
    "from sklearn.naive_bayes import GaussianNB, BernoulliNB\n",
    "from sklearn.linear_model import SGDClassifier\n",
    "from sklearn.ensemble import AdaBoostClassifier\n",
    "from sklearn.ensemble import RandomForestClassifier,GradientBoostingClassifier\n",
    "from xgboost import XGBClassifier\n",
    "from sklearn.model_selection import train_test_split\n",
    "from sklearn.svm import SVC \n",
    "\n",
    "## Hyperparameter optimization using RandomizedSearchCV\n",
    "from sklearn.model_selection import RandomizedSearchCV, GridSearchCV\n",
    "\n",
    "\n",
    "import warnings\n",
    "warnings.filterwarnings('ignore')"
   ]
  },
  {
   "cell_type": "markdown",
   "metadata": {},
   "source": [
    "## preprocessing"
   ]
  },
  {
   "cell_type": "code",
   "execution_count": 2,
   "metadata": {},
   "outputs": [],
   "source": [
    "train_data=pd.read_csv('income_train.csv')"
   ]
  },
  {
   "cell_type": "code",
   "execution_count": 3,
   "metadata": {},
   "outputs": [],
   "source": [
    "test_data=pd.read_csv('income_test.csv')"
   ]
  },
  {
   "cell_type": "code",
   "execution_count": 4,
   "metadata": {},
   "outputs": [
    {
     "data": {
      "text/plain": [
       "(22792, 16)"
      ]
     },
     "execution_count": 4,
     "metadata": {},
     "output_type": "execute_result"
    }
   ],
   "source": [
    "train_data.shape"
   ]
  },
  {
   "cell_type": "code",
   "execution_count": 5,
   "metadata": {},
   "outputs": [
    {
     "data": {
      "text/plain": [
       "(9769, 16)"
      ]
     },
     "execution_count": 5,
     "metadata": {},
     "output_type": "execute_result"
    }
   ],
   "source": [
    "test_data.shape"
   ]
  },
  {
   "cell_type": "code",
   "execution_count": 6,
   "metadata": {},
   "outputs": [],
   "source": [
    "data=pd.concat([train_data,test_data],axis='rows',sort=False,ignore_index=False)"
   ]
  },
  {
   "cell_type": "code",
   "execution_count": 7,
   "metadata": {},
   "outputs": [
    {
     "data": {
      "text/plain": [
       "(32561, 16)"
      ]
     },
     "execution_count": 7,
     "metadata": {},
     "output_type": "execute_result"
    }
   ],
   "source": [
    "data.shape"
   ]
  },
  {
   "cell_type": "code",
   "execution_count": 8,
   "metadata": {},
   "outputs": [
    {
     "data": {
      "text/html": [
       "<div>\n",
       "<style scoped>\n",
       "    .dataframe tbody tr th:only-of-type {\n",
       "        vertical-align: middle;\n",
       "    }\n",
       "\n",
       "    .dataframe tbody tr th {\n",
       "        vertical-align: top;\n",
       "    }\n",
       "\n",
       "    .dataframe thead th {\n",
       "        text-align: right;\n",
       "    }\n",
       "</style>\n",
       "<table border=\"1\" class=\"dataframe\">\n",
       "  <thead>\n",
       "    <tr style=\"text-align: right;\">\n",
       "      <th></th>\n",
       "      <th>Unnamed: 0</th>\n",
       "      <th>age</th>\n",
       "      <th>workclass</th>\n",
       "      <th>fnlwgt</th>\n",
       "      <th>education</th>\n",
       "      <th>education.num</th>\n",
       "      <th>marital.status</th>\n",
       "      <th>occupation</th>\n",
       "      <th>relationship</th>\n",
       "      <th>race</th>\n",
       "      <th>sex</th>\n",
       "      <th>capital.gain</th>\n",
       "      <th>capital.loss</th>\n",
       "      <th>hours.per.week</th>\n",
       "      <th>native.country</th>\n",
       "      <th>income</th>\n",
       "    </tr>\n",
       "  </thead>\n",
       "  <tbody>\n",
       "    <tr>\n",
       "      <td>0</td>\n",
       "      <td>12359</td>\n",
       "      <td>49</td>\n",
       "      <td>Private</td>\n",
       "      <td>180532</td>\n",
       "      <td>Masters</td>\n",
       "      <td>14</td>\n",
       "      <td>Married-spouse-absent</td>\n",
       "      <td>Prof-specialty</td>\n",
       "      <td>Not-in-family</td>\n",
       "      <td>White</td>\n",
       "      <td>Male</td>\n",
       "      <td>0</td>\n",
       "      <td>0</td>\n",
       "      <td>40</td>\n",
       "      <td>United-States</td>\n",
       "      <td>&lt;=50K</td>\n",
       "    </tr>\n",
       "    <tr>\n",
       "      <td>1</td>\n",
       "      <td>11680</td>\n",
       "      <td>35</td>\n",
       "      <td>Local-gov</td>\n",
       "      <td>308945</td>\n",
       "      <td>HS-grad</td>\n",
       "      <td>9</td>\n",
       "      <td>Married-civ-spouse</td>\n",
       "      <td>Craft-repair</td>\n",
       "      <td>Husband</td>\n",
       "      <td>White</td>\n",
       "      <td>Male</td>\n",
       "      <td>0</td>\n",
       "      <td>0</td>\n",
       "      <td>40</td>\n",
       "      <td>United-States</td>\n",
       "      <td>&gt;50K</td>\n",
       "    </tr>\n",
       "    <tr>\n",
       "      <td>2</td>\n",
       "      <td>13682</td>\n",
       "      <td>28</td>\n",
       "      <td>Private</td>\n",
       "      <td>47907</td>\n",
       "      <td>Bachelors</td>\n",
       "      <td>13</td>\n",
       "      <td>Never-married</td>\n",
       "      <td>Adm-clerical</td>\n",
       "      <td>Not-in-family</td>\n",
       "      <td>White</td>\n",
       "      <td>Female</td>\n",
       "      <td>0</td>\n",
       "      <td>0</td>\n",
       "      <td>40</td>\n",
       "      <td>United-States</td>\n",
       "      <td>&lt;=50K</td>\n",
       "    </tr>\n",
       "    <tr>\n",
       "      <td>3</td>\n",
       "      <td>8807</td>\n",
       "      <td>32</td>\n",
       "      <td>Private</td>\n",
       "      <td>198068</td>\n",
       "      <td>HS-grad</td>\n",
       "      <td>9</td>\n",
       "      <td>Never-married</td>\n",
       "      <td>Transport-moving</td>\n",
       "      <td>Not-in-family</td>\n",
       "      <td>White</td>\n",
       "      <td>Male</td>\n",
       "      <td>0</td>\n",
       "      <td>0</td>\n",
       "      <td>60</td>\n",
       "      <td>United-States</td>\n",
       "      <td>&lt;=50K</td>\n",
       "    </tr>\n",
       "    <tr>\n",
       "      <td>4</td>\n",
       "      <td>16644</td>\n",
       "      <td>23</td>\n",
       "      <td>Private</td>\n",
       "      <td>192978</td>\n",
       "      <td>HS-grad</td>\n",
       "      <td>9</td>\n",
       "      <td>Married-civ-spouse</td>\n",
       "      <td>Handlers-cleaners</td>\n",
       "      <td>Husband</td>\n",
       "      <td>White</td>\n",
       "      <td>Male</td>\n",
       "      <td>0</td>\n",
       "      <td>0</td>\n",
       "      <td>40</td>\n",
       "      <td>United-States</td>\n",
       "      <td>&lt;=50K</td>\n",
       "    </tr>\n",
       "  </tbody>\n",
       "</table>\n",
       "</div>"
      ],
      "text/plain": [
       "   Unnamed: 0  age  workclass  fnlwgt  education  education.num  \\\n",
       "0       12359   49    Private  180532    Masters             14   \n",
       "1       11680   35  Local-gov  308945    HS-grad              9   \n",
       "2       13682   28    Private   47907  Bachelors             13   \n",
       "3        8807   32    Private  198068    HS-grad              9   \n",
       "4       16644   23    Private  192978    HS-grad              9   \n",
       "\n",
       "          marital.status         occupation   relationship   race     sex  \\\n",
       "0  Married-spouse-absent     Prof-specialty  Not-in-family  White    Male   \n",
       "1     Married-civ-spouse       Craft-repair        Husband  White    Male   \n",
       "2          Never-married       Adm-clerical  Not-in-family  White  Female   \n",
       "3          Never-married   Transport-moving  Not-in-family  White    Male   \n",
       "4     Married-civ-spouse  Handlers-cleaners        Husband  White    Male   \n",
       "\n",
       "   capital.gain  capital.loss  hours.per.week native.country income  \n",
       "0             0             0              40  United-States  <=50K  \n",
       "1             0             0              40  United-States   >50K  \n",
       "2             0             0              40  United-States  <=50K  \n",
       "3             0             0              60  United-States  <=50K  \n",
       "4             0             0              40  United-States  <=50K  "
      ]
     },
     "execution_count": 8,
     "metadata": {},
     "output_type": "execute_result"
    }
   ],
   "source": [
    "data.head()"
   ]
  },
  {
   "cell_type": "code",
   "execution_count": 9,
   "metadata": {},
   "outputs": [
    {
     "data": {
      "text/plain": [
       "Index(['Unnamed: 0', 'age', 'workclass', 'fnlwgt', 'education',\n",
       "       'education.num', 'marital.status', 'occupation', 'relationship', 'race',\n",
       "       'sex', 'capital.gain', 'capital.loss', 'hours.per.week',\n",
       "       'native.country', 'income'],\n",
       "      dtype='object')"
      ]
     },
     "execution_count": 9,
     "metadata": {},
     "output_type": "execute_result"
    }
   ],
   "source": [
    "data.columns"
   ]
  },
  {
   "cell_type": "markdown",
   "metadata": {},
   "source": [
    "### Removing Unique Id"
   ]
  },
  {
   "cell_type": "code",
   "execution_count": 10,
   "metadata": {
    "scrolled": true
   },
   "outputs": [],
   "source": [
    "data.drop(columns=['Unnamed: 0'],inplace =True)"
   ]
  },
  {
   "cell_type": "code",
   "execution_count": 11,
   "metadata": {},
   "outputs": [
    {
     "data": {
      "text/plain": [
       "(32561, 15)"
      ]
     },
     "execution_count": 11,
     "metadata": {},
     "output_type": "execute_result"
    }
   ],
   "source": [
    "data.shape"
   ]
  },
  {
   "cell_type": "code",
   "execution_count": 12,
   "metadata": {},
   "outputs": [],
   "source": [
    "data.drop_duplicates(inplace =True)"
   ]
  },
  {
   "cell_type": "code",
   "execution_count": 13,
   "metadata": {},
   "outputs": [
    {
     "name": "stdout",
     "output_type": "stream",
     "text": [
      "<class 'pandas.core.frame.DataFrame'>\n",
      "Int64Index: 32537 entries, 0 to 9768\n",
      "Data columns (total 15 columns):\n",
      "age               32537 non-null int64\n",
      "workclass         32537 non-null object\n",
      "fnlwgt            32537 non-null int64\n",
      "education         32537 non-null object\n",
      "education.num     32537 non-null int64\n",
      "marital.status    32537 non-null object\n",
      "occupation        32537 non-null object\n",
      "relationship      32537 non-null object\n",
      "race              32537 non-null object\n",
      "sex               32537 non-null object\n",
      "capital.gain      32537 non-null int64\n",
      "capital.loss      32537 non-null int64\n",
      "hours.per.week    32537 non-null int64\n",
      "native.country    32537 non-null object\n",
      "income            32537 non-null object\n",
      "dtypes: int64(6), object(9)\n",
      "memory usage: 4.0+ MB\n"
     ]
    }
   ],
   "source": [
    "data.info()"
   ]
  },
  {
   "cell_type": "code",
   "execution_count": 14,
   "metadata": {},
   "outputs": [
    {
     "data": {
      "text/html": [
       "<div>\n",
       "<style scoped>\n",
       "    .dataframe tbody tr th:only-of-type {\n",
       "        vertical-align: middle;\n",
       "    }\n",
       "\n",
       "    .dataframe tbody tr th {\n",
       "        vertical-align: top;\n",
       "    }\n",
       "\n",
       "    .dataframe thead th {\n",
       "        text-align: right;\n",
       "    }\n",
       "</style>\n",
       "<table border=\"1\" class=\"dataframe\">\n",
       "  <thead>\n",
       "    <tr style=\"text-align: right;\">\n",
       "      <th></th>\n",
       "      <th>age</th>\n",
       "      <th>workclass</th>\n",
       "      <th>fnlwgt</th>\n",
       "      <th>education</th>\n",
       "      <th>education.num</th>\n",
       "      <th>marital.status</th>\n",
       "      <th>occupation</th>\n",
       "      <th>relationship</th>\n",
       "      <th>race</th>\n",
       "      <th>sex</th>\n",
       "      <th>capital.gain</th>\n",
       "      <th>capital.loss</th>\n",
       "      <th>hours.per.week</th>\n",
       "      <th>native.country</th>\n",
       "      <th>income</th>\n",
       "    </tr>\n",
       "  </thead>\n",
       "  <tbody>\n",
       "    <tr>\n",
       "      <td>0</td>\n",
       "      <td>49</td>\n",
       "      <td>Private</td>\n",
       "      <td>180532</td>\n",
       "      <td>Masters</td>\n",
       "      <td>14</td>\n",
       "      <td>Married-spouse-absent</td>\n",
       "      <td>Prof-specialty</td>\n",
       "      <td>Not-in-family</td>\n",
       "      <td>White</td>\n",
       "      <td>Male</td>\n",
       "      <td>0</td>\n",
       "      <td>0</td>\n",
       "      <td>40</td>\n",
       "      <td>United-States</td>\n",
       "      <td>&lt;=50K</td>\n",
       "    </tr>\n",
       "    <tr>\n",
       "      <td>1</td>\n",
       "      <td>35</td>\n",
       "      <td>Local-gov</td>\n",
       "      <td>308945</td>\n",
       "      <td>HS-grad</td>\n",
       "      <td>9</td>\n",
       "      <td>Married-civ-spouse</td>\n",
       "      <td>Craft-repair</td>\n",
       "      <td>Husband</td>\n",
       "      <td>White</td>\n",
       "      <td>Male</td>\n",
       "      <td>0</td>\n",
       "      <td>0</td>\n",
       "      <td>40</td>\n",
       "      <td>United-States</td>\n",
       "      <td>&gt;50K</td>\n",
       "    </tr>\n",
       "    <tr>\n",
       "      <td>2</td>\n",
       "      <td>28</td>\n",
       "      <td>Private</td>\n",
       "      <td>47907</td>\n",
       "      <td>Bachelors</td>\n",
       "      <td>13</td>\n",
       "      <td>Never-married</td>\n",
       "      <td>Adm-clerical</td>\n",
       "      <td>Not-in-family</td>\n",
       "      <td>White</td>\n",
       "      <td>Female</td>\n",
       "      <td>0</td>\n",
       "      <td>0</td>\n",
       "      <td>40</td>\n",
       "      <td>United-States</td>\n",
       "      <td>&lt;=50K</td>\n",
       "    </tr>\n",
       "    <tr>\n",
       "      <td>3</td>\n",
       "      <td>32</td>\n",
       "      <td>Private</td>\n",
       "      <td>198068</td>\n",
       "      <td>HS-grad</td>\n",
       "      <td>9</td>\n",
       "      <td>Never-married</td>\n",
       "      <td>Transport-moving</td>\n",
       "      <td>Not-in-family</td>\n",
       "      <td>White</td>\n",
       "      <td>Male</td>\n",
       "      <td>0</td>\n",
       "      <td>0</td>\n",
       "      <td>60</td>\n",
       "      <td>United-States</td>\n",
       "      <td>&lt;=50K</td>\n",
       "    </tr>\n",
       "    <tr>\n",
       "      <td>4</td>\n",
       "      <td>23</td>\n",
       "      <td>Private</td>\n",
       "      <td>192978</td>\n",
       "      <td>HS-grad</td>\n",
       "      <td>9</td>\n",
       "      <td>Married-civ-spouse</td>\n",
       "      <td>Handlers-cleaners</td>\n",
       "      <td>Husband</td>\n",
       "      <td>White</td>\n",
       "      <td>Male</td>\n",
       "      <td>0</td>\n",
       "      <td>0</td>\n",
       "      <td>40</td>\n",
       "      <td>United-States</td>\n",
       "      <td>&lt;=50K</td>\n",
       "    </tr>\n",
       "  </tbody>\n",
       "</table>\n",
       "</div>"
      ],
      "text/plain": [
       "   age  workclass  fnlwgt  education  education.num         marital.status  \\\n",
       "0   49    Private  180532    Masters             14  Married-spouse-absent   \n",
       "1   35  Local-gov  308945    HS-grad              9     Married-civ-spouse   \n",
       "2   28    Private   47907  Bachelors             13          Never-married   \n",
       "3   32    Private  198068    HS-grad              9          Never-married   \n",
       "4   23    Private  192978    HS-grad              9     Married-civ-spouse   \n",
       "\n",
       "          occupation   relationship   race     sex  capital.gain  \\\n",
       "0     Prof-specialty  Not-in-family  White    Male             0   \n",
       "1       Craft-repair        Husband  White    Male             0   \n",
       "2       Adm-clerical  Not-in-family  White  Female             0   \n",
       "3   Transport-moving  Not-in-family  White    Male             0   \n",
       "4  Handlers-cleaners        Husband  White    Male             0   \n",
       "\n",
       "   capital.loss  hours.per.week native.country income  \n",
       "0             0              40  United-States  <=50K  \n",
       "1             0              40  United-States   >50K  \n",
       "2             0              40  United-States  <=50K  \n",
       "3             0              60  United-States  <=50K  \n",
       "4             0              40  United-States  <=50K  "
      ]
     },
     "execution_count": 14,
     "metadata": {},
     "output_type": "execute_result"
    }
   ],
   "source": [
    "data.head()"
   ]
  },
  {
   "cell_type": "code",
   "execution_count": 15,
   "metadata": {},
   "outputs": [
    {
     "data": {
      "text/plain": [
       "array([49, 35, 28, 32, 23, 20, 46, 55, 26, 59, 43, 24, 58, 39, 29, 36, 45,\n",
       "       40, 44, 41, 50, 56, 34, 54, 17, 21, 66, 61, 47, 42, 18, 25, 31, 22,\n",
       "       30, 33, 60, 19, 62, 38, 52, 27, 37, 48, 69, 75, 57, 65, 51, 53, 67,\n",
       "       70, 71, 64, 63, 77, 79, 68, 80, 73, 74, 72, 82, 90, 76, 78, 81, 84,\n",
       "       83, 88, 86, 85, 87], dtype=int64)"
      ]
     },
     "execution_count": 15,
     "metadata": {},
     "output_type": "execute_result"
    }
   ],
   "source": [
    "data['age'].unique()"
   ]
  },
  {
   "cell_type": "code",
   "execution_count": 16,
   "metadata": {},
   "outputs": [
    {
     "data": {
      "text/plain": [
       "array(['Private', 'Local-gov', '?', 'Self-emp-inc', 'State-gov',\n",
       "       'Federal-gov', 'Self-emp-not-inc', 'Without-pay', 'Never-worked'],\n",
       "      dtype=object)"
      ]
     },
     "execution_count": 16,
     "metadata": {},
     "output_type": "execute_result"
    }
   ],
   "source": [
    "data['workclass'].unique()"
   ]
  },
  {
   "cell_type": "code",
   "execution_count": 17,
   "metadata": {},
   "outputs": [
    {
     "data": {
      "text/plain": [
       "array([180532, 308945,  47907, ...,  90290, 330901,  97847], dtype=int64)"
      ]
     },
     "execution_count": 17,
     "metadata": {},
     "output_type": "execute_result"
    }
   ],
   "source": [
    "data['fnlwgt'].unique()"
   ]
  },
  {
   "cell_type": "code",
   "execution_count": 18,
   "metadata": {},
   "outputs": [],
   "source": [
    "data['income'] = data['income'].replace({'<=50K':0,'>50K':1}) "
   ]
  },
  {
   "cell_type": "code",
   "execution_count": 19,
   "metadata": {},
   "outputs": [
    {
     "data": {
      "text/html": [
       "<div>\n",
       "<style scoped>\n",
       "    .dataframe tbody tr th:only-of-type {\n",
       "        vertical-align: middle;\n",
       "    }\n",
       "\n",
       "    .dataframe tbody tr th {\n",
       "        vertical-align: top;\n",
       "    }\n",
       "\n",
       "    .dataframe thead th {\n",
       "        text-align: right;\n",
       "    }\n",
       "</style>\n",
       "<table border=\"1\" class=\"dataframe\">\n",
       "  <thead>\n",
       "    <tr style=\"text-align: right;\">\n",
       "      <th></th>\n",
       "      <th>age</th>\n",
       "      <th>workclass</th>\n",
       "      <th>fnlwgt</th>\n",
       "      <th>education</th>\n",
       "      <th>education.num</th>\n",
       "      <th>marital.status</th>\n",
       "      <th>occupation</th>\n",
       "      <th>relationship</th>\n",
       "      <th>race</th>\n",
       "      <th>sex</th>\n",
       "      <th>capital.gain</th>\n",
       "      <th>capital.loss</th>\n",
       "      <th>hours.per.week</th>\n",
       "      <th>native.country</th>\n",
       "      <th>income</th>\n",
       "    </tr>\n",
       "  </thead>\n",
       "  <tbody>\n",
       "  </tbody>\n",
       "</table>\n",
       "</div>"
      ],
      "text/plain": [
       "Empty DataFrame\n",
       "Columns: [age, workclass, fnlwgt, education, education.num, marital.status, occupation, relationship, race, sex, capital.gain, capital.loss, hours.per.week, native.country, income]\n",
       "Index: []"
      ]
     },
     "execution_count": 19,
     "metadata": {},
     "output_type": "execute_result"
    }
   ],
   "source": [
    "data[data['education'] == '?'] "
   ]
  },
  {
   "cell_type": "code",
   "execution_count": 20,
   "metadata": {},
   "outputs": [
    {
     "data": {
      "text/plain": [
       "(32537, 15)"
      ]
     },
     "execution_count": 20,
     "metadata": {},
     "output_type": "execute_result"
    }
   ],
   "source": [
    "data.shape"
   ]
  },
  {
   "cell_type": "code",
   "execution_count": 21,
   "metadata": {},
   "outputs": [
    {
     "data": {
      "text/html": [
       "<div>\n",
       "<style scoped>\n",
       "    .dataframe tbody tr th:only-of-type {\n",
       "        vertical-align: middle;\n",
       "    }\n",
       "\n",
       "    .dataframe tbody tr th {\n",
       "        vertical-align: top;\n",
       "    }\n",
       "\n",
       "    .dataframe thead th {\n",
       "        text-align: right;\n",
       "    }\n",
       "</style>\n",
       "<table border=\"1\" class=\"dataframe\">\n",
       "  <thead>\n",
       "    <tr style=\"text-align: right;\">\n",
       "      <th></th>\n",
       "      <th>age</th>\n",
       "      <th>workclass</th>\n",
       "      <th>fnlwgt</th>\n",
       "      <th>education</th>\n",
       "      <th>education.num</th>\n",
       "      <th>marital.status</th>\n",
       "      <th>occupation</th>\n",
       "      <th>relationship</th>\n",
       "      <th>race</th>\n",
       "      <th>sex</th>\n",
       "      <th>capital.gain</th>\n",
       "      <th>capital.loss</th>\n",
       "      <th>hours.per.week</th>\n",
       "      <th>native.country</th>\n",
       "      <th>income</th>\n",
       "    </tr>\n",
       "  </thead>\n",
       "  <tbody>\n",
       "    <tr>\n",
       "      <td>5</td>\n",
       "      <td>20</td>\n",
       "      <td>?</td>\n",
       "      <td>141453</td>\n",
       "      <td>Some-college</td>\n",
       "      <td>10</td>\n",
       "      <td>Never-married</td>\n",
       "      <td>?</td>\n",
       "      <td>Own-child</td>\n",
       "      <td>White</td>\n",
       "      <td>Female</td>\n",
       "      <td>0</td>\n",
       "      <td>0</td>\n",
       "      <td>10</td>\n",
       "      <td>United-States</td>\n",
       "      <td>0</td>\n",
       "    </tr>\n",
       "    <tr>\n",
       "      <td>15</td>\n",
       "      <td>36</td>\n",
       "      <td>?</td>\n",
       "      <td>216256</td>\n",
       "      <td>HS-grad</td>\n",
       "      <td>9</td>\n",
       "      <td>Married-civ-spouse</td>\n",
       "      <td>?</td>\n",
       "      <td>Husband</td>\n",
       "      <td>White</td>\n",
       "      <td>Male</td>\n",
       "      <td>3464</td>\n",
       "      <td>0</td>\n",
       "      <td>30</td>\n",
       "      <td>United-States</td>\n",
       "      <td>0</td>\n",
       "    </tr>\n",
       "    <tr>\n",
       "      <td>32</td>\n",
       "      <td>17</td>\n",
       "      <td>?</td>\n",
       "      <td>171461</td>\n",
       "      <td>10th</td>\n",
       "      <td>6</td>\n",
       "      <td>Never-married</td>\n",
       "      <td>?</td>\n",
       "      <td>Own-child</td>\n",
       "      <td>White</td>\n",
       "      <td>Female</td>\n",
       "      <td>0</td>\n",
       "      <td>0</td>\n",
       "      <td>20</td>\n",
       "      <td>United-States</td>\n",
       "      <td>0</td>\n",
       "    </tr>\n",
       "    <tr>\n",
       "      <td>33</td>\n",
       "      <td>21</td>\n",
       "      <td>?</td>\n",
       "      <td>191806</td>\n",
       "      <td>Some-college</td>\n",
       "      <td>10</td>\n",
       "      <td>Never-married</td>\n",
       "      <td>?</td>\n",
       "      <td>Own-child</td>\n",
       "      <td>White</td>\n",
       "      <td>Male</td>\n",
       "      <td>0</td>\n",
       "      <td>0</td>\n",
       "      <td>75</td>\n",
       "      <td>United-States</td>\n",
       "      <td>0</td>\n",
       "    </tr>\n",
       "    <tr>\n",
       "      <td>34</td>\n",
       "      <td>66</td>\n",
       "      <td>?</td>\n",
       "      <td>357750</td>\n",
       "      <td>11th</td>\n",
       "      <td>7</td>\n",
       "      <td>Widowed</td>\n",
       "      <td>?</td>\n",
       "      <td>Not-in-family</td>\n",
       "      <td>Black</td>\n",
       "      <td>Female</td>\n",
       "      <td>0</td>\n",
       "      <td>0</td>\n",
       "      <td>40</td>\n",
       "      <td>United-States</td>\n",
       "      <td>0</td>\n",
       "    </tr>\n",
       "    <tr>\n",
       "      <td>...</td>\n",
       "      <td>...</td>\n",
       "      <td>...</td>\n",
       "      <td>...</td>\n",
       "      <td>...</td>\n",
       "      <td>...</td>\n",
       "      <td>...</td>\n",
       "      <td>...</td>\n",
       "      <td>...</td>\n",
       "      <td>...</td>\n",
       "      <td>...</td>\n",
       "      <td>...</td>\n",
       "      <td>...</td>\n",
       "      <td>...</td>\n",
       "      <td>...</td>\n",
       "      <td>...</td>\n",
       "    </tr>\n",
       "    <tr>\n",
       "      <td>9705</td>\n",
       "      <td>20</td>\n",
       "      <td>?</td>\n",
       "      <td>220115</td>\n",
       "      <td>HS-grad</td>\n",
       "      <td>9</td>\n",
       "      <td>Never-married</td>\n",
       "      <td>?</td>\n",
       "      <td>Own-child</td>\n",
       "      <td>White</td>\n",
       "      <td>Male</td>\n",
       "      <td>0</td>\n",
       "      <td>0</td>\n",
       "      <td>12</td>\n",
       "      <td>United-States</td>\n",
       "      <td>0</td>\n",
       "    </tr>\n",
       "    <tr>\n",
       "      <td>9725</td>\n",
       "      <td>68</td>\n",
       "      <td>?</td>\n",
       "      <td>229016</td>\n",
       "      <td>HS-grad</td>\n",
       "      <td>9</td>\n",
       "      <td>Married-civ-spouse</td>\n",
       "      <td>?</td>\n",
       "      <td>Wife</td>\n",
       "      <td>White</td>\n",
       "      <td>Female</td>\n",
       "      <td>0</td>\n",
       "      <td>0</td>\n",
       "      <td>25</td>\n",
       "      <td>United-States</td>\n",
       "      <td>0</td>\n",
       "    </tr>\n",
       "    <tr>\n",
       "      <td>9752</td>\n",
       "      <td>24</td>\n",
       "      <td>?</td>\n",
       "      <td>265434</td>\n",
       "      <td>Bachelors</td>\n",
       "      <td>13</td>\n",
       "      <td>Never-married</td>\n",
       "      <td>?</td>\n",
       "      <td>Not-in-family</td>\n",
       "      <td>White</td>\n",
       "      <td>Female</td>\n",
       "      <td>0</td>\n",
       "      <td>0</td>\n",
       "      <td>40</td>\n",
       "      <td>United-States</td>\n",
       "      <td>0</td>\n",
       "    </tr>\n",
       "    <tr>\n",
       "      <td>9760</td>\n",
       "      <td>29</td>\n",
       "      <td>?</td>\n",
       "      <td>134566</td>\n",
       "      <td>Doctorate</td>\n",
       "      <td>16</td>\n",
       "      <td>Married-civ-spouse</td>\n",
       "      <td>?</td>\n",
       "      <td>Husband</td>\n",
       "      <td>White</td>\n",
       "      <td>Male</td>\n",
       "      <td>0</td>\n",
       "      <td>0</td>\n",
       "      <td>50</td>\n",
       "      <td>United-States</td>\n",
       "      <td>1</td>\n",
       "    </tr>\n",
       "    <tr>\n",
       "      <td>9764</td>\n",
       "      <td>23</td>\n",
       "      <td>?</td>\n",
       "      <td>154373</td>\n",
       "      <td>Bachelors</td>\n",
       "      <td>13</td>\n",
       "      <td>Never-married</td>\n",
       "      <td>?</td>\n",
       "      <td>Not-in-family</td>\n",
       "      <td>White</td>\n",
       "      <td>Female</td>\n",
       "      <td>0</td>\n",
       "      <td>0</td>\n",
       "      <td>50</td>\n",
       "      <td>United-States</td>\n",
       "      <td>0</td>\n",
       "    </tr>\n",
       "  </tbody>\n",
       "</table>\n",
       "<p>1843 rows × 15 columns</p>\n",
       "</div>"
      ],
      "text/plain": [
       "      age workclass  fnlwgt     education  education.num      marital.status  \\\n",
       "5      20         ?  141453  Some-college             10       Never-married   \n",
       "15     36         ?  216256       HS-grad              9  Married-civ-spouse   \n",
       "32     17         ?  171461          10th              6       Never-married   \n",
       "33     21         ?  191806  Some-college             10       Never-married   \n",
       "34     66         ?  357750          11th              7             Widowed   \n",
       "...   ...       ...     ...           ...            ...                 ...   \n",
       "9705   20         ?  220115       HS-grad              9       Never-married   \n",
       "9725   68         ?  229016       HS-grad              9  Married-civ-spouse   \n",
       "9752   24         ?  265434     Bachelors             13       Never-married   \n",
       "9760   29         ?  134566     Doctorate             16  Married-civ-spouse   \n",
       "9764   23         ?  154373     Bachelors             13       Never-married   \n",
       "\n",
       "     occupation   relationship   race     sex  capital.gain  capital.loss  \\\n",
       "5             ?      Own-child  White  Female             0             0   \n",
       "15            ?        Husband  White    Male          3464             0   \n",
       "32            ?      Own-child  White  Female             0             0   \n",
       "33            ?      Own-child  White    Male             0             0   \n",
       "34            ?  Not-in-family  Black  Female             0             0   \n",
       "...         ...            ...    ...     ...           ...           ...   \n",
       "9705          ?      Own-child  White    Male             0             0   \n",
       "9725          ?           Wife  White  Female             0             0   \n",
       "9752          ?  Not-in-family  White  Female             0             0   \n",
       "9760          ?        Husband  White    Male             0             0   \n",
       "9764          ?  Not-in-family  White  Female             0             0   \n",
       "\n",
       "      hours.per.week native.country  income  \n",
       "5                 10  United-States       0  \n",
       "15                30  United-States       0  \n",
       "32                20  United-States       0  \n",
       "33                75  United-States       0  \n",
       "34                40  United-States       0  \n",
       "...              ...            ...     ...  \n",
       "9705              12  United-States       0  \n",
       "9725              25  United-States       0  \n",
       "9752              40  United-States       0  \n",
       "9760              50  United-States       1  \n",
       "9764              50  United-States       0  \n",
       "\n",
       "[1843 rows x 15 columns]"
      ]
     },
     "execution_count": 21,
     "metadata": {},
     "output_type": "execute_result"
    }
   ],
   "source": [
    "data[data['occupation'] == '?'] "
   ]
  },
  {
   "cell_type": "code",
   "execution_count": 22,
   "metadata": {},
   "outputs": [],
   "source": [
    "data.drop(data[data['occupation'] == '?'].index,inplace = True)"
   ]
  },
  {
   "cell_type": "code",
   "execution_count": 23,
   "metadata": {},
   "outputs": [],
   "source": [
    "data.drop(data[data['workclass'] == '?'].index,inplace = True) "
   ]
  },
  {
   "cell_type": "code",
   "execution_count": 24,
   "metadata": {},
   "outputs": [
    {
     "data": {
      "text/plain": [
       "(29655, 15)"
      ]
     },
     "execution_count": 24,
     "metadata": {},
     "output_type": "execute_result"
    }
   ],
   "source": [
    "data.shape"
   ]
  },
  {
   "cell_type": "code",
   "execution_count": 25,
   "metadata": {},
   "outputs": [
    {
     "data": {
      "text/html": [
       "<div>\n",
       "<style scoped>\n",
       "    .dataframe tbody tr th:only-of-type {\n",
       "        vertical-align: middle;\n",
       "    }\n",
       "\n",
       "    .dataframe tbody tr th {\n",
       "        vertical-align: top;\n",
       "    }\n",
       "\n",
       "    .dataframe thead th {\n",
       "        text-align: right;\n",
       "    }\n",
       "</style>\n",
       "<table border=\"1\" class=\"dataframe\">\n",
       "  <thead>\n",
       "    <tr style=\"text-align: right;\">\n",
       "      <th></th>\n",
       "      <th>age</th>\n",
       "      <th>workclass</th>\n",
       "      <th>fnlwgt</th>\n",
       "      <th>education</th>\n",
       "      <th>education.num</th>\n",
       "      <th>marital.status</th>\n",
       "      <th>occupation</th>\n",
       "      <th>relationship</th>\n",
       "      <th>race</th>\n",
       "      <th>sex</th>\n",
       "      <th>capital.gain</th>\n",
       "      <th>capital.loss</th>\n",
       "      <th>hours.per.week</th>\n",
       "      <th>native.country</th>\n",
       "      <th>income</th>\n",
       "    </tr>\n",
       "  </thead>\n",
       "  <tbody>\n",
       "    <tr>\n",
       "      <td>0</td>\n",
       "      <td>49</td>\n",
       "      <td>Private</td>\n",
       "      <td>180532</td>\n",
       "      <td>Masters</td>\n",
       "      <td>14</td>\n",
       "      <td>Married-spouse-absent</td>\n",
       "      <td>Prof-specialty</td>\n",
       "      <td>Not-in-family</td>\n",
       "      <td>White</td>\n",
       "      <td>Male</td>\n",
       "      <td>0</td>\n",
       "      <td>0</td>\n",
       "      <td>40</td>\n",
       "      <td>United-States</td>\n",
       "      <td>0</td>\n",
       "    </tr>\n",
       "    <tr>\n",
       "      <td>1</td>\n",
       "      <td>35</td>\n",
       "      <td>Local-gov</td>\n",
       "      <td>308945</td>\n",
       "      <td>HS-grad</td>\n",
       "      <td>9</td>\n",
       "      <td>Married-civ-spouse</td>\n",
       "      <td>Craft-repair</td>\n",
       "      <td>Husband</td>\n",
       "      <td>White</td>\n",
       "      <td>Male</td>\n",
       "      <td>0</td>\n",
       "      <td>0</td>\n",
       "      <td>40</td>\n",
       "      <td>United-States</td>\n",
       "      <td>1</td>\n",
       "    </tr>\n",
       "    <tr>\n",
       "      <td>2</td>\n",
       "      <td>28</td>\n",
       "      <td>Private</td>\n",
       "      <td>47907</td>\n",
       "      <td>Bachelors</td>\n",
       "      <td>13</td>\n",
       "      <td>Never-married</td>\n",
       "      <td>Adm-clerical</td>\n",
       "      <td>Not-in-family</td>\n",
       "      <td>White</td>\n",
       "      <td>Female</td>\n",
       "      <td>0</td>\n",
       "      <td>0</td>\n",
       "      <td>40</td>\n",
       "      <td>United-States</td>\n",
       "      <td>0</td>\n",
       "    </tr>\n",
       "    <tr>\n",
       "      <td>4</td>\n",
       "      <td>23</td>\n",
       "      <td>Private</td>\n",
       "      <td>192978</td>\n",
       "      <td>HS-grad</td>\n",
       "      <td>9</td>\n",
       "      <td>Married-civ-spouse</td>\n",
       "      <td>Handlers-cleaners</td>\n",
       "      <td>Husband</td>\n",
       "      <td>White</td>\n",
       "      <td>Male</td>\n",
       "      <td>0</td>\n",
       "      <td>0</td>\n",
       "      <td>40</td>\n",
       "      <td>United-States</td>\n",
       "      <td>0</td>\n",
       "    </tr>\n",
       "    <tr>\n",
       "      <td>6</td>\n",
       "      <td>46</td>\n",
       "      <td>Private</td>\n",
       "      <td>167882</td>\n",
       "      <td>HS-grad</td>\n",
       "      <td>9</td>\n",
       "      <td>Divorced</td>\n",
       "      <td>Tech-support</td>\n",
       "      <td>Not-in-family</td>\n",
       "      <td>White</td>\n",
       "      <td>Female</td>\n",
       "      <td>0</td>\n",
       "      <td>0</td>\n",
       "      <td>43</td>\n",
       "      <td>United-States</td>\n",
       "      <td>0</td>\n",
       "    </tr>\n",
       "    <tr>\n",
       "      <td>...</td>\n",
       "      <td>...</td>\n",
       "      <td>...</td>\n",
       "      <td>...</td>\n",
       "      <td>...</td>\n",
       "      <td>...</td>\n",
       "      <td>...</td>\n",
       "      <td>...</td>\n",
       "      <td>...</td>\n",
       "      <td>...</td>\n",
       "      <td>...</td>\n",
       "      <td>...</td>\n",
       "      <td>...</td>\n",
       "      <td>...</td>\n",
       "      <td>...</td>\n",
       "      <td>...</td>\n",
       "    </tr>\n",
       "    <tr>\n",
       "      <td>9763</td>\n",
       "      <td>49</td>\n",
       "      <td>Local-gov</td>\n",
       "      <td>170846</td>\n",
       "      <td>Masters</td>\n",
       "      <td>14</td>\n",
       "      <td>Divorced</td>\n",
       "      <td>Exec-managerial</td>\n",
       "      <td>Not-in-family</td>\n",
       "      <td>White</td>\n",
       "      <td>Female</td>\n",
       "      <td>0</td>\n",
       "      <td>0</td>\n",
       "      <td>40</td>\n",
       "      <td>United-States</td>\n",
       "      <td>0</td>\n",
       "    </tr>\n",
       "    <tr>\n",
       "      <td>9765</td>\n",
       "      <td>48</td>\n",
       "      <td>Private</td>\n",
       "      <td>148995</td>\n",
       "      <td>Masters</td>\n",
       "      <td>14</td>\n",
       "      <td>Married-civ-spouse</td>\n",
       "      <td>Prof-specialty</td>\n",
       "      <td>Husband</td>\n",
       "      <td>White</td>\n",
       "      <td>Male</td>\n",
       "      <td>0</td>\n",
       "      <td>0</td>\n",
       "      <td>55</td>\n",
       "      <td>United-States</td>\n",
       "      <td>1</td>\n",
       "    </tr>\n",
       "    <tr>\n",
       "      <td>9766</td>\n",
       "      <td>46</td>\n",
       "      <td>Federal-gov</td>\n",
       "      <td>330901</td>\n",
       "      <td>Some-college</td>\n",
       "      <td>10</td>\n",
       "      <td>Married-civ-spouse</td>\n",
       "      <td>Exec-managerial</td>\n",
       "      <td>Husband</td>\n",
       "      <td>Black</td>\n",
       "      <td>Male</td>\n",
       "      <td>0</td>\n",
       "      <td>0</td>\n",
       "      <td>40</td>\n",
       "      <td>United-States</td>\n",
       "      <td>0</td>\n",
       "    </tr>\n",
       "    <tr>\n",
       "      <td>9767</td>\n",
       "      <td>66</td>\n",
       "      <td>Self-emp-not-inc</td>\n",
       "      <td>97847</td>\n",
       "      <td>Bachelors</td>\n",
       "      <td>13</td>\n",
       "      <td>Married-civ-spouse</td>\n",
       "      <td>Sales</td>\n",
       "      <td>Husband</td>\n",
       "      <td>White</td>\n",
       "      <td>Male</td>\n",
       "      <td>0</td>\n",
       "      <td>0</td>\n",
       "      <td>50</td>\n",
       "      <td>United-States</td>\n",
       "      <td>0</td>\n",
       "    </tr>\n",
       "    <tr>\n",
       "      <td>9768</td>\n",
       "      <td>35</td>\n",
       "      <td>Private</td>\n",
       "      <td>166606</td>\n",
       "      <td>HS-grad</td>\n",
       "      <td>9</td>\n",
       "      <td>Married-civ-spouse</td>\n",
       "      <td>Tech-support</td>\n",
       "      <td>Husband</td>\n",
       "      <td>White</td>\n",
       "      <td>Male</td>\n",
       "      <td>0</td>\n",
       "      <td>0</td>\n",
       "      <td>40</td>\n",
       "      <td>United-States</td>\n",
       "      <td>0</td>\n",
       "    </tr>\n",
       "  </tbody>\n",
       "</table>\n",
       "<p>29655 rows × 15 columns</p>\n",
       "</div>"
      ],
      "text/plain": [
       "      age         workclass  fnlwgt     education  education.num  \\\n",
       "0      49           Private  180532       Masters             14   \n",
       "1      35         Local-gov  308945       HS-grad              9   \n",
       "2      28           Private   47907     Bachelors             13   \n",
       "4      23           Private  192978       HS-grad              9   \n",
       "6      46           Private  167882       HS-grad              9   \n",
       "...   ...               ...     ...           ...            ...   \n",
       "9763   49         Local-gov  170846       Masters             14   \n",
       "9765   48           Private  148995       Masters             14   \n",
       "9766   46       Federal-gov  330901  Some-college             10   \n",
       "9767   66  Self-emp-not-inc   97847     Bachelors             13   \n",
       "9768   35           Private  166606       HS-grad              9   \n",
       "\n",
       "             marital.status         occupation   relationship   race     sex  \\\n",
       "0     Married-spouse-absent     Prof-specialty  Not-in-family  White    Male   \n",
       "1        Married-civ-spouse       Craft-repair        Husband  White    Male   \n",
       "2             Never-married       Adm-clerical  Not-in-family  White  Female   \n",
       "4        Married-civ-spouse  Handlers-cleaners        Husband  White    Male   \n",
       "6                  Divorced       Tech-support  Not-in-family  White  Female   \n",
       "...                     ...                ...            ...    ...     ...   \n",
       "9763               Divorced    Exec-managerial  Not-in-family  White  Female   \n",
       "9765     Married-civ-spouse     Prof-specialty        Husband  White    Male   \n",
       "9766     Married-civ-spouse    Exec-managerial        Husband  Black    Male   \n",
       "9767     Married-civ-spouse              Sales        Husband  White    Male   \n",
       "9768     Married-civ-spouse       Tech-support        Husband  White    Male   \n",
       "\n",
       "      capital.gain  capital.loss  hours.per.week native.country  income  \n",
       "0                0             0              40  United-States       0  \n",
       "1                0             0              40  United-States       1  \n",
       "2                0             0              40  United-States       0  \n",
       "4                0             0              40  United-States       0  \n",
       "6                0             0              43  United-States       0  \n",
       "...            ...           ...             ...            ...     ...  \n",
       "9763             0             0              40  United-States       0  \n",
       "9765             0             0              55  United-States       1  \n",
       "9766             0             0              40  United-States       0  \n",
       "9767             0             0              50  United-States       0  \n",
       "9768             0             0              40  United-States       0  \n",
       "\n",
       "[29655 rows x 15 columns]"
      ]
     },
     "execution_count": 25,
     "metadata": {},
     "output_type": "execute_result"
    }
   ],
   "source": [
    "data.drop(data[data['occupation'] == '?'].index)"
   ]
  },
  {
   "cell_type": "code",
   "execution_count": 26,
   "metadata": {},
   "outputs": [
    {
     "data": {
      "text/plain": [
       "(29655, 15)"
      ]
     },
     "execution_count": 26,
     "metadata": {},
     "output_type": "execute_result"
    }
   ],
   "source": [
    "data.shape"
   ]
  },
  {
   "cell_type": "code",
   "execution_count": null,
   "metadata": {},
   "outputs": [],
   "source": []
  },
  {
   "cell_type": "code",
   "execution_count": 27,
   "metadata": {},
   "outputs": [
    {
     "data": {
      "text/plain": [
       "array(['Private', 'Local-gov', 'Self-emp-inc', 'State-gov', 'Federal-gov',\n",
       "       'Self-emp-not-inc', 'Without-pay'], dtype=object)"
      ]
     },
     "execution_count": 27,
     "metadata": {},
     "output_type": "execute_result"
    }
   ],
   "source": [
    "data['workclass'].unique()"
   ]
  },
  {
   "cell_type": "code",
   "execution_count": 28,
   "metadata": {},
   "outputs": [
    {
     "data": {
      "text/plain": [
       "Index(['age', 'workclass', 'fnlwgt', 'education', 'education.num',\n",
       "       'marital.status', 'occupation', 'relationship', 'race', 'sex',\n",
       "       'capital.gain', 'capital.loss', 'hours.per.week', 'native.country',\n",
       "       'income'],\n",
       "      dtype='object')"
      ]
     },
     "execution_count": 28,
     "metadata": {},
     "output_type": "execute_result"
    }
   ],
   "source": [
    "data.columns"
   ]
  },
  {
   "cell_type": "code",
   "execution_count": 29,
   "metadata": {},
   "outputs": [
    {
     "data": {
      "text/plain": [
       "19984"
      ]
     },
     "execution_count": 29,
     "metadata": {},
     "output_type": "execute_result"
    }
   ],
   "source": [
    "len(data['fnlwgt'].unique())"
   ]
  },
  {
   "cell_type": "code",
   "execution_count": 30,
   "metadata": {},
   "outputs": [
    {
     "data": {
      "text/plain": [
       "array(['Masters', 'HS-grad', 'Bachelors', 'Some-college', 'Assoc-acdm',\n",
       "       '12th', '10th', '11th', '1st-4th', 'Assoc-voc', 'Prof-school',\n",
       "       '9th', '7th-8th', '5th-6th', 'Preschool', 'Doctorate'],\n",
       "      dtype=object)"
      ]
     },
     "execution_count": 30,
     "metadata": {},
     "output_type": "execute_result"
    }
   ],
   "source": [
    "data['education'].unique()"
   ]
  },
  {
   "cell_type": "code",
   "execution_count": 31,
   "metadata": {},
   "outputs": [
    {
     "data": {
      "text/plain": [
       "array([14,  9, 13, 10, 12,  8,  6,  7,  2, 11, 15,  5,  4,  3,  1, 16],\n",
       "      dtype=int64)"
      ]
     },
     "execution_count": 31,
     "metadata": {},
     "output_type": "execute_result"
    }
   ],
   "source": [
    "data['education.num'].unique()"
   ]
  },
  {
   "cell_type": "code",
   "execution_count": 32,
   "metadata": {},
   "outputs": [
    {
     "data": {
      "text/plain": [
       "array(['Married-spouse-absent', 'Married-civ-spouse', 'Never-married',\n",
       "       'Divorced', 'Separated', 'Widowed', 'Married-AF-spouse'],\n",
       "      dtype=object)"
      ]
     },
     "execution_count": 32,
     "metadata": {},
     "output_type": "execute_result"
    }
   ],
   "source": [
    "data['marital.status'].unique()"
   ]
  },
  {
   "cell_type": "code",
   "execution_count": 33,
   "metadata": {},
   "outputs": [
    {
     "data": {
      "text/plain": [
       "array(['Prof-specialty', 'Craft-repair', 'Adm-clerical',\n",
       "       'Handlers-cleaners', 'Tech-support', 'Sales', 'Exec-managerial',\n",
       "       'Machine-op-inspct', 'Transport-moving', 'Other-service',\n",
       "       'Protective-serv', 'Farming-fishing', 'Priv-house-serv',\n",
       "       'Armed-Forces'], dtype=object)"
      ]
     },
     "execution_count": 33,
     "metadata": {},
     "output_type": "execute_result"
    }
   ],
   "source": [
    "data['occupation'].unique()"
   ]
  },
  {
   "cell_type": "code",
   "execution_count": 34,
   "metadata": {},
   "outputs": [
    {
     "data": {
      "text/plain": [
       "array(['Not-in-family', 'Husband', 'Own-child', 'Unmarried',\n",
       "       'Other-relative', 'Wife'], dtype=object)"
      ]
     },
     "execution_count": 34,
     "metadata": {},
     "output_type": "execute_result"
    }
   ],
   "source": [
    "data['relationship'].unique()"
   ]
  },
  {
   "cell_type": "code",
   "execution_count": 35,
   "metadata": {},
   "outputs": [
    {
     "data": {
      "text/plain": [
       "array(['White', 'Black', 'Amer-Indian-Eskimo', 'Other',\n",
       "       'Asian-Pac-Islander'], dtype=object)"
      ]
     },
     "execution_count": 35,
     "metadata": {},
     "output_type": "execute_result"
    }
   ],
   "source": [
    "data['race'].unique()"
   ]
  },
  {
   "cell_type": "code",
   "execution_count": 36,
   "metadata": {},
   "outputs": [
    {
     "data": {
      "text/plain": [
       "array(['Male', 'Female'], dtype=object)"
      ]
     },
     "execution_count": 36,
     "metadata": {},
     "output_type": "execute_result"
    }
   ],
   "source": [
    "data['sex'].unique()"
   ]
  },
  {
   "cell_type": "code",
   "execution_count": 37,
   "metadata": {},
   "outputs": [
    {
     "data": {
      "text/plain": [
       "array([    0, 99999, 10520,  3137,  7688,  3103, 14084,  7298,  4064,\n",
       "       15024,  2202,  5013,  2829, 25236,  4865,  2597,  4508,  1055,\n",
       "        3464,  5721,  4787,  5178,  2174,  3908,  8614,  2580,  4386,\n",
       "        9386,  3325,  3411,  3471,  3674,  3942,  4416,  2907, 27828,\n",
       "        4934,  4650,  2354,  6767, 13550,  2176, 14344,  2346,   991,\n",
       "        2977,  6497,   594,  3781,  2407,  6360,   914,  3818,  2290,\n",
       "        1424,  6849,  2936,  2463, 10566, 20051,  2635,  7430,  2228,\n",
       "        1506,  5455,  9562,  5556,  4687,  3456,  1151,   401,  4101,\n",
       "        2329,  1471, 25124, 15020,  3418,  7443,  2036,  6418,  2062,\n",
       "        2961,  2885, 18481,  1086,  1797, 34095, 10605,   114, 15831,\n",
       "        1848,  6723,  3273,  1831,  2414,  7978,  1639,  2538,  2105,\n",
       "        6514,  2653,  2964,  2993,  3887,  3432,  1409,  1455,  5060,\n",
       "        7896,  6097,  1173,  4931, 11678,  2050,  2009,  2387, 22040,\n",
       "       41310], dtype=int64)"
      ]
     },
     "execution_count": 37,
     "metadata": {},
     "output_type": "execute_result"
    }
   ],
   "source": [
    "data['capital.gain'].unique()"
   ]
  },
  {
   "cell_type": "code",
   "execution_count": 38,
   "metadata": {},
   "outputs": [
    {
     "data": {
      "text/plain": [
       "array([   0, 1887, 1977, 2415, 1564, 1741, 1974, 1485, 1902, 1504, 2001,\n",
       "       1380, 1672,  323, 1848, 1590, 1980, 2603, 2246, 2174, 2051, 1594,\n",
       "       1573, 1579, 1669, 1651, 2559, 2824, 2547, 1740, 1735, 2205, 2206,\n",
       "       1408, 2258, 1340, 1602, 1719, 1628, 1876, 2339, 1825, 2002, 2231,\n",
       "       2392, 2444, 1755, 1762, 1721,  625, 2057, 1648, 2377, 1617, 2080,\n",
       "       1844, 1092, 1816, 2352, 2179, 3004, 3770,  155,  419, 2129,  213,\n",
       "        880,  653, 4356, 2282, 1138, 2042, 1668, 3683, 1726, 2467,  974,\n",
       "       3900, 1258, 1539, 2238, 2149,  810, 1411, 2457, 1944, 2267, 2754,\n",
       "       2472, 2201], dtype=int64)"
      ]
     },
     "execution_count": 38,
     "metadata": {},
     "output_type": "execute_result"
    }
   ],
   "source": [
    "data['capital.loss'].unique()"
   ]
  },
  {
   "cell_type": "code",
   "execution_count": 39,
   "metadata": {},
   "outputs": [
    {
     "data": {
      "text/plain": [
       "array([40, 43, 60, 50, 38, 46, 45, 42, 58, 20, 70, 48, 25, 35, 65, 12, 44,\n",
       "       30, 84, 32, 64, 56, 24, 36, 55, 75, 37,  8, 52, 14, 26,  5,  4, 53,\n",
       "       31, 99, 15, 13, 90, 10, 72, 51, 21, 54,  6, 80, 77, 23, 16, 39, 18,\n",
       "        3, 86, 33, 28, 49, 17, 27,  2, 34, 63,  7, 22, 62, 57, 41, 96,  9,\n",
       "       47, 76, 78, 61, 98, 19, 29,  1, 91, 95, 66, 88, 85, 11, 67, 68, 82,\n",
       "       73, 59, 97, 74, 92, 89, 87, 94, 81], dtype=int64)"
      ]
     },
     "execution_count": 39,
     "metadata": {},
     "output_type": "execute_result"
    }
   ],
   "source": [
    "data['hours.per.week'].unique()"
   ]
  },
  {
   "cell_type": "code",
   "execution_count": 40,
   "metadata": {},
   "outputs": [
    {
     "data": {
      "text/plain": [
       "array(['United-States', 'Puerto-Rico', 'Mexico', 'South', 'Guatemala',\n",
       "       'Jamaica', 'Iran', 'England', 'Philippines', 'Columbia', '?',\n",
       "       'Peru', 'China', 'Laos', 'Poland', 'Honduras', 'Ireland', 'India',\n",
       "       'Japan', 'Cuba', 'Cambodia', 'Portugal', 'Germany', 'El-Salvador',\n",
       "       'Scotland', 'Italy', 'France', 'Hungary', 'Haiti',\n",
       "       'Dominican-Republic', 'Vietnam', 'Thailand', 'Nicaragua', 'Taiwan',\n",
       "       'Greece', 'Canada', 'Trinadad&Tobago', 'Ecuador', 'Yugoslavia',\n",
       "       'Outlying-US(Guam-USVI-etc)', 'Hong', 'Holand-Netherlands'],\n",
       "      dtype=object)"
      ]
     },
     "execution_count": 40,
     "metadata": {},
     "output_type": "execute_result"
    }
   ],
   "source": [
    "data['native.country'].unique()"
   ]
  },
  {
   "cell_type": "code",
   "execution_count": 41,
   "metadata": {},
   "outputs": [],
   "source": [
    "data.drop(data[data['native.country'] == '?'].index,inplace = True)"
   ]
  },
  {
   "cell_type": "code",
   "execution_count": 42,
   "metadata": {},
   "outputs": [
    {
     "data": {
      "text/plain": [
       "(28825, 15)"
      ]
     },
     "execution_count": 42,
     "metadata": {},
     "output_type": "execute_result"
    }
   ],
   "source": [
    "data.shape"
   ]
  },
  {
   "cell_type": "code",
   "execution_count": 43,
   "metadata": {},
   "outputs": [
    {
     "data": {
      "text/html": [
       "<div>\n",
       "<style scoped>\n",
       "    .dataframe tbody tr th:only-of-type {\n",
       "        vertical-align: middle;\n",
       "    }\n",
       "\n",
       "    .dataframe tbody tr th {\n",
       "        vertical-align: top;\n",
       "    }\n",
       "\n",
       "    .dataframe thead th {\n",
       "        text-align: right;\n",
       "    }\n",
       "</style>\n",
       "<table border=\"1\" class=\"dataframe\">\n",
       "  <thead>\n",
       "    <tr style=\"text-align: right;\">\n",
       "      <th></th>\n",
       "      <th>age</th>\n",
       "      <th>fnlwgt</th>\n",
       "      <th>education.num</th>\n",
       "      <th>capital.gain</th>\n",
       "      <th>capital.loss</th>\n",
       "      <th>hours.per.week</th>\n",
       "      <th>income</th>\n",
       "    </tr>\n",
       "  </thead>\n",
       "  <tbody>\n",
       "    <tr>\n",
       "      <td>age</td>\n",
       "      <td>1.000000</td>\n",
       "      <td>-0.075337</td>\n",
       "      <td>0.044721</td>\n",
       "      <td>0.080460</td>\n",
       "      <td>0.058722</td>\n",
       "      <td>0.101089</td>\n",
       "      <td>0.241275</td>\n",
       "    </tr>\n",
       "    <tr>\n",
       "      <td>fnlwgt</td>\n",
       "      <td>-0.075337</td>\n",
       "      <td>1.000000</td>\n",
       "      <td>-0.044488</td>\n",
       "      <td>-0.000738</td>\n",
       "      <td>-0.010110</td>\n",
       "      <td>-0.020436</td>\n",
       "      <td>-0.007560</td>\n",
       "    </tr>\n",
       "    <tr>\n",
       "      <td>education.num</td>\n",
       "      <td>0.044721</td>\n",
       "      <td>-0.044488</td>\n",
       "      <td>1.000000</td>\n",
       "      <td>0.124596</td>\n",
       "      <td>0.079911</td>\n",
       "      <td>0.153137</td>\n",
       "      <td>0.337093</td>\n",
       "    </tr>\n",
       "    <tr>\n",
       "      <td>capital.gain</td>\n",
       "      <td>0.080460</td>\n",
       "      <td>-0.000738</td>\n",
       "      <td>0.124596</td>\n",
       "      <td>1.000000</td>\n",
       "      <td>-0.032367</td>\n",
       "      <td>0.079714</td>\n",
       "      <td>0.220440</td>\n",
       "    </tr>\n",
       "    <tr>\n",
       "      <td>capital.loss</td>\n",
       "      <td>0.058722</td>\n",
       "      <td>-0.010110</td>\n",
       "      <td>0.079911</td>\n",
       "      <td>-0.032367</td>\n",
       "      <td>1.000000</td>\n",
       "      <td>0.052170</td>\n",
       "      <td>0.149990</td>\n",
       "    </tr>\n",
       "    <tr>\n",
       "      <td>hours.per.week</td>\n",
       "      <td>0.101089</td>\n",
       "      <td>-0.020436</td>\n",
       "      <td>0.153137</td>\n",
       "      <td>0.079714</td>\n",
       "      <td>0.052170</td>\n",
       "      <td>1.000000</td>\n",
       "      <td>0.230301</td>\n",
       "    </tr>\n",
       "    <tr>\n",
       "      <td>income</td>\n",
       "      <td>0.241275</td>\n",
       "      <td>-0.007560</td>\n",
       "      <td>0.337093</td>\n",
       "      <td>0.220440</td>\n",
       "      <td>0.149990</td>\n",
       "      <td>0.230301</td>\n",
       "      <td>1.000000</td>\n",
       "    </tr>\n",
       "  </tbody>\n",
       "</table>\n",
       "</div>"
      ],
      "text/plain": [
       "                     age    fnlwgt  education.num  capital.gain  capital.loss  \\\n",
       "age             1.000000 -0.075337       0.044721      0.080460      0.058722   \n",
       "fnlwgt         -0.075337  1.000000      -0.044488     -0.000738     -0.010110   \n",
       "education.num   0.044721 -0.044488       1.000000      0.124596      0.079911   \n",
       "capital.gain    0.080460 -0.000738       0.124596      1.000000     -0.032367   \n",
       "capital.loss    0.058722 -0.010110       0.079911     -0.032367      1.000000   \n",
       "hours.per.week  0.101089 -0.020436       0.153137      0.079714      0.052170   \n",
       "income          0.241275 -0.007560       0.337093      0.220440      0.149990   \n",
       "\n",
       "                hours.per.week    income  \n",
       "age                   0.101089  0.241275  \n",
       "fnlwgt               -0.020436 -0.007560  \n",
       "education.num         0.153137  0.337093  \n",
       "capital.gain          0.079714  0.220440  \n",
       "capital.loss          0.052170  0.149990  \n",
       "hours.per.week        1.000000  0.230301  \n",
       "income                0.230301  1.000000  "
      ]
     },
     "execution_count": 43,
     "metadata": {},
     "output_type": "execute_result"
    }
   ],
   "source": [
    "data.corr()"
   ]
  },
  {
   "cell_type": "code",
   "execution_count": 44,
   "metadata": {
    "scrolled": true
   },
   "outputs": [
    {
     "data": {
      "image/png": "[encoded data removed]",
      "text/plain": [
       "<Figure size 1440x1440 with 2 Axes>"
      ]
     },
     "metadata": {
      "needs_background": "light"
     },
     "output_type": "display_data"
    }
   ],
   "source": [
    "plt.figure(figsize=(20,20))\n",
    "#plot heat map\n",
    "g=sns.heatmap(data.corr(),annot=True,cmap=\"RdYlGn\")"
   ]
  },
  {
   "cell_type": "markdown",
   "metadata": {},
   "source": [
    "## Removing unrelated Columns"
   ]
  },
  {
   "cell_type": "code",
   "execution_count": 92,
   "metadata": {},
   "outputs": [],
   "source": [
    "data.to_excel('Income_Prediction_PreProcessing.xlsx',index=False)"
   ]
  },
  {
   "cell_type": "code",
   "execution_count": 45,
   "metadata": {},
   "outputs": [],
   "source": [
    "data.drop(columns=['fnlwgt'],inplace=True)"
   ]
  },
  {
   "cell_type": "code",
   "execution_count": 46,
   "metadata": {},
   "outputs": [
    {
     "data": {
      "text/plain": [
       "(28825, 14)"
      ]
     },
     "execution_count": 46,
     "metadata": {},
     "output_type": "execute_result"
    }
   ],
   "source": [
    "data.shape"
   ]
  },
  {
   "cell_type": "code",
   "execution_count": 47,
   "metadata": {},
   "outputs": [],
   "source": [
    "data.drop(columns=['education'],inplace=True)"
   ]
  },
  {
   "cell_type": "code",
   "execution_count": 48,
   "metadata": {},
   "outputs": [],
   "source": [
    "categorical_data=data.select_dtypes(exclude=np.number)"
   ]
  },
  {
   "cell_type": "code",
   "execution_count": 49,
   "metadata": {},
   "outputs": [
    {
     "data": {
      "text/html": [
       "<div>\n",
       "<style scoped>\n",
       "    .dataframe tbody tr th:only-of-type {\n",
       "        vertical-align: middle;\n",
       "    }\n",
       "\n",
       "    .dataframe tbody tr th {\n",
       "        vertical-align: top;\n",
       "    }\n",
       "\n",
       "    .dataframe thead th {\n",
       "        text-align: right;\n",
       "    }\n",
       "</style>\n",
       "<table border=\"1\" class=\"dataframe\">\n",
       "  <thead>\n",
       "    <tr style=\"text-align: right;\">\n",
       "      <th></th>\n",
       "      <th>workclass</th>\n",
       "      <th>marital.status</th>\n",
       "      <th>occupation</th>\n",
       "      <th>relationship</th>\n",
       "      <th>race</th>\n",
       "      <th>sex</th>\n",
       "      <th>native.country</th>\n",
       "    </tr>\n",
       "  </thead>\n",
       "  <tbody>\n",
       "    <tr>\n",
       "      <td>0</td>\n",
       "      <td>Private</td>\n",
       "      <td>Married-spouse-absent</td>\n",
       "      <td>Prof-specialty</td>\n",
       "      <td>Not-in-family</td>\n",
       "      <td>White</td>\n",
       "      <td>Male</td>\n",
       "      <td>United-States</td>\n",
       "    </tr>\n",
       "    <tr>\n",
       "      <td>1</td>\n",
       "      <td>Local-gov</td>\n",
       "      <td>Married-civ-spouse</td>\n",
       "      <td>Craft-repair</td>\n",
       "      <td>Husband</td>\n",
       "      <td>White</td>\n",
       "      <td>Male</td>\n",
       "      <td>United-States</td>\n",
       "    </tr>\n",
       "    <tr>\n",
       "      <td>2</td>\n",
       "      <td>Private</td>\n",
       "      <td>Never-married</td>\n",
       "      <td>Adm-clerical</td>\n",
       "      <td>Not-in-family</td>\n",
       "      <td>White</td>\n",
       "      <td>Female</td>\n",
       "      <td>United-States</td>\n",
       "    </tr>\n",
       "    <tr>\n",
       "      <td>4</td>\n",
       "      <td>Private</td>\n",
       "      <td>Married-civ-spouse</td>\n",
       "      <td>Handlers-cleaners</td>\n",
       "      <td>Husband</td>\n",
       "      <td>White</td>\n",
       "      <td>Male</td>\n",
       "      <td>United-States</td>\n",
       "    </tr>\n",
       "    <tr>\n",
       "      <td>6</td>\n",
       "      <td>Private</td>\n",
       "      <td>Divorced</td>\n",
       "      <td>Tech-support</td>\n",
       "      <td>Not-in-family</td>\n",
       "      <td>White</td>\n",
       "      <td>Female</td>\n",
       "      <td>United-States</td>\n",
       "    </tr>\n",
       "    <tr>\n",
       "      <td>...</td>\n",
       "      <td>...</td>\n",
       "      <td>...</td>\n",
       "      <td>...</td>\n",
       "      <td>...</td>\n",
       "      <td>...</td>\n",
       "      <td>...</td>\n",
       "      <td>...</td>\n",
       "    </tr>\n",
       "    <tr>\n",
       "      <td>9762</td>\n",
       "      <td>Private</td>\n",
       "      <td>Married-civ-spouse</td>\n",
       "      <td>Prof-specialty</td>\n",
       "      <td>Husband</td>\n",
       "      <td>White</td>\n",
       "      <td>Male</td>\n",
       "      <td>United-States</td>\n",
       "    </tr>\n",
       "    <tr>\n",
       "      <td>9765</td>\n",
       "      <td>Private</td>\n",
       "      <td>Married-civ-spouse</td>\n",
       "      <td>Prof-specialty</td>\n",
       "      <td>Husband</td>\n",
       "      <td>White</td>\n",
       "      <td>Male</td>\n",
       "      <td>United-States</td>\n",
       "    </tr>\n",
       "    <tr>\n",
       "      <td>9766</td>\n",
       "      <td>Federal-gov</td>\n",
       "      <td>Married-civ-spouse</td>\n",
       "      <td>Exec-managerial</td>\n",
       "      <td>Husband</td>\n",
       "      <td>Black</td>\n",
       "      <td>Male</td>\n",
       "      <td>United-States</td>\n",
       "    </tr>\n",
       "    <tr>\n",
       "      <td>9767</td>\n",
       "      <td>Self-emp-not-inc</td>\n",
       "      <td>Married-civ-spouse</td>\n",
       "      <td>Sales</td>\n",
       "      <td>Husband</td>\n",
       "      <td>White</td>\n",
       "      <td>Male</td>\n",
       "      <td>United-States</td>\n",
       "    </tr>\n",
       "    <tr>\n",
       "      <td>9768</td>\n",
       "      <td>Private</td>\n",
       "      <td>Married-civ-spouse</td>\n",
       "      <td>Tech-support</td>\n",
       "      <td>Husband</td>\n",
       "      <td>White</td>\n",
       "      <td>Male</td>\n",
       "      <td>United-States</td>\n",
       "    </tr>\n",
       "  </tbody>\n",
       "</table>\n",
       "<p>28825 rows × 7 columns</p>\n",
       "</div>"
      ],
      "text/plain": [
       "             workclass         marital.status         occupation  \\\n",
       "0              Private  Married-spouse-absent     Prof-specialty   \n",
       "1            Local-gov     Married-civ-spouse       Craft-repair   \n",
       "2              Private          Never-married       Adm-clerical   \n",
       "4              Private     Married-civ-spouse  Handlers-cleaners   \n",
       "6              Private               Divorced       Tech-support   \n",
       "...                ...                    ...                ...   \n",
       "9762           Private     Married-civ-spouse     Prof-specialty   \n",
       "9765           Private     Married-civ-spouse     Prof-specialty   \n",
       "9766       Federal-gov     Married-civ-spouse    Exec-managerial   \n",
       "9767  Self-emp-not-inc     Married-civ-spouse              Sales   \n",
       "9768           Private     Married-civ-spouse       Tech-support   \n",
       "\n",
       "       relationship   race     sex native.country  \n",
       "0     Not-in-family  White    Male  United-States  \n",
       "1           Husband  White    Male  United-States  \n",
       "2     Not-in-family  White  Female  United-States  \n",
       "4           Husband  White    Male  United-States  \n",
       "6     Not-in-family  White  Female  United-States  \n",
       "...             ...    ...     ...            ...  \n",
       "9762        Husband  White    Male  United-States  \n",
       "9765        Husband  White    Male  United-States  \n",
       "9766        Husband  Black    Male  United-States  \n",
       "9767        Husband  White    Male  United-States  \n",
       "9768        Husband  White    Male  United-States  \n",
       "\n",
       "[28825 rows x 7 columns]"
      ]
     },
     "execution_count": 49,
     "metadata": {},
     "output_type": "execute_result"
    }
   ],
   "source": [
    "categorical_data"
   ]
  },
  {
   "cell_type": "code",
   "execution_count": 50,
   "metadata": {},
   "outputs": [],
   "source": [
    "num_data=data.select_dtypes(include=np.number)"
   ]
  },
  {
   "cell_type": "code",
   "execution_count": 51,
   "metadata": {},
   "outputs": [
    {
     "data": {
      "text/html": [
       "<div>\n",
       "<style scoped>\n",
       "    .dataframe tbody tr th:only-of-type {\n",
       "        vertical-align: middle;\n",
       "    }\n",
       "\n",
       "    .dataframe tbody tr th {\n",
       "        vertical-align: top;\n",
       "    }\n",
       "\n",
       "    .dataframe thead th {\n",
       "        text-align: right;\n",
       "    }\n",
       "</style>\n",
       "<table border=\"1\" class=\"dataframe\">\n",
       "  <thead>\n",
       "    <tr style=\"text-align: right;\">\n",
       "      <th></th>\n",
       "      <th>age</th>\n",
       "      <th>education.num</th>\n",
       "      <th>capital.gain</th>\n",
       "      <th>capital.loss</th>\n",
       "      <th>hours.per.week</th>\n",
       "      <th>income</th>\n",
       "    </tr>\n",
       "  </thead>\n",
       "  <tbody>\n",
       "    <tr>\n",
       "      <td>0</td>\n",
       "      <td>49</td>\n",
       "      <td>14</td>\n",
       "      <td>0</td>\n",
       "      <td>0</td>\n",
       "      <td>40</td>\n",
       "      <td>0</td>\n",
       "    </tr>\n",
       "    <tr>\n",
       "      <td>1</td>\n",
       "      <td>35</td>\n",
       "      <td>9</td>\n",
       "      <td>0</td>\n",
       "      <td>0</td>\n",
       "      <td>40</td>\n",
       "      <td>1</td>\n",
       "    </tr>\n",
       "    <tr>\n",
       "      <td>2</td>\n",
       "      <td>28</td>\n",
       "      <td>13</td>\n",
       "      <td>0</td>\n",
       "      <td>0</td>\n",
       "      <td>40</td>\n",
       "      <td>0</td>\n",
       "    </tr>\n",
       "    <tr>\n",
       "      <td>4</td>\n",
       "      <td>23</td>\n",
       "      <td>9</td>\n",
       "      <td>0</td>\n",
       "      <td>0</td>\n",
       "      <td>40</td>\n",
       "      <td>0</td>\n",
       "    </tr>\n",
       "    <tr>\n",
       "      <td>6</td>\n",
       "      <td>46</td>\n",
       "      <td>9</td>\n",
       "      <td>0</td>\n",
       "      <td>0</td>\n",
       "      <td>43</td>\n",
       "      <td>0</td>\n",
       "    </tr>\n",
       "    <tr>\n",
       "      <td>...</td>\n",
       "      <td>...</td>\n",
       "      <td>...</td>\n",
       "      <td>...</td>\n",
       "      <td>...</td>\n",
       "      <td>...</td>\n",
       "      <td>...</td>\n",
       "    </tr>\n",
       "    <tr>\n",
       "      <td>9762</td>\n",
       "      <td>59</td>\n",
       "      <td>10</td>\n",
       "      <td>0</td>\n",
       "      <td>0</td>\n",
       "      <td>34</td>\n",
       "      <td>0</td>\n",
       "    </tr>\n",
       "    <tr>\n",
       "      <td>9765</td>\n",
       "      <td>48</td>\n",
       "      <td>14</td>\n",
       "      <td>0</td>\n",
       "      <td>0</td>\n",
       "      <td>55</td>\n",
       "      <td>1</td>\n",
       "    </tr>\n",
       "    <tr>\n",
       "      <td>9766</td>\n",
       "      <td>46</td>\n",
       "      <td>10</td>\n",
       "      <td>0</td>\n",
       "      <td>0</td>\n",
       "      <td>40</td>\n",
       "      <td>0</td>\n",
       "    </tr>\n",
       "    <tr>\n",
       "      <td>9767</td>\n",
       "      <td>66</td>\n",
       "      <td>13</td>\n",
       "      <td>0</td>\n",
       "      <td>0</td>\n",
       "      <td>50</td>\n",
       "      <td>0</td>\n",
       "    </tr>\n",
       "    <tr>\n",
       "      <td>9768</td>\n",
       "      <td>35</td>\n",
       "      <td>9</td>\n",
       "      <td>0</td>\n",
       "      <td>0</td>\n",
       "      <td>40</td>\n",
       "      <td>0</td>\n",
       "    </tr>\n",
       "  </tbody>\n",
       "</table>\n",
       "<p>28825 rows × 6 columns</p>\n",
       "</div>"
      ],
      "text/plain": [
       "      age  education.num  capital.gain  capital.loss  hours.per.week  income\n",
       "0      49             14             0             0              40       0\n",
       "1      35              9             0             0              40       1\n",
       "2      28             13             0             0              40       0\n",
       "4      23              9             0             0              40       0\n",
       "6      46              9             0             0              43       0\n",
       "...   ...            ...           ...           ...             ...     ...\n",
       "9762   59             10             0             0              34       0\n",
       "9765   48             14             0             0              55       1\n",
       "9766   46             10             0             0              40       0\n",
       "9767   66             13             0             0              50       0\n",
       "9768   35              9             0             0              40       0\n",
       "\n",
       "[28825 rows x 6 columns]"
      ]
     },
     "execution_count": 51,
     "metadata": {},
     "output_type": "execute_result"
    }
   ],
   "source": [
    "num_data"
   ]
  },
  {
   "cell_type": "code",
   "execution_count": 52,
   "metadata": {},
   "outputs": [],
   "source": [
    "one_hot_encoder = pd.get_dummies(categorical_data)"
   ]
  },
  {
   "cell_type": "code",
   "execution_count": 53,
   "metadata": {},
   "outputs": [
    {
     "data": {
      "text/html": [
       "<div>\n",
       "<style scoped>\n",
       "    .dataframe tbody tr th:only-of-type {\n",
       "        vertical-align: middle;\n",
       "    }\n",
       "\n",
       "    .dataframe tbody tr th {\n",
       "        vertical-align: top;\n",
       "    }\n",
       "\n",
       "    .dataframe thead th {\n",
       "        text-align: right;\n",
       "    }\n",
       "</style>\n",
       "<table border=\"1\" class=\"dataframe\">\n",
       "  <thead>\n",
       "    <tr style=\"text-align: right;\">\n",
       "      <th></th>\n",
       "      <th>workclass_Federal-gov</th>\n",
       "      <th>workclass_Local-gov</th>\n",
       "      <th>workclass_Private</th>\n",
       "      <th>workclass_Self-emp-inc</th>\n",
       "      <th>workclass_Self-emp-not-inc</th>\n",
       "      <th>workclass_State-gov</th>\n",
       "      <th>workclass_Without-pay</th>\n",
       "      <th>marital.status_Divorced</th>\n",
       "      <th>marital.status_Married-AF-spouse</th>\n",
       "      <th>marital.status_Married-civ-spouse</th>\n",
       "      <th>...</th>\n",
       "      <th>native.country_Portugal</th>\n",
       "      <th>native.country_Puerto-Rico</th>\n",
       "      <th>native.country_Scotland</th>\n",
       "      <th>native.country_South</th>\n",
       "      <th>native.country_Taiwan</th>\n",
       "      <th>native.country_Thailand</th>\n",
       "      <th>native.country_Trinadad&amp;Tobago</th>\n",
       "      <th>native.country_United-States</th>\n",
       "      <th>native.country_Vietnam</th>\n",
       "      <th>native.country_Yugoslavia</th>\n",
       "    </tr>\n",
       "  </thead>\n",
       "  <tbody>\n",
       "    <tr>\n",
       "      <td>0</td>\n",
       "      <td>0</td>\n",
       "      <td>0</td>\n",
       "      <td>1</td>\n",
       "      <td>0</td>\n",
       "      <td>0</td>\n",
       "      <td>0</td>\n",
       "      <td>0</td>\n",
       "      <td>0</td>\n",
       "      <td>0</td>\n",
       "      <td>0</td>\n",
       "      <td>...</td>\n",
       "      <td>0</td>\n",
       "      <td>0</td>\n",
       "      <td>0</td>\n",
       "      <td>0</td>\n",
       "      <td>0</td>\n",
       "      <td>0</td>\n",
       "      <td>0</td>\n",
       "      <td>1</td>\n",
       "      <td>0</td>\n",
       "      <td>0</td>\n",
       "    </tr>\n",
       "    <tr>\n",
       "      <td>1</td>\n",
       "      <td>0</td>\n",
       "      <td>1</td>\n",
       "      <td>0</td>\n",
       "      <td>0</td>\n",
       "      <td>0</td>\n",
       "      <td>0</td>\n",
       "      <td>0</td>\n",
       "      <td>0</td>\n",
       "      <td>0</td>\n",
       "      <td>1</td>\n",
       "      <td>...</td>\n",
       "      <td>0</td>\n",
       "      <td>0</td>\n",
       "      <td>0</td>\n",
       "      <td>0</td>\n",
       "      <td>0</td>\n",
       "      <td>0</td>\n",
       "      <td>0</td>\n",
       "      <td>1</td>\n",
       "      <td>0</td>\n",
       "      <td>0</td>\n",
       "    </tr>\n",
       "    <tr>\n",
       "      <td>2</td>\n",
       "      <td>0</td>\n",
       "      <td>0</td>\n",
       "      <td>1</td>\n",
       "      <td>0</td>\n",
       "      <td>0</td>\n",
       "      <td>0</td>\n",
       "      <td>0</td>\n",
       "      <td>0</td>\n",
       "      <td>0</td>\n",
       "      <td>0</td>\n",
       "      <td>...</td>\n",
       "      <td>0</td>\n",
       "      <td>0</td>\n",
       "      <td>0</td>\n",
       "      <td>0</td>\n",
       "      <td>0</td>\n",
       "      <td>0</td>\n",
       "      <td>0</td>\n",
       "      <td>1</td>\n",
       "      <td>0</td>\n",
       "      <td>0</td>\n",
       "    </tr>\n",
       "    <tr>\n",
       "      <td>4</td>\n",
       "      <td>0</td>\n",
       "      <td>0</td>\n",
       "      <td>1</td>\n",
       "      <td>0</td>\n",
       "      <td>0</td>\n",
       "      <td>0</td>\n",
       "      <td>0</td>\n",
       "      <td>0</td>\n",
       "      <td>0</td>\n",
       "      <td>1</td>\n",
       "      <td>...</td>\n",
       "      <td>0</td>\n",
       "      <td>0</td>\n",
       "      <td>0</td>\n",
       "      <td>0</td>\n",
       "      <td>0</td>\n",
       "      <td>0</td>\n",
       "      <td>0</td>\n",
       "      <td>1</td>\n",
       "      <td>0</td>\n",
       "      <td>0</td>\n",
       "    </tr>\n",
       "    <tr>\n",
       "      <td>6</td>\n",
       "      <td>0</td>\n",
       "      <td>0</td>\n",
       "      <td>1</td>\n",
       "      <td>0</td>\n",
       "      <td>0</td>\n",
       "      <td>0</td>\n",
       "      <td>0</td>\n",
       "      <td>1</td>\n",
       "      <td>0</td>\n",
       "      <td>0</td>\n",
       "      <td>...</td>\n",
       "      <td>0</td>\n",
       "      <td>0</td>\n",
       "      <td>0</td>\n",
       "      <td>0</td>\n",
       "      <td>0</td>\n",
       "      <td>0</td>\n",
       "      <td>0</td>\n",
       "      <td>1</td>\n",
       "      <td>0</td>\n",
       "      <td>0</td>\n",
       "    </tr>\n",
       "    <tr>\n",
       "      <td>...</td>\n",
       "      <td>...</td>\n",
       "      <td>...</td>\n",
       "      <td>...</td>\n",
       "      <td>...</td>\n",
       "      <td>...</td>\n",
       "      <td>...</td>\n",
       "      <td>...</td>\n",
       "      <td>...</td>\n",
       "      <td>...</td>\n",
       "      <td>...</td>\n",
       "      <td>...</td>\n",
       "      <td>...</td>\n",
       "      <td>...</td>\n",
       "      <td>...</td>\n",
       "      <td>...</td>\n",
       "      <td>...</td>\n",
       "      <td>...</td>\n",
       "      <td>...</td>\n",
       "      <td>...</td>\n",
       "      <td>...</td>\n",
       "      <td>...</td>\n",
       "    </tr>\n",
       "    <tr>\n",
       "      <td>9762</td>\n",
       "      <td>0</td>\n",
       "      <td>0</td>\n",
       "      <td>1</td>\n",
       "      <td>0</td>\n",
       "      <td>0</td>\n",
       "      <td>0</td>\n",
       "      <td>0</td>\n",
       "      <td>0</td>\n",
       "      <td>0</td>\n",
       "      <td>1</td>\n",
       "      <td>...</td>\n",
       "      <td>0</td>\n",
       "      <td>0</td>\n",
       "      <td>0</td>\n",
       "      <td>0</td>\n",
       "      <td>0</td>\n",
       "      <td>0</td>\n",
       "      <td>0</td>\n",
       "      <td>1</td>\n",
       "      <td>0</td>\n",
       "      <td>0</td>\n",
       "    </tr>\n",
       "    <tr>\n",
       "      <td>9765</td>\n",
       "      <td>0</td>\n",
       "      <td>0</td>\n",
       "      <td>1</td>\n",
       "      <td>0</td>\n",
       "      <td>0</td>\n",
       "      <td>0</td>\n",
       "      <td>0</td>\n",
       "      <td>0</td>\n",
       "      <td>0</td>\n",
       "      <td>1</td>\n",
       "      <td>...</td>\n",
       "      <td>0</td>\n",
       "      <td>0</td>\n",
       "      <td>0</td>\n",
       "      <td>0</td>\n",
       "      <td>0</td>\n",
       "      <td>0</td>\n",
       "      <td>0</td>\n",
       "      <td>1</td>\n",
       "      <td>0</td>\n",
       "      <td>0</td>\n",
       "    </tr>\n",
       "    <tr>\n",
       "      <td>9766</td>\n",
       "      <td>1</td>\n",
       "      <td>0</td>\n",
       "      <td>0</td>\n",
       "      <td>0</td>\n",
       "      <td>0</td>\n",
       "      <td>0</td>\n",
       "      <td>0</td>\n",
       "      <td>0</td>\n",
       "      <td>0</td>\n",
       "      <td>1</td>\n",
       "      <td>...</td>\n",
       "      <td>0</td>\n",
       "      <td>0</td>\n",
       "      <td>0</td>\n",
       "      <td>0</td>\n",
       "      <td>0</td>\n",
       "      <td>0</td>\n",
       "      <td>0</td>\n",
       "      <td>1</td>\n",
       "      <td>0</td>\n",
       "      <td>0</td>\n",
       "    </tr>\n",
       "    <tr>\n",
       "      <td>9767</td>\n",
       "      <td>0</td>\n",
       "      <td>0</td>\n",
       "      <td>0</td>\n",
       "      <td>0</td>\n",
       "      <td>1</td>\n",
       "      <td>0</td>\n",
       "      <td>0</td>\n",
       "      <td>0</td>\n",
       "      <td>0</td>\n",
       "      <td>1</td>\n",
       "      <td>...</td>\n",
       "      <td>0</td>\n",
       "      <td>0</td>\n",
       "      <td>0</td>\n",
       "      <td>0</td>\n",
       "      <td>0</td>\n",
       "      <td>0</td>\n",
       "      <td>0</td>\n",
       "      <td>1</td>\n",
       "      <td>0</td>\n",
       "      <td>0</td>\n",
       "    </tr>\n",
       "    <tr>\n",
       "      <td>9768</td>\n",
       "      <td>0</td>\n",
       "      <td>0</td>\n",
       "      <td>1</td>\n",
       "      <td>0</td>\n",
       "      <td>0</td>\n",
       "      <td>0</td>\n",
       "      <td>0</td>\n",
       "      <td>0</td>\n",
       "      <td>0</td>\n",
       "      <td>1</td>\n",
       "      <td>...</td>\n",
       "      <td>0</td>\n",
       "      <td>0</td>\n",
       "      <td>0</td>\n",
       "      <td>0</td>\n",
       "      <td>0</td>\n",
       "      <td>0</td>\n",
       "      <td>0</td>\n",
       "      <td>1</td>\n",
       "      <td>0</td>\n",
       "      <td>0</td>\n",
       "    </tr>\n",
       "  </tbody>\n",
       "</table>\n",
       "<p>28825 rows × 82 columns</p>\n",
       "</div>"
      ],
      "text/plain": [
       "      workclass_Federal-gov  workclass_Local-gov  workclass_Private  \\\n",
       "0                         0                    0                  1   \n",
       "1                         0                    1                  0   \n",
       "2                         0                    0                  1   \n",
       "4                         0                    0                  1   \n",
       "6                         0                    0                  1   \n",
       "...                     ...                  ...                ...   \n",
       "9762                      0                    0                  1   \n",
       "9765                      0                    0                  1   \n",
       "9766                      1                    0                  0   \n",
       "9767                      0                    0                  0   \n",
       "9768                      0                    0                  1   \n",
       "\n",
       "      workclass_Self-emp-inc  workclass_Self-emp-not-inc  workclass_State-gov  \\\n",
       "0                          0                           0                    0   \n",
       "1                          0                           0                    0   \n",
       "2                          0                           0                    0   \n",
       "4                          0                           0                    0   \n",
       "6                          0                           0                    0   \n",
       "...                      ...                         ...                  ...   \n",
       "9762                       0                           0                    0   \n",
       "9765                       0                           0                    0   \n",
       "9766                       0                           0                    0   \n",
       "9767                       0                           1                    0   \n",
       "9768                       0                           0                    0   \n",
       "\n",
       "      workclass_Without-pay  marital.status_Divorced  \\\n",
       "0                         0                        0   \n",
       "1                         0                        0   \n",
       "2                         0                        0   \n",
       "4                         0                        0   \n",
       "6                         0                        1   \n",
       "...                     ...                      ...   \n",
       "9762                      0                        0   \n",
       "9765                      0                        0   \n",
       "9766                      0                        0   \n",
       "9767                      0                        0   \n",
       "9768                      0                        0   \n",
       "\n",
       "      marital.status_Married-AF-spouse  marital.status_Married-civ-spouse  \\\n",
       "0                                    0                                  0   \n",
       "1                                    0                                  1   \n",
       "2                                    0                                  0   \n",
       "4                                    0                                  1   \n",
       "6                                    0                                  0   \n",
       "...                                ...                                ...   \n",
       "9762                                 0                                  1   \n",
       "9765                                 0                                  1   \n",
       "9766                                 0                                  1   \n",
       "9767                                 0                                  1   \n",
       "9768                                 0                                  1   \n",
       "\n",
       "      ...  native.country_Portugal  native.country_Puerto-Rico  \\\n",
       "0     ...                        0                           0   \n",
       "1     ...                        0                           0   \n",
       "2     ...                        0                           0   \n",
       "4     ...                        0                           0   \n",
       "6     ...                        0                           0   \n",
       "...   ...                      ...                         ...   \n",
       "9762  ...                        0                           0   \n",
       "9765  ...                        0                           0   \n",
       "9766  ...                        0                           0   \n",
       "9767  ...                        0                           0   \n",
       "9768  ...                        0                           0   \n",
       "\n",
       "      native.country_Scotland  native.country_South  native.country_Taiwan  \\\n",
       "0                           0                     0                      0   \n",
       "1                           0                     0                      0   \n",
       "2                           0                     0                      0   \n",
       "4                           0                     0                      0   \n",
       "6                           0                     0                      0   \n",
       "...                       ...                   ...                    ...   \n",
       "9762                        0                     0                      0   \n",
       "9765                        0                     0                      0   \n",
       "9766                        0                     0                      0   \n",
       "9767                        0                     0                      0   \n",
       "9768                        0                     0                      0   \n",
       "\n",
       "      native.country_Thailand  native.country_Trinadad&Tobago  \\\n",
       "0                           0                               0   \n",
       "1                           0                               0   \n",
       "2                           0                               0   \n",
       "4                           0                               0   \n",
       "6                           0                               0   \n",
       "...                       ...                             ...   \n",
       "9762                        0                               0   \n",
       "9765                        0                               0   \n",
       "9766                        0                               0   \n",
       "9767                        0                               0   \n",
       "9768                        0                               0   \n",
       "\n",
       "      native.country_United-States  native.country_Vietnam  \\\n",
       "0                                1                       0   \n",
       "1                                1                       0   \n",
       "2                                1                       0   \n",
       "4                                1                       0   \n",
       "6                                1                       0   \n",
       "...                            ...                     ...   \n",
       "9762                             1                       0   \n",
       "9765                             1                       0   \n",
       "9766                             1                       0   \n",
       "9767                             1                       0   \n",
       "9768                             1                       0   \n",
       "\n",
       "      native.country_Yugoslavia  \n",
       "0                             0  \n",
       "1                             0  \n",
       "2                             0  \n",
       "4                             0  \n",
       "6                             0  \n",
       "...                         ...  \n",
       "9762                          0  \n",
       "9765                          0  \n",
       "9766                          0  \n",
       "9767                          0  \n",
       "9768                          0  \n",
       "\n",
       "[28825 rows x 82 columns]"
      ]
     },
     "execution_count": 53,
     "metadata": {},
     "output_type": "execute_result"
    }
   ],
   "source": [
    "one_hot_encoder"
   ]
  },
  {
   "cell_type": "code",
   "execution_count": 54,
   "metadata": {},
   "outputs": [],
   "source": [
    "data_preprocessed = pd.concat([num_data,one_hot_encoder],axis='columns')"
   ]
  },
  {
   "cell_type": "code",
   "execution_count": 55,
   "metadata": {},
   "outputs": [
    {
     "data": {
      "text/plain": [
       "(28825, 88)"
      ]
     },
     "execution_count": 55,
     "metadata": {},
     "output_type": "execute_result"
    }
   ],
   "source": [
    "data_preprocessed.shape"
   ]
  },
  {
   "cell_type": "code",
   "execution_count": 56,
   "metadata": {},
   "outputs": [
    {
     "data": {
      "text/html": [
       "<div>\n",
       "<style scoped>\n",
       "    .dataframe tbody tr th:only-of-type {\n",
       "        vertical-align: middle;\n",
       "    }\n",
       "\n",
       "    .dataframe tbody tr th {\n",
       "        vertical-align: top;\n",
       "    }\n",
       "\n",
       "    .dataframe thead th {\n",
       "        text-align: right;\n",
       "    }\n",
       "</style>\n",
       "<table border=\"1\" class=\"dataframe\">\n",
       "  <thead>\n",
       "    <tr style=\"text-align: right;\">\n",
       "      <th></th>\n",
       "      <th>age</th>\n",
       "      <th>education.num</th>\n",
       "      <th>capital.gain</th>\n",
       "      <th>capital.loss</th>\n",
       "      <th>hours.per.week</th>\n",
       "      <th>income</th>\n",
       "      <th>workclass_Federal-gov</th>\n",
       "      <th>workclass_Local-gov</th>\n",
       "      <th>workclass_Private</th>\n",
       "      <th>workclass_Self-emp-inc</th>\n",
       "      <th>...</th>\n",
       "      <th>native.country_Portugal</th>\n",
       "      <th>native.country_Puerto-Rico</th>\n",
       "      <th>native.country_Scotland</th>\n",
       "      <th>native.country_South</th>\n",
       "      <th>native.country_Taiwan</th>\n",
       "      <th>native.country_Thailand</th>\n",
       "      <th>native.country_Trinadad&amp;Tobago</th>\n",
       "      <th>native.country_United-States</th>\n",
       "      <th>native.country_Vietnam</th>\n",
       "      <th>native.country_Yugoslavia</th>\n",
       "    </tr>\n",
       "  </thead>\n",
       "  <tbody>\n",
       "    <tr>\n",
       "      <td>age</td>\n",
       "      <td>1.000000</td>\n",
       "      <td>0.044721</td>\n",
       "      <td>0.080460</td>\n",
       "      <td>0.058722</td>\n",
       "      <td>0.101089</td>\n",
       "      <td>0.241275</td>\n",
       "      <td>0.058531</td>\n",
       "      <td>0.070113</td>\n",
       "      <td>-0.213474</td>\n",
       "      <td>0.111943</td>\n",
       "      <td>...</td>\n",
       "      <td>0.001715</td>\n",
       "      <td>0.008653</td>\n",
       "      <td>0.000009</td>\n",
       "      <td>0.002919</td>\n",
       "      <td>-0.008581</td>\n",
       "      <td>-0.003046</td>\n",
       "      <td>0.005471</td>\n",
       "      <td>0.016486</td>\n",
       "      <td>-0.017943</td>\n",
       "      <td>0.000652</td>\n",
       "    </tr>\n",
       "    <tr>\n",
       "      <td>education.num</td>\n",
       "      <td>0.044721</td>\n",
       "      <td>1.000000</td>\n",
       "      <td>0.124596</td>\n",
       "      <td>0.079911</td>\n",
       "      <td>0.153137</td>\n",
       "      <td>0.337093</td>\n",
       "      <td>0.059702</td>\n",
       "      <td>0.098576</td>\n",
       "      <td>-0.165669</td>\n",
       "      <td>0.078772</td>\n",
       "      <td>...</td>\n",
       "      <td>-0.043322</td>\n",
       "      <td>-0.042318</td>\n",
       "      <td>0.001837</td>\n",
       "      <td>0.017673</td>\n",
       "      <td>0.048947</td>\n",
       "      <td>0.008678</td>\n",
       "      <td>-0.015019</td>\n",
       "      <td>0.126327</td>\n",
       "      <td>-0.010834</td>\n",
       "      <td>-0.001726</td>\n",
       "    </tr>\n",
       "    <tr>\n",
       "      <td>capital.gain</td>\n",
       "      <td>0.080460</td>\n",
       "      <td>0.124596</td>\n",
       "      <td>1.000000</td>\n",
       "      <td>-0.032367</td>\n",
       "      <td>0.079714</td>\n",
       "      <td>0.220440</td>\n",
       "      <td>-0.006024</td>\n",
       "      <td>-0.008622</td>\n",
       "      <td>-0.046903</td>\n",
       "      <td>0.096583</td>\n",
       "      <td>...</td>\n",
       "      <td>-0.003723</td>\n",
       "      <td>-0.006237</td>\n",
       "      <td>-0.002886</td>\n",
       "      <td>-0.002432</td>\n",
       "      <td>0.008667</td>\n",
       "      <td>-0.003481</td>\n",
       "      <td>-0.003481</td>\n",
       "      <td>0.012133</td>\n",
       "      <td>-0.002242</td>\n",
       "      <td>-0.002364</td>\n",
       "    </tr>\n",
       "    <tr>\n",
       "      <td>capital.loss</td>\n",
       "      <td>0.058722</td>\n",
       "      <td>0.079911</td>\n",
       "      <td>-0.032367</td>\n",
       "      <td>1.000000</td>\n",
       "      <td>0.052170</td>\n",
       "      <td>0.149990</td>\n",
       "      <td>0.008712</td>\n",
       "      <td>0.016086</td>\n",
       "      <td>-0.036267</td>\n",
       "      <td>0.032984</td>\n",
       "      <td>...</td>\n",
       "      <td>-0.007305</td>\n",
       "      <td>-0.004423</td>\n",
       "      <td>-0.004282</td>\n",
       "      <td>0.006107</td>\n",
       "      <td>0.001972</td>\n",
       "      <td>-0.005164</td>\n",
       "      <td>0.010170</td>\n",
       "      <td>0.016475</td>\n",
       "      <td>0.000787</td>\n",
       "      <td>-0.005164</td>\n",
       "    </tr>\n",
       "    <tr>\n",
       "      <td>hours.per.week</td>\n",
       "      <td>0.101089</td>\n",
       "      <td>0.153137</td>\n",
       "      <td>0.079714</td>\n",
       "      <td>0.052170</td>\n",
       "      <td>1.000000</td>\n",
       "      <td>0.230301</td>\n",
       "      <td>0.006990</td>\n",
       "      <td>0.001905</td>\n",
       "      <td>-0.095801</td>\n",
       "      <td>0.127236</td>\n",
       "      <td>...</td>\n",
       "      <td>0.004366</td>\n",
       "      <td>-0.011825</td>\n",
       "      <td>0.000708</td>\n",
       "      <td>0.015559</td>\n",
       "      <td>-0.001277</td>\n",
       "      <td>0.017330</td>\n",
       "      <td>-0.003176</td>\n",
       "      <td>0.009788</td>\n",
       "      <td>-0.011686</td>\n",
       "      <td>0.007138</td>\n",
       "    </tr>\n",
       "    <tr>\n",
       "      <td>...</td>\n",
       "      <td>...</td>\n",
       "      <td>...</td>\n",
       "      <td>...</td>\n",
       "      <td>...</td>\n",
       "      <td>...</td>\n",
       "      <td>...</td>\n",
       "      <td>...</td>\n",
       "      <td>...</td>\n",
       "      <td>...</td>\n",
       "      <td>...</td>\n",
       "      <td>...</td>\n",
       "      <td>...</td>\n",
       "      <td>...</td>\n",
       "      <td>...</td>\n",
       "      <td>...</td>\n",
       "      <td>...</td>\n",
       "      <td>...</td>\n",
       "      <td>...</td>\n",
       "      <td>...</td>\n",
       "      <td>...</td>\n",
       "      <td>...</td>\n",
       "    </tr>\n",
       "    <tr>\n",
       "      <td>native.country_Thailand</td>\n",
       "      <td>-0.003046</td>\n",
       "      <td>0.008678</td>\n",
       "      <td>-0.003481</td>\n",
       "      <td>-0.005164</td>\n",
       "      <td>0.017330</td>\n",
       "      <td>-0.003429</td>\n",
       "      <td>-0.004238</td>\n",
       "      <td>-0.006412</td>\n",
       "      <td>-0.009395</td>\n",
       "      <td>0.019309</td>\n",
       "      <td>...</td>\n",
       "      <td>-0.000786</td>\n",
       "      <td>-0.001432</td>\n",
       "      <td>-0.000460</td>\n",
       "      <td>-0.001154</td>\n",
       "      <td>-0.000867</td>\n",
       "      <td>1.000000</td>\n",
       "      <td>-0.000555</td>\n",
       "      <td>-0.076107</td>\n",
       "      <td>-0.001085</td>\n",
       "      <td>-0.000555</td>\n",
       "    </tr>\n",
       "    <tr>\n",
       "      <td>native.country_Trinadad&amp;Tobago</td>\n",
       "      <td>0.005471</td>\n",
       "      <td>-0.015019</td>\n",
       "      <td>-0.003481</td>\n",
       "      <td>0.010170</td>\n",
       "      <td>-0.003176</td>\n",
       "      <td>-0.006828</td>\n",
       "      <td>-0.004238</td>\n",
       "      <td>-0.000598</td>\n",
       "      <td>0.000652</td>\n",
       "      <td>0.003416</td>\n",
       "      <td>...</td>\n",
       "      <td>-0.000786</td>\n",
       "      <td>-0.001432</td>\n",
       "      <td>-0.000460</td>\n",
       "      <td>-0.001154</td>\n",
       "      <td>-0.000867</td>\n",
       "      <td>-0.000555</td>\n",
       "      <td>1.000000</td>\n",
       "      <td>-0.076107</td>\n",
       "      <td>-0.001085</td>\n",
       "      <td>-0.000555</td>\n",
       "    </tr>\n",
       "    <tr>\n",
       "      <td>native.country_United-States</td>\n",
       "      <td>0.016486</td>\n",
       "      <td>0.126327</td>\n",
       "      <td>0.012133</td>\n",
       "      <td>0.016475</td>\n",
       "      <td>0.009788</td>\n",
       "      <td>0.040483</td>\n",
       "      <td>0.017625</td>\n",
       "      <td>0.033852</td>\n",
       "      <td>-0.051418</td>\n",
       "      <td>0.008515</td>\n",
       "      <td>...</td>\n",
       "      <td>-0.107662</td>\n",
       "      <td>-0.196200</td>\n",
       "      <td>-0.063099</td>\n",
       "      <td>-0.158194</td>\n",
       "      <td>-0.118870</td>\n",
       "      <td>-0.076107</td>\n",
       "      <td>-0.076107</td>\n",
       "      <td>1.000000</td>\n",
       "      <td>-0.148720</td>\n",
       "      <td>-0.076107</td>\n",
       "    </tr>\n",
       "    <tr>\n",
       "      <td>native.country_Vietnam</td>\n",
       "      <td>-0.017943</td>\n",
       "      <td>-0.010834</td>\n",
       "      <td>-0.002242</td>\n",
       "      <td>0.000787</td>\n",
       "      <td>-0.011686</td>\n",
       "      <td>-0.019658</td>\n",
       "      <td>0.000386</td>\n",
       "      <td>-0.003591</td>\n",
       "      <td>0.010286</td>\n",
       "      <td>-0.004779</td>\n",
       "      <td>...</td>\n",
       "      <td>-0.001535</td>\n",
       "      <td>-0.002798</td>\n",
       "      <td>-0.000900</td>\n",
       "      <td>-0.002256</td>\n",
       "      <td>-0.001695</td>\n",
       "      <td>-0.001085</td>\n",
       "      <td>-0.001085</td>\n",
       "      <td>-0.148720</td>\n",
       "      <td>1.000000</td>\n",
       "      <td>-0.001085</td>\n",
       "    </tr>\n",
       "    <tr>\n",
       "      <td>native.country_Yugoslavia</td>\n",
       "      <td>0.000652</td>\n",
       "      <td>-0.001726</td>\n",
       "      <td>-0.002364</td>\n",
       "      <td>-0.005164</td>\n",
       "      <td>0.007138</td>\n",
       "      <td>0.006768</td>\n",
       "      <td>-0.004238</td>\n",
       "      <td>-0.000598</td>\n",
       "      <td>0.004001</td>\n",
       "      <td>0.003416</td>\n",
       "      <td>...</td>\n",
       "      <td>-0.000786</td>\n",
       "      <td>-0.001432</td>\n",
       "      <td>-0.000460</td>\n",
       "      <td>-0.001154</td>\n",
       "      <td>-0.000867</td>\n",
       "      <td>-0.000555</td>\n",
       "      <td>-0.000555</td>\n",
       "      <td>-0.076107</td>\n",
       "      <td>-0.001085</td>\n",
       "      <td>1.000000</td>\n",
       "    </tr>\n",
       "  </tbody>\n",
       "</table>\n",
       "<p>88 rows × 88 columns</p>\n",
       "</div>"
      ],
      "text/plain": [
       "                                     age  education.num  capital.gain  \\\n",
       "age                             1.000000       0.044721      0.080460   \n",
       "education.num                   0.044721       1.000000      0.124596   \n",
       "capital.gain                    0.080460       0.124596      1.000000   \n",
       "capital.loss                    0.058722       0.079911     -0.032367   \n",
       "hours.per.week                  0.101089       0.153137      0.079714   \n",
       "...                                  ...            ...           ...   \n",
       "native.country_Thailand        -0.003046       0.008678     -0.003481   \n",
       "native.country_Trinadad&Tobago  0.005471      -0.015019     -0.003481   \n",
       "native.country_United-States    0.016486       0.126327      0.012133   \n",
       "native.country_Vietnam         -0.017943      -0.010834     -0.002242   \n",
       "native.country_Yugoslavia       0.000652      -0.001726     -0.002364   \n",
       "\n",
       "                                capital.loss  hours.per.week    income  \\\n",
       "age                                 0.058722        0.101089  0.241275   \n",
       "education.num                       0.079911        0.153137  0.337093   \n",
       "capital.gain                       -0.032367        0.079714  0.220440   \n",
       "capital.loss                        1.000000        0.052170  0.149990   \n",
       "hours.per.week                      0.052170        1.000000  0.230301   \n",
       "...                                      ...             ...       ...   \n",
       "native.country_Thailand            -0.005164        0.017330 -0.003429   \n",
       "native.country_Trinadad&Tobago      0.010170       -0.003176 -0.006828   \n",
       "native.country_United-States        0.016475        0.009788  0.040483   \n",
       "native.country_Vietnam              0.000787       -0.011686 -0.019658   \n",
       "native.country_Yugoslavia          -0.005164        0.007138  0.006768   \n",
       "\n",
       "                                workclass_Federal-gov  workclass_Local-gov  \\\n",
       "age                                          0.058531             0.070113   \n",
       "education.num                                0.059702             0.098576   \n",
       "capital.gain                                -0.006024            -0.008622   \n",
       "capital.loss                                 0.008712             0.016086   \n",
       "hours.per.week                               0.006990             0.001905   \n",
       "...                                               ...                  ...   \n",
       "native.country_Thailand                     -0.004238            -0.006412   \n",
       "native.country_Trinadad&Tobago              -0.004238            -0.000598   \n",
       "native.country_United-States                 0.017625             0.033852   \n",
       "native.country_Vietnam                       0.000386            -0.003591   \n",
       "native.country_Yugoslavia                   -0.004238            -0.000598   \n",
       "\n",
       "                                workclass_Private  workclass_Self-emp-inc  \\\n",
       "age                                     -0.213474                0.111943   \n",
       "education.num                           -0.165669                0.078772   \n",
       "capital.gain                            -0.046903                0.096583   \n",
       "capital.loss                            -0.036267                0.032984   \n",
       "hours.per.week                          -0.095801                0.127236   \n",
       "...                                           ...                     ...   \n",
       "native.country_Thailand                 -0.009395                0.019309   \n",
       "native.country_Trinadad&Tobago           0.000652                0.003416   \n",
       "native.country_United-States            -0.051418                0.008515   \n",
       "native.country_Vietnam                   0.010286               -0.004779   \n",
       "native.country_Yugoslavia                0.004001                0.003416   \n",
       "\n",
       "                                ...  native.country_Portugal  \\\n",
       "age                             ...                 0.001715   \n",
       "education.num                   ...                -0.043322   \n",
       "capital.gain                    ...                -0.003723   \n",
       "capital.loss                    ...                -0.007305   \n",
       "hours.per.week                  ...                 0.004366   \n",
       "...                             ...                      ...   \n",
       "native.country_Thailand         ...                -0.000786   \n",
       "native.country_Trinadad&Tobago  ...                -0.000786   \n",
       "native.country_United-States    ...                -0.107662   \n",
       "native.country_Vietnam          ...                -0.001535   \n",
       "native.country_Yugoslavia       ...                -0.000786   \n",
       "\n",
       "                                native.country_Puerto-Rico  \\\n",
       "age                                               0.008653   \n",
       "education.num                                    -0.042318   \n",
       "capital.gain                                     -0.006237   \n",
       "capital.loss                                     -0.004423   \n",
       "hours.per.week                                   -0.011825   \n",
       "...                                                    ...   \n",
       "native.country_Thailand                          -0.001432   \n",
       "native.country_Trinadad&Tobago                   -0.001432   \n",
       "native.country_United-States                     -0.196200   \n",
       "native.country_Vietnam                           -0.002798   \n",
       "native.country_Yugoslavia                        -0.001432   \n",
       "\n",
       "                                native.country_Scotland  native.country_South  \\\n",
       "age                                            0.000009              0.002919   \n",
       "education.num                                  0.001837              0.017673   \n",
       "capital.gain                                  -0.002886             -0.002432   \n",
       "capital.loss                                  -0.004282              0.006107   \n",
       "hours.per.week                                 0.000708              0.015559   \n",
       "...                                                 ...                   ...   \n",
       "native.country_Thailand                       -0.000460             -0.001154   \n",
       "native.country_Trinadad&Tobago                -0.000460             -0.001154   \n",
       "native.country_United-States                  -0.063099             -0.158194   \n",
       "native.country_Vietnam                        -0.000900             -0.002256   \n",
       "native.country_Yugoslavia                     -0.000460             -0.001154   \n",
       "\n",
       "                                native.country_Taiwan  \\\n",
       "age                                         -0.008581   \n",
       "education.num                                0.048947   \n",
       "capital.gain                                 0.008667   \n",
       "capital.loss                                 0.001972   \n",
       "hours.per.week                              -0.001277   \n",
       "...                                               ...   \n",
       "native.country_Thailand                     -0.000867   \n",
       "native.country_Trinadad&Tobago              -0.000867   \n",
       "native.country_United-States                -0.118870   \n",
       "native.country_Vietnam                      -0.001695   \n",
       "native.country_Yugoslavia                   -0.000867   \n",
       "\n",
       "                                native.country_Thailand  \\\n",
       "age                                           -0.003046   \n",
       "education.num                                  0.008678   \n",
       "capital.gain                                  -0.003481   \n",
       "capital.loss                                  -0.005164   \n",
       "hours.per.week                                 0.017330   \n",
       "...                                                 ...   \n",
       "native.country_Thailand                        1.000000   \n",
       "native.country_Trinadad&Tobago                -0.000555   \n",
       "native.country_United-States                  -0.076107   \n",
       "native.country_Vietnam                        -0.001085   \n",
       "native.country_Yugoslavia                     -0.000555   \n",
       "\n",
       "                                native.country_Trinadad&Tobago  \\\n",
       "age                                                   0.005471   \n",
       "education.num                                        -0.015019   \n",
       "capital.gain                                         -0.003481   \n",
       "capital.loss                                          0.010170   \n",
       "hours.per.week                                       -0.003176   \n",
       "...                                                        ...   \n",
       "native.country_Thailand                              -0.000555   \n",
       "native.country_Trinadad&Tobago                        1.000000   \n",
       "native.country_United-States                         -0.076107   \n",
       "native.country_Vietnam                               -0.001085   \n",
       "native.country_Yugoslavia                            -0.000555   \n",
       "\n",
       "                                native.country_United-States  \\\n",
       "age                                                 0.016486   \n",
       "education.num                                       0.126327   \n",
       "capital.gain                                        0.012133   \n",
       "capital.loss                                        0.016475   \n",
       "hours.per.week                                      0.009788   \n",
       "...                                                      ...   \n",
       "native.country_Thailand                            -0.076107   \n",
       "native.country_Trinadad&Tobago                     -0.076107   \n",
       "native.country_United-States                        1.000000   \n",
       "native.country_Vietnam                             -0.148720   \n",
       "native.country_Yugoslavia                          -0.076107   \n",
       "\n",
       "                                native.country_Vietnam  \\\n",
       "age                                          -0.017943   \n",
       "education.num                                -0.010834   \n",
       "capital.gain                                 -0.002242   \n",
       "capital.loss                                  0.000787   \n",
       "hours.per.week                               -0.011686   \n",
       "...                                                ...   \n",
       "native.country_Thailand                      -0.001085   \n",
       "native.country_Trinadad&Tobago               -0.001085   \n",
       "native.country_United-States                 -0.148720   \n",
       "native.country_Vietnam                        1.000000   \n",
       "native.country_Yugoslavia                    -0.001085   \n",
       "\n",
       "                                native.country_Yugoslavia  \n",
       "age                                              0.000652  \n",
       "education.num                                   -0.001726  \n",
       "capital.gain                                    -0.002364  \n",
       "capital.loss                                    -0.005164  \n",
       "hours.per.week                                   0.007138  \n",
       "...                                                   ...  \n",
       "native.country_Thailand                         -0.000555  \n",
       "native.country_Trinadad&Tobago                  -0.000555  \n",
       "native.country_United-States                    -0.076107  \n",
       "native.country_Vietnam                          -0.001085  \n",
       "native.country_Yugoslavia                        1.000000  \n",
       "\n",
       "[88 rows x 88 columns]"
      ]
     },
     "execution_count": 56,
     "metadata": {},
     "output_type": "execute_result"
    }
   ],
   "source": [
    "data_preprocessed.corr()"
   ]
  },
  {
   "cell_type": "markdown",
   "metadata": {},
   "source": [
    "## Modeling"
   ]
  },
  {
   "cell_type": "code",
   "execution_count": 57,
   "metadata": {},
   "outputs": [],
   "source": [
    "x=data_preprocessed.drop(columns=['income'])"
   ]
  },
  {
   "cell_type": "code",
   "execution_count": 58,
   "metadata": {},
   "outputs": [],
   "source": [
    "y=data_preprocessed['income']"
   ]
  },
  {
   "cell_type": "code",
   "execution_count": 59,
   "metadata": {},
   "outputs": [
    {
     "data": {
      "text/plain": [
       "(28825, 87)"
      ]
     },
     "execution_count": 59,
     "metadata": {},
     "output_type": "execute_result"
    }
   ],
   "source": [
    "x.shape"
   ]
  },
  {
   "cell_type": "code",
   "execution_count": 60,
   "metadata": {},
   "outputs": [
    {
     "data": {
      "text/plain": [
       "(28825,)"
      ]
     },
     "execution_count": 60,
     "metadata": {},
     "output_type": "execute_result"
    }
   ],
   "source": [
    "y.shape"
   ]
  },
  {
   "cell_type": "code",
   "execution_count": 61,
   "metadata": {},
   "outputs": [
    {
     "name": "stdout",
     "output_type": "stream",
     "text": [
      "<class 'pandas.core.frame.DataFrame'>\n",
      "Int64Index: 28825 entries, 0 to 9768\n",
      "Data columns (total 87 columns):\n",
      "age                                          28825 non-null int64\n",
      "education.num                                28825 non-null int64\n",
      "capital.gain                                 28825 non-null int64\n",
      "capital.loss                                 28825 non-null int64\n",
      "hours.per.week                               28825 non-null int64\n",
      "workclass_Federal-gov                        28825 non-null uint8\n",
      "workclass_Local-gov                          28825 non-null uint8\n",
      "workclass_Private                            28825 non-null uint8\n",
      "workclass_Self-emp-inc                       28825 non-null uint8\n",
      "workclass_Self-emp-not-inc                   28825 non-null uint8\n",
      "workclass_State-gov                          28825 non-null uint8\n",
      "workclass_Without-pay                        28825 non-null uint8\n",
      "marital.status_Divorced                      28825 non-null uint8\n",
      "marital.status_Married-AF-spouse             28825 non-null uint8\n",
      "marital.status_Married-civ-spouse            28825 non-null uint8\n",
      "marital.status_Married-spouse-absent         28825 non-null uint8\n",
      "marital.status_Never-married                 28825 non-null uint8\n",
      "marital.status_Separated                     28825 non-null uint8\n",
      "marital.status_Widowed                       28825 non-null uint8\n",
      "occupation_Adm-clerical                      28825 non-null uint8\n",
      "occupation_Armed-Forces                      28825 non-null uint8\n",
      "occupation_Craft-repair                      28825 non-null uint8\n",
      "occupation_Exec-managerial                   28825 non-null uint8\n",
      "occupation_Farming-fishing                   28825 non-null uint8\n",
      "occupation_Handlers-cleaners                 28825 non-null uint8\n",
      "occupation_Machine-op-inspct                 28825 non-null uint8\n",
      "occupation_Other-service                     28825 non-null uint8\n",
      "occupation_Priv-house-serv                   28825 non-null uint8\n",
      "occupation_Prof-specialty                    28825 non-null uint8\n",
      "occupation_Protective-serv                   28825 non-null uint8\n",
      "occupation_Sales                             28825 non-null uint8\n",
      "occupation_Tech-support                      28825 non-null uint8\n",
      "occupation_Transport-moving                  28825 non-null uint8\n",
      "relationship_Husband                         28825 non-null uint8\n",
      "relationship_Not-in-family                   28825 non-null uint8\n",
      "relationship_Other-relative                  28825 non-null uint8\n",
      "relationship_Own-child                       28825 non-null uint8\n",
      "relationship_Unmarried                       28825 non-null uint8\n",
      "relationship_Wife                            28825 non-null uint8\n",
      "race_Amer-Indian-Eskimo                      28825 non-null uint8\n",
      "race_Asian-Pac-Islander                      28825 non-null uint8\n",
      "race_Black                                   28825 non-null uint8\n",
      "race_Other                                   28825 non-null uint8\n",
      "race_White                                   28825 non-null uint8\n",
      "sex_Female                                   28825 non-null uint8\n",
      "sex_Male                                     28825 non-null uint8\n",
      "native.country_Cambodia                      28825 non-null uint8\n",
      "native.country_Canada                        28825 non-null uint8\n",
      "native.country_China                         28825 non-null uint8\n",
      "native.country_Columbia                      28825 non-null uint8\n",
      "native.country_Cuba                          28825 non-null uint8\n",
      "native.country_Dominican-Republic            28825 non-null uint8\n",
      "native.country_Ecuador                       28825 non-null uint8\n",
      "native.country_El-Salvador                   28825 non-null uint8\n",
      "native.country_England                       28825 non-null uint8\n",
      "native.country_France                        28825 non-null uint8\n",
      "native.country_Germany                       28825 non-null uint8\n",
      "native.country_Greece                        28825 non-null uint8\n",
      "native.country_Guatemala                     28825 non-null uint8\n",
      "native.country_Haiti                         28825 non-null uint8\n",
      "native.country_Holand-Netherlands            28825 non-null uint8\n",
      "native.country_Honduras                      28825 non-null uint8\n",
      "native.country_Hong                          28825 non-null uint8\n",
      "native.country_Hungary                       28825 non-null uint8\n",
      "native.country_India                         28825 non-null uint8\n",
      "native.country_Iran                          28825 non-null uint8\n",
      "native.country_Ireland                       28825 non-null uint8\n",
      "native.country_Italy                         28825 non-null uint8\n",
      "native.country_Jamaica                       28825 non-null uint8\n",
      "native.country_Japan                         28825 non-null uint8\n",
      "native.country_Laos                          28825 non-null uint8\n",
      "native.country_Mexico                        28825 non-null uint8\n",
      "native.country_Nicaragua                     28825 non-null uint8\n",
      "native.country_Outlying-US(Guam-USVI-etc)    28825 non-null uint8\n",
      "native.country_Peru                          28825 non-null uint8\n",
      "native.country_Philippines                   28825 non-null uint8\n",
      "native.country_Poland                        28825 non-null uint8\n",
      "native.country_Portugal                      28825 non-null uint8\n",
      "native.country_Puerto-Rico                   28825 non-null uint8\n",
      "native.country_Scotland                      28825 non-null uint8\n",
      "native.country_South                         28825 non-null uint8\n",
      "native.country_Taiwan                        28825 non-null uint8\n",
      "native.country_Thailand                      28825 non-null uint8\n",
      "native.country_Trinadad&Tobago               28825 non-null uint8\n",
      "native.country_United-States                 28825 non-null uint8\n",
      "native.country_Vietnam                       28825 non-null uint8\n",
      "native.country_Yugoslavia                    28825 non-null uint8\n",
      "dtypes: int64(5), uint8(82)\n",
      "memory usage: 3.6 MB\n"
     ]
    }
   ],
   "source": [
    "x.info()"
   ]
  },
  {
   "cell_type": "code",
   "execution_count": 62,
   "metadata": {},
   "outputs": [],
   "source": [
    "std = StandardScaler()"
   ]
  },
  {
   "cell_type": "code",
   "execution_count": 63,
   "metadata": {},
   "outputs": [],
   "source": [
    "X_std=std.fit_transform(x)"
   ]
  },
  {
   "cell_type": "code",
   "execution_count": 64,
   "metadata": {},
   "outputs": [],
   "source": [
    "x_train,x_test,y_train,y_test=train_test_split(X_std,y,test_size=0.3, random_state = 0)"
   ]
  },
  {
   "cell_type": "code",
   "execution_count": 65,
   "metadata": {},
   "outputs": [],
   "source": [
    "def roc_draw(x_test, y_test,logreg):\n",
    "    logit_roc_auc = roc_auc_score(y_test, logreg.predict(x_test))\n",
    "    fpr, tpr, thresholds = roc_curve(y_test, logreg.predict_proba(x_test)[:,1])\n",
    "    plt.figure()\n",
    "    plt.plot(fpr, tpr, label='Logistic Regression (area = %0.2f)' % logit_roc_auc)\n",
    "    plt.plot([0, 1], [0, 1],'r--')\n",
    "    plt.xlim([0.0, 1.0])\n",
    "    plt.ylim([0.0, 1.05])\n",
    "    plt.xlabel('False Positive Rate')\n",
    "    plt.ylabel('True Positive Rate')\n",
    "    plt.title('Receiver operating characteristic')\n",
    "    plt.legend(loc=\"lower right\")\n",
    "    plt.savefig('Log_ROC')\n",
    "    plt.show()"
   ]
  },
  {
   "cell_type": "code",
   "execution_count": 66,
   "metadata": {},
   "outputs": [],
   "source": [
    "accuracy_train=[];\n",
    "accuracy_test=[];\n",
    "model_name=[];\n",
    "def model_fit(model,x_train,x_test,y_train,y_test,name):\n",
    "    model.fit(x_train,y_train)\n",
    " ##   model.predict_proba(x_train)\n",
    "    y_train_predicted = model.predict(x_train);\n",
    "    accuracy_error_train=accuracy_score(y_train,y_train_predicted)\n",
    "    print(\" Train Accuracy-Score :\",accuracy_error_train)\n",
    "    print(classification_report(y_train,y_train_predicted))\n",
    "    y_test_predicted = model.predict(x_test);\n",
    "    accuracy_error_test=accuracy_score(y_test,y_test_predicted)\n",
    "    print(\" Test Accuracy-Score :\",accuracy_error_test)\n",
    "    print(classification_report(y_test,y_test_predicted))\n",
    "    accuracy_train.append(accuracy_error_train)\n",
    "    accuracy_test.append(accuracy_error_test)\n",
    "    model_name.append(name)\n",
    "    if name!='SVC':\n",
    "        roc_draw(x_train, y_train,model)"
   ]
  },
  {
   "cell_type": "code",
   "execution_count": 67,
   "metadata": {},
   "outputs": [
    {
     "name": "stdout",
     "output_type": "stream",
     "text": [
      " Train Accuracy-Score : 0.8501263815235168\n",
      "              precision    recall  f1-score   support\n",
      "\n",
      "           0       0.88      0.93      0.90     15124\n",
      "           1       0.74      0.62      0.67      5053\n",
      "\n",
      "    accuracy                           0.85     20177\n",
      "   macro avg       0.81      0.77      0.79     20177\n",
      "weighted avg       0.84      0.85      0.85     20177\n",
      "\n",
      " Test Accuracy-Score : 0.8425069380203515\n",
      "              precision    recall  f1-score   support\n",
      "\n",
      "           0       0.87      0.92      0.90      6479\n",
      "           1       0.73      0.60      0.66      2169\n",
      "\n",
      "    accuracy                           0.84      8648\n",
      "   macro avg       0.80      0.76      0.78      8648\n",
      "weighted avg       0.84      0.84      0.84      8648\n",
      "\n"
     ]
    },
    {
     "data": {
      "image/png": "[encoded data removed]",
      "text/plain": [
       "<Figure size 432x288 with 1 Axes>"
      ]
     },
     "metadata": {
      "needs_background": "light"
     },
     "output_type": "display_data"
    }
   ],
   "source": [
    "logistic = LogisticRegression()\n",
    "model_fit(logistic,x_train,x_test,y_train,y_test,'LogisticRegression')"
   ]
  },
  {
   "cell_type": "code",
   "execution_count": 68,
   "metadata": {},
   "outputs": [
    {
     "name": "stdout",
     "output_type": "stream",
     "text": [
      " Train Accuracy-Score : 0.8741636516826089\n",
      "              precision    recall  f1-score   support\n",
      "\n",
      "           0       0.90      0.94      0.92     15124\n",
      "           1       0.78      0.69      0.73      5053\n",
      "\n",
      "    accuracy                           0.87     20177\n",
      "   macro avg       0.84      0.81      0.83     20177\n",
      "weighted avg       0.87      0.87      0.87     20177\n",
      "\n",
      " Test Accuracy-Score : 0.821577243293247\n",
      "              precision    recall  f1-score   support\n",
      "\n",
      "           0       0.86      0.90      0.88      6479\n",
      "           1       0.67      0.57      0.62      2169\n",
      "\n",
      "    accuracy                           0.82      8648\n",
      "   macro avg       0.77      0.74      0.75      8648\n",
      "weighted avg       0.81      0.82      0.82      8648\n",
      "\n"
     ]
    },
    {
     "data": {
      "image/png": "[encoded data removed]",
      "text/plain": [
       "<Figure size 432x288 with 1 Axes>"
      ]
     },
     "metadata": {
      "needs_background": "light"
     },
     "output_type": "display_data"
    }
   ],
   "source": [
    "knn = KNeighborsClassifier()\n",
    "model_fit(knn,x_train,x_test,y_train,y_test,'KNeighborsClassifier')"
   ]
  },
  {
   "cell_type": "code",
   "execution_count": 69,
   "metadata": {},
   "outputs": [
    {
     "name": "stdout",
     "output_type": "stream",
     "text": [
      " Train Accuracy-Score : 0.8502750656688308\n",
      "              precision    recall  f1-score   support\n",
      "\n",
      "           0       0.88      0.93      0.90     15124\n",
      "           1       0.74      0.62      0.67      5053\n",
      "\n",
      "    accuracy                           0.85     20177\n",
      "   macro avg       0.81      0.77      0.79     20177\n",
      "weighted avg       0.84      0.85      0.85     20177\n",
      "\n",
      " Test Accuracy-Score : 0.8427382053654024\n",
      "              precision    recall  f1-score   support\n",
      "\n",
      "           0       0.87      0.92      0.90      6479\n",
      "           1       0.73      0.60      0.66      2169\n",
      "\n",
      "    accuracy                           0.84      8648\n",
      "   macro avg       0.80      0.76      0.78      8648\n",
      "weighted avg       0.84      0.84      0.84      8648\n",
      "\n"
     ]
    },
    {
     "data": {
      "image/png": "[encoded data removed]",
      "text/plain": [
       "<Figure size 432x288 with 1 Axes>"
      ]
     },
     "metadata": {
      "needs_background": "light"
     },
     "output_type": "display_data"
    }
   ],
   "source": [
    "lasso = LogisticRegression(penalty='l1')\n",
    "model_fit(lasso,x_train,x_test,y_train,y_test,'lasso')"
   ]
  },
  {
   "cell_type": "code",
   "execution_count": 70,
   "metadata": {},
   "outputs": [
    {
     "name": "stdout",
     "output_type": "stream",
     "text": [
      " Train Accuracy-Score : 0.8501263815235168\n",
      "              precision    recall  f1-score   support\n",
      "\n",
      "           0       0.88      0.93      0.90     15124\n",
      "           1       0.74      0.62      0.67      5053\n",
      "\n",
      "    accuracy                           0.85     20177\n",
      "   macro avg       0.81      0.77      0.79     20177\n",
      "weighted avg       0.84      0.85      0.85     20177\n",
      "\n",
      " Test Accuracy-Score : 0.8425069380203515\n",
      "              precision    recall  f1-score   support\n",
      "\n",
      "           0       0.87      0.92      0.90      6479\n",
      "           1       0.73      0.60      0.66      2169\n",
      "\n",
      "    accuracy                           0.84      8648\n",
      "   macro avg       0.80      0.76      0.78      8648\n",
      "weighted avg       0.84      0.84      0.84      8648\n",
      "\n"
     ]
    },
    {
     "data": {
      "image/png": "[encoded data removed]",
      "text/plain": [
       "<Figure size 432x288 with 1 Axes>"
      ]
     },
     "metadata": {
      "needs_background": "light"
     },
     "output_type": "display_data"
    }
   ],
   "source": [
    "ridge = LogisticRegression(penalty='l2')\n",
    "model_fit(ridge,x_train,x_test,y_train,y_test,'ridge')"
   ]
  },
  {
   "cell_type": "code",
   "execution_count": 71,
   "metadata": {},
   "outputs": [
    {
     "name": "stdout",
     "output_type": "stream",
     "text": [
      " Train Accuracy-Score : 0.8431877880755315\n",
      "              precision    recall  f1-score   support\n",
      "\n",
      "           0       0.88      0.92      0.90     15124\n",
      "           1       0.71      0.62      0.67      5053\n",
      "\n",
      "    accuracy                           0.84     20177\n",
      "   macro avg       0.80      0.77      0.78     20177\n",
      "weighted avg       0.84      0.84      0.84     20177\n",
      "\n",
      " Test Accuracy-Score : 0.8390379278445883\n",
      "              precision    recall  f1-score   support\n",
      "\n",
      "           0       0.88      0.92      0.89      6479\n",
      "           1       0.71      0.61      0.66      2169\n",
      "\n",
      "    accuracy                           0.84      8648\n",
      "   macro avg       0.79      0.76      0.78      8648\n",
      "weighted avg       0.83      0.84      0.83      8648\n",
      "\n"
     ]
    },
    {
     "data": {
      "image/png": "[encoded data removed]",
      "text/plain": [
       "<Figure size 432x288 with 1 Axes>"
      ]
     },
     "metadata": {
      "needs_background": "light"
     },
     "output_type": "display_data"
    }
   ],
   "source": [
    "elasticnet = SGDClassifier(loss='log')\n",
    "model_fit(elasticnet,x_train,x_test,y_train,y_test,'elasticnet')"
   ]
  },
  {
   "cell_type": "code",
   "execution_count": 72,
   "metadata": {},
   "outputs": [
    {
     "name": "stdout",
     "output_type": "stream",
     "text": [
      " Train Accuracy-Score : 0.7536303712147495\n",
      "              precision    recall  f1-score   support\n",
      "\n",
      "           0       0.91      0.74      0.82     15124\n",
      "           1       0.51      0.79      0.62      5053\n",
      "\n",
      "    accuracy                           0.75     20177\n",
      "   macro avg       0.71      0.77      0.72     20177\n",
      "weighted avg       0.81      0.75      0.77     20177\n",
      "\n",
      " Test Accuracy-Score : 0.7585568917668826\n",
      "              precision    recall  f1-score   support\n",
      "\n",
      "           0       0.91      0.75      0.82      6479\n",
      "           1       0.51      0.79      0.62      2169\n",
      "\n",
      "    accuracy                           0.76      8648\n",
      "   macro avg       0.71      0.77      0.72      8648\n",
      "weighted avg       0.81      0.76      0.77      8648\n",
      "\n"
     ]
    },
    {
     "data": {
      "image/png": "[encoded data removed]",
      "text/plain": [
       "<Figure size 432x288 with 1 Axes>"
      ]
     },
     "metadata": {
      "needs_background": "light"
     },
     "output_type": "display_data"
    }
   ],
   "source": [
    "bnb = BernoulliNB()\n",
    "model_fit(bnb,x_train,x_test,y_train,y_test,'BernoulliNB')"
   ]
  },
  {
   "cell_type": "code",
   "execution_count": 73,
   "metadata": {},
   "outputs": [
    {
     "name": "stdout",
     "output_type": "stream",
     "text": [
      " Train Accuracy-Score : 0.3794915002230262\n",
      "              precision    recall  f1-score   support\n",
      "\n",
      "           0       0.96      0.18      0.30     15124\n",
      "           1       0.28      0.98      0.44      5053\n",
      "\n",
      "    accuracy                           0.38     20177\n",
      "   macro avg       0.62      0.58      0.37     20177\n",
      "weighted avg       0.79      0.38      0.34     20177\n",
      "\n",
      " Test Accuracy-Score : 0.3805504162812211\n",
      "              precision    recall  f1-score   support\n",
      "\n",
      "           0       0.96      0.18      0.30      6479\n",
      "           1       0.29      0.98      0.44      2169\n",
      "\n",
      "    accuracy                           0.38      8648\n",
      "   macro avg       0.62      0.58      0.37      8648\n",
      "weighted avg       0.79      0.38      0.34      8648\n",
      "\n"
     ]
    },
    {
     "data": {
      "image/png": "[encoded data removed]",
      "text/plain": [
       "<Figure size 432x288 with 1 Axes>"
      ]
     },
     "metadata": {
      "needs_background": "light"
     },
     "output_type": "display_data"
    }
   ],
   "source": [
    "nb = GaussianNB()\n",
    "model_fit(nb,x_train,x_test,y_train,y_test,'GaussianNB')"
   ]
  },
  {
   "cell_type": "code",
   "execution_count": 74,
   "metadata": {},
   "outputs": [
    {
     "name": "stdout",
     "output_type": "stream",
     "text": [
      " Train Accuracy-Score : 0.8632601476929177\n",
      "              precision    recall  f1-score   support\n",
      "\n",
      "           0       0.88      0.94      0.91     15124\n",
      "           1       0.79      0.62      0.70      5053\n",
      "\n",
      "    accuracy                           0.86     20177\n",
      "   macro avg       0.83      0.78      0.80     20177\n",
      "weighted avg       0.86      0.86      0.86     20177\n",
      "\n",
      " Test Accuracy-Score : 0.8581174838112858\n",
      "              precision    recall  f1-score   support\n",
      "\n",
      "           0       0.88      0.94      0.91      6479\n",
      "           1       0.78      0.61      0.68      2169\n",
      "\n",
      "    accuracy                           0.86      8648\n",
      "   macro avg       0.83      0.77      0.80      8648\n",
      "weighted avg       0.85      0.86      0.85      8648\n",
      "\n"
     ]
    },
    {
     "data": {
      "image/png": "[encoded data removed]",
      "text/plain": [
       "<Figure size 432x288 with 1 Axes>"
      ]
     },
     "metadata": {
      "needs_background": "light"
     },
     "output_type": "display_data"
    }
   ],
   "source": [
    "clf = AdaBoostClassifier(n_estimators=100, random_state=0)\n",
    "model_fit(clf,x_train,x_test,y_train,y_test,'AdaBoostClassifier')"
   ]
  },
  {
   "cell_type": "code",
   "execution_count": 75,
   "metadata": {},
   "outputs": [
    {
     "name": "stdout",
     "output_type": "stream",
     "text": [
      " Train Accuracy-Score : 0.969073697774694\n",
      "              precision    recall  f1-score   support\n",
      "\n",
      "           0       0.97      0.99      0.98     15124\n",
      "           1       0.96      0.91      0.94      5053\n",
      "\n",
      "    accuracy                           0.97     20177\n",
      "   macro avg       0.97      0.95      0.96     20177\n",
      "weighted avg       0.97      0.97      0.97     20177\n",
      "\n",
      " Test Accuracy-Score : 0.8341813135985199\n",
      "              precision    recall  f1-score   support\n",
      "\n",
      "           0       0.87      0.91      0.89      6479\n",
      "           1       0.70      0.59      0.64      2169\n",
      "\n",
      "    accuracy                           0.83      8648\n",
      "   macro avg       0.79      0.75      0.77      8648\n",
      "weighted avg       0.83      0.83      0.83      8648\n",
      "\n"
     ]
    },
    {
     "data": {
      "image/png": "[encoded data removed]",
      "text/plain": [
       "<Figure size 432x288 with 1 Axes>"
      ]
     },
     "metadata": {
      "needs_background": "light"
     },
     "output_type": "display_data"
    }
   ],
   "source": [
    "random = RandomForestClassifier(n_estimators=10)\n",
    "model_fit(random,x_train,x_test,y_train,y_test,'RandomForestClassifier')"
   ]
  },
  {
   "cell_type": "code",
   "execution_count": 76,
   "metadata": {},
   "outputs": [
    {
     "name": "stdout",
     "output_type": "stream",
     "text": [
      " Train Accuracy-Score : 0.8662338305991971\n",
      "              precision    recall  f1-score   support\n",
      "\n",
      "           0       0.88      0.95      0.91     15124\n",
      "           1       0.80      0.62      0.70      5053\n",
      "\n",
      "    accuracy                           0.87     20177\n",
      "   macro avg       0.84      0.78      0.81     20177\n",
      "weighted avg       0.86      0.87      0.86     20177\n",
      "\n",
      " Test Accuracy-Score : 0.8592738205365402\n",
      "              precision    recall  f1-score   support\n",
      "\n",
      "           0       0.88      0.94      0.91      6479\n",
      "           1       0.79      0.60      0.68      2169\n",
      "\n",
      "    accuracy                           0.86      8648\n",
      "   macro avg       0.83      0.77      0.80      8648\n",
      "weighted avg       0.85      0.86      0.85      8648\n",
      "\n"
     ]
    },
    {
     "data": {
      "image/png": "[encoded data removed]",
      "text/plain": [
       "<Figure size 432x288 with 1 Axes>"
      ]
     },
     "metadata": {
      "needs_background": "light"
     },
     "output_type": "display_data"
    }
   ],
   "source": [
    "gbc = GradientBoostingClassifier()\n",
    "model_fit(gbc,x_train,x_test,y_train,y_test,'GradientBoostingClassifier')"
   ]
  },
  {
   "cell_type": "code",
   "execution_count": 77,
   "metadata": {},
   "outputs": [
    {
     "name": "stdout",
     "output_type": "stream",
     "text": [
      " Train Accuracy-Score : 0.8640035684194876\n",
      "              precision    recall  f1-score   support\n",
      "\n",
      "           0       0.88      0.95      0.91     15124\n",
      "           1       0.80      0.61      0.69      5053\n",
      "\n",
      "    accuracy                           0.86     20177\n",
      "   macro avg       0.84      0.78      0.80     20177\n",
      "weighted avg       0.86      0.86      0.86     20177\n",
      "\n",
      " Test Accuracy-Score : 0.8581174838112858\n",
      "              precision    recall  f1-score   support\n",
      "\n",
      "           0       0.87      0.95      0.91      6479\n",
      "           1       0.79      0.59      0.68      2169\n",
      "\n",
      "    accuracy                           0.86      8648\n",
      "   macro avg       0.83      0.77      0.79      8648\n",
      "weighted avg       0.85      0.86      0.85      8648\n",
      "\n"
     ]
    },
    {
     "data": {
      "image/png": "[encoded data removed]",
      "text/plain": [
       "<Figure size 432x288 with 1 Axes>"
      ]
     },
     "metadata": {
      "needs_background": "light"
     },
     "output_type": "display_data"
    }
   ],
   "source": [
    "xgb = XGBClassifier()\n",
    "model_fit(xgb,x_train,x_test,y_train,y_test,'XGBClassifier')"
   ]
  },
  {
   "cell_type": "code",
   "execution_count": 78,
   "metadata": {},
   "outputs": [
    {
     "name": "stdout",
     "output_type": "stream",
     "text": [
      " Train Accuracy-Score : 0.8563711156267036\n",
      "              precision    recall  f1-score   support\n",
      "\n",
      "           0       0.88      0.94      0.91     15124\n",
      "           1       0.77      0.61      0.68      5053\n",
      "\n",
      "    accuracy                           0.86     20177\n",
      "   macro avg       0.82      0.77      0.79     20177\n",
      "weighted avg       0.85      0.86      0.85     20177\n",
      "\n",
      " Test Accuracy-Score : 0.8401942645698427\n",
      "              precision    recall  f1-score   support\n",
      "\n",
      "           0       0.87      0.93      0.90      6479\n",
      "           1       0.74      0.57      0.64      2169\n",
      "\n",
      "    accuracy                           0.84      8648\n",
      "   macro avg       0.80      0.75      0.77      8648\n",
      "weighted avg       0.83      0.84      0.83      8648\n",
      "\n"
     ]
    }
   ],
   "source": [
    "scv=SVC()\n",
    "model_fit(scv,x_train,x_test,y_train,y_test,'SVC')"
   ]
  },
  {
   "cell_type": "markdown",
   "metadata": {},
   "source": [
    "## HyperTunning"
   ]
  },
  {
   "cell_type": "code",
   "execution_count": 79,
   "metadata": {},
   "outputs": [],
   "source": [
    "## Hyper Parameter Optimization\n",
    "\n",
    "params={\n",
    " \"learning_rate\"    : [0.05, 0.10, 0.15, 0.20, 0.25, 0.30 ] ,\n",
    " \"max_depth\"        : [ 3, 4, 5, 6, 8, 10, 12, 15],\n",
    " \"min_child_weight\" : [ 1, 3, 5, 7 ],\n",
    " \"gamma\"            : [ 0.0, 0.1, 0.2 , 0.3, 0.4 ],\n",
    " \"colsample_bytree\" : [ 0.3, 0.4, 0.5 , 0.7 ]\n",
    "    \n",
    "}"
   ]
  },
  {
   "cell_type": "code",
   "execution_count": 80,
   "metadata": {},
   "outputs": [],
   "source": [
    "classifier=XGBClassifier()"
   ]
  },
  {
   "cell_type": "code",
   "execution_count": 81,
   "metadata": {},
   "outputs": [],
   "source": [
    "random_search=RandomizedSearchCV(classifier,param_distributions=params,n_iter=100,scoring='roc_auc',n_jobs=-1,cv=5,verbose=3)"
   ]
  },
  {
   "cell_type": "code",
   "execution_count": 82,
   "metadata": {},
   "outputs": [
    {
     "name": "stdout",
     "output_type": "stream",
     "text": [
      "Fitting 5 folds for each of 100 candidates, totalling 500 fits\n"
     ]
    },
    {
     "name": "stderr",
     "output_type": "stream",
     "text": [
      "[Parallel(n_jobs=-1)]: Using backend LokyBackend with 4 concurrent workers.\n",
      "[Parallel(n_jobs=-1)]: Done  24 tasks      | elapsed:  1.9min\n",
      "[Parallel(n_jobs=-1)]: Done 120 tasks      | elapsed:  7.8min\n",
      "[Parallel(n_jobs=-1)]: Done 280 tasks      | elapsed: 18.8min\n",
      "[Parallel(n_jobs=-1)]: Done 500 out of 500 | elapsed: 32.9min finished\n"
     ]
    },
    {
     "data": {
      "text/plain": [
       "RandomizedSearchCV(cv=5, error_score='raise-deprecating',\n",
       "                   estimator=XGBClassifier(base_score=0.5, booster='gbtree',\n",
       "                                           colsample_bylevel=1,\n",
       "                                           colsample_bynode=1,\n",
       "                                           colsample_bytree=1, gamma=0,\n",
       "                                           learning_rate=0.1, max_delta_step=0,\n",
       "                                           max_depth=3, min_child_weight=1,\n",
       "                                           missing=None, n_estimators=100,\n",
       "                                           n_jobs=1, nthread=None,\n",
       "                                           objective='binary:logistic',\n",
       "                                           random_state=0, reg_alpha=0...\n",
       "                                           seed=None, silent=None, subsample=1,\n",
       "                                           verbosity=1),\n",
       "                   iid='warn', n_iter=100, n_jobs=-1,\n",
       "                   param_distributions={'colsample_bytree': [0.3, 0.4, 0.5,\n",
       "                                                             0.7],\n",
       "                                        'gamma': [0.0, 0.1, 0.2, 0.3, 0.4],\n",
       "                                        'learning_rate': [0.05, 0.1, 0.15, 0.2,\n",
       "                                                          0.25, 0.3],\n",
       "                                        'max_depth': [3, 4, 5, 6, 8, 10, 12,\n",
       "                                                      15],\n",
       "                                        'min_child_weight': [1, 3, 5, 7]},\n",
       "                   pre_dispatch='2*n_jobs', random_state=None, refit=True,\n",
       "                   return_train_score=False, scoring='roc_auc', verbose=3)"
      ]
     },
     "execution_count": 82,
     "metadata": {},
     "output_type": "execute_result"
    }
   ],
   "source": [
    "random_search.fit(x_train,y_train)"
   ]
  },
  {
   "cell_type": "code",
   "execution_count": 83,
   "metadata": {},
   "outputs": [
    {
     "data": {
      "text/plain": [
       "XGBClassifier(base_score=0.5, booster='gbtree', colsample_bylevel=1,\n",
       "              colsample_bynode=1, colsample_bytree=0.3, gamma=0.1,\n",
       "              learning_rate=0.3, max_delta_step=0, max_depth=6,\n",
       "              min_child_weight=1, missing=None, n_estimators=100, n_jobs=1,\n",
       "              nthread=None, objective='binary:logistic', random_state=0,\n",
       "              reg_alpha=0, reg_lambda=1, scale_pos_weight=1, seed=None,\n",
       "              silent=None, subsample=1, verbosity=1)"
      ]
     },
     "execution_count": 83,
     "metadata": {},
     "output_type": "execute_result"
    }
   ],
   "source": [
    "random_search.best_estimator_"
   ]
  },
  {
   "cell_type": "code",
   "execution_count": 84,
   "metadata": {},
   "outputs": [
    {
     "data": {
      "text/plain": [
       "{'min_child_weight': 1,\n",
       " 'max_depth': 6,\n",
       " 'learning_rate': 0.3,\n",
       " 'gamma': 0.1,\n",
       " 'colsample_bytree': 0.3}"
      ]
     },
     "execution_count": 84,
     "metadata": {},
     "output_type": "execute_result"
    }
   ],
   "source": [
    "random_search.best_params_"
   ]
  },
  {
   "cell_type": "code",
   "execution_count": 85,
   "metadata": {},
   "outputs": [],
   "source": [
    "xgb=XGBClassifier(base_score=0.5, booster='gbtree', colsample_bylevel=1,\n",
    "              colsample_bynode=1, colsample_bytree=0.3, gamma=0.1,\n",
    "              learning_rate=0.3, max_delta_step=0, max_depth=6,\n",
    "              min_child_weight=1, missing=None, n_estimators=100, n_jobs=1,\n",
    "              nthread=None, objective='binary:logistic', random_state=0,\n",
    "              reg_alpha=0, reg_lambda=1, scale_pos_weight=1, seed=None,\n",
    "              silent=None, subsample=1, verbosity=1)"
   ]
  },
  {
   "cell_type": "code",
   "execution_count": 86,
   "metadata": {},
   "outputs": [
    {
     "name": "stdout",
     "output_type": "stream",
     "text": [
      " Train Accuracy-Score : 0.8893789958864053\n",
      "              precision    recall  f1-score   support\n",
      "\n",
      "           0       0.91      0.95      0.93     15124\n",
      "           1       0.82      0.71      0.76      5053\n",
      "\n",
      "    accuracy                           0.89     20177\n",
      "   macro avg       0.87      0.83      0.85     20177\n",
      "weighted avg       0.89      0.89      0.89     20177\n",
      "\n",
      " Test Accuracy-Score : 0.865286771507863\n",
      "              precision    recall  f1-score   support\n",
      "\n",
      "           0       0.89      0.94      0.91      6479\n",
      "           1       0.78      0.65      0.71      2169\n",
      "\n",
      "    accuracy                           0.87      8648\n",
      "   macro avg       0.83      0.79      0.81      8648\n",
      "weighted avg       0.86      0.87      0.86      8648\n",
      "\n"
     ]
    },
    {
     "data": {
      "image/png": "[encoded data removed]",
      "text/plain": [
       "<Figure size 432x288 with 1 Axes>"
      ]
     },
     "metadata": {
      "needs_background": "light"
     },
     "output_type": "display_data"
    }
   ],
   "source": [
    "model_fit(xgb,x_train,x_test,y_train,y_test,'XGBClassifier_Tunning')"
   ]
  },
  {
   "cell_type": "markdown",
   "metadata": {},
   "source": [
    "## Final Result"
   ]
  },
  {
   "cell_type": "code",
   "execution_count": 89,
   "metadata": {},
   "outputs": [],
   "source": [
    "def finalResult():\n",
    "    result = pd.DataFrame([model_name,accuracy_train,accuracy_test]).T\n",
    "    result.columns = [\"Model_Name\", \"Train\", \"Test\"]\n",
    "    result.to_excel('Model.xlsx',index=False)\n",
    "    return result;"
   ]
  },
  {
   "cell_type": "code",
   "execution_count": 90,
   "metadata": {},
   "outputs": [],
   "source": [
    "result = finalResult()"
   ]
  },
  {
   "cell_type": "code",
   "execution_count": 94,
   "metadata": {},
   "outputs": [
    {
     "data": {
      "text/html": [
       "<div>\n",
       "<style scoped>\n",
       "    .dataframe tbody tr th:only-of-type {\n",
       "        vertical-align: middle;\n",
       "    }\n",
       "\n",
       "    .dataframe tbody tr th {\n",
       "        vertical-align: top;\n",
       "    }\n",
       "\n",
       "    .dataframe thead th {\n",
       "        text-align: right;\n",
       "    }\n",
       "</style>\n",
       "<table border=\"1\" class=\"dataframe\">\n",
       "  <thead>\n",
       "    <tr style=\"text-align: right;\">\n",
       "      <th></th>\n",
       "      <th>Model_Name</th>\n",
       "      <th>Train</th>\n",
       "      <th>Test</th>\n",
       "    </tr>\n",
       "  </thead>\n",
       "  <tbody>\n",
       "    <tr>\n",
       "      <td>8</td>\n",
       "      <td>RandomForestClassifier</td>\n",
       "      <td>0.969074</td>\n",
       "      <td>0.834181</td>\n",
       "    </tr>\n",
       "    <tr>\n",
       "      <td>12</td>\n",
       "      <td>XGBClassifier_Tunning</td>\n",
       "      <td>0.889379</td>\n",
       "      <td>0.865287</td>\n",
       "    </tr>\n",
       "    <tr>\n",
       "      <td>1</td>\n",
       "      <td>KNeighborsClassifier</td>\n",
       "      <td>0.874164</td>\n",
       "      <td>0.821577</td>\n",
       "    </tr>\n",
       "    <tr>\n",
       "      <td>9</td>\n",
       "      <td>GradientBoostingClassifier</td>\n",
       "      <td>0.866234</td>\n",
       "      <td>0.859274</td>\n",
       "    </tr>\n",
       "    <tr>\n",
       "      <td>10</td>\n",
       "      <td>XGBClassifier</td>\n",
       "      <td>0.864004</td>\n",
       "      <td>0.858117</td>\n",
       "    </tr>\n",
       "    <tr>\n",
       "      <td>7</td>\n",
       "      <td>AdaBoostClassifier</td>\n",
       "      <td>0.86326</td>\n",
       "      <td>0.858117</td>\n",
       "    </tr>\n",
       "    <tr>\n",
       "      <td>11</td>\n",
       "      <td>SVC</td>\n",
       "      <td>0.856371</td>\n",
       "      <td>0.840194</td>\n",
       "    </tr>\n",
       "    <tr>\n",
       "      <td>2</td>\n",
       "      <td>lasso</td>\n",
       "      <td>0.850275</td>\n",
       "      <td>0.842738</td>\n",
       "    </tr>\n",
       "    <tr>\n",
       "      <td>0</td>\n",
       "      <td>LogisticRegression</td>\n",
       "      <td>0.850126</td>\n",
       "      <td>0.842507</td>\n",
       "    </tr>\n",
       "    <tr>\n",
       "      <td>3</td>\n",
       "      <td>ridge</td>\n",
       "      <td>0.850126</td>\n",
       "      <td>0.842507</td>\n",
       "    </tr>\n",
       "    <tr>\n",
       "      <td>4</td>\n",
       "      <td>elasticnet</td>\n",
       "      <td>0.843188</td>\n",
       "      <td>0.839038</td>\n",
       "    </tr>\n",
       "    <tr>\n",
       "      <td>5</td>\n",
       "      <td>BernoulliNB</td>\n",
       "      <td>0.75363</td>\n",
       "      <td>0.758557</td>\n",
       "    </tr>\n",
       "    <tr>\n",
       "      <td>6</td>\n",
       "      <td>GaussianNB</td>\n",
       "      <td>0.379492</td>\n",
       "      <td>0.38055</td>\n",
       "    </tr>\n",
       "  </tbody>\n",
       "</table>\n",
       "</div>"
      ],
      "text/plain": [
       "                    Model_Name     Train      Test\n",
       "8       RandomForestClassifier  0.969074  0.834181\n",
       "12       XGBClassifier_Tunning  0.889379  0.865287\n",
       "1         KNeighborsClassifier  0.874164  0.821577\n",
       "9   GradientBoostingClassifier  0.866234  0.859274\n",
       "10               XGBClassifier  0.864004  0.858117\n",
       "7           AdaBoostClassifier   0.86326  0.858117\n",
       "11                         SVC  0.856371  0.840194\n",
       "2                        lasso  0.850275  0.842738\n",
       "0           LogisticRegression  0.850126  0.842507\n",
       "3                        ridge  0.850126  0.842507\n",
       "4                   elasticnet  0.843188  0.839038\n",
       "5                  BernoulliNB   0.75363  0.758557\n",
       "6                   GaussianNB  0.379492   0.38055"
      ]
     },
     "execution_count": 94,
     "metadata": {},
     "output_type": "execute_result"
    }
   ],
   "source": [
    "result.sort_values(by='Train', ascending=False, na_position='first')"
   ]
  },
  {
   "cell_type": "code",
   "execution_count": null,
   "metadata": {},
   "outputs": [],
   "source": []
  }
 ],
 "metadata": {
  "kernelspec": {
   "display_name": "Python 3",
   "language": "python",
   "name": "python3"
  },
  "language_info": {
   "codemirror_mode": {
    "name": "ipython",
    "version": 3
   },
   "file_extension": ".py",
   "mimetype": "text/x-python",
   "name": "python",
   "nbconvert_exporter": "python",
   "pygments_lexer": "ipython3",
   "version": "3.7.4"
  }
 },
 "nbformat": 4,
 "nbformat_minor": 2
}
